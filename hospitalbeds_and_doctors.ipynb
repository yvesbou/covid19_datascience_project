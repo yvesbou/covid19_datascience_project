{
 "cells": [
  {
   "cell_type": "markdown",
   "metadata": {},
   "source": [
    "# Testing Hospitalbeds and Doctors Density as explanatory variable for death rate"
   ]
  },
  {
   "cell_type": "markdown",
   "metadata": {},
   "source": [
    "## Code book\n",
    "\n",
    "### For Covid-19 data\n",
    "\n",
    "#### Variables and their units\n",
    "\n",
    "- We have the dataframe df_infected which contains the number of people tested positive on covid-19\n",
    "- dates (columns): days of the year 2020 from end of January to today with the respective number of infected/deaths \n",
    "- deaths (entries of df_deaths): number of people died of covid-19\n",
    "- Infected (entries of df_infected): number of people tested positive on covid-19\n",
    "- Countries (index): Names of all Countries that maintain a record of their covid-19 cases\n",
    "- Continents (column): Names of all Continents excluding Antarctica\n",
    "\n",
    "#### Summary choices made\n",
    "\n",
    "- Created seperate df (df_infected) where only the latest date is displayed with additional information of the respective infected once\n",
    "- Created df for continents by introducing a column and groupby function\n",
    "- We computed additionaly death rate: number of deaths / number of infected\n",
    "\n",
    "\n",
    "### For hospitalbeds/ medical doctors data\n",
    "\n",
    "#### Variables and their units\n",
    "\n",
    "- Our Dataframe called democracy containes following columns\n",
    "    - Country : Name of Country (index)\n",
    "    - Year : time of data acquisition\n",
    "    - Hospital beds (per 10 000 population) : ratio of hospitalbeds to 10 000\n",
    "    - Medical doctors (per 10 000 population) : ratio of doctors\n",
    "\n",
    "#### Summary choices made\n",
    "\n",
    "\n",
    "- We took the most recent number of hospitalbeds for each country so the date may differ\n",
    "- We took the most recent number of medical doctors for each country so the date may differ\n",
    "- Region will be changed to the respective continent of the country\n",
    "\n"
   ]
  },
  {
   "cell_type": "code",
   "execution_count": 206,
   "metadata": {},
   "outputs": [],
   "source": [
    "import pandas as pd\n",
    "import numpy as np\n",
    "import matplotlib.pyplot as plt"
   ]
  },
  {
   "cell_type": "markdown",
   "metadata": {},
   "source": [
    "Data from: https://github.com/CSSEGISandData/COVID-19"
   ]
  },
  {
   "cell_type": "code",
   "execution_count": 207,
   "metadata": {},
   "outputs": [],
   "source": [
    "#import data of deaths and infected\n",
    "deaths = pd.read_csv('./data/COVID-19-master/csse_covid_19_data/csse_covid_19_time_series/time_series_covid19_deaths_global.csv')\n",
    "infected = pd.read_csv('./data/COVID-19-master/csse_covid_19_data/csse_covid_19_time_series/time_series_covid19_confirmed_global.csv')\n",
    "deaths_US = pd.read_csv('./data/COVID-19-master/csse_covid_19_data/csse_covid_19_time_series/time_series_covid19_deaths_US.csv')\n",
    "infected_US = pd.read_csv('./data/COVID-19-master/csse_covid_19_data/csse_covid_19_time_series/time_series_covid19_confirmed_US.csv')\n",
    "#add a column called United States to the US datasets so that they are compatible\n",
    "deaths_US['Country/Region'] = 'United States'\n",
    "infected_US['Country/Region'] = 'United States'\n",
    "\n",
    "\n",
    "#statistics for countries (group all regions together)\n",
    "deaths = deaths.groupby('Country/Region').sum() \n",
    "infected = infected.groupby('Country/Region').sum() \n",
    "#sum over all states in the US\n",
    "deaths_US = deaths_US.groupby('Country/Region').sum()\n",
    "infected_US = infected_US.groupby('Country/Region').sum()\n",
    "\n",
    "#take just the most recent day (i.e. data) for analysis\n",
    "deaths = deaths[deaths.columns[-1]]\n",
    "infected = infected[infected.columns[-1]]\n",
    "deaths_US = deaths_US[deaths_US.columns[-1]]\n",
    "infected_US = infected_US[infected_US.columns[-1]]\n",
    "deaths = deaths.append(deaths_US)\n",
    "infected = infected.append(infected_US)\n",
    "\n",
    "#create a pd.series with contains deathrates for all countries within the datasets\n",
    "deathrate = deaths/infected\n",
    "countries_deathrate = deathrate.index"
   ]
  },
  {
   "cell_type": "markdown",
   "metadata": {},
   "source": [
    "data from: https://apps.who.int/gho/data/view.main.HS07v"
   ]
  },
  {
   "cell_type": "code",
   "execution_count": 208,
   "metadata": {},
   "outputs": [],
   "source": [
    "hospitalbeds = pd.read_csv('./csv/hospitalbeds_4.csv')"
   ]
  },
  {
   "cell_type": "code",
   "execution_count": 209,
   "metadata": {},
   "outputs": [
    {
     "data": {
      "text/html": [
       "<div>\n",
       "<style scoped>\n",
       "    .dataframe tbody tr th:only-of-type {\n",
       "        vertical-align: middle;\n",
       "    }\n",
       "\n",
       "    .dataframe tbody tr th {\n",
       "        vertical-align: top;\n",
       "    }\n",
       "\n",
       "    .dataframe thead th {\n",
       "        text-align: right;\n",
       "    }\n",
       "</style>\n",
       "<table border=\"1\" class=\"dataframe\">\n",
       "  <thead>\n",
       "    <tr style=\"text-align: right;\">\n",
       "      <th></th>\n",
       "      <th>Country</th>\n",
       "      <th>Year</th>\n",
       "      <th>Hospital beds (per 10 000 population)</th>\n",
       "    </tr>\n",
       "  </thead>\n",
       "  <tbody>\n",
       "    <tr>\n",
       "      <th>0</th>\n",
       "      <td>Afghanistan</td>\n",
       "      <td>2015</td>\n",
       "      <td>5</td>\n",
       "    </tr>\n",
       "    <tr>\n",
       "      <th>1</th>\n",
       "      <td>Afghanistan</td>\n",
       "      <td>2014</td>\n",
       "      <td>5</td>\n",
       "    </tr>\n",
       "    <tr>\n",
       "      <th>2</th>\n",
       "      <td>Afghanistan</td>\n",
       "      <td>2013</td>\n",
       "      <td>5</td>\n",
       "    </tr>\n",
       "    <tr>\n",
       "      <th>3</th>\n",
       "      <td>Afghanistan</td>\n",
       "      <td>2012</td>\n",
       "      <td>5</td>\n",
       "    </tr>\n",
       "    <tr>\n",
       "      <th>4</th>\n",
       "      <td>Afghanistan</td>\n",
       "      <td>2011</td>\n",
       "      <td>4</td>\n",
       "    </tr>\n",
       "  </tbody>\n",
       "</table>\n",
       "</div>"
      ],
      "text/plain": [
       "       Country  Year  Hospital beds (per 10 000 population)\n",
       "0  Afghanistan  2015                                      5\n",
       "1  Afghanistan  2014                                      5\n",
       "2  Afghanistan  2013                                      5\n",
       "3  Afghanistan  2012                                      5\n",
       "4  Afghanistan  2011                                      4"
      ]
     },
     "execution_count": 209,
     "metadata": {},
     "output_type": "execute_result"
    }
   ],
   "source": [
    "hospitalbeds.head()"
   ]
  },
  {
   "cell_type": "code",
   "execution_count": 210,
   "metadata": {},
   "outputs": [],
   "source": [
    "#get for each country the latest data\n",
    "hospitalbeds = hospitalbeds.drop_duplicates(subset=\"Country\")"
   ]
  },
  {
   "cell_type": "code",
   "execution_count": 211,
   "metadata": {},
   "outputs": [
    {
     "data": {
      "text/plain": [
       "0                                             Afghanistan\n",
       "16                                                Albania\n",
       "29                                                Algeria\n",
       "31                                                 Angola\n",
       "32                                    Antigua and Barbuda\n",
       "36                                              Argentina\n",
       "42                                                Armenia\n",
       "57                                              Australia\n",
       "59                                                Austria\n",
       "73                                             Azerbaijan\n",
       "87                                                Bahamas\n",
       "93                                                Bahrain\n",
       "108                                            Bangladesh\n",
       "110                                              Barbados\n",
       "115                                               Belarus\n",
       "129                                               Belgium\n",
       "144                                                Belize\n",
       "150                                                 Benin\n",
       "152                                                Bhutan\n",
       "153                      Bolivia (Plurinational State of)\n",
       "158                                Bosnia and Herzegovina\n",
       "172                                              Botswana\n",
       "174                                                Brazil\n",
       "181                                     Brunei Darussalam\n",
       "183                                              Bulgaria\n",
       "197                                          Burkina Faso\n",
       "199                                               Burundi\n",
       "202                                            Cabo Verde\n",
       "204                                              Cambodia\n",
       "206                                              Cameroon\n",
       "                              ...                        \n",
       "1035                                         South Africa\n",
       "1036                                                Spain\n",
       "1050                                            Sri Lanka\n",
       "1051                                                Sudan\n",
       "1065                                             Suriname\n",
       "1068                                               Sweden\n",
       "1082                                          Switzerland\n",
       "1096                                 Syrian Arab Republic\n",
       "1111                                           Tajikistan\n",
       "1125                                             Thailand\n",
       "1126                                          Timor-Leste\n",
       "1127                                                 Togo\n",
       "1129                                  Trinidad and Tobago\n",
       "1136                                              Tunisia\n",
       "1152                                               Turkey\n",
       "1166                                         Turkmenistan\n",
       "1180                                               Tuvalu\n",
       "1181                                               Uganda\n",
       "1183                                              Ukraine\n",
       "1197                                 United Arab Emirates\n",
       "1211    United Kingdom of Great Britain and Northern I...\n",
       "1225                          United Republic of Tanzania\n",
       "1227                             United States of America\n",
       "1232                                              Uruguay\n",
       "1236                                           Uzbekistan\n",
       "1250                   Venezuela (Bolivarian Republic of)\n",
       "1254                                             Viet Nam\n",
       "1256                                                Yemen\n",
       "1271                                               Zambia\n",
       "1273                                             Zimbabwe\n",
       "Name: Country, Length: 181, dtype: object"
      ]
     },
     "execution_count": 211,
     "metadata": {},
     "output_type": "execute_result"
    }
   ],
   "source": [
    "hospitalbeds['Country']"
   ]
  },
  {
   "cell_type": "code",
   "execution_count": 212,
   "metadata": {},
   "outputs": [],
   "source": [
    "#loop through hospitalbeds and create new df that contains only these elements\n",
    "#that are part of deathrate.index since for function series.get() we have to make sure that all values are part of series index\n",
    "\n",
    "final_hospitalbed = pd.DataFrame()\n",
    "for index, row in hospitalbeds.iterrows():\n",
    "    if row['Country'] in countries_deathrate:\n",
    "          final_hospitalbed = final_hospitalbed.append(row)"
   ]
  },
  {
   "cell_type": "code",
   "execution_count": 213,
   "metadata": {},
   "outputs": [],
   "source": [
    "countries_we_want = final_hospitalbed['Country']"
   ]
  },
  {
   "cell_type": "code",
   "execution_count": 214,
   "metadata": {},
   "outputs": [],
   "source": [
    "deathrate = deathrate.get(countries_we_want)"
   ]
  },
  {
   "cell_type": "code",
   "execution_count": 215,
   "metadata": {},
   "outputs": [],
   "source": [
    "hospitalbeds = final_hospitalbed"
   ]
  },
  {
   "cell_type": "code",
   "execution_count": 216,
   "metadata": {},
   "outputs": [],
   "source": [
    "hospitalbeds.set_index('Country', inplace = True)"
   ]
  },
  {
   "cell_type": "code",
   "execution_count": 217,
   "metadata": {},
   "outputs": [],
   "source": [
    "hospitalbeds.sort_index(inplace = True)"
   ]
  },
  {
   "cell_type": "code",
   "execution_count": 218,
   "metadata": {},
   "outputs": [],
   "source": [
    "hospitalbeds['deathrate'] = deathrate"
   ]
  },
  {
   "cell_type": "code",
   "execution_count": 219,
   "metadata": {},
   "outputs": [
    {
     "data": {
      "text/html": [
       "<div>\n",
       "<style scoped>\n",
       "    .dataframe tbody tr th:only-of-type {\n",
       "        vertical-align: middle;\n",
       "    }\n",
       "\n",
       "    .dataframe tbody tr th {\n",
       "        vertical-align: top;\n",
       "    }\n",
       "\n",
       "    .dataframe thead th {\n",
       "        text-align: right;\n",
       "    }\n",
       "</style>\n",
       "<table border=\"1\" class=\"dataframe\">\n",
       "  <thead>\n",
       "    <tr style=\"text-align: right;\">\n",
       "      <th></th>\n",
       "      <th>Hospital beds (per 10 000 population)</th>\n",
       "      <th>Year</th>\n",
       "      <th>deathrate</th>\n",
       "    </tr>\n",
       "    <tr>\n",
       "      <th>Country</th>\n",
       "      <th></th>\n",
       "      <th></th>\n",
       "      <th></th>\n",
       "    </tr>\n",
       "  </thead>\n",
       "  <tbody>\n",
       "    <tr>\n",
       "      <th>Afghanistan</th>\n",
       "      <td>5.0</td>\n",
       "      <td>2015.0</td>\n",
       "      <td>0.023259</td>\n",
       "    </tr>\n",
       "    <tr>\n",
       "      <th>Albania</th>\n",
       "      <td>29.0</td>\n",
       "      <td>2013.0</td>\n",
       "      <td>0.032666</td>\n",
       "    </tr>\n",
       "    <tr>\n",
       "      <th>Algeria</th>\n",
       "      <td>19.0</td>\n",
       "      <td>2015.0</td>\n",
       "      <td>0.076047</td>\n",
       "    </tr>\n",
       "    <tr>\n",
       "      <th>Angola</th>\n",
       "      <td>8.0</td>\n",
       "      <td>2005.0</td>\n",
       "      <td>0.057692</td>\n",
       "    </tr>\n",
       "    <tr>\n",
       "      <th>Antigua and Barbuda</th>\n",
       "      <td>38.0</td>\n",
       "      <td>2014.0</td>\n",
       "      <td>0.120000</td>\n",
       "    </tr>\n",
       "  </tbody>\n",
       "</table>\n",
       "</div>"
      ],
      "text/plain": [
       "                     Hospital beds (per 10 000 population)    Year  deathrate\n",
       "Country                                                                      \n",
       "Afghanistan                                            5.0  2015.0   0.023259\n",
       "Albania                                               29.0  2013.0   0.032666\n",
       "Algeria                                               19.0  2015.0   0.076047\n",
       "Angola                                                 8.0  2005.0   0.057692\n",
       "Antigua and Barbuda                                   38.0  2014.0   0.120000"
      ]
     },
     "execution_count": 219,
     "metadata": {},
     "output_type": "execute_result"
    }
   ],
   "source": [
    "hospitalbeds.head()"
   ]
  },
  {
   "cell_type": "code",
   "execution_count": 220,
   "metadata": {},
   "outputs": [
    {
     "data": {
      "text/plain": [
       "Hospital beds (per 10 000 population)      47.000000\n",
       "Year                                     2013.000000\n",
       "deathrate                                   0.061761\n",
       "Name: Switzerland, dtype: float64"
      ]
     },
     "execution_count": 220,
     "metadata": {},
     "output_type": "execute_result"
    }
   ],
   "source": [
    "hospitalbeds.loc['Switzerland']"
   ]
  },
  {
   "cell_type": "markdown",
   "metadata": {},
   "source": [
    "## Scatterplot"
   ]
  },
  {
   "cell_type": "code",
   "execution_count": 221,
   "metadata": {},
   "outputs": [
    {
     "data": {
      "text/plain": [
       "<matplotlib.collections.PathCollection at 0x1612e68c320>"
      ]
     },
     "execution_count": 221,
     "metadata": {},
     "output_type": "execute_result"
    },
    {
     "data": {
      "image/png": "[encoded data removed]",
      "text/plain": [
       "<Figure size 432x288 with 1 Axes>"
      ]
     },
     "metadata": {
      "needs_background": "light"
     },
     "output_type": "display_data"
    }
   ],
   "source": [
    "plt.scatter(hospitalbeds['Hospital beds (per 10 000 population)'], hospitalbeds['deathrate'])"
   ]
  },
  {
   "cell_type": "markdown",
   "metadata": {},
   "source": [
    "## Doing the same thing for medical doctors"
   ]
  },
  {
   "cell_type": "markdown",
   "metadata": {},
   "source": [
    "### Next steps\n",
    "- import additional data -_check_\n",
    "- transform data that one has a death rate for the countries where we information about smoking prevalence -_check_\n",
    "- make a scatterplot -_check_\n",
    "- if data looks reasonable well for linear regression -_wait_\n",
    "    - make histogram of both variables\n",
    "    - fit linearmodel\n",
    "    - check if the assumptions hold\n",
    "    - interpret the results (interpret the linear equation)\n",
    "    - plot the linear model with the data"
   ]
  },
  {
   "cell_type": "markdown",
   "metadata": {},
   "source": [
    "data from: https://apps.who.int/gho/data/view.main.HWFMEDv"
   ]
  },
  {
   "cell_type": "code",
   "execution_count": 222,
   "metadata": {},
   "outputs": [],
   "source": [
    "doctors = pd.read_csv('./csv/medical_doctors.csv')"
   ]
  },
  {
   "cell_type": "code",
   "execution_count": 223,
   "metadata": {},
   "outputs": [],
   "source": [
    "doctors = doctors[['Country', 'Year', 'Medical doctors (per 10 000 population)']]"
   ]
  },
  {
   "cell_type": "code",
   "execution_count": 224,
   "metadata": {},
   "outputs": [
    {
     "data": {
      "text/html": [
       "<div>\n",
       "<style scoped>\n",
       "    .dataframe tbody tr th:only-of-type {\n",
       "        vertical-align: middle;\n",
       "    }\n",
       "\n",
       "    .dataframe tbody tr th {\n",
       "        vertical-align: top;\n",
       "    }\n",
       "\n",
       "    .dataframe thead th {\n",
       "        text-align: right;\n",
       "    }\n",
       "</style>\n",
       "<table border=\"1\" class=\"dataframe\">\n",
       "  <thead>\n",
       "    <tr style=\"text-align: right;\">\n",
       "      <th></th>\n",
       "      <th>Country</th>\n",
       "      <th>Year</th>\n",
       "      <th>Medical doctors (per 10 000 population)</th>\n",
       "    </tr>\n",
       "  </thead>\n",
       "  <tbody>\n",
       "    <tr>\n",
       "      <th>0</th>\n",
       "      <td>Afghanistan</td>\n",
       "      <td>2016</td>\n",
       "      <td>2.782</td>\n",
       "    </tr>\n",
       "    <tr>\n",
       "      <th>1</th>\n",
       "      <td>Afghanistan</td>\n",
       "      <td>2015</td>\n",
       "      <td>2.850</td>\n",
       "    </tr>\n",
       "    <tr>\n",
       "      <th>2</th>\n",
       "      <td>Afghanistan</td>\n",
       "      <td>2014</td>\n",
       "      <td>2.983</td>\n",
       "    </tr>\n",
       "    <tr>\n",
       "      <th>3</th>\n",
       "      <td>Afghanistan</td>\n",
       "      <td>2013</td>\n",
       "      <td>2.846</td>\n",
       "    </tr>\n",
       "    <tr>\n",
       "      <th>4</th>\n",
       "      <td>Afghanistan</td>\n",
       "      <td>2012</td>\n",
       "      <td>2.414</td>\n",
       "    </tr>\n",
       "  </tbody>\n",
       "</table>\n",
       "</div>"
      ],
      "text/plain": [
       "       Country  Year  Medical doctors (per 10 000 population)\n",
       "0  Afghanistan  2016                                    2.782\n",
       "1  Afghanistan  2015                                    2.850\n",
       "2  Afghanistan  2014                                    2.983\n",
       "3  Afghanistan  2013                                    2.846\n",
       "4  Afghanistan  2012                                    2.414"
      ]
     },
     "execution_count": 224,
     "metadata": {},
     "output_type": "execute_result"
    }
   ],
   "source": [
    "doctors.head()"
   ]
  },
  {
   "cell_type": "code",
   "execution_count": 225,
   "metadata": {},
   "outputs": [],
   "source": [
    "#get for each country the latest data\n",
    "doctors = doctors.drop_duplicates(subset=\"Country\")"
   ]
  },
  {
   "cell_type": "code",
   "execution_count": 226,
   "metadata": {},
   "outputs": [
    {
     "data": {
      "text/html": [
       "<div>\n",
       "<style scoped>\n",
       "    .dataframe tbody tr th:only-of-type {\n",
       "        vertical-align: middle;\n",
       "    }\n",
       "\n",
       "    .dataframe tbody tr th {\n",
       "        vertical-align: top;\n",
       "    }\n",
       "\n",
       "    .dataframe thead th {\n",
       "        text-align: right;\n",
       "    }\n",
       "</style>\n",
       "<table border=\"1\" class=\"dataframe\">\n",
       "  <thead>\n",
       "    <tr style=\"text-align: right;\">\n",
       "      <th></th>\n",
       "      <th>Country</th>\n",
       "      <th>Year</th>\n",
       "      <th>Medical doctors (per 10 000 population)</th>\n",
       "    </tr>\n",
       "  </thead>\n",
       "  <tbody>\n",
       "    <tr>\n",
       "      <th>0</th>\n",
       "      <td>Afghanistan</td>\n",
       "      <td>2016</td>\n",
       "      <td>2.782</td>\n",
       "    </tr>\n",
       "    <tr>\n",
       "      <th>12</th>\n",
       "      <td>Albania</td>\n",
       "      <td>2016</td>\n",
       "      <td>12.164</td>\n",
       "    </tr>\n",
       "    <tr>\n",
       "      <th>35</th>\n",
       "      <td>Algeria</td>\n",
       "      <td>2018</td>\n",
       "      <td>17.193</td>\n",
       "    </tr>\n",
       "    <tr>\n",
       "      <th>41</th>\n",
       "      <td>Andorra</td>\n",
       "      <td>2015</td>\n",
       "      <td>33.333</td>\n",
       "    </tr>\n",
       "    <tr>\n",
       "      <th>54</th>\n",
       "      <td>Angola</td>\n",
       "      <td>2017</td>\n",
       "      <td>2.146</td>\n",
       "    </tr>\n",
       "  </tbody>\n",
       "</table>\n",
       "</div>"
      ],
      "text/plain": [
       "        Country  Year  Medical doctors (per 10 000 population)\n",
       "0   Afghanistan  2016                                    2.782\n",
       "12      Albania  2016                                   12.164\n",
       "35      Algeria  2018                                   17.193\n",
       "41      Andorra  2015                                   33.333\n",
       "54       Angola  2017                                    2.146"
      ]
     },
     "execution_count": 226,
     "metadata": {},
     "output_type": "execute_result"
    }
   ],
   "source": [
    "doctors.head()"
   ]
  },
  {
   "cell_type": "code",
   "execution_count": 227,
   "metadata": {},
   "outputs": [],
   "source": [
    "#loop through hospitalbeds and create new df that contains only these elements\n",
    "#that are part of deathrate.index since for function series.get() we have to make sure that all values are part of series index\n",
    "\n",
    "final_doctors = pd.DataFrame()\n",
    "for index, row in doctors.iterrows():\n",
    "    if row['Country'] in countries_deathrate:\n",
    "          final_doctors = final_doctors.append(row)"
   ]
  },
  {
   "cell_type": "code",
   "execution_count": 228,
   "metadata": {},
   "outputs": [],
   "source": [
    "countries_we_want = final_doctors['Country']"
   ]
  },
  {
   "cell_type": "code",
   "execution_count": 229,
   "metadata": {},
   "outputs": [],
   "source": [
    "deathrate = deaths/infected\n",
    "deathrate = deathrate.get(countries_we_want)"
   ]
  },
  {
   "cell_type": "code",
   "execution_count": 230,
   "metadata": {},
   "outputs": [],
   "source": [
    "doctors = final_doctors"
   ]
  },
  {
   "cell_type": "code",
   "execution_count": 231,
   "metadata": {},
   "outputs": [],
   "source": [
    "doctors.set_index('Country', inplace = True)"
   ]
  },
  {
   "cell_type": "code",
   "execution_count": 232,
   "metadata": {},
   "outputs": [],
   "source": [
    "doctors.sort_index(inplace = True)"
   ]
  },
  {
   "cell_type": "code",
   "execution_count": 233,
   "metadata": {},
   "outputs": [],
   "source": [
    "doctors['deathrate'] = deathrate"
   ]
  },
  {
   "cell_type": "code",
   "execution_count": 234,
   "metadata": {},
   "outputs": [
    {
     "data": {
      "text/plain": [
       "Medical doctors (per 10 000 population)      42.957000\n",
       "Year                                       2017.000000\n",
       "deathrate                                     0.061761\n",
       "Name: Switzerland, dtype: float64"
      ]
     },
     "execution_count": 234,
     "metadata": {},
     "output_type": "execute_result"
    }
   ],
   "source": [
    "doctors.loc['Switzerland']"
   ]
  },
  {
   "cell_type": "code",
   "execution_count": 235,
   "metadata": {},
   "outputs": [
    {
     "data": {
      "text/html": [
       "<div>\n",
       "<style scoped>\n",
       "    .dataframe tbody tr th:only-of-type {\n",
       "        vertical-align: middle;\n",
       "    }\n",
       "\n",
       "    .dataframe tbody tr th {\n",
       "        vertical-align: top;\n",
       "    }\n",
       "\n",
       "    .dataframe thead th {\n",
       "        text-align: right;\n",
       "    }\n",
       "</style>\n",
       "<table border=\"1\" class=\"dataframe\">\n",
       "  <thead>\n",
       "    <tr style=\"text-align: right;\">\n",
       "      <th></th>\n",
       "      <th>Medical doctors (per 10 000 population)</th>\n",
       "      <th>Year</th>\n",
       "      <th>deathrate</th>\n",
       "    </tr>\n",
       "    <tr>\n",
       "      <th>Country</th>\n",
       "      <th></th>\n",
       "      <th></th>\n",
       "      <th></th>\n",
       "    </tr>\n",
       "  </thead>\n",
       "  <tbody>\n",
       "    <tr>\n",
       "      <th>Afghanistan</th>\n",
       "      <td>2.782</td>\n",
       "      <td>2016.0</td>\n",
       "      <td>0.023259</td>\n",
       "    </tr>\n",
       "    <tr>\n",
       "      <th>Albania</th>\n",
       "      <td>12.164</td>\n",
       "      <td>2016.0</td>\n",
       "      <td>0.032666</td>\n",
       "    </tr>\n",
       "    <tr>\n",
       "      <th>Algeria</th>\n",
       "      <td>17.193</td>\n",
       "      <td>2018.0</td>\n",
       "      <td>0.076047</td>\n",
       "    </tr>\n",
       "    <tr>\n",
       "      <th>Andorra</th>\n",
       "      <td>33.333</td>\n",
       "      <td>2015.0</td>\n",
       "      <td>0.067017</td>\n",
       "    </tr>\n",
       "    <tr>\n",
       "      <th>Angola</th>\n",
       "      <td>2.146</td>\n",
       "      <td>2017.0</td>\n",
       "      <td>0.057692</td>\n",
       "    </tr>\n",
       "  </tbody>\n",
       "</table>\n",
       "</div>"
      ],
      "text/plain": [
       "             Medical doctors (per 10 000 population)    Year  deathrate\n",
       "Country                                                                \n",
       "Afghanistan                                    2.782  2016.0   0.023259\n",
       "Albania                                       12.164  2016.0   0.032666\n",
       "Algeria                                       17.193  2018.0   0.076047\n",
       "Andorra                                       33.333  2015.0   0.067017\n",
       "Angola                                         2.146  2017.0   0.057692"
      ]
     },
     "execution_count": 235,
     "metadata": {},
     "output_type": "execute_result"
    }
   ],
   "source": [
    "doctors.head()"
   ]
  },
  {
   "cell_type": "markdown",
   "metadata": {},
   "source": [
    "## Scatterplot"
   ]
  },
  {
   "cell_type": "code",
   "execution_count": 236,
   "metadata": {},
   "outputs": [
    {
     "data": {
      "text/plain": [
       "<matplotlib.collections.PathCollection at 0x1612e6b3278>"
      ]
     },
     "execution_count": 236,
     "metadata": {},
     "output_type": "execute_result"
    },
    {
     "data": {
      "image/png": "[encoded data removed]",
      "text/plain": [
       "<Figure size 432x288 with 1 Axes>"
      ]
     },
     "metadata": {
      "needs_background": "light"
     },
     "output_type": "display_data"
    }
   ],
   "source": [
    "plt.scatter(doctors['Medical doctors (per 10 000 population)'], doctors['deathrate'])"
   ]
  },
  {
   "cell_type": "markdown",
   "metadata": {},
   "source": [
    "## Plots with plotly"
   ]
  },
  {
   "cell_type": "code",
   "execution_count": 237,
   "metadata": {},
   "outputs": [],
   "source": [
    "import plotly\n",
    "from plotly.offline import download_plotlyjs, init_notebook_mode, plot, iplot\n",
    "import chart_studio\n",
    "import chart_studio.plotly as py\n",
    "import plotly.graph_objects as go\n",
    "import plotly.express as px\n",
    "import pycountry_convert as pc"
   ]
  },
  {
   "cell_type": "code",
   "execution_count": 238,
   "metadata": {},
   "outputs": [
    {
     "data": {
      "text/html": [
       "        <script type=\"text/javascript\">\n",
       "        window.PlotlyConfig = {MathJaxConfig: 'local'};\n",
       "        if (window.MathJax) {MathJax.Hub.Config({SVG: {font: \"STIX-Web\"}});}\n",
       "        if (typeof require !== 'undefined') {\n",
       "        require.undef(\"plotly\");\n",
       "        requirejs.config({\n",
       "            paths: {\n",
       "                'plotly': ['https://cdn.plot.ly/plotly-latest.min']\n",
       "            }\n",
       "        });\n",
       "        require(['plotly'], function(Plotly) {\n",
       "            window._Plotly = Plotly;\n",
       "        });\n",
       "        }\n",
       "        </script>\n",
       "        "
      ]
     },
     "metadata": {},
     "output_type": "display_data"
    }
   ],
   "source": [
    "#Jupyter setup (to display in notebook)\n",
    "init_notebook_mode(connected=True)"
   ]
  },
  {
   "cell_type": "code",
   "execution_count": 239,
   "metadata": {},
   "outputs": [],
   "source": [
    "countries = np.asarray(list(doctors.index))\n",
    "# Continent_code to Continent_names as a dictionary\n",
    "continents = {\n",
    "    'NA': 'North America',\n",
    "    'SA': 'South America', \n",
    "    'AS': 'Asia',\n",
    "    'OC': 'Australia',\n",
    "    'AF': 'Africa',\n",
    "    'EU' : 'Europe',\n",
    "    'na' : 'Others'\n",
    "}\n",
    "\n",
    "# Defining Function for getting continent code for country by using the pc library\n",
    "def country_to_continent_code(country):\n",
    "    try:\n",
    "        return pc.country_alpha2_to_continent_code(pc.country_name_to_country_alpha2(country))\n",
    "    except :\n",
    "        return 'na'\n",
    "\n",
    "#Collecting continent Information, insert at position 1, with column name 'continent'\n",
    "doctors.insert(1,\"continent\", [continents[country_to_continent_code(country)] for country in countries[:]])\n",
    "\n",
    "doctors.loc[doctors.index=='Timor-Leste', 'continent'] = 'Asia'\n",
    "doctors.loc[doctors.index=='Western Sahara', 'continent'] = 'Africa'"
   ]
  },
  {
   "cell_type": "code",
   "execution_count": 240,
   "metadata": {},
   "outputs": [
    {
     "data": {
      "text/plain": [
       "{'NA': 'North America',\n",
       " 'SA': 'South America',\n",
       " 'AS': 'Asia',\n",
       " 'OC': 'Australia',\n",
       " 'AF': 'Africa',\n",
       " 'EU': 'Europe',\n",
       " 'na': 'Others'}"
      ]
     },
     "execution_count": 240,
     "metadata": {},
     "output_type": "execute_result"
    }
   ],
   "source": [
    "countries\n",
    "continents"
   ]
  },
  {
   "cell_type": "code",
   "execution_count": 241,
   "metadata": {},
   "outputs": [
    {
     "data": {
      "text/html": [
       "<div>\n",
       "<style scoped>\n",
       "    .dataframe tbody tr th:only-of-type {\n",
       "        vertical-align: middle;\n",
       "    }\n",
       "\n",
       "    .dataframe tbody tr th {\n",
       "        vertical-align: top;\n",
       "    }\n",
       "\n",
       "    .dataframe thead th {\n",
       "        text-align: right;\n",
       "    }\n",
       "</style>\n",
       "<table border=\"1\" class=\"dataframe\">\n",
       "  <thead>\n",
       "    <tr style=\"text-align: right;\">\n",
       "      <th></th>\n",
       "      <th>Medical doctors (per 10 000 population)</th>\n",
       "      <th>continent</th>\n",
       "      <th>Year</th>\n",
       "      <th>deathrate</th>\n",
       "    </tr>\n",
       "    <tr>\n",
       "      <th>Country</th>\n",
       "      <th></th>\n",
       "      <th></th>\n",
       "      <th></th>\n",
       "      <th></th>\n",
       "    </tr>\n",
       "  </thead>\n",
       "  <tbody>\n",
       "    <tr>\n",
       "      <th>Afghanistan</th>\n",
       "      <td>2.782</td>\n",
       "      <td>Asia</td>\n",
       "      <td>2016.0</td>\n",
       "      <td>0.023259</td>\n",
       "    </tr>\n",
       "    <tr>\n",
       "      <th>Albania</th>\n",
       "      <td>12.164</td>\n",
       "      <td>Europe</td>\n",
       "      <td>2016.0</td>\n",
       "      <td>0.032666</td>\n",
       "    </tr>\n",
       "    <tr>\n",
       "      <th>Algeria</th>\n",
       "      <td>17.193</td>\n",
       "      <td>Africa</td>\n",
       "      <td>2018.0</td>\n",
       "      <td>0.076047</td>\n",
       "    </tr>\n",
       "    <tr>\n",
       "      <th>Andorra</th>\n",
       "      <td>33.333</td>\n",
       "      <td>Europe</td>\n",
       "      <td>2015.0</td>\n",
       "      <td>0.067017</td>\n",
       "    </tr>\n",
       "    <tr>\n",
       "      <th>Angola</th>\n",
       "      <td>2.146</td>\n",
       "      <td>Africa</td>\n",
       "      <td>2017.0</td>\n",
       "      <td>0.057692</td>\n",
       "    </tr>\n",
       "  </tbody>\n",
       "</table>\n",
       "</div>"
      ],
      "text/plain": [
       "             Medical doctors (per 10 000 population) continent    Year  \\\n",
       "Country                                                                  \n",
       "Afghanistan                                    2.782      Asia  2016.0   \n",
       "Albania                                       12.164    Europe  2016.0   \n",
       "Algeria                                       17.193    Africa  2018.0   \n",
       "Andorra                                       33.333    Europe  2015.0   \n",
       "Angola                                         2.146    Africa  2017.0   \n",
       "\n",
       "             deathrate  \n",
       "Country                 \n",
       "Afghanistan   0.023259  \n",
       "Albania       0.032666  \n",
       "Algeria       0.076047  \n",
       "Andorra       0.067017  \n",
       "Angola        0.057692  "
      ]
     },
     "execution_count": 241,
     "metadata": {},
     "output_type": "execute_result"
    }
   ],
   "source": [
    "doctors.head()"
   ]
  },
  {
   "cell_type": "code",
   "execution_count": 242,
   "metadata": {},
   "outputs": [
    {
     "data": {
      "application/vnd.plotly.v1+json": {
       "config": {
        "plotlyServerURL": "https://plotly.com"
       },
       "data": [
        {
         "hovertemplate": "<b>%{hovertext}</b><br><br>continent=Asia<br>Medical doctors (per 10 000 population)=%{x}<br>deathrate=%{y}<extra></extra>",
         "hovertext": [
          "Afghanistan",
          "Armenia",
          "Azerbaijan",
          "Bahrain",
          "Bangladesh",
          "Bhutan",
          "Cambodia",
          "China",
          "Cyprus",
          "Georgia",
          "India",
          "Indonesia",
          "Iraq",
          "Israel",
          "Japan",
          "Jordan",
          "Kazakhstan",
          "Kuwait",
          "Kyrgyzstan",
          "Lebanon",
          "Malaysia",
          "Maldives",
          "Mongolia",
          "Nepal",
          "Oman",
          "Pakistan",
          "Philippines",
          "Qatar",
          "Saudi Arabia",
          "Singapore",
          "Sri Lanka",
          "Tajikistan",
          "Thailand",
          "Timor-Leste",
          "Turkey",
          "United Arab Emirates",
          "Uzbekistan",
          "Yemen"
         ],
         "legendgroup": "Asia",
         "marker": {
          "color": "#636efa",
          "symbol": "circle"
         },
         "mode": "markers",
         "name": "Asia",
         "showlegend": true,
         "type": "scatter",
         "x": [
          2.782,
          44.023,
          34.46,
          9.257,
          5.809,
          4.242,
          1.9269999999999998,
          19.798,
          19.509,
          71.20100000000001,
          8.571,
          4.269,
          7.079,
          46.248999999999995,
          24.115,
          23.237,
          39.8,
          26.463,
          22.13,
          21.038,
          15.357999999999999,
          45.626999999999995,
          28.592,
          7.486000000000001,
          20.031,
          9.801,
          6.004,
          24.851999999999997,
          26.116999999999997,
          22.936,
          10.041,
          21.026,
          8.05,
          7.224,
          18.492,
          25.278000000000002,
          23.741999999999997,
          5.251
         ],
         "xaxis": "x",
         "y": [
          0.023258852737488567,
          0.012695893671890498,
          0.011654349061967027,
          0.0015932023366967605,
          0.014728713028939931,
          0,
          0,
          0.05517290603475965,
          0.018518518518518517,
          0.016973125884016973,
          0.031011974641934725,
          0.06601427335640138,
          0.0362780393242869,
          0.016687676331112313,
          0.046923687908596565,
          0.01386748844375963,
          0.005184417123389127,
          0.007217847769028871,
          0.011263073209975865,
          0.027253668763102725,
          0.01633705932932072,
          0.003499562554680665,
          0,
          0.004975124378109453,
          0.004761065067889261,
          0.02135741254605832,
          0.06467315716272601,
          0.00042127731281244734,
          0.005496708657733819,
          0.0007640480655692158,
          0.008763388510223954,
          0.021177685950413222,
          0.018463567424991757,
          0,
          0.027695148896876957,
          0.009057175916689942,
          0.004553415061295972,
          0.16766467065868262
         ],
         "yaxis": "y"
        },
        {
         "hovertemplate": "<b>%{hovertext}</b><br><br>continent=Europe<br>Medical doctors (per 10 000 population)=%{x}<br>deathrate=%{y}<extra></extra>",
         "hovertext": [
          "Albania",
          "Andorra",
          "Austria",
          "Belarus",
          "Belgium",
          "Bosnia and Herzegovina",
          "Bulgaria",
          "Croatia",
          "Czechia",
          "Denmark",
          "Estonia",
          "Finland",
          "France",
          "Germany",
          "Greece",
          "Hungary",
          "Iceland",
          "Ireland",
          "Italy",
          "Latvia",
          "Lithuania",
          "Luxembourg",
          "Malta",
          "Monaco",
          "Montenegro",
          "Netherlands",
          "Norway",
          "Poland",
          "Portugal",
          "Romania",
          "San Marino",
          "Serbia",
          "Slovakia",
          "Slovenia",
          "Spain",
          "Sweden",
          "Switzerland",
          "Ukraine"
         ],
         "legendgroup": "Europe",
         "marker": {
          "color": "#EF553B",
          "symbol": "circle"
         },
         "mode": "markers",
         "name": "Europe",
         "showlegend": true,
         "type": "scatter",
         "x": [
          12.164000000000001,
          33.333,
          51.696999999999996,
          51.905,
          30.709,
          21.616,
          40.332,
          29.996,
          41.208,
          40.099000000000004,
          44.833,
          38.118,
          32.672,
          42.488,
          54.788999999999994,
          34.075,
          40.778,
          33.125,
          39.774,
          31.905,
          63.528,
          30.09,
          28.598000000000003,
          75.067,
          27.557,
          36.054,
          29.164,
          23.788,
          51.24,
          29.807,
          61.093999999999994,
          31.131,
          34.156,
          30.861,
          38.723,
          39.84,
          42.957,
          29.923000000000002
         ],
         "xaxis": "x",
         "y": [
          0.032665964172813484,
          0.06701708278580815,
          0.038723117456038236,
          0.005554144979052939,
          0.16325213744152284,
          0.05773373545885394,
          0.04957945993802568,
          0.043010752688172046,
          0.03492540765583439,
          0.04901263120441202,
          0.03573422668900056,
          0.047038599781215815,
          0.15489158970447625,
          0.04545556818053977,
          0.058098591549295774,
          0.1313273340832396,
          0.005549389567147614,
          0.0643684796503237,
          0.14190181694670026,
          0.020750988142292492,
          0.03841229193341869,
          0.027539161192521474,
          0.01054481546572935,
          0.041237113402061855,
          0.027777777777777776,
          0.12900177731782492,
          0.028184347405346557,
          0.04920074735312435,
          0.04236885023104105,
          0.0661392589145483,
          0.06259541984732825,
          0.02180191931426442,
          0.018729096989966554,
          0.070892978868439,
          0.11971366635493477,
          0.121529919802591,
          0.06176105558821608,
          0.02903157448611994
         ],
         "yaxis": "y"
        },
        {
         "hovertemplate": "<b>%{hovertext}</b><br><br>continent=Africa<br>Medical doctors (per 10 000 population)=%{x}<br>deathrate=%{y}<extra></extra>",
         "hovertext": [
          "Algeria",
          "Angola",
          "Benin",
          "Botswana",
          "Burkina Faso",
          "Burundi",
          "Cabo Verde",
          "Cameroon",
          "Central African Republic",
          "Chad",
          "Comoros",
          "Djibouti",
          "Egypt",
          "Equatorial Guinea",
          "Eritrea",
          "Eswatini",
          "Ethiopia",
          "Gabon",
          "Gambia",
          "Ghana",
          "Guinea",
          "Guinea-Bissau",
          "Kenya",
          "Lesotho",
          "Liberia",
          "Libya",
          "Madagascar",
          "Malawi",
          "Mali",
          "Mauritania",
          "Mauritius",
          "Morocco",
          "Mozambique",
          "Namibia",
          "Niger",
          "Nigeria",
          "Rwanda",
          "Sao Tome and Principe",
          "Senegal",
          "Seychelles",
          "Sierra Leone",
          "Somalia",
          "South Africa",
          "Sudan",
          "Togo",
          "Tunisia",
          "Uganda",
          "Zambia",
          "Zimbabwe"
         ],
         "legendgroup": "Africa",
         "marker": {
          "color": "#00cc96",
          "symbol": "circle"
         },
         "mode": "markers",
         "name": "Africa",
         "showlegend": true,
         "type": "scatter",
         "x": [
          17.192999999999998,
          2.146,
          0.7909999999999999,
          5.269,
          0.847,
          1.001,
          7.814,
          0.8809999999999999,
          0.721,
          0.434,
          2.715,
          2.237,
          4.521,
          4.0169999999999995,
          0.628,
          3.285,
          0.769,
          6.819,
          1.021,
          1.359,
          0.8320000000000001,
          1.274,
          1.565,
          0.6920000000000001,
          0.376,
          20.905,
          1.8119999999999998,
          0.358,
          1.286,
          1.865,
          25.331,
          7.308,
          0.838,
          4.1819999999999995,
          0.433,
          3.806,
          1.34,
          0.531,
          0.691,
          21.212,
          0.251,
          0.23,
          9.054,
          2.6180000000000003,
          0.774,
          13.025,
          1.68,
          11.867,
          2.096
         ],
         "xaxis": "x",
         "y": [
          0.07604717364782432,
          0.057692307692307696,
          0.015384615384615385,
          0.04,
          0.06407035175879397,
          0.023809523809523808,
          0.008955223880597015,
          0.03967129498441485,
          0,
          0.10275229357798166,
          0.09090909090909091,
          0.004326328800988875,
          0.04887273805992287,
          0.008484848484848486,
          0,
          0.009615384615384616,
          0.0136986301369863,
          0.007989347536617843,
          0.041666666666666664,
          0.005085301837270341,
          0.0062871114215857496,
          0.005780346820809248,
          0.05192107995846314,
          0,
          0.09871244635193133,
          0.04411764705882353,
          0.006134969325153374,
          0.04285714285714286,
          0.058823529411764705,
          0.030534351145038167,
          0.030120481927710843,
          0.027481133418766908,
          0,
          0,
          0.060175054704595186,
          0.029995313232307454,
          0,
          0.03187250996015936,
          0.01146350783339702,
          0,
          0.06179775280898876,
          0.039280958721704395,
          0.01813953488372093,
          0.0406891495601173,
          0.03550295857988166,
          0.045019157088122604,
          0,
          0.009067357512953367,
          0.08695652173913043
         ],
         "yaxis": "y"
        },
        {
         "hovertemplate": "<b>%{hovertext}</b><br><br>continent=North America<br>Medical doctors (per 10 000 population)=%{x}<br>deathrate=%{y}<extra></extra>",
         "hovertext": [
          "Antigua and Barbuda",
          "Bahamas",
          "Barbados",
          "Belize",
          "Canada",
          "Costa Rica",
          "Cuba",
          "Dominica",
          "Dominican Republic",
          "El Salvador",
          "Grenada",
          "Guatemala",
          "Haiti",
          "Honduras",
          "Jamaica",
          "Mexico",
          "Nicaragua",
          "Panama",
          "Saint Kitts and Nevis",
          "Saint Lucia",
          "Saint Vincent and the Grenadines",
          "Trinidad and Tobago"
         ],
         "legendgroup": "North America",
         "marker": {
          "color": "#ab63fa",
          "symbol": "circle"
         },
         "mode": "markers",
         "name": "North America",
         "showlegend": true,
         "type": "scatter",
         "x": [
          29.56,
          20.067999999999998,
          24.843000000000004,
          11.229000000000001,
          23.105,
          28.939,
          84.21799999999999,
          11.189,
          15.267999999999999,
          15.662,
          14.067,
          3.549,
          2.343,
          3.089,
          13.061,
          23.826999999999998,
          9.775,
          15.687000000000001,
          26.758000000000003,
          6.409,
          6.648,
          41.675
         ],
         "xaxis": "x",
         "y": [
          0.12,
          0.11458333333333333,
          0.07777777777777778,
          0.1111111111111111,
          0.07488849962108507,
          0.011337868480725623,
          0.041865394806571275,
          0,
          0.03335097935415564,
          0.020026702269692925,
          0,
          0.02015939990623535,
          0.039399624765478425,
          0.049746192893401014,
          0.01730769230769231,
          0.104257903065543,
          0.06692913385826772,
          0.028478767609202392,
          0,
          0,
          0,
          0.06896551724137931
         ],
         "yaxis": "y"
        },
        {
         "hovertemplate": "<b>%{hovertext}</b><br><br>continent=South America<br>Medical doctors (per 10 000 population)=%{x}<br>deathrate=%{y}<extra></extra>",
         "hovertext": [
          "Argentina",
          "Brazil",
          "Chile",
          "Colombia",
          "Ecuador",
          "Guyana",
          "Paraguay",
          "Peru",
          "Suriname",
          "Uruguay"
         ],
         "legendgroup": "South America",
         "marker": {
          "color": "#FFA15A",
          "symbol": "circle"
         },
         "mode": "markers",
         "name": "South America",
         "showlegend": true,
         "type": "scatter",
         "x": [
          39.900999999999996,
          21.643,
          25.912,
          21.848000000000003,
          20.368,
          8.023,
          13.544,
          13.048,
          12.100999999999999,
          50.794
         ],
         "xaxis": "x",
         "y": [
          0.04461346350323533,
          0.06614193500928701,
          0.010266443453881684,
          0.03619722468260998,
          0.0831308014406606,
          0.08,
          0.013268998793727383,
          0.029291436727883157,
          0.09090909090909091,
          0.02710027100271003
         ],
         "yaxis": "y"
        },
        {
         "hovertemplate": "<b>%{hovertext}</b><br><br>continent=Australia<br>Medical doctors (per 10 000 population)=%{x}<br>deathrate=%{y}<extra></extra>",
         "hovertext": [
          "Australia",
          "Fiji",
          "New Zealand",
          "Papua New Guinea"
         ],
         "legendgroup": "Australia",
         "marker": {
          "color": "#19d3f3",
          "symbol": "circle"
         },
         "mode": "markers",
         "name": "Australia",
         "showlegend": true,
         "type": "scatter",
         "x": [
          36.778,
          8.6,
          35.898,
          0.6990000000000001
         ],
         "xaxis": "x",
         "y": [
          0.01414027149321267,
          0,
          0.013972055888223553,
          0
         ],
         "yaxis": "y"
        }
       ],
       "layout": {
        "legend": {
         "title": {
          "text": "continent"
         },
         "tracegroupgap": 0
        },
        "template": {
         "data": {
          "bar": [
           {
            "error_x": {
             "color": "#2a3f5f"
            },
            "error_y": {
             "color": "#2a3f5f"
            },
            "marker": {
             "line": {
              "color": "#E5ECF6",
              "width": 0.5
             }
            },
            "type": "bar"
           }
          ],
          "barpolar": [
           {
            "marker": {
             "line": {
              "color": "#E5ECF6",
              "width": 0.5
             }
            },
            "type": "barpolar"
           }
          ],
          "carpet": [
           {
            "aaxis": {
             "endlinecolor": "#2a3f5f",
             "gridcolor": "white",
             "linecolor": "white",
             "minorgridcolor": "white",
             "startlinecolor": "#2a3f5f"
            },
            "baxis": {
             "endlinecolor": "#2a3f5f",
             "gridcolor": "white",
             "linecolor": "white",
             "minorgridcolor": "white",
             "startlinecolor": "#2a3f5f"
            },
            "type": "carpet"
           }
          ],
          "choropleth": [
           {
            "colorbar": {
             "outlinewidth": 0,
             "ticks": ""
            },
            "type": "choropleth"
           }
          ],
          "contour": [
           {
            "colorbar": {
             "outlinewidth": 0,
             "ticks": ""
            },
            "colorscale": [
             [
              0,
              "#0d0887"
             ],
             [
              0.1111111111111111,
              "#46039f"
             ],
             [
              0.2222222222222222,
              "#7201a8"
             ],
             [
              0.3333333333333333,
              "#9c179e"
             ],
             [
              0.4444444444444444,
              "#bd3786"
             ],
             [
              0.5555555555555556,
              "#d8576b"
             ],
             [
              0.6666666666666666,
              "#ed7953"
             ],
             [
              0.7777777777777778,
              "#fb9f3a"
             ],
             [
              0.8888888888888888,
              "#fdca26"
             ],
             [
              1,
              "#f0f921"
             ]
            ],
            "type": "contour"
           }
          ],
          "contourcarpet": [
           {
            "colorbar": {
             "outlinewidth": 0,
             "ticks": ""
            },
            "type": "contourcarpet"
           }
          ],
          "heatmap": [
           {
            "colorbar": {
             "outlinewidth": 0,
             "ticks": ""
            },
            "colorscale": [
             [
              0,
              "#0d0887"
             ],
             [
              0.1111111111111111,
              "#46039f"
             ],
             [
              0.2222222222222222,
              "#7201a8"
             ],
             [
              0.3333333333333333,
              "#9c179e"
             ],
             [
              0.4444444444444444,
              "#bd3786"
             ],
             [
              0.5555555555555556,
              "#d8576b"
             ],
             [
              0.6666666666666666,
              "#ed7953"
             ],
             [
              0.7777777777777778,
              "#fb9f3a"
             ],
             [
              0.8888888888888888,
              "#fdca26"
             ],
             [
              1,
              "#f0f921"
             ]
            ],
            "type": "heatmap"
           }
          ],
          "heatmapgl": [
           {
            "colorbar": {
             "outlinewidth": 0,
             "ticks": ""
            },
            "colorscale": [
             [
              0,
              "#0d0887"
             ],
             [
              0.1111111111111111,
              "#46039f"
             ],
             [
              0.2222222222222222,
              "#7201a8"
             ],
             [
              0.3333333333333333,
              "#9c179e"
             ],
             [
              0.4444444444444444,
              "#bd3786"
             ],
             [
              0.5555555555555556,
              "#d8576b"
             ],
             [
              0.6666666666666666,
              "#ed7953"
             ],
             [
              0.7777777777777778,
              "#fb9f3a"
             ],
             [
              0.8888888888888888,
              "#fdca26"
             ],
             [
              1,
              "#f0f921"
             ]
            ],
            "type": "heatmapgl"
           }
          ],
          "histogram": [
           {
            "marker": {
             "colorbar": {
              "outlinewidth": 0,
              "ticks": ""
             }
            },
            "type": "histogram"
           }
          ],
          "histogram2d": [
           {
            "colorbar": {
             "outlinewidth": 0,
             "ticks": ""
            },
            "colorscale": [
             [
              0,
              "#0d0887"
             ],
             [
              0.1111111111111111,
              "#46039f"
             ],
             [
              0.2222222222222222,
              "#7201a8"
             ],
             [
              0.3333333333333333,
              "#9c179e"
             ],
             [
              0.4444444444444444,
              "#bd3786"
             ],
             [
              0.5555555555555556,
              "#d8576b"
             ],
             [
              0.6666666666666666,
              "#ed7953"
             ],
             [
              0.7777777777777778,
              "#fb9f3a"
             ],
             [
              0.8888888888888888,
              "#fdca26"
             ],
             [
              1,
              "#f0f921"
             ]
            ],
            "type": "histogram2d"
           }
          ],
          "histogram2dcontour": [
           {
            "colorbar": {
             "outlinewidth": 0,
             "ticks": ""
            },
            "colorscale": [
             [
              0,
              "#0d0887"
             ],
             [
              0.1111111111111111,
              "#46039f"
             ],
             [
              0.2222222222222222,
              "#7201a8"
             ],
             [
              0.3333333333333333,
              "#9c179e"
             ],
             [
              0.4444444444444444,
              "#bd3786"
             ],
             [
              0.5555555555555556,
              "#d8576b"
             ],
             [
              0.6666666666666666,
              "#ed7953"
             ],
             [
              0.7777777777777778,
              "#fb9f3a"
             ],
             [
              0.8888888888888888,
              "#fdca26"
             ],
             [
              1,
              "#f0f921"
             ]
            ],
            "type": "histogram2dcontour"
           }
          ],
          "mesh3d": [
           {
            "colorbar": {
             "outlinewidth": 0,
             "ticks": ""
            },
            "type": "mesh3d"
           }
          ],
          "parcoords": [
           {
            "line": {
             "colorbar": {
              "outlinewidth": 0,
              "ticks": ""
             }
            },
            "type": "parcoords"
           }
          ],
          "pie": [
           {
            "automargin": true,
            "type": "pie"
           }
          ],
          "scatter": [
           {
            "marker": {
             "colorbar": {
              "outlinewidth": 0,
              "ticks": ""
             }
            },
            "type": "scatter"
           }
          ],
          "scatter3d": [
           {
            "line": {
             "colorbar": {
              "outlinewidth": 0,
              "ticks": ""
             }
            },
            "marker": {
             "colorbar": {
              "outlinewidth": 0,
              "ticks": ""
             }
            },
            "type": "scatter3d"
           }
          ],
          "scattercarpet": [
           {
            "marker": {
             "colorbar": {
              "outlinewidth": 0,
              "ticks": ""
             }
            },
            "type": "scattercarpet"
           }
          ],
          "scattergeo": [
           {
            "marker": {
             "colorbar": {
              "outlinewidth": 0,
              "ticks": ""
             }
            },
            "type": "scattergeo"
           }
          ],
          "scattergl": [
           {
            "marker": {
             "colorbar": {
              "outlinewidth": 0,
              "ticks": ""
             }
            },
            "type": "scattergl"
           }
          ],
          "scattermapbox": [
           {
            "marker": {
             "colorbar": {
              "outlinewidth": 0,
              "ticks": ""
             }
            },
            "type": "scattermapbox"
           }
          ],
          "scatterpolar": [
           {
            "marker": {
             "colorbar": {
              "outlinewidth": 0,
              "ticks": ""
             }
            },
            "type": "scatterpolar"
           }
          ],
          "scatterpolargl": [
           {
            "marker": {
             "colorbar": {
              "outlinewidth": 0,
              "ticks": ""
             }
            },
            "type": "scatterpolargl"
           }
          ],
          "scatterternary": [
           {
            "marker": {
             "colorbar": {
              "outlinewidth": 0,
              "ticks": ""
             }
            },
            "type": "scatterternary"
           }
          ],
          "surface": [
           {
            "colorbar": {
             "outlinewidth": 0,
             "ticks": ""
            },
            "colorscale": [
             [
              0,
              "#0d0887"
             ],
             [
              0.1111111111111111,
              "#46039f"
             ],
             [
              0.2222222222222222,
              "#7201a8"
             ],
             [
              0.3333333333333333,
              "#9c179e"
             ],
             [
              0.4444444444444444,
              "#bd3786"
             ],
             [
              0.5555555555555556,
              "#d8576b"
             ],
             [
              0.6666666666666666,
              "#ed7953"
             ],
             [
              0.7777777777777778,
              "#fb9f3a"
             ],
             [
              0.8888888888888888,
              "#fdca26"
             ],
             [
              1,
              "#f0f921"
             ]
            ],
            "type": "surface"
           }
          ],
          "table": [
           {
            "cells": {
             "fill": {
              "color": "#EBF0F8"
             },
             "line": {
              "color": "white"
             }
            },
            "header": {
             "fill": {
              "color": "#C8D4E3"
             },
             "line": {
              "color": "white"
             }
            },
            "type": "table"
           }
          ]
         },
         "layout": {
          "annotationdefaults": {
           "arrowcolor": "#2a3f5f",
           "arrowhead": 0,
           "arrowwidth": 1
          },
          "coloraxis": {
           "colorbar": {
            "outlinewidth": 0,
            "ticks": ""
           }
          },
          "colorscale": {
           "diverging": [
            [
             0,
             "#8e0152"
            ],
            [
             0.1,
             "#c51b7d"
            ],
            [
             0.2,
             "#de77ae"
            ],
            [
             0.3,
             "#f1b6da"
            ],
            [
             0.4,
             "#fde0ef"
            ],
            [
             0.5,
             "#f7f7f7"
            ],
            [
             0.6,
             "#e6f5d0"
            ],
            [
             0.7,
             "#b8e186"
            ],
            [
             0.8,
             "#7fbc41"
            ],
            [
             0.9,
             "#4d9221"
            ],
            [
             1,
             "#276419"
            ]
           ],
           "sequential": [
            [
             0,
             "#0d0887"
            ],
            [
             0.1111111111111111,
             "#46039f"
            ],
            [
             0.2222222222222222,
             "#7201a8"
            ],
            [
             0.3333333333333333,
             "#9c179e"
            ],
            [
             0.4444444444444444,
             "#bd3786"
            ],
            [
             0.5555555555555556,
             "#d8576b"
            ],
            [
             0.6666666666666666,
             "#ed7953"
            ],
            [
             0.7777777777777778,
             "#fb9f3a"
            ],
            [
             0.8888888888888888,
             "#fdca26"
            ],
            [
             1,
             "#f0f921"
            ]
           ],
           "sequentialminus": [
            [
             0,
             "#0d0887"
            ],
            [
             0.1111111111111111,
             "#46039f"
            ],
            [
             0.2222222222222222,
             "#7201a8"
            ],
            [
             0.3333333333333333,
             "#9c179e"
            ],
            [
             0.4444444444444444,
             "#bd3786"
            ],
            [
             0.5555555555555556,
             "#d8576b"
            ],
            [
             0.6666666666666666,
             "#ed7953"
            ],
            [
             0.7777777777777778,
             "#fb9f3a"
            ],
            [
             0.8888888888888888,
             "#fdca26"
            ],
            [
             1,
             "#f0f921"
            ]
           ]
          },
          "colorway": [
           "#636efa",
           "#EF553B",
           "#00cc96",
           "#ab63fa",
           "#FFA15A",
           "#19d3f3",
           "#FF6692",
           "#B6E880",
           "#FF97FF",
           "#FECB52"
          ],
          "font": {
           "color": "#2a3f5f"
          },
          "geo": {
           "bgcolor": "white",
           "lakecolor": "white",
           "landcolor": "#E5ECF6",
           "showlakes": true,
           "showland": true,
           "subunitcolor": "white"
          },
          "hoverlabel": {
           "align": "left"
          },
          "hovermode": "closest",
          "mapbox": {
           "style": "light"
          },
          "paper_bgcolor": "white",
          "plot_bgcolor": "#E5ECF6",
          "polar": {
           "angularaxis": {
            "gridcolor": "white",
            "linecolor": "white",
            "ticks": ""
           },
           "bgcolor": "#E5ECF6",
           "radialaxis": {
            "gridcolor": "white",
            "linecolor": "white",
            "ticks": ""
           }
          },
          "scene": {
           "xaxis": {
            "backgroundcolor": "#E5ECF6",
            "gridcolor": "white",
            "gridwidth": 2,
            "linecolor": "white",
            "showbackground": true,
            "ticks": "",
            "zerolinecolor": "white"
           },
           "yaxis": {
            "backgroundcolor": "#E5ECF6",
            "gridcolor": "white",
            "gridwidth": 2,
            "linecolor": "white",
            "showbackground": true,
            "ticks": "",
            "zerolinecolor": "white"
           },
           "zaxis": {
            "backgroundcolor": "#E5ECF6",
            "gridcolor": "white",
            "gridwidth": 2,
            "linecolor": "white",
            "showbackground": true,
            "ticks": "",
            "zerolinecolor": "white"
           }
          },
          "shapedefaults": {
           "line": {
            "color": "#2a3f5f"
           }
          },
          "ternary": {
           "aaxis": {
            "gridcolor": "white",
            "linecolor": "white",
            "ticks": ""
           },
           "baxis": {
            "gridcolor": "white",
            "linecolor": "white",
            "ticks": ""
           },
           "bgcolor": "#E5ECF6",
           "caxis": {
            "gridcolor": "white",
            "linecolor": "white",
            "ticks": ""
           }
          },
          "title": {
           "x": 0.05
          },
          "xaxis": {
           "automargin": true,
           "gridcolor": "white",
           "linecolor": "white",
           "ticks": "",
           "title": {
            "standoff": 15
           },
           "zerolinecolor": "white",
           "zerolinewidth": 2
          },
          "yaxis": {
           "automargin": true,
           "gridcolor": "white",
           "linecolor": "white",
           "ticks": "",
           "title": {
            "standoff": 15
           },
           "zerolinecolor": "white",
           "zerolinewidth": 2
          }
         }
        },
        "title": {
         "text": "Medical doctors vs. death rate"
        },
        "xaxis": {
         "anchor": "y",
         "domain": [
          0,
          1
         ],
         "title": {
          "text": "Medical doctors (per 10 000 population)"
         }
        },
        "yaxis": {
         "anchor": "x",
         "domain": [
          0,
          1
         ],
         "title": {
          "text": "death rate"
         }
        }
       }
      },
      "text/html": [
       "<div>\n",
       "        \n",
       "        \n",
       "            <div id=\"eef4a535-2f37-41eb-b00b-1924f664f21c\" class=\"plotly-graph-div\" style=\"height:525px; width:100%;\"></div>\n",
       "            <script type=\"text/javascript\">\n",
       "                require([\"plotly\"], function(Plotly) {\n",
       "                    window.PLOTLYENV=window.PLOTLYENV || {};\n",
       "                    \n",
       "                if (document.getElementById(\"eef4a535-2f37-41eb-b00b-1924f664f21c\")) {\n",
       "                    Plotly.newPlot(\n",
       "                        'eef4a535-2f37-41eb-b00b-1924f664f21c',\n",
       "                        [{\"hovertemplate\": \"<b>%{hovertext}</b><br><br>continent=Asia<br>Medical doctors (per 10 000 population)=%{x}<br>deathrate=%{y}<extra></extra>\", \"hovertext\": [\"Afghanistan\", \"Armenia\", \"Azerbaijan\", \"Bahrain\", \"Bangladesh\", \"Bhutan\", \"Cambodia\", \"China\", \"Cyprus\", \"Georgia\", \"India\", \"Indonesia\", \"Iraq\", \"Israel\", \"Japan\", \"Jordan\", \"Kazakhstan\", \"Kuwait\", \"Kyrgyzstan\", \"Lebanon\", \"Malaysia\", \"Maldives\", \"Mongolia\", \"Nepal\", \"Oman\", \"Pakistan\", \"Philippines\", \"Qatar\", \"Saudi Arabia\", \"Singapore\", \"Sri Lanka\", \"Tajikistan\", \"Thailand\", \"Timor-Leste\", \"Turkey\", \"United Arab Emirates\", \"Uzbekistan\", \"Yemen\"], \"legendgroup\": \"Asia\", \"marker\": {\"color\": \"#636efa\", \"symbol\": \"circle\"}, \"mode\": \"markers\", \"name\": \"Asia\", \"showlegend\": true, \"type\": \"scatter\", \"x\": [2.782, 44.023, 34.46, 9.257, 5.809, 4.242, 1.9269999999999998, 19.798, 19.509, 71.20100000000001, 8.571, 4.269, 7.079, 46.248999999999995, 24.115, 23.237, 39.8, 26.463, 22.13, 21.038, 15.357999999999999, 45.626999999999995, 28.592, 7.486000000000001, 20.031, 9.801, 6.004, 24.851999999999997, 26.116999999999997, 22.936, 10.041, 21.026, 8.05, 7.224, 18.492, 25.278000000000002, 23.741999999999997, 5.251], \"xaxis\": \"x\", \"y\": [0.023258852737488567, 0.012695893671890498, 0.011654349061967027, 0.0015932023366967605, 0.014728713028939931, 0.0, 0.0, 0.05517290603475965, 0.018518518518518517, 0.016973125884016973, 0.031011974641934725, 0.06601427335640138, 0.0362780393242869, 0.016687676331112313, 0.046923687908596565, 0.01386748844375963, 0.005184417123389127, 0.007217847769028871, 0.011263073209975865, 0.027253668763102725, 0.01633705932932072, 0.003499562554680665, 0.0, 0.004975124378109453, 0.004761065067889261, 0.02135741254605832, 0.06467315716272601, 0.00042127731281244734, 0.005496708657733819, 0.0007640480655692158, 0.008763388510223954, 0.021177685950413222, 0.018463567424991757, 0.0, 0.027695148896876957, 0.009057175916689942, 0.004553415061295972, 0.16766467065868262], \"yaxis\": \"y\"}, {\"hovertemplate\": \"<b>%{hovertext}</b><br><br>continent=Europe<br>Medical doctors (per 10 000 population)=%{x}<br>deathrate=%{y}<extra></extra>\", \"hovertext\": [\"Albania\", \"Andorra\", \"Austria\", \"Belarus\", \"Belgium\", \"Bosnia and Herzegovina\", \"Bulgaria\", \"Croatia\", \"Czechia\", \"Denmark\", \"Estonia\", \"Finland\", \"France\", \"Germany\", \"Greece\", \"Hungary\", \"Iceland\", \"Ireland\", \"Italy\", \"Latvia\", \"Lithuania\", \"Luxembourg\", \"Malta\", \"Monaco\", \"Montenegro\", \"Netherlands\", \"Norway\", \"Poland\", \"Portugal\", \"Romania\", \"San Marino\", \"Serbia\", \"Slovakia\", \"Slovenia\", \"Spain\", \"Sweden\", \"Switzerland\", \"Ukraine\"], \"legendgroup\": \"Europe\", \"marker\": {\"color\": \"#EF553B\", \"symbol\": \"circle\"}, \"mode\": \"markers\", \"name\": \"Europe\", \"showlegend\": true, \"type\": \"scatter\", \"x\": [12.164000000000001, 33.333, 51.696999999999996, 51.905, 30.709, 21.616, 40.332, 29.996, 41.208, 40.099000000000004, 44.833, 38.118, 32.672, 42.488, 54.788999999999994, 34.075, 40.778, 33.125, 39.774, 31.905, 63.528, 30.09, 28.598000000000003, 75.067, 27.557, 36.054, 29.164, 23.788, 51.24, 29.807, 61.093999999999994, 31.131, 34.156, 30.861, 38.723, 39.84, 42.957, 29.923000000000002], \"xaxis\": \"x\", \"y\": [0.032665964172813484, 0.06701708278580815, 0.038723117456038236, 0.005554144979052939, 0.16325213744152284, 0.05773373545885394, 0.04957945993802568, 0.043010752688172046, 0.03492540765583439, 0.04901263120441202, 0.03573422668900056, 0.047038599781215815, 0.15489158970447625, 0.04545556818053977, 0.058098591549295774, 0.1313273340832396, 0.005549389567147614, 0.0643684796503237, 0.14190181694670026, 0.020750988142292492, 0.03841229193341869, 0.027539161192521474, 0.01054481546572935, 0.041237113402061855, 0.027777777777777776, 0.12900177731782492, 0.028184347405346557, 0.04920074735312435, 0.04236885023104105, 0.0661392589145483, 0.06259541984732825, 0.02180191931426442, 0.018729096989966554, 0.070892978868439, 0.11971366635493477, 0.121529919802591, 0.06176105558821608, 0.02903157448611994], \"yaxis\": \"y\"}, {\"hovertemplate\": \"<b>%{hovertext}</b><br><br>continent=Africa<br>Medical doctors (per 10 000 population)=%{x}<br>deathrate=%{y}<extra></extra>\", \"hovertext\": [\"Algeria\", \"Angola\", \"Benin\", \"Botswana\", \"Burkina Faso\", \"Burundi\", \"Cabo Verde\", \"Cameroon\", \"Central African Republic\", \"Chad\", \"Comoros\", \"Djibouti\", \"Egypt\", \"Equatorial Guinea\", \"Eritrea\", \"Eswatini\", \"Ethiopia\", \"Gabon\", \"Gambia\", \"Ghana\", \"Guinea\", \"Guinea-Bissau\", \"Kenya\", \"Lesotho\", \"Liberia\", \"Libya\", \"Madagascar\", \"Malawi\", \"Mali\", \"Mauritania\", \"Mauritius\", \"Morocco\", \"Mozambique\", \"Namibia\", \"Niger\", \"Nigeria\", \"Rwanda\", \"Sao Tome and Principe\", \"Senegal\", \"Seychelles\", \"Sierra Leone\", \"Somalia\", \"South Africa\", \"Sudan\", \"Togo\", \"Tunisia\", \"Uganda\", \"Zambia\", \"Zimbabwe\"], \"legendgroup\": \"Africa\", \"marker\": {\"color\": \"#00cc96\", \"symbol\": \"circle\"}, \"mode\": \"markers\", \"name\": \"Africa\", \"showlegend\": true, \"type\": \"scatter\", \"x\": [17.192999999999998, 2.146, 0.7909999999999999, 5.269, 0.847, 1.001, 7.814, 0.8809999999999999, 0.721, 0.434, 2.715, 2.237, 4.521, 4.0169999999999995, 0.628, 3.285, 0.769, 6.819, 1.021, 1.359, 0.8320000000000001, 1.274, 1.565, 0.6920000000000001, 0.376, 20.905, 1.8119999999999998, 0.358, 1.286, 1.865, 25.331, 7.308, 0.838, 4.1819999999999995, 0.433, 3.806, 1.34, 0.531, 0.691, 21.212, 0.251, 0.23, 9.054, 2.6180000000000003, 0.774, 13.025, 1.68, 11.867, 2.096], \"xaxis\": \"x\", \"y\": [0.07604717364782432, 0.057692307692307696, 0.015384615384615385, 0.04, 0.06407035175879397, 0.023809523809523808, 0.008955223880597015, 0.03967129498441485, 0.0, 0.10275229357798166, 0.09090909090909091, 0.004326328800988875, 0.04887273805992287, 0.008484848484848486, 0.0, 0.009615384615384616, 0.0136986301369863, 0.007989347536617843, 0.041666666666666664, 0.005085301837270341, 0.0062871114215857496, 0.005780346820809248, 0.05192107995846314, 0.0, 0.09871244635193133, 0.04411764705882353, 0.006134969325153374, 0.04285714285714286, 0.058823529411764705, 0.030534351145038167, 0.030120481927710843, 0.027481133418766908, 0.0, 0.0, 0.060175054704595186, 0.029995313232307454, 0.0, 0.03187250996015936, 0.01146350783339702, 0.0, 0.06179775280898876, 0.039280958721704395, 0.01813953488372093, 0.0406891495601173, 0.03550295857988166, 0.045019157088122604, 0.0, 0.009067357512953367, 0.08695652173913043], \"yaxis\": \"y\"}, {\"hovertemplate\": \"<b>%{hovertext}</b><br><br>continent=North America<br>Medical doctors (per 10 000 population)=%{x}<br>deathrate=%{y}<extra></extra>\", \"hovertext\": [\"Antigua and Barbuda\", \"Bahamas\", \"Barbados\", \"Belize\", \"Canada\", \"Costa Rica\", \"Cuba\", \"Dominica\", \"Dominican Republic\", \"El Salvador\", \"Grenada\", \"Guatemala\", \"Haiti\", \"Honduras\", \"Jamaica\", \"Mexico\", \"Nicaragua\", \"Panama\", \"Saint Kitts and Nevis\", \"Saint Lucia\", \"Saint Vincent and the Grenadines\", \"Trinidad and Tobago\"], \"legendgroup\": \"North America\", \"marker\": {\"color\": \"#ab63fa\", \"symbol\": \"circle\"}, \"mode\": \"markers\", \"name\": \"North America\", \"showlegend\": true, \"type\": \"scatter\", \"x\": [29.56, 20.067999999999998, 24.843000000000004, 11.229000000000001, 23.105, 28.939, 84.21799999999999, 11.189, 15.267999999999999, 15.662, 14.067, 3.549, 2.343, 3.089, 13.061, 23.826999999999998, 9.775, 15.687000000000001, 26.758000000000003, 6.409, 6.648, 41.675], \"xaxis\": \"x\", \"y\": [0.12, 0.11458333333333333, 0.07777777777777778, 0.1111111111111111, 0.07488849962108507, 0.011337868480725623, 0.041865394806571275, 0.0, 0.03335097935415564, 0.020026702269692925, 0.0, 0.02015939990623535, 0.039399624765478425, 0.049746192893401014, 0.01730769230769231, 0.104257903065543, 0.06692913385826772, 0.028478767609202392, 0.0, 0.0, 0.0, 0.06896551724137931], \"yaxis\": \"y\"}, {\"hovertemplate\": \"<b>%{hovertext}</b><br><br>continent=South America<br>Medical doctors (per 10 000 population)=%{x}<br>deathrate=%{y}<extra></extra>\", \"hovertext\": [\"Argentina\", \"Brazil\", \"Chile\", \"Colombia\", \"Ecuador\", \"Guyana\", \"Paraguay\", \"Peru\", \"Suriname\", \"Uruguay\"], \"legendgroup\": \"South America\", \"marker\": {\"color\": \"#FFA15A\", \"symbol\": \"circle\"}, \"mode\": \"markers\", \"name\": \"South America\", \"showlegend\": true, \"type\": \"scatter\", \"x\": [39.900999999999996, 21.643, 25.912, 21.848000000000003, 20.368, 8.023, 13.544, 13.048, 12.100999999999999, 50.794], \"xaxis\": \"x\", \"y\": [0.04461346350323533, 0.06614193500928701, 0.010266443453881684, 0.03619722468260998, 0.0831308014406606, 0.08, 0.013268998793727383, 0.029291436727883157, 0.09090909090909091, 0.02710027100271003], \"yaxis\": \"y\"}, {\"hovertemplate\": \"<b>%{hovertext}</b><br><br>continent=Australia<br>Medical doctors (per 10 000 population)=%{x}<br>deathrate=%{y}<extra></extra>\", \"hovertext\": [\"Australia\", \"Fiji\", \"New Zealand\", \"Papua New Guinea\"], \"legendgroup\": \"Australia\", \"marker\": {\"color\": \"#19d3f3\", \"symbol\": \"circle\"}, \"mode\": \"markers\", \"name\": \"Australia\", \"showlegend\": true, \"type\": \"scatter\", \"x\": [36.778, 8.6, 35.898, 0.6990000000000001], \"xaxis\": \"x\", \"y\": [0.01414027149321267, 0.0, 0.013972055888223553, 0.0], \"yaxis\": \"y\"}],\n",
       "                        {\"legend\": {\"title\": {\"text\": \"continent\"}, \"tracegroupgap\": 0}, \"template\": {\"data\": {\"bar\": [{\"error_x\": {\"color\": \"#2a3f5f\"}, \"error_y\": {\"color\": \"#2a3f5f\"}, \"marker\": {\"line\": {\"color\": \"#E5ECF6\", \"width\": 0.5}}, \"type\": \"bar\"}], \"barpolar\": [{\"marker\": {\"line\": {\"color\": \"#E5ECF6\", \"width\": 0.5}}, \"type\": \"barpolar\"}], \"carpet\": [{\"aaxis\": {\"endlinecolor\": \"#2a3f5f\", \"gridcolor\": \"white\", \"linecolor\": \"white\", \"minorgridcolor\": \"white\", \"startlinecolor\": \"#2a3f5f\"}, \"baxis\": {\"endlinecolor\": \"#2a3f5f\", \"gridcolor\": \"white\", \"linecolor\": \"white\", \"minorgridcolor\": \"white\", \"startlinecolor\": \"#2a3f5f\"}, \"type\": \"carpet\"}], \"choropleth\": [{\"colorbar\": {\"outlinewidth\": 0, \"ticks\": \"\"}, \"type\": \"choropleth\"}], \"contour\": [{\"colorbar\": {\"outlinewidth\": 0, \"ticks\": \"\"}, \"colorscale\": [[0.0, \"#0d0887\"], [0.1111111111111111, \"#46039f\"], [0.2222222222222222, \"#7201a8\"], [0.3333333333333333, \"#9c179e\"], [0.4444444444444444, \"#bd3786\"], [0.5555555555555556, \"#d8576b\"], [0.6666666666666666, \"#ed7953\"], [0.7777777777777778, \"#fb9f3a\"], [0.8888888888888888, \"#fdca26\"], [1.0, \"#f0f921\"]], \"type\": \"contour\"}], \"contourcarpet\": [{\"colorbar\": {\"outlinewidth\": 0, \"ticks\": \"\"}, \"type\": \"contourcarpet\"}], \"heatmap\": [{\"colorbar\": {\"outlinewidth\": 0, \"ticks\": \"\"}, \"colorscale\": [[0.0, \"#0d0887\"], [0.1111111111111111, \"#46039f\"], [0.2222222222222222, \"#7201a8\"], [0.3333333333333333, \"#9c179e\"], [0.4444444444444444, \"#bd3786\"], [0.5555555555555556, \"#d8576b\"], [0.6666666666666666, \"#ed7953\"], [0.7777777777777778, \"#fb9f3a\"], [0.8888888888888888, \"#fdca26\"], [1.0, \"#f0f921\"]], \"type\": \"heatmap\"}], \"heatmapgl\": [{\"colorbar\": {\"outlinewidth\": 0, \"ticks\": \"\"}, \"colorscale\": [[0.0, \"#0d0887\"], [0.1111111111111111, \"#46039f\"], [0.2222222222222222, \"#7201a8\"], [0.3333333333333333, \"#9c179e\"], [0.4444444444444444, \"#bd3786\"], [0.5555555555555556, \"#d8576b\"], [0.6666666666666666, \"#ed7953\"], [0.7777777777777778, \"#fb9f3a\"], [0.8888888888888888, \"#fdca26\"], [1.0, \"#f0f921\"]], \"type\": \"heatmapgl\"}], \"histogram\": [{\"marker\": {\"colorbar\": {\"outlinewidth\": 0, \"ticks\": \"\"}}, \"type\": \"histogram\"}], \"histogram2d\": [{\"colorbar\": {\"outlinewidth\": 0, \"ticks\": \"\"}, \"colorscale\": [[0.0, \"#0d0887\"], [0.1111111111111111, \"#46039f\"], [0.2222222222222222, \"#7201a8\"], [0.3333333333333333, \"#9c179e\"], [0.4444444444444444, \"#bd3786\"], [0.5555555555555556, \"#d8576b\"], [0.6666666666666666, \"#ed7953\"], [0.7777777777777778, \"#fb9f3a\"], [0.8888888888888888, \"#fdca26\"], [1.0, \"#f0f921\"]], \"type\": \"histogram2d\"}], \"histogram2dcontour\": [{\"colorbar\": {\"outlinewidth\": 0, \"ticks\": \"\"}, \"colorscale\": [[0.0, \"#0d0887\"], [0.1111111111111111, \"#46039f\"], [0.2222222222222222, \"#7201a8\"], [0.3333333333333333, \"#9c179e\"], [0.4444444444444444, \"#bd3786\"], [0.5555555555555556, \"#d8576b\"], [0.6666666666666666, \"#ed7953\"], [0.7777777777777778, \"#fb9f3a\"], [0.8888888888888888, \"#fdca26\"], [1.0, \"#f0f921\"]], \"type\": \"histogram2dcontour\"}], \"mesh3d\": [{\"colorbar\": {\"outlinewidth\": 0, \"ticks\": \"\"}, \"type\": \"mesh3d\"}], \"parcoords\": [{\"line\": {\"colorbar\": {\"outlinewidth\": 0, \"ticks\": \"\"}}, \"type\": \"parcoords\"}], \"pie\": [{\"automargin\": true, \"type\": \"pie\"}], \"scatter\": [{\"marker\": {\"colorbar\": {\"outlinewidth\": 0, \"ticks\": \"\"}}, \"type\": \"scatter\"}], \"scatter3d\": [{\"line\": {\"colorbar\": {\"outlinewidth\": 0, \"ticks\": \"\"}}, \"marker\": {\"colorbar\": {\"outlinewidth\": 0, \"ticks\": \"\"}}, \"type\": \"scatter3d\"}], \"scattercarpet\": [{\"marker\": {\"colorbar\": {\"outlinewidth\": 0, \"ticks\": \"\"}}, \"type\": \"scattercarpet\"}], \"scattergeo\": [{\"marker\": {\"colorbar\": {\"outlinewidth\": 0, \"ticks\": \"\"}}, \"type\": \"scattergeo\"}], \"scattergl\": [{\"marker\": {\"colorbar\": {\"outlinewidth\": 0, \"ticks\": \"\"}}, \"type\": \"scattergl\"}], \"scattermapbox\": [{\"marker\": {\"colorbar\": {\"outlinewidth\": 0, \"ticks\": \"\"}}, \"type\": \"scattermapbox\"}], \"scatterpolar\": [{\"marker\": {\"colorbar\": {\"outlinewidth\": 0, \"ticks\": \"\"}}, \"type\": \"scatterpolar\"}], \"scatterpolargl\": [{\"marker\": {\"colorbar\": {\"outlinewidth\": 0, \"ticks\": \"\"}}, \"type\": \"scatterpolargl\"}], \"scatterternary\": [{\"marker\": {\"colorbar\": {\"outlinewidth\": 0, \"ticks\": \"\"}}, \"type\": \"scatterternary\"}], \"surface\": [{\"colorbar\": {\"outlinewidth\": 0, \"ticks\": \"\"}, \"colorscale\": [[0.0, \"#0d0887\"], [0.1111111111111111, \"#46039f\"], [0.2222222222222222, \"#7201a8\"], [0.3333333333333333, \"#9c179e\"], [0.4444444444444444, \"#bd3786\"], [0.5555555555555556, \"#d8576b\"], [0.6666666666666666, \"#ed7953\"], [0.7777777777777778, \"#fb9f3a\"], [0.8888888888888888, \"#fdca26\"], [1.0, \"#f0f921\"]], \"type\": \"surface\"}], \"table\": [{\"cells\": {\"fill\": {\"color\": \"#EBF0F8\"}, \"line\": {\"color\": \"white\"}}, \"header\": {\"fill\": {\"color\": \"#C8D4E3\"}, \"line\": {\"color\": \"white\"}}, \"type\": \"table\"}]}, \"layout\": {\"annotationdefaults\": {\"arrowcolor\": \"#2a3f5f\", \"arrowhead\": 0, \"arrowwidth\": 1}, \"coloraxis\": {\"colorbar\": {\"outlinewidth\": 0, \"ticks\": \"\"}}, \"colorscale\": {\"diverging\": [[0, \"#8e0152\"], [0.1, \"#c51b7d\"], [0.2, \"#de77ae\"], [0.3, \"#f1b6da\"], [0.4, \"#fde0ef\"], [0.5, \"#f7f7f7\"], [0.6, \"#e6f5d0\"], [0.7, \"#b8e186\"], [0.8, \"#7fbc41\"], [0.9, \"#4d9221\"], [1, \"#276419\"]], \"sequential\": [[0.0, \"#0d0887\"], [0.1111111111111111, \"#46039f\"], [0.2222222222222222, \"#7201a8\"], [0.3333333333333333, \"#9c179e\"], [0.4444444444444444, \"#bd3786\"], [0.5555555555555556, \"#d8576b\"], [0.6666666666666666, \"#ed7953\"], [0.7777777777777778, \"#fb9f3a\"], [0.8888888888888888, \"#fdca26\"], [1.0, \"#f0f921\"]], \"sequentialminus\": [[0.0, \"#0d0887\"], [0.1111111111111111, \"#46039f\"], [0.2222222222222222, \"#7201a8\"], [0.3333333333333333, \"#9c179e\"], [0.4444444444444444, \"#bd3786\"], [0.5555555555555556, \"#d8576b\"], [0.6666666666666666, \"#ed7953\"], [0.7777777777777778, \"#fb9f3a\"], [0.8888888888888888, \"#fdca26\"], [1.0, \"#f0f921\"]]}, \"colorway\": [\"#636efa\", \"#EF553B\", \"#00cc96\", \"#ab63fa\", \"#FFA15A\", \"#19d3f3\", \"#FF6692\", \"#B6E880\", \"#FF97FF\", \"#FECB52\"], \"font\": {\"color\": \"#2a3f5f\"}, \"geo\": {\"bgcolor\": \"white\", \"lakecolor\": \"white\", \"landcolor\": \"#E5ECF6\", \"showlakes\": true, \"showland\": true, \"subunitcolor\": \"white\"}, \"hoverlabel\": {\"align\": \"left\"}, \"hovermode\": \"closest\", \"mapbox\": {\"style\": \"light\"}, \"paper_bgcolor\": \"white\", \"plot_bgcolor\": \"#E5ECF6\", \"polar\": {\"angularaxis\": {\"gridcolor\": \"white\", \"linecolor\": \"white\", \"ticks\": \"\"}, \"bgcolor\": \"#E5ECF6\", \"radialaxis\": {\"gridcolor\": \"white\", \"linecolor\": \"white\", \"ticks\": \"\"}}, \"scene\": {\"xaxis\": {\"backgroundcolor\": \"#E5ECF6\", \"gridcolor\": \"white\", \"gridwidth\": 2, \"linecolor\": \"white\", \"showbackground\": true, \"ticks\": \"\", \"zerolinecolor\": \"white\"}, \"yaxis\": {\"backgroundcolor\": \"#E5ECF6\", \"gridcolor\": \"white\", \"gridwidth\": 2, \"linecolor\": \"white\", \"showbackground\": true, \"ticks\": \"\", \"zerolinecolor\": \"white\"}, \"zaxis\": {\"backgroundcolor\": \"#E5ECF6\", \"gridcolor\": \"white\", \"gridwidth\": 2, \"linecolor\": \"white\", \"showbackground\": true, \"ticks\": \"\", \"zerolinecolor\": \"white\"}}, \"shapedefaults\": {\"line\": {\"color\": \"#2a3f5f\"}}, \"ternary\": {\"aaxis\": {\"gridcolor\": \"white\", \"linecolor\": \"white\", \"ticks\": \"\"}, \"baxis\": {\"gridcolor\": \"white\", \"linecolor\": \"white\", \"ticks\": \"\"}, \"bgcolor\": \"#E5ECF6\", \"caxis\": {\"gridcolor\": \"white\", \"linecolor\": \"white\", \"ticks\": \"\"}}, \"title\": {\"x\": 0.05}, \"xaxis\": {\"automargin\": true, \"gridcolor\": \"white\", \"linecolor\": \"white\", \"ticks\": \"\", \"title\": {\"standoff\": 15}, \"zerolinecolor\": \"white\", \"zerolinewidth\": 2}, \"yaxis\": {\"automargin\": true, \"gridcolor\": \"white\", \"linecolor\": \"white\", \"ticks\": \"\", \"title\": {\"standoff\": 15}, \"zerolinecolor\": \"white\", \"zerolinewidth\": 2}}}, \"title\": {\"text\": \"Medical doctors vs. death rate\"}, \"xaxis\": {\"anchor\": \"y\", \"domain\": [0.0, 1.0], \"title\": {\"text\": \"Medical doctors (per 10 000 population)\"}}, \"yaxis\": {\"anchor\": \"x\", \"domain\": [0.0, 1.0], \"title\": {\"text\": \"death rate\"}}},\n",
       "                        {\"responsive\": true}\n",
       "                    ).then(function(){\n",
       "                            \n",
       "var gd = document.getElementById('eef4a535-2f37-41eb-b00b-1924f664f21c');\n",
       "var x = new MutationObserver(function (mutations, observer) {{\n",
       "        var display = window.getComputedStyle(gd).display;\n",
       "        if (!display || display === 'none') {{\n",
       "            console.log([gd, 'removed!']);\n",
       "            Plotly.purge(gd);\n",
       "            observer.disconnect();\n",
       "        }}\n",
       "}});\n",
       "\n",
       "// Listen for the removal of the full notebook cells\n",
       "var notebookContainer = gd.closest('#notebook-container');\n",
       "if (notebookContainer) {{\n",
       "    x.observe(notebookContainer, {childList: true});\n",
       "}}\n",
       "\n",
       "// Listen for the clearing of the current output cell\n",
       "var outputEl = gd.closest('.output');\n",
       "if (outputEl) {{\n",
       "    x.observe(outputEl, {childList: true});\n",
       "}}\n",
       "\n",
       "                        })\n",
       "                };\n",
       "                });\n",
       "            </script>\n",
       "        </div>"
      ]
     },
     "metadata": {},
     "output_type": "display_data"
    }
   ],
   "source": [
    "fig = px.scatter(doctors,\n",
    "    x = 'Medical doctors (per 10 000 population)',\n",
    "    y = 'deathrate',\n",
    "    hover_name=countries,\n",
    "    color='continent',\n",
    "    title='Medical doctors vs. death rate')\n",
    "\n",
    "fig.update_layout(\n",
    "    yaxis_title=\"death rate\"\n",
    "    )\n",
    "\n",
    "fig.show()\n"
   ]
  },
  {
   "cell_type": "code",
   "execution_count": 243,
   "metadata": {},
   "outputs": [],
   "source": [
    "countries = np.asarray(list(hospitalbeds.index))\n",
    "# Continent_code to Continent_names as a dictionary\n",
    "continents = {\n",
    "    'NA': 'North America',\n",
    "    'SA': 'South America', \n",
    "    'AS': 'Asia',\n",
    "    'OC': 'Australia',\n",
    "    'AF': 'Africa',\n",
    "    'EU' : 'Europe',\n",
    "    'na' : 'Others'\n",
    "}\n",
    "\n",
    "# Defining Function for getting continent code for country by using the pc library\n",
    "def country_to_continent_code(country):\n",
    "    try:\n",
    "        return pc.country_alpha2_to_continent_code(pc.country_name_to_country_alpha2(country))\n",
    "    except :\n",
    "        return 'na'\n",
    "#Collecting continent Information, insert at position 1, with column name 'continent'\n",
    "hospitalbeds.insert(1,\"continent\", [continents[country_to_continent_code(country)] for country in countries[:]])\n",
    "\n",
    "hospitalbeds.loc[hospitalbeds.index=='Timor-Leste', 'continent'] = 'Asia'\n",
    "hospitalbeds.loc[hospitalbeds.index=='Western Sahara', 'continent'] = 'Africa'"
   ]
  },
  {
   "cell_type": "code",
   "execution_count": 244,
   "metadata": {},
   "outputs": [
    {
     "data": {
      "text/html": [
       "<div>\n",
       "<style scoped>\n",
       "    .dataframe tbody tr th:only-of-type {\n",
       "        vertical-align: middle;\n",
       "    }\n",
       "\n",
       "    .dataframe tbody tr th {\n",
       "        vertical-align: top;\n",
       "    }\n",
       "\n",
       "    .dataframe thead th {\n",
       "        text-align: right;\n",
       "    }\n",
       "</style>\n",
       "<table border=\"1\" class=\"dataframe\">\n",
       "  <thead>\n",
       "    <tr style=\"text-align: right;\">\n",
       "      <th></th>\n",
       "      <th>Hospital beds (per 10 000 population)</th>\n",
       "      <th>continent</th>\n",
       "      <th>Year</th>\n",
       "      <th>deathrate</th>\n",
       "    </tr>\n",
       "    <tr>\n",
       "      <th>Country</th>\n",
       "      <th></th>\n",
       "      <th></th>\n",
       "      <th></th>\n",
       "      <th></th>\n",
       "    </tr>\n",
       "  </thead>\n",
       "  <tbody>\n",
       "    <tr>\n",
       "      <th>Afghanistan</th>\n",
       "      <td>5.0</td>\n",
       "      <td>Asia</td>\n",
       "      <td>2015.0</td>\n",
       "      <td>0.023259</td>\n",
       "    </tr>\n",
       "    <tr>\n",
       "      <th>Albania</th>\n",
       "      <td>29.0</td>\n",
       "      <td>Europe</td>\n",
       "      <td>2013.0</td>\n",
       "      <td>0.032666</td>\n",
       "    </tr>\n",
       "    <tr>\n",
       "      <th>Algeria</th>\n",
       "      <td>19.0</td>\n",
       "      <td>Africa</td>\n",
       "      <td>2015.0</td>\n",
       "      <td>0.076047</td>\n",
       "    </tr>\n",
       "    <tr>\n",
       "      <th>Angola</th>\n",
       "      <td>8.0</td>\n",
       "      <td>Africa</td>\n",
       "      <td>2005.0</td>\n",
       "      <td>0.057692</td>\n",
       "    </tr>\n",
       "    <tr>\n",
       "      <th>Antigua and Barbuda</th>\n",
       "      <td>38.0</td>\n",
       "      <td>North America</td>\n",
       "      <td>2014.0</td>\n",
       "      <td>0.120000</td>\n",
       "    </tr>\n",
       "  </tbody>\n",
       "</table>\n",
       "</div>"
      ],
      "text/plain": [
       "                     Hospital beds (per 10 000 population)      continent  \\\n",
       "Country                                                                     \n",
       "Afghanistan                                            5.0           Asia   \n",
       "Albania                                               29.0         Europe   \n",
       "Algeria                                               19.0         Africa   \n",
       "Angola                                                 8.0         Africa   \n",
       "Antigua and Barbuda                                   38.0  North America   \n",
       "\n",
       "                       Year  deathrate  \n",
       "Country                                 \n",
       "Afghanistan          2015.0   0.023259  \n",
       "Albania              2013.0   0.032666  \n",
       "Algeria              2015.0   0.076047  \n",
       "Angola               2005.0   0.057692  \n",
       "Antigua and Barbuda  2014.0   0.120000  "
      ]
     },
     "execution_count": 244,
     "metadata": {},
     "output_type": "execute_result"
    }
   ],
   "source": [
    "hospitalbeds.head()"
   ]
  },
  {
   "cell_type": "code",
   "execution_count": 246,
   "metadata": {},
   "outputs": [
    {
     "data": {
      "application/vnd.plotly.v1+json": {
       "config": {
        "plotlyServerURL": "https://plotly.com"
       },
       "data": [
        {
         "hovertemplate": "<b>%{hovertext}</b><br><br>continent=Asia<br>Hospital beds (per 10 000 population)=%{x}<br>deathrate=%{y}<extra></extra>",
         "hovertext": [
          "Afghanistan",
          "Armenia",
          "Azerbaijan",
          "Bahrain",
          "Bangladesh",
          "Bhutan",
          "Cambodia",
          "China",
          "Cyprus",
          "Georgia",
          "India",
          "Indonesia",
          "Iraq",
          "Israel",
          "Japan",
          "Jordan",
          "Kazakhstan",
          "Kuwait",
          "Kyrgyzstan",
          "Lebanon",
          "Malaysia",
          "Maldives",
          "Mongolia",
          "Nepal",
          "Oman",
          "Pakistan",
          "Philippines",
          "Qatar",
          "Saudi Arabia",
          "Singapore",
          "Sri Lanka",
          "Tajikistan",
          "Thailand",
          "Timor-Leste",
          "Turkey",
          "United Arab Emirates",
          "Uzbekistan",
          "Yemen"
         ],
         "legendgroup": "Asia",
         "marker": {
          "color": "#636efa",
          "symbol": "circle"
         },
         "mode": "markers",
         "name": "Asia",
         "showlegend": true,
         "type": "scatter",
         "x": [
          5,
          42,
          47,
          20,
          8,
          17,
          8,
          42,
          34,
          26,
          7,
          12,
          14,
          31,
          134,
          14,
          67,
          20,
          45,
          29,
          19,
          43,
          70,
          3,
          16,
          6,
          5,
          12,
          27,
          24,
          35,
          48,
          21,
          59,
          27,
          12,
          40,
          7
         ],
         "xaxis": "x",
         "y": [
          0.023258852737488567,
          0.012695893671890498,
          0.011654349061967027,
          0.0015932023366967605,
          0.014728713028939931,
          0,
          0,
          0.05517290603475965,
          0.018518518518518517,
          0.016973125884016973,
          0.031011974641934725,
          0.06601427335640138,
          0.0362780393242869,
          0.016687676331112313,
          0.046923687908596565,
          0.01386748844375963,
          0.005184417123389127,
          0.007217847769028871,
          0.011263073209975865,
          0.027253668763102725,
          0.01633705932932072,
          0.003499562554680665,
          0,
          0.004975124378109453,
          0.004761065067889261,
          0.02135741254605832,
          0.06467315716272601,
          0.00042127731281244734,
          0.005496708657733819,
          0.0007640480655692158,
          0.008763388510223954,
          0.021177685950413222,
          0.018463567424991757,
          0,
          0.027695148896876957,
          0.009057175916689942,
          0.004553415061295972,
          0.16766467065868262
         ],
         "yaxis": "y"
        },
        {
         "hovertemplate": "<b>%{hovertext}</b><br><br>continent=Europe<br>Hospital beds (per 10 000 population)=%{x}<br>deathrate=%{y}<extra></extra>",
         "hovertext": [
          "Albania",
          "Austria",
          "Belarus",
          "Belgium",
          "Bosnia and Herzegovina",
          "Bulgaria",
          "Croatia",
          "Czechia",
          "Denmark",
          "Estonia",
          "Finland",
          "France",
          "Germany",
          "Greece",
          "Hungary",
          "Iceland",
          "Ireland",
          "Italy",
          "Latvia",
          "Lithuania",
          "Luxembourg",
          "Malta",
          "Montenegro",
          "Netherlands",
          "Norway",
          "Poland",
          "Portugal",
          "Romania",
          "Serbia",
          "Slovakia",
          "Slovenia",
          "Spain",
          "Sweden",
          "Switzerland",
          "Ukraine"
         ],
         "legendgroup": "Europe",
         "marker": {
          "color": "#EF553B",
          "symbol": "circle"
         },
         "mode": "markers",
         "name": "Europe",
         "showlegend": true,
         "type": "scatter",
         "x": [
          29,
          76,
          110,
          62,
          35,
          68,
          56,
          65,
          25,
          50,
          44,
          65,
          83,
          43,
          70,
          32,
          28,
          34,
          58,
          73,
          48,
          47,
          40,
          47,
          39,
          65,
          34,
          63,
          57,
          58,
          46,
          30,
          26,
          47,
          88
         ],
         "xaxis": "x",
         "y": [
          0.032665964172813484,
          0.038723117456038236,
          0.005554144979052939,
          0.16325213744152284,
          0.05773373545885394,
          0.04957945993802568,
          0.043010752688172046,
          0.03492540765583439,
          0.04901263120441202,
          0.03573422668900056,
          0.047038599781215815,
          0.15489158970447625,
          0.04545556818053977,
          0.058098591549295774,
          0.1313273340832396,
          0.005549389567147614,
          0.0643684796503237,
          0.14190181694670026,
          0.020750988142292492,
          0.03841229193341869,
          0.027539161192521474,
          0.01054481546572935,
          0.027777777777777776,
          0.12900177731782492,
          0.028184347405346557,
          0.04920074735312435,
          0.04236885023104105,
          0.0661392589145483,
          0.02180191931426442,
          0.018729096989966554,
          0.070892978868439,
          0.11971366635493477,
          0.121529919802591,
          0.06176105558821608,
          0.02903157448611994
         ],
         "yaxis": "y"
        },
        {
         "hovertemplate": "<b>%{hovertext}</b><br><br>continent=Africa<br>Hospital beds (per 10 000 population)=%{x}<br>deathrate=%{y}<extra></extra>",
         "hovertext": [
          "Algeria",
          "Angola",
          "Benin",
          "Botswana",
          "Burkina Faso",
          "Burundi",
          "Cabo Verde",
          "Cameroon",
          "Central African Republic",
          "Chad",
          "Comoros",
          "Djibouti",
          "Egypt",
          "Equatorial Guinea",
          "Eritrea",
          "Eswatini",
          "Ethiopia",
          "Gabon",
          "Gambia",
          "Ghana",
          "Guinea",
          "Guinea-Bissau",
          "Kenya",
          "Lesotho",
          "Liberia",
          "Libya",
          "Madagascar",
          "Malawi",
          "Mali",
          "Mauritania",
          "Mauritius",
          "Morocco",
          "Mozambique",
          "Namibia",
          "Niger",
          "Nigeria",
          "Rwanda",
          "Sao Tome and Principe",
          "Senegal",
          "Seychelles",
          "Sierra Leone",
          "Somalia",
          "South Africa",
          "Sudan",
          "Togo",
          "Tunisia",
          "Uganda",
          "Zambia",
          "Zimbabwe"
         ],
         "legendgroup": "Africa",
         "marker": {
          "color": "#00cc96",
          "symbol": "circle"
         },
         "mode": "markers",
         "name": "Africa",
         "showlegend": true,
         "type": "scatter",
         "x": [
          19,
          8,
          5,
          18,
          4,
          8,
          21,
          13,
          10,
          4,
          22,
          14,
          16,
          21,
          7,
          21,
          3,
          13,
          11,
          9,
          3,
          10,
          14,
          13,
          8,
          37,
          2,
          13,
          1,
          4,
          34,
          11,
          7,
          27,
          3,
          5,
          16,
          29,
          3,
          36,
          4,
          9,
          28,
          8,
          7,
          23,
          5,
          20,
          17
         ],
         "xaxis": "x",
         "y": [
          0.07604717364782432,
          0.057692307692307696,
          0.015384615384615385,
          0.04,
          0.06407035175879397,
          0.023809523809523808,
          0.008955223880597015,
          0.03967129498441485,
          0,
          0.10275229357798166,
          0.09090909090909091,
          0.004326328800988875,
          0.04887273805992287,
          0.008484848484848486,
          0,
          0.009615384615384616,
          0.0136986301369863,
          0.007989347536617843,
          0.041666666666666664,
          0.005085301837270341,
          0.0062871114215857496,
          0.005780346820809248,
          0.05192107995846314,
          0,
          0.09871244635193133,
          0.04411764705882353,
          0.006134969325153374,
          0.04285714285714286,
          0.058823529411764705,
          0.030534351145038167,
          0.030120481927710843,
          0.027481133418766908,
          0,
          0,
          0.060175054704595186,
          0.029995313232307454,
          0,
          0.03187250996015936,
          0.01146350783339702,
          0,
          0.06179775280898876,
          0.039280958721704395,
          0.01813953488372093,
          0.0406891495601173,
          0.03550295857988166,
          0.045019157088122604,
          0,
          0.009067357512953367,
          0.08695652173913043
         ],
         "yaxis": "y"
        },
        {
         "hovertemplate": "<b>%{hovertext}</b><br><br>continent=North America<br>Hospital beds (per 10 000 population)=%{x}<br>deathrate=%{y}<extra></extra>",
         "hovertext": [
          "Antigua and Barbuda",
          "Bahamas",
          "Barbados",
          "Belize",
          "Canada",
          "Costa Rica",
          "Cuba",
          "Dominican Republic",
          "El Salvador",
          "Grenada",
          "Guatemala",
          "Haiti",
          "Honduras",
          "Jamaica",
          "Mexico",
          "Nicaragua",
          "Panama",
          "Saint Lucia",
          "Saint Vincent and the Grenadines",
          "Trinidad and Tobago"
         ],
         "legendgroup": "North America",
         "marker": {
          "color": "#ab63fa",
          "symbol": "circle"
         },
         "mode": "markers",
         "name": "North America",
         "showlegend": true,
         "type": "scatter",
         "x": [
          38,
          29,
          58,
          13,
          27,
          12,
          52,
          16,
          13,
          37,
          6,
          7,
          7,
          17,
          15,
          9,
          23,
          13,
          26,
          30
         ],
         "xaxis": "x",
         "y": [
          0.12,
          0.11458333333333333,
          0.07777777777777778,
          0.1111111111111111,
          0.07488849962108507,
          0.011337868480725623,
          0.041865394806571275,
          0.03335097935415564,
          0.020026702269692925,
          0,
          0.02015939990623535,
          0.039399624765478425,
          0.049746192893401014,
          0.01730769230769231,
          0.104257903065543,
          0.06692913385826772,
          0.028478767609202392,
          0,
          0,
          0.06896551724137931
         ],
         "yaxis": "y"
        },
        {
         "hovertemplate": "<b>%{hovertext}</b><br><br>continent=South America<br>Hospital beds (per 10 000 population)=%{x}<br>deathrate=%{y}<extra></extra>",
         "hovertext": [
          "Argentina",
          "Brazil",
          "Chile",
          "Colombia",
          "Ecuador",
          "Guyana",
          "Paraguay",
          "Peru",
          "Suriname",
          "Uruguay"
         ],
         "legendgroup": "South America",
         "marker": {
          "color": "#FFA15A",
          "symbol": "circle"
         },
         "mode": "markers",
         "name": "South America",
         "showlegend": true,
         "type": "scatter",
         "x": [
          50,
          22,
          22,
          15,
          15,
          16,
          13,
          16,
          31,
          28
         ],
         "xaxis": "x",
         "y": [
          0.04461346350323533,
          0.06614193500928701,
          0.010266443453881684,
          0.03619722468260998,
          0.0831308014406606,
          0.08,
          0.013268998793727383,
          0.029291436727883157,
          0.09090909090909091,
          0.02710027100271003
         ],
         "yaxis": "y"
        },
        {
         "hovertemplate": "<b>%{hovertext}</b><br><br>continent=Australia<br>Hospital beds (per 10 000 population)=%{x}<br>deathrate=%{y}<extra></extra>",
         "hovertext": [
          "Australia",
          "Fiji",
          "New Zealand"
         ],
         "legendgroup": "Australia",
         "marker": {
          "color": "#19d3f3",
          "symbol": "circle"
         },
         "mode": "markers",
         "name": "Australia",
         "showlegend": true,
         "type": "scatter",
         "x": [
          38,
          23,
          28
         ],
         "xaxis": "x",
         "y": [
          0.01414027149321267,
          0,
          0.013972055888223553
         ],
         "yaxis": "y"
        }
       ],
       "layout": {
        "legend": {
         "title": {
          "text": "continent"
         },
         "tracegroupgap": 0
        },
        "template": {
         "data": {
          "bar": [
           {
            "error_x": {
             "color": "#2a3f5f"
            },
            "error_y": {
             "color": "#2a3f5f"
            },
            "marker": {
             "line": {
              "color": "#E5ECF6",
              "width": 0.5
             }
            },
            "type": "bar"
           }
          ],
          "barpolar": [
           {
            "marker": {
             "line": {
              "color": "#E5ECF6",
              "width": 0.5
             }
            },
            "type": "barpolar"
           }
          ],
          "carpet": [
           {
            "aaxis": {
             "endlinecolor": "#2a3f5f",
             "gridcolor": "white",
             "linecolor": "white",
             "minorgridcolor": "white",
             "startlinecolor": "#2a3f5f"
            },
            "baxis": {
             "endlinecolor": "#2a3f5f",
             "gridcolor": "white",
             "linecolor": "white",
             "minorgridcolor": "white",
             "startlinecolor": "#2a3f5f"
            },
            "type": "carpet"
           }
          ],
          "choropleth": [
           {
            "colorbar": {
             "outlinewidth": 0,
             "ticks": ""
            },
            "type": "choropleth"
           }
          ],
          "contour": [
           {
            "colorbar": {
             "outlinewidth": 0,
             "ticks": ""
            },
            "colorscale": [
             [
              0,
              "#0d0887"
             ],
             [
              0.1111111111111111,
              "#46039f"
             ],
             [
              0.2222222222222222,
              "#7201a8"
             ],
             [
              0.3333333333333333,
              "#9c179e"
             ],
             [
              0.4444444444444444,
              "#bd3786"
             ],
             [
              0.5555555555555556,
              "#d8576b"
             ],
             [
              0.6666666666666666,
              "#ed7953"
             ],
             [
              0.7777777777777778,
              "#fb9f3a"
             ],
             [
              0.8888888888888888,
              "#fdca26"
             ],
             [
              1,
              "#f0f921"
             ]
            ],
            "type": "contour"
           }
          ],
          "contourcarpet": [
           {
            "colorbar": {
             "outlinewidth": 0,
             "ticks": ""
            },
            "type": "contourcarpet"
           }
          ],
          "heatmap": [
           {
            "colorbar": {
             "outlinewidth": 0,
             "ticks": ""
            },
            "colorscale": [
             [
              0,
              "#0d0887"
             ],
             [
              0.1111111111111111,
              "#46039f"
             ],
             [
              0.2222222222222222,
              "#7201a8"
             ],
             [
              0.3333333333333333,
              "#9c179e"
             ],
             [
              0.4444444444444444,
              "#bd3786"
             ],
             [
              0.5555555555555556,
              "#d8576b"
             ],
             [
              0.6666666666666666,
              "#ed7953"
             ],
             [
              0.7777777777777778,
              "#fb9f3a"
             ],
             [
              0.8888888888888888,
              "#fdca26"
             ],
             [
              1,
              "#f0f921"
             ]
            ],
            "type": "heatmap"
           }
          ],
          "heatmapgl": [
           {
            "colorbar": {
             "outlinewidth": 0,
             "ticks": ""
            },
            "colorscale": [
             [
              0,
              "#0d0887"
             ],
             [
              0.1111111111111111,
              "#46039f"
             ],
             [
              0.2222222222222222,
              "#7201a8"
             ],
             [
              0.3333333333333333,
              "#9c179e"
             ],
             [
              0.4444444444444444,
              "#bd3786"
             ],
             [
              0.5555555555555556,
              "#d8576b"
             ],
             [
              0.6666666666666666,
              "#ed7953"
             ],
             [
              0.7777777777777778,
              "#fb9f3a"
             ],
             [
              0.8888888888888888,
              "#fdca26"
             ],
             [
              1,
              "#f0f921"
             ]
            ],
            "type": "heatmapgl"
           }
          ],
          "histogram": [
           {
            "marker": {
             "colorbar": {
              "outlinewidth": 0,
              "ticks": ""
             }
            },
            "type": "histogram"
           }
          ],
          "histogram2d": [
           {
            "colorbar": {
             "outlinewidth": 0,
             "ticks": ""
            },
            "colorscale": [
             [
              0,
              "#0d0887"
             ],
             [
              0.1111111111111111,
              "#46039f"
             ],
             [
              0.2222222222222222,
              "#7201a8"
             ],
             [
              0.3333333333333333,
              "#9c179e"
             ],
             [
              0.4444444444444444,
              "#bd3786"
             ],
             [
              0.5555555555555556,
              "#d8576b"
             ],
             [
              0.6666666666666666,
              "#ed7953"
             ],
             [
              0.7777777777777778,
              "#fb9f3a"
             ],
             [
              0.8888888888888888,
              "#fdca26"
             ],
             [
              1,
              "#f0f921"
             ]
            ],
            "type": "histogram2d"
           }
          ],
          "histogram2dcontour": [
           {
            "colorbar": {
             "outlinewidth": 0,
             "ticks": ""
            },
            "colorscale": [
             [
              0,
              "#0d0887"
             ],
             [
              0.1111111111111111,
              "#46039f"
             ],
             [
              0.2222222222222222,
              "#7201a8"
             ],
             [
              0.3333333333333333,
              "#9c179e"
             ],
             [
              0.4444444444444444,
              "#bd3786"
             ],
             [
              0.5555555555555556,
              "#d8576b"
             ],
             [
              0.6666666666666666,
              "#ed7953"
             ],
             [
              0.7777777777777778,
              "#fb9f3a"
             ],
             [
              0.8888888888888888,
              "#fdca26"
             ],
             [
              1,
              "#f0f921"
             ]
            ],
            "type": "histogram2dcontour"
           }
          ],
          "mesh3d": [
           {
            "colorbar": {
             "outlinewidth": 0,
             "ticks": ""
            },
            "type": "mesh3d"
           }
          ],
          "parcoords": [
           {
            "line": {
             "colorbar": {
              "outlinewidth": 0,
              "ticks": ""
             }
            },
            "type": "parcoords"
           }
          ],
          "pie": [
           {
            "automargin": true,
            "type": "pie"
           }
          ],
          "scatter": [
           {
            "marker": {
             "colorbar": {
              "outlinewidth": 0,
              "ticks": ""
             }
            },
            "type": "scatter"
           }
          ],
          "scatter3d": [
           {
            "line": {
             "colorbar": {
              "outlinewidth": 0,
              "ticks": ""
             }
            },
            "marker": {
             "colorbar": {
              "outlinewidth": 0,
              "ticks": ""
             }
            },
            "type": "scatter3d"
           }
          ],
          "scattercarpet": [
           {
            "marker": {
             "colorbar": {
              "outlinewidth": 0,
              "ticks": ""
             }
            },
            "type": "scattercarpet"
           }
          ],
          "scattergeo": [
           {
            "marker": {
             "colorbar": {
              "outlinewidth": 0,
              "ticks": ""
             }
            },
            "type": "scattergeo"
           }
          ],
          "scattergl": [
           {
            "marker": {
             "colorbar": {
              "outlinewidth": 0,
              "ticks": ""
             }
            },
            "type": "scattergl"
           }
          ],
          "scattermapbox": [
           {
            "marker": {
             "colorbar": {
              "outlinewidth": 0,
              "ticks": ""
             }
            },
            "type": "scattermapbox"
           }
          ],
          "scatterpolar": [
           {
            "marker": {
             "colorbar": {
              "outlinewidth": 0,
              "ticks": ""
             }
            },
            "type": "scatterpolar"
           }
          ],
          "scatterpolargl": [
           {
            "marker": {
             "colorbar": {
              "outlinewidth": 0,
              "ticks": ""
             }
            },
            "type": "scatterpolargl"
           }
          ],
          "scatterternary": [
           {
            "marker": {
             "colorbar": {
              "outlinewidth": 0,
              "ticks": ""
             }
            },
            "type": "scatterternary"
           }
          ],
          "surface": [
           {
            "colorbar": {
             "outlinewidth": 0,
             "ticks": ""
            },
            "colorscale": [
             [
              0,
              "#0d0887"
             ],
             [
              0.1111111111111111,
              "#46039f"
             ],
             [
              0.2222222222222222,
              "#7201a8"
             ],
             [
              0.3333333333333333,
              "#9c179e"
             ],
             [
              0.4444444444444444,
              "#bd3786"
             ],
             [
              0.5555555555555556,
              "#d8576b"
             ],
             [
              0.6666666666666666,
              "#ed7953"
             ],
             [
              0.7777777777777778,
              "#fb9f3a"
             ],
             [
              0.8888888888888888,
              "#fdca26"
             ],
             [
              1,
              "#f0f921"
             ]
            ],
            "type": "surface"
           }
          ],
          "table": [
           {
            "cells": {
             "fill": {
              "color": "#EBF0F8"
             },
             "line": {
              "color": "white"
             }
            },
            "header": {
             "fill": {
              "color": "#C8D4E3"
             },
             "line": {
              "color": "white"
             }
            },
            "type": "table"
           }
          ]
         },
         "layout": {
          "annotationdefaults": {
           "arrowcolor": "#2a3f5f",
           "arrowhead": 0,
           "arrowwidth": 1
          },
          "coloraxis": {
           "colorbar": {
            "outlinewidth": 0,
            "ticks": ""
           }
          },
          "colorscale": {
           "diverging": [
            [
             0,
             "#8e0152"
            ],
            [
             0.1,
             "#c51b7d"
            ],
            [
             0.2,
             "#de77ae"
            ],
            [
             0.3,
             "#f1b6da"
            ],
            [
             0.4,
             "#fde0ef"
            ],
            [
             0.5,
             "#f7f7f7"
            ],
            [
             0.6,
             "#e6f5d0"
            ],
            [
             0.7,
             "#b8e186"
            ],
            [
             0.8,
             "#7fbc41"
            ],
            [
             0.9,
             "#4d9221"
            ],
            [
             1,
             "#276419"
            ]
           ],
           "sequential": [
            [
             0,
             "#0d0887"
            ],
            [
             0.1111111111111111,
             "#46039f"
            ],
            [
             0.2222222222222222,
             "#7201a8"
            ],
            [
             0.3333333333333333,
             "#9c179e"
            ],
            [
             0.4444444444444444,
             "#bd3786"
            ],
            [
             0.5555555555555556,
             "#d8576b"
            ],
            [
             0.6666666666666666,
             "#ed7953"
            ],
            [
             0.7777777777777778,
             "#fb9f3a"
            ],
            [
             0.8888888888888888,
             "#fdca26"
            ],
            [
             1,
             "#f0f921"
            ]
           ],
           "sequentialminus": [
            [
             0,
             "#0d0887"
            ],
            [
             0.1111111111111111,
             "#46039f"
            ],
            [
             0.2222222222222222,
             "#7201a8"
            ],
            [
             0.3333333333333333,
             "#9c179e"
            ],
            [
             0.4444444444444444,
             "#bd3786"
            ],
            [
             0.5555555555555556,
             "#d8576b"
            ],
            [
             0.6666666666666666,
             "#ed7953"
            ],
            [
             0.7777777777777778,
             "#fb9f3a"
            ],
            [
             0.8888888888888888,
             "#fdca26"
            ],
            [
             1,
             "#f0f921"
            ]
           ]
          },
          "colorway": [
           "#636efa",
           "#EF553B",
           "#00cc96",
           "#ab63fa",
           "#FFA15A",
           "#19d3f3",
           "#FF6692",
           "#B6E880",
           "#FF97FF",
           "#FECB52"
          ],
          "font": {
           "color": "#2a3f5f"
          },
          "geo": {
           "bgcolor": "white",
           "lakecolor": "white",
           "landcolor": "#E5ECF6",
           "showlakes": true,
           "showland": true,
           "subunitcolor": "white"
          },
          "hoverlabel": {
           "align": "left"
          },
          "hovermode": "closest",
          "mapbox": {
           "style": "light"
          },
          "paper_bgcolor": "white",
          "plot_bgcolor": "#E5ECF6",
          "polar": {
           "angularaxis": {
            "gridcolor": "white",
            "linecolor": "white",
            "ticks": ""
           },
           "bgcolor": "#E5ECF6",
           "radialaxis": {
            "gridcolor": "white",
            "linecolor": "white",
            "ticks": ""
           }
          },
          "scene": {
           "xaxis": {
            "backgroundcolor": "#E5ECF6",
            "gridcolor": "white",
            "gridwidth": 2,
            "linecolor": "white",
            "showbackground": true,
            "ticks": "",
            "zerolinecolor": "white"
           },
           "yaxis": {
            "backgroundcolor": "#E5ECF6",
            "gridcolor": "white",
            "gridwidth": 2,
            "linecolor": "white",
            "showbackground": true,
            "ticks": "",
            "zerolinecolor": "white"
           },
           "zaxis": {
            "backgroundcolor": "#E5ECF6",
            "gridcolor": "white",
            "gridwidth": 2,
            "linecolor": "white",
            "showbackground": true,
            "ticks": "",
            "zerolinecolor": "white"
           }
          },
          "shapedefaults": {
           "line": {
            "color": "#2a3f5f"
           }
          },
          "ternary": {
           "aaxis": {
            "gridcolor": "white",
            "linecolor": "white",
            "ticks": ""
           },
           "baxis": {
            "gridcolor": "white",
            "linecolor": "white",
            "ticks": ""
           },
           "bgcolor": "#E5ECF6",
           "caxis": {
            "gridcolor": "white",
            "linecolor": "white",
            "ticks": ""
           }
          },
          "title": {
           "x": 0.05
          },
          "xaxis": {
           "automargin": true,
           "gridcolor": "white",
           "linecolor": "white",
           "ticks": "",
           "title": {
            "standoff": 15
           },
           "zerolinecolor": "white",
           "zerolinewidth": 2
          },
          "yaxis": {
           "automargin": true,
           "gridcolor": "white",
           "linecolor": "white",
           "ticks": "",
           "title": {
            "standoff": 15
           },
           "zerolinecolor": "white",
           "zerolinewidth": 2
          }
         }
        },
        "title": {
         "text": "Hospitalbeds vs. death rate"
        },
        "xaxis": {
         "anchor": "y",
         "domain": [
          0,
          1
         ],
         "title": {
          "text": "Hospital beds (per 10 000 population)"
         }
        },
        "yaxis": {
         "anchor": "x",
         "domain": [
          0,
          1
         ],
         "title": {
          "text": "death rate"
         }
        }
       }
      },
      "text/html": [
       "<div>\n",
       "        \n",
       "        \n",
       "            <div id=\"54588f5b-822c-4c0e-a2d6-726399ca3390\" class=\"plotly-graph-div\" style=\"height:525px; width:100%;\"></div>\n",
       "            <script type=\"text/javascript\">\n",
       "                require([\"plotly\"], function(Plotly) {\n",
       "                    window.PLOTLYENV=window.PLOTLYENV || {};\n",
       "                    \n",
       "                if (document.getElementById(\"54588f5b-822c-4c0e-a2d6-726399ca3390\")) {\n",
       "                    Plotly.newPlot(\n",
       "                        '54588f5b-822c-4c0e-a2d6-726399ca3390',\n",
       "                        [{\"hovertemplate\": \"<b>%{hovertext}</b><br><br>continent=Asia<br>Hospital beds (per 10 000 population)=%{x}<br>deathrate=%{y}<extra></extra>\", \"hovertext\": [\"Afghanistan\", \"Armenia\", \"Azerbaijan\", \"Bahrain\", \"Bangladesh\", \"Bhutan\", \"Cambodia\", \"China\", \"Cyprus\", \"Georgia\", \"India\", \"Indonesia\", \"Iraq\", \"Israel\", \"Japan\", \"Jordan\", \"Kazakhstan\", \"Kuwait\", \"Kyrgyzstan\", \"Lebanon\", \"Malaysia\", \"Maldives\", \"Mongolia\", \"Nepal\", \"Oman\", \"Pakistan\", \"Philippines\", \"Qatar\", \"Saudi Arabia\", \"Singapore\", \"Sri Lanka\", \"Tajikistan\", \"Thailand\", \"Timor-Leste\", \"Turkey\", \"United Arab Emirates\", \"Uzbekistan\", \"Yemen\"], \"legendgroup\": \"Asia\", \"marker\": {\"color\": \"#636efa\", \"symbol\": \"circle\"}, \"mode\": \"markers\", \"name\": \"Asia\", \"showlegend\": true, \"type\": \"scatter\", \"x\": [5.0, 42.0, 47.0, 20.0, 8.0, 17.0, 8.0, 42.0, 34.0, 26.0, 7.0, 12.0, 14.0, 31.0, 134.0, 14.0, 67.0, 20.0, 45.0, 29.0, 19.0, 43.0, 70.0, 3.0, 16.0, 6.0, 5.0, 12.0, 27.0, 24.0, 35.0, 48.0, 21.0, 59.0, 27.0, 12.0, 40.0, 7.0], \"xaxis\": \"x\", \"y\": [0.023258852737488567, 0.012695893671890498, 0.011654349061967027, 0.0015932023366967605, 0.014728713028939931, 0.0, 0.0, 0.05517290603475965, 0.018518518518518517, 0.016973125884016973, 0.031011974641934725, 0.06601427335640138, 0.0362780393242869, 0.016687676331112313, 0.046923687908596565, 0.01386748844375963, 0.005184417123389127, 0.007217847769028871, 0.011263073209975865, 0.027253668763102725, 0.01633705932932072, 0.003499562554680665, 0.0, 0.004975124378109453, 0.004761065067889261, 0.02135741254605832, 0.06467315716272601, 0.00042127731281244734, 0.005496708657733819, 0.0007640480655692158, 0.008763388510223954, 0.021177685950413222, 0.018463567424991757, 0.0, 0.027695148896876957, 0.009057175916689942, 0.004553415061295972, 0.16766467065868262], \"yaxis\": \"y\"}, {\"hovertemplate\": \"<b>%{hovertext}</b><br><br>continent=Europe<br>Hospital beds (per 10 000 population)=%{x}<br>deathrate=%{y}<extra></extra>\", \"hovertext\": [\"Albania\", \"Austria\", \"Belarus\", \"Belgium\", \"Bosnia and Herzegovina\", \"Bulgaria\", \"Croatia\", \"Czechia\", \"Denmark\", \"Estonia\", \"Finland\", \"France\", \"Germany\", \"Greece\", \"Hungary\", \"Iceland\", \"Ireland\", \"Italy\", \"Latvia\", \"Lithuania\", \"Luxembourg\", \"Malta\", \"Montenegro\", \"Netherlands\", \"Norway\", \"Poland\", \"Portugal\", \"Romania\", \"Serbia\", \"Slovakia\", \"Slovenia\", \"Spain\", \"Sweden\", \"Switzerland\", \"Ukraine\"], \"legendgroup\": \"Europe\", \"marker\": {\"color\": \"#EF553B\", \"symbol\": \"circle\"}, \"mode\": \"markers\", \"name\": \"Europe\", \"showlegend\": true, \"type\": \"scatter\", \"x\": [29.0, 76.0, 110.0, 62.0, 35.0, 68.0, 56.0, 65.0, 25.0, 50.0, 44.0, 65.0, 83.0, 43.0, 70.0, 32.0, 28.0, 34.0, 58.0, 73.0, 48.0, 47.0, 40.0, 47.0, 39.0, 65.0, 34.0, 63.0, 57.0, 58.0, 46.0, 30.0, 26.0, 47.0, 88.0], \"xaxis\": \"x\", \"y\": [0.032665964172813484, 0.038723117456038236, 0.005554144979052939, 0.16325213744152284, 0.05773373545885394, 0.04957945993802568, 0.043010752688172046, 0.03492540765583439, 0.04901263120441202, 0.03573422668900056, 0.047038599781215815, 0.15489158970447625, 0.04545556818053977, 0.058098591549295774, 0.1313273340832396, 0.005549389567147614, 0.0643684796503237, 0.14190181694670026, 0.020750988142292492, 0.03841229193341869, 0.027539161192521474, 0.01054481546572935, 0.027777777777777776, 0.12900177731782492, 0.028184347405346557, 0.04920074735312435, 0.04236885023104105, 0.0661392589145483, 0.02180191931426442, 0.018729096989966554, 0.070892978868439, 0.11971366635493477, 0.121529919802591, 0.06176105558821608, 0.02903157448611994], \"yaxis\": \"y\"}, {\"hovertemplate\": \"<b>%{hovertext}</b><br><br>continent=Africa<br>Hospital beds (per 10 000 population)=%{x}<br>deathrate=%{y}<extra></extra>\", \"hovertext\": [\"Algeria\", \"Angola\", \"Benin\", \"Botswana\", \"Burkina Faso\", \"Burundi\", \"Cabo Verde\", \"Cameroon\", \"Central African Republic\", \"Chad\", \"Comoros\", \"Djibouti\", \"Egypt\", \"Equatorial Guinea\", \"Eritrea\", \"Eswatini\", \"Ethiopia\", \"Gabon\", \"Gambia\", \"Ghana\", \"Guinea\", \"Guinea-Bissau\", \"Kenya\", \"Lesotho\", \"Liberia\", \"Libya\", \"Madagascar\", \"Malawi\", \"Mali\", \"Mauritania\", \"Mauritius\", \"Morocco\", \"Mozambique\", \"Namibia\", \"Niger\", \"Nigeria\", \"Rwanda\", \"Sao Tome and Principe\", \"Senegal\", \"Seychelles\", \"Sierra Leone\", \"Somalia\", \"South Africa\", \"Sudan\", \"Togo\", \"Tunisia\", \"Uganda\", \"Zambia\", \"Zimbabwe\"], \"legendgroup\": \"Africa\", \"marker\": {\"color\": \"#00cc96\", \"symbol\": \"circle\"}, \"mode\": \"markers\", \"name\": \"Africa\", \"showlegend\": true, \"type\": \"scatter\", \"x\": [19.0, 8.0, 5.0, 18.0, 4.0, 8.0, 21.0, 13.0, 10.0, 4.0, 22.0, 14.0, 16.0, 21.0, 7.0, 21.0, 3.0, 13.0, 11.0, 9.0, 3.0, 10.0, 14.0, 13.0, 8.0, 37.0, 2.0, 13.0, 1.0, 4.0, 34.0, 11.0, 7.0, 27.0, 3.0, 5.0, 16.0, 29.0, 3.0, 36.0, 4.0, 9.0, 28.0, 8.0, 7.0, 23.0, 5.0, 20.0, 17.0], \"xaxis\": \"x\", \"y\": [0.07604717364782432, 0.057692307692307696, 0.015384615384615385, 0.04, 0.06407035175879397, 0.023809523809523808, 0.008955223880597015, 0.03967129498441485, 0.0, 0.10275229357798166, 0.09090909090909091, 0.004326328800988875, 0.04887273805992287, 0.008484848484848486, 0.0, 0.009615384615384616, 0.0136986301369863, 0.007989347536617843, 0.041666666666666664, 0.005085301837270341, 0.0062871114215857496, 0.005780346820809248, 0.05192107995846314, 0.0, 0.09871244635193133, 0.04411764705882353, 0.006134969325153374, 0.04285714285714286, 0.058823529411764705, 0.030534351145038167, 0.030120481927710843, 0.027481133418766908, 0.0, 0.0, 0.060175054704595186, 0.029995313232307454, 0.0, 0.03187250996015936, 0.01146350783339702, 0.0, 0.06179775280898876, 0.039280958721704395, 0.01813953488372093, 0.0406891495601173, 0.03550295857988166, 0.045019157088122604, 0.0, 0.009067357512953367, 0.08695652173913043], \"yaxis\": \"y\"}, {\"hovertemplate\": \"<b>%{hovertext}</b><br><br>continent=North America<br>Hospital beds (per 10 000 population)=%{x}<br>deathrate=%{y}<extra></extra>\", \"hovertext\": [\"Antigua and Barbuda\", \"Bahamas\", \"Barbados\", \"Belize\", \"Canada\", \"Costa Rica\", \"Cuba\", \"Dominican Republic\", \"El Salvador\", \"Grenada\", \"Guatemala\", \"Haiti\", \"Honduras\", \"Jamaica\", \"Mexico\", \"Nicaragua\", \"Panama\", \"Saint Lucia\", \"Saint Vincent and the Grenadines\", \"Trinidad and Tobago\"], \"legendgroup\": \"North America\", \"marker\": {\"color\": \"#ab63fa\", \"symbol\": \"circle\"}, \"mode\": \"markers\", \"name\": \"North America\", \"showlegend\": true, \"type\": \"scatter\", \"x\": [38.0, 29.0, 58.0, 13.0, 27.0, 12.0, 52.0, 16.0, 13.0, 37.0, 6.0, 7.0, 7.0, 17.0, 15.0, 9.0, 23.0, 13.0, 26.0, 30.0], \"xaxis\": \"x\", \"y\": [0.12, 0.11458333333333333, 0.07777777777777778, 0.1111111111111111, 0.07488849962108507, 0.011337868480725623, 0.041865394806571275, 0.03335097935415564, 0.020026702269692925, 0.0, 0.02015939990623535, 0.039399624765478425, 0.049746192893401014, 0.01730769230769231, 0.104257903065543, 0.06692913385826772, 0.028478767609202392, 0.0, 0.0, 0.06896551724137931], \"yaxis\": \"y\"}, {\"hovertemplate\": \"<b>%{hovertext}</b><br><br>continent=South America<br>Hospital beds (per 10 000 population)=%{x}<br>deathrate=%{y}<extra></extra>\", \"hovertext\": [\"Argentina\", \"Brazil\", \"Chile\", \"Colombia\", \"Ecuador\", \"Guyana\", \"Paraguay\", \"Peru\", \"Suriname\", \"Uruguay\"], \"legendgroup\": \"South America\", \"marker\": {\"color\": \"#FFA15A\", \"symbol\": \"circle\"}, \"mode\": \"markers\", \"name\": \"South America\", \"showlegend\": true, \"type\": \"scatter\", \"x\": [50.0, 22.0, 22.0, 15.0, 15.0, 16.0, 13.0, 16.0, 31.0, 28.0], \"xaxis\": \"x\", \"y\": [0.04461346350323533, 0.06614193500928701, 0.010266443453881684, 0.03619722468260998, 0.0831308014406606, 0.08, 0.013268998793727383, 0.029291436727883157, 0.09090909090909091, 0.02710027100271003], \"yaxis\": \"y\"}, {\"hovertemplate\": \"<b>%{hovertext}</b><br><br>continent=Australia<br>Hospital beds (per 10 000 population)=%{x}<br>deathrate=%{y}<extra></extra>\", \"hovertext\": [\"Australia\", \"Fiji\", \"New Zealand\"], \"legendgroup\": \"Australia\", \"marker\": {\"color\": \"#19d3f3\", \"symbol\": \"circle\"}, \"mode\": \"markers\", \"name\": \"Australia\", \"showlegend\": true, \"type\": \"scatter\", \"x\": [38.0, 23.0, 28.0], \"xaxis\": \"x\", \"y\": [0.01414027149321267, 0.0, 0.013972055888223553], \"yaxis\": \"y\"}],\n",
       "                        {\"legend\": {\"title\": {\"text\": \"continent\"}, \"tracegroupgap\": 0}, \"template\": {\"data\": {\"bar\": [{\"error_x\": {\"color\": \"#2a3f5f\"}, \"error_y\": {\"color\": \"#2a3f5f\"}, \"marker\": {\"line\": {\"color\": \"#E5ECF6\", \"width\": 0.5}}, \"type\": \"bar\"}], \"barpolar\": [{\"marker\": {\"line\": {\"color\": \"#E5ECF6\", \"width\": 0.5}}, \"type\": \"barpolar\"}], \"carpet\": [{\"aaxis\": {\"endlinecolor\": \"#2a3f5f\", \"gridcolor\": \"white\", \"linecolor\": \"white\", \"minorgridcolor\": \"white\", \"startlinecolor\": \"#2a3f5f\"}, \"baxis\": {\"endlinecolor\": \"#2a3f5f\", \"gridcolor\": \"white\", \"linecolor\": \"white\", \"minorgridcolor\": \"white\", \"startlinecolor\": \"#2a3f5f\"}, \"type\": \"carpet\"}], \"choropleth\": [{\"colorbar\": {\"outlinewidth\": 0, \"ticks\": \"\"}, \"type\": \"choropleth\"}], \"contour\": [{\"colorbar\": {\"outlinewidth\": 0, \"ticks\": \"\"}, \"colorscale\": [[0.0, \"#0d0887\"], [0.1111111111111111, \"#46039f\"], [0.2222222222222222, \"#7201a8\"], [0.3333333333333333, \"#9c179e\"], [0.4444444444444444, \"#bd3786\"], [0.5555555555555556, \"#d8576b\"], [0.6666666666666666, \"#ed7953\"], [0.7777777777777778, \"#fb9f3a\"], [0.8888888888888888, \"#fdca26\"], [1.0, \"#f0f921\"]], \"type\": \"contour\"}], \"contourcarpet\": [{\"colorbar\": {\"outlinewidth\": 0, \"ticks\": \"\"}, \"type\": \"contourcarpet\"}], \"heatmap\": [{\"colorbar\": {\"outlinewidth\": 0, \"ticks\": \"\"}, \"colorscale\": [[0.0, \"#0d0887\"], [0.1111111111111111, \"#46039f\"], [0.2222222222222222, \"#7201a8\"], [0.3333333333333333, \"#9c179e\"], [0.4444444444444444, \"#bd3786\"], [0.5555555555555556, \"#d8576b\"], [0.6666666666666666, \"#ed7953\"], [0.7777777777777778, \"#fb9f3a\"], [0.8888888888888888, \"#fdca26\"], [1.0, \"#f0f921\"]], \"type\": \"heatmap\"}], \"heatmapgl\": [{\"colorbar\": {\"outlinewidth\": 0, \"ticks\": \"\"}, \"colorscale\": [[0.0, \"#0d0887\"], [0.1111111111111111, \"#46039f\"], [0.2222222222222222, \"#7201a8\"], [0.3333333333333333, \"#9c179e\"], [0.4444444444444444, \"#bd3786\"], [0.5555555555555556, \"#d8576b\"], [0.6666666666666666, \"#ed7953\"], [0.7777777777777778, \"#fb9f3a\"], [0.8888888888888888, \"#fdca26\"], [1.0, \"#f0f921\"]], \"type\": \"heatmapgl\"}], \"histogram\": [{\"marker\": {\"colorbar\": {\"outlinewidth\": 0, \"ticks\": \"\"}}, \"type\": \"histogram\"}], \"histogram2d\": [{\"colorbar\": {\"outlinewidth\": 0, \"ticks\": \"\"}, \"colorscale\": [[0.0, \"#0d0887\"], [0.1111111111111111, \"#46039f\"], [0.2222222222222222, \"#7201a8\"], [0.3333333333333333, \"#9c179e\"], [0.4444444444444444, \"#bd3786\"], [0.5555555555555556, \"#d8576b\"], [0.6666666666666666, \"#ed7953\"], [0.7777777777777778, \"#fb9f3a\"], [0.8888888888888888, \"#fdca26\"], [1.0, \"#f0f921\"]], \"type\": \"histogram2d\"}], \"histogram2dcontour\": [{\"colorbar\": {\"outlinewidth\": 0, \"ticks\": \"\"}, \"colorscale\": [[0.0, \"#0d0887\"], [0.1111111111111111, \"#46039f\"], [0.2222222222222222, \"#7201a8\"], [0.3333333333333333, \"#9c179e\"], [0.4444444444444444, \"#bd3786\"], [0.5555555555555556, \"#d8576b\"], [0.6666666666666666, \"#ed7953\"], [0.7777777777777778, \"#fb9f3a\"], [0.8888888888888888, \"#fdca26\"], [1.0, \"#f0f921\"]], \"type\": \"histogram2dcontour\"}], \"mesh3d\": [{\"colorbar\": {\"outlinewidth\": 0, \"ticks\": \"\"}, \"type\": \"mesh3d\"}], \"parcoords\": [{\"line\": {\"colorbar\": {\"outlinewidth\": 0, \"ticks\": \"\"}}, \"type\": \"parcoords\"}], \"pie\": [{\"automargin\": true, \"type\": \"pie\"}], \"scatter\": [{\"marker\": {\"colorbar\": {\"outlinewidth\": 0, \"ticks\": \"\"}}, \"type\": \"scatter\"}], \"scatter3d\": [{\"line\": {\"colorbar\": {\"outlinewidth\": 0, \"ticks\": \"\"}}, \"marker\": {\"colorbar\": {\"outlinewidth\": 0, \"ticks\": \"\"}}, \"type\": \"scatter3d\"}], \"scattercarpet\": [{\"marker\": {\"colorbar\": {\"outlinewidth\": 0, \"ticks\": \"\"}}, \"type\": \"scattercarpet\"}], \"scattergeo\": [{\"marker\": {\"colorbar\": {\"outlinewidth\": 0, \"ticks\": \"\"}}, \"type\": \"scattergeo\"}], \"scattergl\": [{\"marker\": {\"colorbar\": {\"outlinewidth\": 0, \"ticks\": \"\"}}, \"type\": \"scattergl\"}], \"scattermapbox\": [{\"marker\": {\"colorbar\": {\"outlinewidth\": 0, \"ticks\": \"\"}}, \"type\": \"scattermapbox\"}], \"scatterpolar\": [{\"marker\": {\"colorbar\": {\"outlinewidth\": 0, \"ticks\": \"\"}}, \"type\": \"scatterpolar\"}], \"scatterpolargl\": [{\"marker\": {\"colorbar\": {\"outlinewidth\": 0, \"ticks\": \"\"}}, \"type\": \"scatterpolargl\"}], \"scatterternary\": [{\"marker\": {\"colorbar\": {\"outlinewidth\": 0, \"ticks\": \"\"}}, \"type\": \"scatterternary\"}], \"surface\": [{\"colorbar\": {\"outlinewidth\": 0, \"ticks\": \"\"}, \"colorscale\": [[0.0, \"#0d0887\"], [0.1111111111111111, \"#46039f\"], [0.2222222222222222, \"#7201a8\"], [0.3333333333333333, \"#9c179e\"], [0.4444444444444444, \"#bd3786\"], [0.5555555555555556, \"#d8576b\"], [0.6666666666666666, \"#ed7953\"], [0.7777777777777778, \"#fb9f3a\"], [0.8888888888888888, \"#fdca26\"], [1.0, \"#f0f921\"]], \"type\": \"surface\"}], \"table\": [{\"cells\": {\"fill\": {\"color\": \"#EBF0F8\"}, \"line\": {\"color\": \"white\"}}, \"header\": {\"fill\": {\"color\": \"#C8D4E3\"}, \"line\": {\"color\": \"white\"}}, \"type\": \"table\"}]}, \"layout\": {\"annotationdefaults\": {\"arrowcolor\": \"#2a3f5f\", \"arrowhead\": 0, \"arrowwidth\": 1}, \"coloraxis\": {\"colorbar\": {\"outlinewidth\": 0, \"ticks\": \"\"}}, \"colorscale\": {\"diverging\": [[0, \"#8e0152\"], [0.1, \"#c51b7d\"], [0.2, \"#de77ae\"], [0.3, \"#f1b6da\"], [0.4, \"#fde0ef\"], [0.5, \"#f7f7f7\"], [0.6, \"#e6f5d0\"], [0.7, \"#b8e186\"], [0.8, \"#7fbc41\"], [0.9, \"#4d9221\"], [1, \"#276419\"]], \"sequential\": [[0.0, \"#0d0887\"], [0.1111111111111111, \"#46039f\"], [0.2222222222222222, \"#7201a8\"], [0.3333333333333333, \"#9c179e\"], [0.4444444444444444, \"#bd3786\"], [0.5555555555555556, \"#d8576b\"], [0.6666666666666666, \"#ed7953\"], [0.7777777777777778, \"#fb9f3a\"], [0.8888888888888888, \"#fdca26\"], [1.0, \"#f0f921\"]], \"sequentialminus\": [[0.0, \"#0d0887\"], [0.1111111111111111, \"#46039f\"], [0.2222222222222222, \"#7201a8\"], [0.3333333333333333, \"#9c179e\"], [0.4444444444444444, \"#bd3786\"], [0.5555555555555556, \"#d8576b\"], [0.6666666666666666, \"#ed7953\"], [0.7777777777777778, \"#fb9f3a\"], [0.8888888888888888, \"#fdca26\"], [1.0, \"#f0f921\"]]}, \"colorway\": [\"#636efa\", \"#EF553B\", \"#00cc96\", \"#ab63fa\", \"#FFA15A\", \"#19d3f3\", \"#FF6692\", \"#B6E880\", \"#FF97FF\", \"#FECB52\"], \"font\": {\"color\": \"#2a3f5f\"}, \"geo\": {\"bgcolor\": \"white\", \"lakecolor\": \"white\", \"landcolor\": \"#E5ECF6\", \"showlakes\": true, \"showland\": true, \"subunitcolor\": \"white\"}, \"hoverlabel\": {\"align\": \"left\"}, \"hovermode\": \"closest\", \"mapbox\": {\"style\": \"light\"}, \"paper_bgcolor\": \"white\", \"plot_bgcolor\": \"#E5ECF6\", \"polar\": {\"angularaxis\": {\"gridcolor\": \"white\", \"linecolor\": \"white\", \"ticks\": \"\"}, \"bgcolor\": \"#E5ECF6\", \"radialaxis\": {\"gridcolor\": \"white\", \"linecolor\": \"white\", \"ticks\": \"\"}}, \"scene\": {\"xaxis\": {\"backgroundcolor\": \"#E5ECF6\", \"gridcolor\": \"white\", \"gridwidth\": 2, \"linecolor\": \"white\", \"showbackground\": true, \"ticks\": \"\", \"zerolinecolor\": \"white\"}, \"yaxis\": {\"backgroundcolor\": \"#E5ECF6\", \"gridcolor\": \"white\", \"gridwidth\": 2, \"linecolor\": \"white\", \"showbackground\": true, \"ticks\": \"\", \"zerolinecolor\": \"white\"}, \"zaxis\": {\"backgroundcolor\": \"#E5ECF6\", \"gridcolor\": \"white\", \"gridwidth\": 2, \"linecolor\": \"white\", \"showbackground\": true, \"ticks\": \"\", \"zerolinecolor\": \"white\"}}, \"shapedefaults\": {\"line\": {\"color\": \"#2a3f5f\"}}, \"ternary\": {\"aaxis\": {\"gridcolor\": \"white\", \"linecolor\": \"white\", \"ticks\": \"\"}, \"baxis\": {\"gridcolor\": \"white\", \"linecolor\": \"white\", \"ticks\": \"\"}, \"bgcolor\": \"#E5ECF6\", \"caxis\": {\"gridcolor\": \"white\", \"linecolor\": \"white\", \"ticks\": \"\"}}, \"title\": {\"x\": 0.05}, \"xaxis\": {\"automargin\": true, \"gridcolor\": \"white\", \"linecolor\": \"white\", \"ticks\": \"\", \"title\": {\"standoff\": 15}, \"zerolinecolor\": \"white\", \"zerolinewidth\": 2}, \"yaxis\": {\"automargin\": true, \"gridcolor\": \"white\", \"linecolor\": \"white\", \"ticks\": \"\", \"title\": {\"standoff\": 15}, \"zerolinecolor\": \"white\", \"zerolinewidth\": 2}}}, \"title\": {\"text\": \"Hospitalbeds vs. death rate\"}, \"xaxis\": {\"anchor\": \"y\", \"domain\": [0.0, 1.0], \"title\": {\"text\": \"Hospital beds (per 10 000 population)\"}}, \"yaxis\": {\"anchor\": \"x\", \"domain\": [0.0, 1.0], \"title\": {\"text\": \"death rate\"}}},\n",
       "                        {\"responsive\": true}\n",
       "                    ).then(function(){\n",
       "                            \n",
       "var gd = document.getElementById('54588f5b-822c-4c0e-a2d6-726399ca3390');\n",
       "var x = new MutationObserver(function (mutations, observer) {{\n",
       "        var display = window.getComputedStyle(gd).display;\n",
       "        if (!display || display === 'none') {{\n",
       "            console.log([gd, 'removed!']);\n",
       "            Plotly.purge(gd);\n",
       "            observer.disconnect();\n",
       "        }}\n",
       "}});\n",
       "\n",
       "// Listen for the removal of the full notebook cells\n",
       "var notebookContainer = gd.closest('#notebook-container');\n",
       "if (notebookContainer) {{\n",
       "    x.observe(notebookContainer, {childList: true});\n",
       "}}\n",
       "\n",
       "// Listen for the clearing of the current output cell\n",
       "var outputEl = gd.closest('.output');\n",
       "if (outputEl) {{\n",
       "    x.observe(outputEl, {childList: true});\n",
       "}}\n",
       "\n",
       "                        })\n",
       "                };\n",
       "                });\n",
       "            </script>\n",
       "        </div>"
      ]
     },
     "metadata": {},
     "output_type": "display_data"
    }
   ],
   "source": [
    "fig = px.scatter(hospitalbeds,\n",
    "    x = 'Hospital beds (per 10 000 population)',\n",
    "    y = 'deathrate',\n",
    "    hover_name=countries,\n",
    "    color='continent',\n",
    "    title='Hospitalbeds vs. death rate')\n",
    "\n",
    "fig.update_layout(\n",
    "    yaxis_title=\"death rate\"\n",
    "    )\n",
    "\n",
    "fig.show()\n"
   ]
  }
 ],
 "metadata": {
  "kernelspec": {
   "display_name": "Python 3",
   "language": "python",
   "name": "python3"
  },
  "language_info": {
   "codemirror_mode": {
    "name": "ipython",
    "version": 3
   },
   "file_extension": ".py",
   "mimetype": "text/x-python",
   "name": "python",
   "nbconvert_exporter": "python",
   "pygments_lexer": "ipython3",
   "version": "3.7.3"
  }
 },
 "nbformat": 4,
 "nbformat_minor": 4
}
