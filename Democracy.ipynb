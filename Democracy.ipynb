{
 "cells": [
  {
   "cell_type": "markdown",
   "metadata": {},
   "source": [
    "## Code book\n",
    "\n",
    "### For Covid-19 data\n",
    "\n",
    "#### Variables and their units\n",
    "\n",
    "- We have the dataframe df_infected which contains the number of people tested positive on covid-19\n",
    "- dates (columns): days of the year 2020 from end of January to today with the respective number of infected/deaths \n",
    "- deaths (entries of df_deaths): # of people died of covid-19\n",
    "- Infected (entries of df_infected): # of people tested positive on covid-19\n",
    "- Countries (index): Names of all Countries that maintain a record of their covid-19 cases\n",
    "- Continents (column): Names of all Continents excluding Antarctica\n",
    "\n",
    "#### Summary choices made\n",
    "\n",
    "- Created seperate df (df_infected) where only the latest date is displayed with additional information of the respective infected once\n",
    "- Created df for continents by introducing a column and groupby function \n",
    "\n",
    "### For democracy data\n",
    "\n",
    "#### Variables and their units\n",
    "\n",
    "- Our Dataframe called democracy containes following columns\n",
    "    - Country : Name of Country (index)\n",
    "    - Score : Number between 1 and 10 which represents the democracy Index made by the econimst\n",
    "    - Regime Type : Differs between Full democracy, Flawed democracy, Hybrid regime, Authoritarian\n",
    "    - Region : geographical area\n",
    "    - death rate : entries na but will be changed\n",
    "    \n",
    "#### Summary choices made\n",
    "\n",
    "\n",
    "- We matched the death rate entries in democracy with the one from Covid-19\n",
    "- Region will be changed to the respective continent of the country\n",
    "\n"
   ]
  },
  {
   "cell_type": "code",
   "execution_count": 46,
   "metadata": {},
   "outputs": [],
   "source": [
    "import pandas as pd\n",
    "import numpy as np\n",
    "import matplotlib.pyplot as plt"
   ]
  },
  {
   "cell_type": "markdown",
   "metadata": {},
   "source": [
    "data from EIU Democracy Index 2019 - World Democracy Report"
   ]
  },
  {
   "cell_type": "code",
   "execution_count": 47,
   "metadata": {},
   "outputs": [
    {
     "data": {
      "text/html": [
       "<div>\n",
       "<style scoped>\n",
       "    .dataframe tbody tr th:only-of-type {\n",
       "        vertical-align: middle;\n",
       "    }\n",
       "\n",
       "    .dataframe tbody tr th {\n",
       "        vertical-align: top;\n",
       "    }\n",
       "\n",
       "    .dataframe thead th {\n",
       "        text-align: right;\n",
       "    }\n",
       "</style>\n",
       "<table border=\"1\" class=\"dataframe\">\n",
       "  <thead>\n",
       "    <tr style=\"text-align: right;\">\n",
       "      <th></th>\n",
       "      <th>Country</th>\n",
       "      <th>Score</th>\n",
       "      <th>Regime Typ</th>\n",
       "      <th>Region</th>\n",
       "      <th>deathrate</th>\n",
       "    </tr>\n",
       "  </thead>\n",
       "  <tbody>\n",
       "    <tr>\n",
       "      <th>0</th>\n",
       "      <td>Norway</td>\n",
       "      <td>9.87</td>\n",
       "      <td>Full democracy</td>\n",
       "      <td>Western Europe</td>\n",
       "      <td>na</td>\n",
       "    </tr>\n",
       "    <tr>\n",
       "      <th>1</th>\n",
       "      <td>Iceland</td>\n",
       "      <td>9.58</td>\n",
       "      <td>Full democracy</td>\n",
       "      <td>Western Europe</td>\n",
       "      <td>na</td>\n",
       "    </tr>\n",
       "    <tr>\n",
       "      <th>2</th>\n",
       "      <td>Sweden</td>\n",
       "      <td>9.39</td>\n",
       "      <td>Full democracy</td>\n",
       "      <td>Western Europe</td>\n",
       "      <td>na</td>\n",
       "    </tr>\n",
       "    <tr>\n",
       "      <th>3</th>\n",
       "      <td>New Zealand</td>\n",
       "      <td>9.26</td>\n",
       "      <td>Full democracy</td>\n",
       "      <td>Asia &amp; Australasia</td>\n",
       "      <td>na</td>\n",
       "    </tr>\n",
       "    <tr>\n",
       "      <th>4</th>\n",
       "      <td>Finland</td>\n",
       "      <td>9.25</td>\n",
       "      <td>Full democracy</td>\n",
       "      <td>Western Europe</td>\n",
       "      <td>na</td>\n",
       "    </tr>\n",
       "    <tr>\n",
       "      <th>5</th>\n",
       "      <td>Ireland</td>\n",
       "      <td>9.24</td>\n",
       "      <td>Full democracy</td>\n",
       "      <td>Western Europe</td>\n",
       "      <td>na</td>\n",
       "    </tr>\n",
       "    <tr>\n",
       "      <th>6</th>\n",
       "      <td>Denmark</td>\n",
       "      <td>9.22</td>\n",
       "      <td>Full democracy</td>\n",
       "      <td>Western Europe</td>\n",
       "      <td>na</td>\n",
       "    </tr>\n",
       "    <tr>\n",
       "      <th>7</th>\n",
       "      <td>Canada</td>\n",
       "      <td>9.22</td>\n",
       "      <td>Full democracy</td>\n",
       "      <td>North America</td>\n",
       "      <td>na</td>\n",
       "    </tr>\n",
       "    <tr>\n",
       "      <th>8</th>\n",
       "      <td>Australia</td>\n",
       "      <td>9.09</td>\n",
       "      <td>Full democracy</td>\n",
       "      <td>Asia &amp; Australasia</td>\n",
       "      <td>na</td>\n",
       "    </tr>\n",
       "    <tr>\n",
       "      <th>9</th>\n",
       "      <td>Switzerland</td>\n",
       "      <td>9.03</td>\n",
       "      <td>Full democracy</td>\n",
       "      <td>Western Europe</td>\n",
       "      <td>na</td>\n",
       "    </tr>\n",
       "    <tr>\n",
       "      <th>10</th>\n",
       "      <td>Netherlands</td>\n",
       "      <td>9.01</td>\n",
       "      <td>Full democracy</td>\n",
       "      <td>Western Europe</td>\n",
       "      <td>na</td>\n",
       "    </tr>\n",
       "    <tr>\n",
       "      <th>11</th>\n",
       "      <td>Luxembourg</td>\n",
       "      <td>8.81</td>\n",
       "      <td>Full democracy</td>\n",
       "      <td>Western Europe</td>\n",
       "      <td>na</td>\n",
       "    </tr>\n",
       "    <tr>\n",
       "      <th>12</th>\n",
       "      <td>Germany</td>\n",
       "      <td>8.68</td>\n",
       "      <td>Full democracy</td>\n",
       "      <td>Western Europe</td>\n",
       "      <td>na</td>\n",
       "    </tr>\n",
       "    <tr>\n",
       "      <th>13</th>\n",
       "      <td>United Kingdom</td>\n",
       "      <td>8.52</td>\n",
       "      <td>Full democracy</td>\n",
       "      <td>Western Europe</td>\n",
       "      <td>na</td>\n",
       "    </tr>\n",
       "    <tr>\n",
       "      <th>14</th>\n",
       "      <td>Uruguay</td>\n",
       "      <td>8.38</td>\n",
       "      <td>Full democracy</td>\n",
       "      <td>Latin America</td>\n",
       "      <td>na</td>\n",
       "    </tr>\n",
       "    <tr>\n",
       "      <th>15</th>\n",
       "      <td>Spain</td>\n",
       "      <td>8.29</td>\n",
       "      <td>Full democracy</td>\n",
       "      <td>Western Europe</td>\n",
       "      <td>na</td>\n",
       "    </tr>\n",
       "    <tr>\n",
       "      <th>16</th>\n",
       "      <td>Austria</td>\n",
       "      <td>8.29</td>\n",
       "      <td>Full democracy</td>\n",
       "      <td>Western Europe</td>\n",
       "      <td>na</td>\n",
       "    </tr>\n",
       "    <tr>\n",
       "      <th>17</th>\n",
       "      <td>Mauritius</td>\n",
       "      <td>8.22</td>\n",
       "      <td>Full democracy</td>\n",
       "      <td>Sub-Saharan Africa</td>\n",
       "      <td>na</td>\n",
       "    </tr>\n",
       "    <tr>\n",
       "      <th>18</th>\n",
       "      <td>Costa Rica</td>\n",
       "      <td>8.13</td>\n",
       "      <td>Full democracy</td>\n",
       "      <td>Latin America</td>\n",
       "      <td>na</td>\n",
       "    </tr>\n",
       "    <tr>\n",
       "      <th>19</th>\n",
       "      <td>France</td>\n",
       "      <td>8.12</td>\n",
       "      <td>Full democracy</td>\n",
       "      <td>Western Europe</td>\n",
       "      <td>na</td>\n",
       "    </tr>\n",
       "    <tr>\n",
       "      <th>20</th>\n",
       "      <td>Chile</td>\n",
       "      <td>8.08</td>\n",
       "      <td>Full democracy</td>\n",
       "      <td>Latin America</td>\n",
       "      <td>na</td>\n",
       "    </tr>\n",
       "    <tr>\n",
       "      <th>21</th>\n",
       "      <td>Portugal</td>\n",
       "      <td>8.03</td>\n",
       "      <td>Full democracy</td>\n",
       "      <td>Western Europe</td>\n",
       "      <td>na</td>\n",
       "    </tr>\n",
       "    <tr>\n",
       "      <th>22</th>\n",
       "      <td>South Korea</td>\n",
       "      <td>8.00</td>\n",
       "      <td>Flawed democracy</td>\n",
       "      <td>Asia &amp; Australasia</td>\n",
       "      <td>na</td>\n",
       "    </tr>\n",
       "    <tr>\n",
       "      <th>23</th>\n",
       "      <td>Japan</td>\n",
       "      <td>7.99</td>\n",
       "      <td>Flawed democracy</td>\n",
       "      <td>Asia &amp; Australasia</td>\n",
       "      <td>na</td>\n",
       "    </tr>\n",
       "    <tr>\n",
       "      <th>24</th>\n",
       "      <td>United States</td>\n",
       "      <td>7.96</td>\n",
       "      <td>Flawed democracy</td>\n",
       "      <td>North America</td>\n",
       "      <td>na</td>\n",
       "    </tr>\n",
       "    <tr>\n",
       "      <th>25</th>\n",
       "      <td>Malta</td>\n",
       "      <td>7.95</td>\n",
       "      <td>Flawed democracy</td>\n",
       "      <td>Western Europe</td>\n",
       "      <td>na</td>\n",
       "    </tr>\n",
       "    <tr>\n",
       "      <th>26</th>\n",
       "      <td>Estonia</td>\n",
       "      <td>7.90</td>\n",
       "      <td>Flawed democracy</td>\n",
       "      <td>Eastern Europe</td>\n",
       "      <td>na</td>\n",
       "    </tr>\n",
       "    <tr>\n",
       "      <th>27</th>\n",
       "      <td>Israel</td>\n",
       "      <td>7.86</td>\n",
       "      <td>Flawed democracy</td>\n",
       "      <td>Middle East &amp; North Africa</td>\n",
       "      <td>na</td>\n",
       "    </tr>\n",
       "    <tr>\n",
       "      <th>28</th>\n",
       "      <td>Botswana</td>\n",
       "      <td>7.81</td>\n",
       "      <td>Flawed democracy</td>\n",
       "      <td>Sub-Saharan Africa</td>\n",
       "      <td>na</td>\n",
       "    </tr>\n",
       "    <tr>\n",
       "      <th>29</th>\n",
       "      <td>Cape Verde</td>\n",
       "      <td>7.78</td>\n",
       "      <td>Flawed democracy</td>\n",
       "      <td>Sub-Saharan Africa</td>\n",
       "      <td>na</td>\n",
       "    </tr>\n",
       "    <tr>\n",
       "      <th>...</th>\n",
       "      <td>...</td>\n",
       "      <td>...</td>\n",
       "      <td>...</td>\n",
       "      <td>...</td>\n",
       "      <td>...</td>\n",
       "    </tr>\n",
       "    <tr>\n",
       "      <th>137</th>\n",
       "      <td>Egypt</td>\n",
       "      <td>3.06</td>\n",
       "      <td>Authoritarian</td>\n",
       "      <td>Middle East &amp; North Africa</td>\n",
       "      <td>na</td>\n",
       "    </tr>\n",
       "    <tr>\n",
       "      <th>138</th>\n",
       "      <td>Kazakhstan</td>\n",
       "      <td>2.94</td>\n",
       "      <td>Authoritarian</td>\n",
       "      <td>Eastern Europe</td>\n",
       "      <td>na</td>\n",
       "    </tr>\n",
       "    <tr>\n",
       "      <th>139</th>\n",
       "      <td>Venezuela</td>\n",
       "      <td>2.88</td>\n",
       "      <td>Authoritarian</td>\n",
       "      <td>Latin America</td>\n",
       "      <td>na</td>\n",
       "    </tr>\n",
       "    <tr>\n",
       "      <th>140</th>\n",
       "      <td>Cameroon</td>\n",
       "      <td>2.85</td>\n",
       "      <td>Authoritarian</td>\n",
       "      <td>Asia &amp; Australasia</td>\n",
       "      <td>na</td>\n",
       "    </tr>\n",
       "    <tr>\n",
       "      <th>141</th>\n",
       "      <td>Afghanistan</td>\n",
       "      <td>2.85</td>\n",
       "      <td>Authoritarian</td>\n",
       "      <td>Sub-Saharan Africa</td>\n",
       "      <td>na</td>\n",
       "    </tr>\n",
       "    <tr>\n",
       "      <th>142</th>\n",
       "      <td>Cuba</td>\n",
       "      <td>2.84</td>\n",
       "      <td>Authoritarian</td>\n",
       "      <td>Latin America</td>\n",
       "      <td>na</td>\n",
       "    </tr>\n",
       "    <tr>\n",
       "      <th>143</th>\n",
       "      <td>Djibouti</td>\n",
       "      <td>2.77</td>\n",
       "      <td>Authoritarian</td>\n",
       "      <td>Sub-Saharan Africa</td>\n",
       "      <td>na</td>\n",
       "    </tr>\n",
       "    <tr>\n",
       "      <th>144</th>\n",
       "      <td>United Arab Emirates</td>\n",
       "      <td>2.76</td>\n",
       "      <td>Authoritarian</td>\n",
       "      <td>Middle East &amp; North Africa</td>\n",
       "      <td>na</td>\n",
       "    </tr>\n",
       "    <tr>\n",
       "      <th>145</th>\n",
       "      <td>Azerbaijan</td>\n",
       "      <td>2.75</td>\n",
       "      <td>Authoritarian</td>\n",
       "      <td>Eastern Europe</td>\n",
       "      <td>na</td>\n",
       "    </tr>\n",
       "    <tr>\n",
       "      <th>146</th>\n",
       "      <td>Sudan</td>\n",
       "      <td>2.70</td>\n",
       "      <td>Authoritarian</td>\n",
       "      <td>Middle East &amp; North Africa</td>\n",
       "      <td>na</td>\n",
       "    </tr>\n",
       "    <tr>\n",
       "      <th>147</th>\n",
       "      <td>Guinea-Bissau</td>\n",
       "      <td>2.63</td>\n",
       "      <td>Authoritarian</td>\n",
       "      <td>Sub-Saharan Africa</td>\n",
       "      <td>na</td>\n",
       "    </tr>\n",
       "    <tr>\n",
       "      <th>148</th>\n",
       "      <td>Bahrain</td>\n",
       "      <td>2.55</td>\n",
       "      <td>Authoritarian</td>\n",
       "      <td>Middle East &amp; North Africa</td>\n",
       "      <td>na</td>\n",
       "    </tr>\n",
       "    <tr>\n",
       "      <th>149</th>\n",
       "      <td>Belarus</td>\n",
       "      <td>2.48</td>\n",
       "      <td>Authoritarian</td>\n",
       "      <td>Eastern Europe</td>\n",
       "      <td>na</td>\n",
       "    </tr>\n",
       "    <tr>\n",
       "      <th>150</th>\n",
       "      <td>Iran</td>\n",
       "      <td>2.38</td>\n",
       "      <td>Authoritarian</td>\n",
       "      <td>Middle East &amp; North Africa</td>\n",
       "      <td>na</td>\n",
       "    </tr>\n",
       "    <tr>\n",
       "      <th>151</th>\n",
       "      <td>Eritrea</td>\n",
       "      <td>2.37</td>\n",
       "      <td>Authoritarian</td>\n",
       "      <td>Sub-Saharan Africa</td>\n",
       "      <td>na</td>\n",
       "    </tr>\n",
       "    <tr>\n",
       "      <th>152</th>\n",
       "      <td>China</td>\n",
       "      <td>2.26</td>\n",
       "      <td>Authoritarian</td>\n",
       "      <td>Asia &amp; Australasia</td>\n",
       "      <td>na</td>\n",
       "    </tr>\n",
       "    <tr>\n",
       "      <th>153</th>\n",
       "      <td>Burundi</td>\n",
       "      <td>2.15</td>\n",
       "      <td>Authoritarian</td>\n",
       "      <td>Sub-Saharan Africa</td>\n",
       "      <td>na</td>\n",
       "    </tr>\n",
       "    <tr>\n",
       "      <th>154</th>\n",
       "      <td>Laos</td>\n",
       "      <td>2.14</td>\n",
       "      <td>Authoritarian</td>\n",
       "      <td>Asia &amp; Australasia</td>\n",
       "      <td>na</td>\n",
       "    </tr>\n",
       "    <tr>\n",
       "      <th>155</th>\n",
       "      <td>Libya</td>\n",
       "      <td>2.02</td>\n",
       "      <td>Authoritarian</td>\n",
       "      <td>Middle East &amp; North Africa</td>\n",
       "      <td>na</td>\n",
       "    </tr>\n",
       "    <tr>\n",
       "      <th>156</th>\n",
       "      <td>Uzbekistan</td>\n",
       "      <td>2.01</td>\n",
       "      <td>Authoritarian</td>\n",
       "      <td>Eastern Europe</td>\n",
       "      <td>na</td>\n",
       "    </tr>\n",
       "    <tr>\n",
       "      <th>157</th>\n",
       "      <td>Yemen</td>\n",
       "      <td>1.95</td>\n",
       "      <td>Authoritarian</td>\n",
       "      <td>Middle East &amp; North Africa</td>\n",
       "      <td>na</td>\n",
       "    </tr>\n",
       "    <tr>\n",
       "      <th>158</th>\n",
       "      <td>Tajikistan</td>\n",
       "      <td>1.93</td>\n",
       "      <td>Authoritarian</td>\n",
       "      <td>Middle East &amp; North Africa</td>\n",
       "      <td>na</td>\n",
       "    </tr>\n",
       "    <tr>\n",
       "      <th>159</th>\n",
       "      <td>Saudi Arabia</td>\n",
       "      <td>1.93</td>\n",
       "      <td>Authoritarian</td>\n",
       "      <td>Eastern Europe</td>\n",
       "      <td>na</td>\n",
       "    </tr>\n",
       "    <tr>\n",
       "      <th>160</th>\n",
       "      <td>Equatorial Guinea</td>\n",
       "      <td>1.92</td>\n",
       "      <td>Authoritarian</td>\n",
       "      <td>Sub-Saharan Africa</td>\n",
       "      <td>na</td>\n",
       "    </tr>\n",
       "    <tr>\n",
       "      <th>161</th>\n",
       "      <td>Turkmenistan</td>\n",
       "      <td>1.72</td>\n",
       "      <td>Authoritarian</td>\n",
       "      <td>Eastern Europe</td>\n",
       "      <td>na</td>\n",
       "    </tr>\n",
       "    <tr>\n",
       "      <th>162</th>\n",
       "      <td>Chad</td>\n",
       "      <td>1.61</td>\n",
       "      <td>Authoritarian</td>\n",
       "      <td>Sub-Saharan Africa</td>\n",
       "      <td>na</td>\n",
       "    </tr>\n",
       "    <tr>\n",
       "      <th>163</th>\n",
       "      <td>Syria</td>\n",
       "      <td>1.43</td>\n",
       "      <td>Authoritarian</td>\n",
       "      <td>Middle East &amp; North Africa</td>\n",
       "      <td>na</td>\n",
       "    </tr>\n",
       "    <tr>\n",
       "      <th>164</th>\n",
       "      <td>Central African Republic</td>\n",
       "      <td>1.32</td>\n",
       "      <td>Authoritarian</td>\n",
       "      <td>Sub-Saharan Africa</td>\n",
       "      <td>na</td>\n",
       "    </tr>\n",
       "    <tr>\n",
       "      <th>165</th>\n",
       "      <td>Democratic Republic of the Congo</td>\n",
       "      <td>1.13</td>\n",
       "      <td>Authoritarian</td>\n",
       "      <td>Sub-Saharan Africa</td>\n",
       "      <td>na</td>\n",
       "    </tr>\n",
       "    <tr>\n",
       "      <th>166</th>\n",
       "      <td>North Korea</td>\n",
       "      <td>1.08</td>\n",
       "      <td>Authoritarian</td>\n",
       "      <td>Asia &amp; Australasia</td>\n",
       "      <td>na</td>\n",
       "    </tr>\n",
       "  </tbody>\n",
       "</table>\n",
       "<p>167 rows × 5 columns</p>\n",
       "</div>"
      ],
      "text/plain": [
       "                               Country  Score        Regime Typ  \\\n",
       "0                               Norway   9.87    Full democracy   \n",
       "1                              Iceland   9.58    Full democracy   \n",
       "2                               Sweden   9.39    Full democracy   \n",
       "3                          New Zealand   9.26    Full democracy   \n",
       "4                              Finland   9.25    Full democracy   \n",
       "5                              Ireland   9.24    Full democracy   \n",
       "6                              Denmark   9.22    Full democracy   \n",
       "7                               Canada   9.22    Full democracy   \n",
       "8                            Australia   9.09    Full democracy   \n",
       "9                          Switzerland   9.03    Full democracy   \n",
       "10                         Netherlands   9.01    Full democracy   \n",
       "11                          Luxembourg   8.81    Full democracy   \n",
       "12                             Germany   8.68    Full democracy   \n",
       "13                      United Kingdom   8.52    Full democracy   \n",
       "14                             Uruguay   8.38    Full democracy   \n",
       "15                               Spain   8.29    Full democracy   \n",
       "16                             Austria   8.29    Full democracy   \n",
       "17                           Mauritius   8.22    Full democracy   \n",
       "18                          Costa Rica   8.13    Full democracy   \n",
       "19                              France   8.12    Full democracy   \n",
       "20                               Chile   8.08    Full democracy   \n",
       "21                            Portugal   8.03    Full democracy   \n",
       "22                         South Korea   8.00  Flawed democracy   \n",
       "23                               Japan   7.99  Flawed democracy   \n",
       "24                       United States   7.96  Flawed democracy   \n",
       "25                               Malta   7.95  Flawed democracy   \n",
       "26                             Estonia   7.90  Flawed democracy   \n",
       "27                              Israel   7.86  Flawed democracy   \n",
       "28                            Botswana   7.81  Flawed democracy   \n",
       "29                          Cape Verde   7.78  Flawed democracy   \n",
       "..                                 ...    ...               ...   \n",
       "137                              Egypt   3.06     Authoritarian   \n",
       "138                         Kazakhstan   2.94     Authoritarian   \n",
       "139                          Venezuela   2.88     Authoritarian   \n",
       "140                           Cameroon   2.85     Authoritarian   \n",
       "141                        Afghanistan   2.85     Authoritarian   \n",
       "142                               Cuba   2.84     Authoritarian   \n",
       "143                           Djibouti   2.77     Authoritarian   \n",
       "144               United Arab Emirates   2.76     Authoritarian   \n",
       "145                         Azerbaijan   2.75     Authoritarian   \n",
       "146                              Sudan   2.70     Authoritarian   \n",
       "147                      Guinea-Bissau   2.63     Authoritarian   \n",
       "148                            Bahrain   2.55     Authoritarian   \n",
       "149                            Belarus   2.48     Authoritarian   \n",
       "150                               Iran   2.38     Authoritarian   \n",
       "151                            Eritrea   2.37     Authoritarian   \n",
       "152                              China   2.26     Authoritarian   \n",
       "153                            Burundi   2.15     Authoritarian   \n",
       "154                               Laos   2.14     Authoritarian   \n",
       "155                              Libya   2.02     Authoritarian   \n",
       "156                         Uzbekistan   2.01     Authoritarian   \n",
       "157                              Yemen   1.95     Authoritarian   \n",
       "158                         Tajikistan   1.93     Authoritarian   \n",
       "159                       Saudi Arabia   1.93     Authoritarian   \n",
       "160                  Equatorial Guinea   1.92     Authoritarian   \n",
       "161                       Turkmenistan   1.72     Authoritarian   \n",
       "162                               Chad   1.61     Authoritarian   \n",
       "163                              Syria   1.43     Authoritarian   \n",
       "164           Central African Republic   1.32     Authoritarian   \n",
       "165   Democratic Republic of the Congo   1.13     Authoritarian   \n",
       "166                        North Korea   1.08     Authoritarian   \n",
       "\n",
       "                         Region deathrate  \n",
       "0                Western Europe        na  \n",
       "1                Western Europe        na  \n",
       "2                Western Europe        na  \n",
       "3            Asia & Australasia        na  \n",
       "4                Western Europe        na  \n",
       "5                Western Europe        na  \n",
       "6                Western Europe        na  \n",
       "7                 North America        na  \n",
       "8            Asia & Australasia        na  \n",
       "9                Western Europe        na  \n",
       "10               Western Europe        na  \n",
       "11               Western Europe        na  \n",
       "12               Western Europe        na  \n",
       "13               Western Europe        na  \n",
       "14                Latin America        na  \n",
       "15               Western Europe        na  \n",
       "16               Western Europe        na  \n",
       "17           Sub-Saharan Africa        na  \n",
       "18                Latin America        na  \n",
       "19               Western Europe        na  \n",
       "20                Latin America        na  \n",
       "21               Western Europe        na  \n",
       "22           Asia & Australasia        na  \n",
       "23           Asia & Australasia        na  \n",
       "24                North America        na  \n",
       "25               Western Europe        na  \n",
       "26               Eastern Europe        na  \n",
       "27   Middle East & North Africa        na  \n",
       "28           Sub-Saharan Africa        na  \n",
       "29           Sub-Saharan Africa        na  \n",
       "..                          ...       ...  \n",
       "137  Middle East & North Africa        na  \n",
       "138              Eastern Europe        na  \n",
       "139               Latin America        na  \n",
       "140          Asia & Australasia        na  \n",
       "141          Sub-Saharan Africa        na  \n",
       "142               Latin America        na  \n",
       "143          Sub-Saharan Africa        na  \n",
       "144  Middle East & North Africa        na  \n",
       "145              Eastern Europe        na  \n",
       "146  Middle East & North Africa        na  \n",
       "147          Sub-Saharan Africa        na  \n",
       "148  Middle East & North Africa        na  \n",
       "149              Eastern Europe        na  \n",
       "150  Middle East & North Africa        na  \n",
       "151          Sub-Saharan Africa        na  \n",
       "152          Asia & Australasia        na  \n",
       "153          Sub-Saharan Africa        na  \n",
       "154          Asia & Australasia        na  \n",
       "155  Middle East & North Africa        na  \n",
       "156              Eastern Europe        na  \n",
       "157  Middle East & North Africa        na  \n",
       "158  Middle East & North Africa        na  \n",
       "159              Eastern Europe        na  \n",
       "160          Sub-Saharan Africa        na  \n",
       "161              Eastern Europe        na  \n",
       "162          Sub-Saharan Africa        na  \n",
       "163  Middle East & North Africa        na  \n",
       "164          Sub-Saharan Africa        na  \n",
       "165          Sub-Saharan Africa        na  \n",
       "166          Asia & Australasia        na  \n",
       "\n",
       "[167 rows x 5 columns]"
      ]
     },
     "execution_count": 47,
     "metadata": {},
     "output_type": "execute_result"
    }
   ],
   "source": [
    "democracy = pd.read_excel('./csv/democracy_index.xlsx')\n",
    "deaths = pd.read_csv('./data/COVID-19-master/csse_covid_19_data/csse_covid_19_time_series/time_series_covid19_deaths_global.csv')\n",
    "infected = pd.read_csv('./data/COVID-19-master/csse_covid_19_data/csse_covid_19_time_series/time_series_covid19_confirmed_global.csv')\n",
    "deaths_US = pd.read_csv('./data/COVID-19-master/csse_covid_19_data/csse_covid_19_time_series/time_series_covid19_deaths_US.csv')\n",
    "infected_US = pd.read_csv('./data/COVID-19-master/csse_covid_19_data/csse_covid_19_time_series/time_series_covid19_confirmed_US.csv')\n",
    "#add a column called United States to the US datasets so that they are compatible\n",
    "deaths_US['Country/Region'] = 'United States'\n",
    "infected_US['Country/Region'] = 'United States'\n",
    "\n",
    "democracy"
   ]
  },
  {
   "cell_type": "code",
   "execution_count": 48,
   "metadata": {},
   "outputs": [],
   "source": [
    "#statistics for countries (group all regions together)\n",
    "deaths = deaths.groupby('Country/Region').sum() \n",
    "infected = infected.groupby('Country/Region').sum() \n",
    "#sum over all states in the US\n",
    "deaths_US = deaths_US.groupby('Country/Region').sum()\n",
    "infected_US = infected_US.groupby('Country/Region').sum()"
   ]
  },
  {
   "cell_type": "code",
   "execution_count": 49,
   "metadata": {},
   "outputs": [],
   "source": [
    "#take just the most recent day (i.e. data) for analysis\n",
    "deaths = deaths[deaths.columns[-1]]\n",
    "infected = infected[infected.columns[-1]]\n",
    "deaths_US = deaths_US[deaths_US.columns[-1]]\n",
    "infected_US = infected_US[infected_US.columns[-1]]\n",
    "deaths = deaths.append(deaths_US)\n",
    "infected = infected.append(infected_US)"
   ]
  },
  {
   "cell_type": "code",
   "execution_count": 50,
   "metadata": {},
   "outputs": [
    {
     "data": {
      "text/plain": [
       "Country/Region\n",
       "Afghanistan               0.023259\n",
       "Albania                   0.032666\n",
       "Algeria                   0.076047\n",
       "Andorra                   0.067017\n",
       "Angola                    0.057692\n",
       "Antigua and Barbuda       0.120000\n",
       "Argentina                 0.044613\n",
       "Armenia                   0.012696\n",
       "Australia                 0.014140\n",
       "Austria                   0.038723\n",
       "Azerbaijan                0.011654\n",
       "Bahamas                   0.114583\n",
       "Bahrain                   0.001593\n",
       "Bangladesh                0.014729\n",
       "Barbados                  0.077778\n",
       "Belarus                   0.005554\n",
       "Belgium                   0.163252\n",
       "Belize                    0.111111\n",
       "Benin                     0.015385\n",
       "Bhutan                    0.000000\n",
       "Bolivia                   0.042178\n",
       "Bosnia and Herzegovina    0.057734\n",
       "Botswana                  0.040000\n",
       "Brazil                    0.066142\n",
       "Brunei                    0.007092\n",
       "Bulgaria                  0.049579\n",
       "Burkina Faso              0.064070\n",
       "Burma                     0.031088\n",
       "Burundi                   0.023810\n",
       "Cabo Verde                0.008955\n",
       "                            ...   \n",
       "Sri Lanka                 0.008763\n",
       "Sudan                     0.040689\n",
       "Suriname                  0.090909\n",
       "Sweden                    0.121530\n",
       "Switzerland               0.061761\n",
       "Syria                     0.051724\n",
       "Taiwan*                   0.015909\n",
       "Tajikistan                0.021178\n",
       "Tanzania                  0.041257\n",
       "Thailand                  0.018464\n",
       "Timor-Leste               0.000000\n",
       "Togo                      0.035503\n",
       "Trinidad and Tobago       0.068966\n",
       "Tunisia                   0.045019\n",
       "Turkey                    0.027695\n",
       "US                        0.060135\n",
       "Uganda                    0.000000\n",
       "Ukraine                   0.029032\n",
       "United Arab Emirates      0.009057\n",
       "United Kingdom            0.141610\n",
       "Uruguay                   0.027100\n",
       "Uzbekistan                0.004553\n",
       "Venezuela                 0.013351\n",
       "Vietnam                   0.000000\n",
       "West Bank and Gaza        0.005115\n",
       "Western Sahara            0.000000\n",
       "Yemen                     0.167665\n",
       "Zambia                    0.009067\n",
       "Zimbabwe                  0.086957\n",
       "United States             0.060135\n",
       "Name: 5/19/20, Length: 189, dtype: float64"
      ]
     },
     "execution_count": 50,
     "metadata": {},
     "output_type": "execute_result"
    }
   ],
   "source": [
    "#create a pd.series with contains deathrates for all countries within the datasets\n",
    "deathrate = deaths/infected\n",
    "countries_deathrate = deathrate.index\n",
    "\n",
    "deathrate"
   ]
  },
  {
   "cell_type": "code",
   "execution_count": 51,
   "metadata": {},
   "outputs": [
    {
     "data": {
      "text/plain": [
       "['Norway',\n",
       " 'Iceland',\n",
       " 'Sweden',\n",
       " 'New Zealand',\n",
       " 'Finland',\n",
       " 'Ireland',\n",
       " 'Denmark',\n",
       " 'Canada',\n",
       " 'Australia',\n",
       " 'Switzerland',\n",
       " 'Netherlands',\n",
       " 'Luxembourg',\n",
       " 'Germany',\n",
       " 'United Kingdom',\n",
       " 'Uruguay',\n",
       " 'Spain',\n",
       " 'Austria',\n",
       " 'Mauritius',\n",
       " 'Costa Rica',\n",
       " 'France',\n",
       " 'Chile',\n",
       " 'Portugal',\n",
       " 'South Korea',\n",
       " 'Japan',\n",
       " 'United States',\n",
       " 'Malta',\n",
       " 'Estonia',\n",
       " 'Israel',\n",
       " 'Botswana',\n",
       " 'Cape Verde',\n",
       " 'Taiwan',\n",
       " 'Czech Republic',\n",
       " 'Belgium',\n",
       " 'Cyprus',\n",
       " 'Italy',\n",
       " 'Slovenia',\n",
       " 'Lithuania',\n",
       " 'Latvia',\n",
       " 'Greece',\n",
       " 'South Africa',\n",
       " 'Timor-Leste',\n",
       " 'Slovakia',\n",
       " 'Trinidad and Tobago',\n",
       " 'Malaysia',\n",
       " 'Colombia',\n",
       " 'Panama',\n",
       " 'Bulgaria',\n",
       " 'Argentina',\n",
       " 'Suriname',\n",
       " 'Jamaica',\n",
       " 'India',\n",
       " 'Brazil',\n",
       " 'Tunisia',\n",
       " 'Philippines',\n",
       " 'Hungary',\n",
       " 'Ghana',\n",
       " 'Poland',\n",
       " 'Peru',\n",
       " 'Croatia',\n",
       " 'Lesotho',\n",
       " 'Dominican Republic',\n",
       " 'Mongolia',\n",
       " 'Romania',\n",
       " 'Indonesia',\n",
       " 'Namibia',\n",
       " 'Serbia',\n",
       " 'Ecuador',\n",
       " 'Thailand',\n",
       " 'Sri Lanka',\n",
       " 'Paraguay',\n",
       " 'Guyana',\n",
       " 'El Salvador',\n",
       " 'Mexico',\n",
       " 'Papua New Guinea',\n",
       " 'Singapore',\n",
       " 'Hong Kong',\n",
       " 'North Macedonia',\n",
       " 'Ukraine',\n",
       " 'Albania',\n",
       " 'Bangladesh',\n",
       " 'Fiji',\n",
       " 'Senegal',\n",
       " 'Moldova',\n",
       " 'Montenegro',\n",
       " 'Madagascar',\n",
       " 'Armenia',\n",
       " 'Malawi',\n",
       " 'Liberia',\n",
       " 'Honduras',\n",
       " 'Georgia',\n",
       " 'Bhutan',\n",
       " 'Nepal',\n",
       " 'Guatemala',\n",
       " 'Kenya',\n",
       " 'Tanzania',\n",
       " 'Morocco',\n",
       " 'Zambia',\n",
       " 'Benin',\n",
       " 'Uganda',\n",
       " 'Mali',\n",
       " 'Kyrgyzstan',\n",
       " 'Sierra Leone',\n",
       " 'Bosnia and Herzegovina',\n",
       " 'Bolivia',\n",
       " 'Haiti',\n",
       " 'Lebanon',\n",
       " 'Gambia',\n",
       " 'Pakistan',\n",
       " 'Nigeria',\n",
       " 'Turkey',\n",
       " 'Ivory Coast',\n",
       " 'Burkina Faso',\n",
       " 'Algeria',\n",
       " 'Kuwait',\n",
       " 'Jordan',\n",
       " 'Mauritania',\n",
       " 'Palestine',\n",
       " 'Iraq',\n",
       " 'Angola',\n",
       " 'Mozambique',\n",
       " 'Gabon',\n",
       " 'Nicaragua',\n",
       " 'Myanmar',\n",
       " 'Cambodia',\n",
       " 'Ethiopia',\n",
       " 'Togo',\n",
       " 'Niger',\n",
       " 'Qatar',\n",
       " 'Zimbabwe',\n",
       " 'Rwanda',\n",
       " 'Comoros',\n",
       " 'Guinea',\n",
       " 'Eswatini',\n",
       " 'Russia',\n",
       " 'Republic of the Congo',\n",
       " 'Vietnam',\n",
       " 'Oman',\n",
       " 'Egypt',\n",
       " 'Kazakhstan',\n",
       " 'Venezuela',\n",
       " 'Cameroon',\n",
       " 'Afghanistan',\n",
       " 'Cuba',\n",
       " 'Djibouti',\n",
       " 'United Arab Emirates',\n",
       " 'Azerbaijan',\n",
       " 'Sudan',\n",
       " 'Guinea-Bissau',\n",
       " 'Bahrain',\n",
       " 'Belarus',\n",
       " 'Iran',\n",
       " 'Eritrea',\n",
       " 'China',\n",
       " 'Burundi',\n",
       " 'Laos',\n",
       " 'Libya',\n",
       " 'Uzbekistan',\n",
       " 'Yemen',\n",
       " 'Tajikistan',\n",
       " 'Saudi Arabia',\n",
       " 'Equatorial Guinea',\n",
       " 'Turkmenistan',\n",
       " 'Chad',\n",
       " 'Syria',\n",
       " 'Central African Republic',\n",
       " 'Democratic Republic of the Congo',\n",
       " 'North Korea']"
      ]
     },
     "execution_count": 51,
     "metadata": {},
     "output_type": "execute_result"
    }
   ],
   "source": [
    "countries = list(democracy['Country'])\n",
    "for index, element in enumerate(countries):\n",
    "    countries[index] = element.replace('\\xa0','')\n",
    "countries"
   ]
  },
  {
   "cell_type": "code",
   "execution_count": 52,
   "metadata": {},
   "outputs": [
    {
     "data": {
      "text/html": [
       "<div>\n",
       "<style scoped>\n",
       "    .dataframe tbody tr th:only-of-type {\n",
       "        vertical-align: middle;\n",
       "    }\n",
       "\n",
       "    .dataframe tbody tr th {\n",
       "        vertical-align: top;\n",
       "    }\n",
       "\n",
       "    .dataframe thead th {\n",
       "        text-align: right;\n",
       "    }\n",
       "</style>\n",
       "<table border=\"1\" class=\"dataframe\">\n",
       "  <thead>\n",
       "    <tr style=\"text-align: right;\">\n",
       "      <th></th>\n",
       "      <th>Country</th>\n",
       "      <th>Score</th>\n",
       "      <th>Regime Typ</th>\n",
       "      <th>Region</th>\n",
       "      <th>deathrate</th>\n",
       "    </tr>\n",
       "  </thead>\n",
       "  <tbody>\n",
       "    <tr>\n",
       "      <th>0</th>\n",
       "      <td>Norway</td>\n",
       "      <td>9.87</td>\n",
       "      <td>Full democracy</td>\n",
       "      <td>Western Europe</td>\n",
       "      <td>0.0281843</td>\n",
       "    </tr>\n",
       "    <tr>\n",
       "      <th>1</th>\n",
       "      <td>Iceland</td>\n",
       "      <td>9.58</td>\n",
       "      <td>Full democracy</td>\n",
       "      <td>Western Europe</td>\n",
       "      <td>0.00554939</td>\n",
       "    </tr>\n",
       "    <tr>\n",
       "      <th>2</th>\n",
       "      <td>Sweden</td>\n",
       "      <td>9.39</td>\n",
       "      <td>Full democracy</td>\n",
       "      <td>Western Europe</td>\n",
       "      <td>0.12153</td>\n",
       "    </tr>\n",
       "    <tr>\n",
       "      <th>3</th>\n",
       "      <td>New Zealand</td>\n",
       "      <td>9.26</td>\n",
       "      <td>Full democracy</td>\n",
       "      <td>Asia &amp; Australasia</td>\n",
       "      <td>0.0139721</td>\n",
       "    </tr>\n",
       "    <tr>\n",
       "      <th>4</th>\n",
       "      <td>Finland</td>\n",
       "      <td>9.25</td>\n",
       "      <td>Full democracy</td>\n",
       "      <td>Western Europe</td>\n",
       "      <td>0.0470386</td>\n",
       "    </tr>\n",
       "    <tr>\n",
       "      <th>5</th>\n",
       "      <td>Ireland</td>\n",
       "      <td>9.24</td>\n",
       "      <td>Full democracy</td>\n",
       "      <td>Western Europe</td>\n",
       "      <td>0.0643685</td>\n",
       "    </tr>\n",
       "    <tr>\n",
       "      <th>6</th>\n",
       "      <td>Denmark</td>\n",
       "      <td>9.22</td>\n",
       "      <td>Full democracy</td>\n",
       "      <td>Western Europe</td>\n",
       "      <td>0.0490126</td>\n",
       "    </tr>\n",
       "    <tr>\n",
       "      <th>7</th>\n",
       "      <td>Canada</td>\n",
       "      <td>9.22</td>\n",
       "      <td>Full democracy</td>\n",
       "      <td>North America</td>\n",
       "      <td>0.0748885</td>\n",
       "    </tr>\n",
       "    <tr>\n",
       "      <th>8</th>\n",
       "      <td>Australia</td>\n",
       "      <td>9.09</td>\n",
       "      <td>Full democracy</td>\n",
       "      <td>Asia &amp; Australasia</td>\n",
       "      <td>0.0141403</td>\n",
       "    </tr>\n",
       "    <tr>\n",
       "      <th>9</th>\n",
       "      <td>Switzerland</td>\n",
       "      <td>9.03</td>\n",
       "      <td>Full democracy</td>\n",
       "      <td>Western Europe</td>\n",
       "      <td>0.0617611</td>\n",
       "    </tr>\n",
       "    <tr>\n",
       "      <th>10</th>\n",
       "      <td>Netherlands</td>\n",
       "      <td>9.01</td>\n",
       "      <td>Full democracy</td>\n",
       "      <td>Western Europe</td>\n",
       "      <td>0.129002</td>\n",
       "    </tr>\n",
       "    <tr>\n",
       "      <th>11</th>\n",
       "      <td>Luxembourg</td>\n",
       "      <td>8.81</td>\n",
       "      <td>Full democracy</td>\n",
       "      <td>Western Europe</td>\n",
       "      <td>0.0275392</td>\n",
       "    </tr>\n",
       "    <tr>\n",
       "      <th>12</th>\n",
       "      <td>Germany</td>\n",
       "      <td>8.68</td>\n",
       "      <td>Full democracy</td>\n",
       "      <td>Western Europe</td>\n",
       "      <td>0.0454556</td>\n",
       "    </tr>\n",
       "    <tr>\n",
       "      <th>13</th>\n",
       "      <td>United Kingdom</td>\n",
       "      <td>8.52</td>\n",
       "      <td>Full democracy</td>\n",
       "      <td>Western Europe</td>\n",
       "      <td>0.14161</td>\n",
       "    </tr>\n",
       "    <tr>\n",
       "      <th>14</th>\n",
       "      <td>Uruguay</td>\n",
       "      <td>8.38</td>\n",
       "      <td>Full democracy</td>\n",
       "      <td>Latin America</td>\n",
       "      <td>0.0271003</td>\n",
       "    </tr>\n",
       "    <tr>\n",
       "      <th>15</th>\n",
       "      <td>Spain</td>\n",
       "      <td>8.29</td>\n",
       "      <td>Full democracy</td>\n",
       "      <td>Western Europe</td>\n",
       "      <td>0.119714</td>\n",
       "    </tr>\n",
       "    <tr>\n",
       "      <th>16</th>\n",
       "      <td>Austria</td>\n",
       "      <td>8.29</td>\n",
       "      <td>Full democracy</td>\n",
       "      <td>Western Europe</td>\n",
       "      <td>0.0387231</td>\n",
       "    </tr>\n",
       "    <tr>\n",
       "      <th>17</th>\n",
       "      <td>Mauritius</td>\n",
       "      <td>8.22</td>\n",
       "      <td>Full democracy</td>\n",
       "      <td>Sub-Saharan Africa</td>\n",
       "      <td>0.0301205</td>\n",
       "    </tr>\n",
       "    <tr>\n",
       "      <th>18</th>\n",
       "      <td>Costa Rica</td>\n",
       "      <td>8.13</td>\n",
       "      <td>Full democracy</td>\n",
       "      <td>Latin America</td>\n",
       "      <td>0.0113379</td>\n",
       "    </tr>\n",
       "    <tr>\n",
       "      <th>19</th>\n",
       "      <td>France</td>\n",
       "      <td>8.12</td>\n",
       "      <td>Full democracy</td>\n",
       "      <td>Western Europe</td>\n",
       "      <td>0.154892</td>\n",
       "    </tr>\n",
       "    <tr>\n",
       "      <th>20</th>\n",
       "      <td>Chile</td>\n",
       "      <td>8.08</td>\n",
       "      <td>Full democracy</td>\n",
       "      <td>Latin America</td>\n",
       "      <td>0.0102664</td>\n",
       "    </tr>\n",
       "    <tr>\n",
       "      <th>21</th>\n",
       "      <td>Portugal</td>\n",
       "      <td>8.03</td>\n",
       "      <td>Full democracy</td>\n",
       "      <td>Western Europe</td>\n",
       "      <td>0.0423689</td>\n",
       "    </tr>\n",
       "    <tr>\n",
       "      <th>22</th>\n",
       "      <td>South Korea</td>\n",
       "      <td>8.00</td>\n",
       "      <td>Flawed democracy</td>\n",
       "      <td>Asia &amp; Australasia</td>\n",
       "      <td>na</td>\n",
       "    </tr>\n",
       "    <tr>\n",
       "      <th>23</th>\n",
       "      <td>Japan</td>\n",
       "      <td>7.99</td>\n",
       "      <td>Flawed democracy</td>\n",
       "      <td>Asia &amp; Australasia</td>\n",
       "      <td>0.0469237</td>\n",
       "    </tr>\n",
       "    <tr>\n",
       "      <th>24</th>\n",
       "      <td>United States</td>\n",
       "      <td>7.96</td>\n",
       "      <td>Flawed democracy</td>\n",
       "      <td>North America</td>\n",
       "      <td>0.0601354</td>\n",
       "    </tr>\n",
       "    <tr>\n",
       "      <th>25</th>\n",
       "      <td>Malta</td>\n",
       "      <td>7.95</td>\n",
       "      <td>Flawed democracy</td>\n",
       "      <td>Western Europe</td>\n",
       "      <td>0.0105448</td>\n",
       "    </tr>\n",
       "    <tr>\n",
       "      <th>26</th>\n",
       "      <td>Estonia</td>\n",
       "      <td>7.90</td>\n",
       "      <td>Flawed democracy</td>\n",
       "      <td>Eastern Europe</td>\n",
       "      <td>0.0357342</td>\n",
       "    </tr>\n",
       "    <tr>\n",
       "      <th>27</th>\n",
       "      <td>Israel</td>\n",
       "      <td>7.86</td>\n",
       "      <td>Flawed democracy</td>\n",
       "      <td>Middle East &amp; North Africa</td>\n",
       "      <td>0.0166877</td>\n",
       "    </tr>\n",
       "    <tr>\n",
       "      <th>28</th>\n",
       "      <td>Botswana</td>\n",
       "      <td>7.81</td>\n",
       "      <td>Flawed democracy</td>\n",
       "      <td>Sub-Saharan Africa</td>\n",
       "      <td>0.04</td>\n",
       "    </tr>\n",
       "    <tr>\n",
       "      <th>29</th>\n",
       "      <td>Cape Verde</td>\n",
       "      <td>7.78</td>\n",
       "      <td>Flawed democracy</td>\n",
       "      <td>Sub-Saharan Africa</td>\n",
       "      <td>na</td>\n",
       "    </tr>\n",
       "    <tr>\n",
       "      <th>...</th>\n",
       "      <td>...</td>\n",
       "      <td>...</td>\n",
       "      <td>...</td>\n",
       "      <td>...</td>\n",
       "      <td>...</td>\n",
       "    </tr>\n",
       "    <tr>\n",
       "      <th>137</th>\n",
       "      <td>Egypt</td>\n",
       "      <td>3.06</td>\n",
       "      <td>Authoritarian</td>\n",
       "      <td>Middle East &amp; North Africa</td>\n",
       "      <td>0.0488727</td>\n",
       "    </tr>\n",
       "    <tr>\n",
       "      <th>138</th>\n",
       "      <td>Kazakhstan</td>\n",
       "      <td>2.94</td>\n",
       "      <td>Authoritarian</td>\n",
       "      <td>Eastern Europe</td>\n",
       "      <td>0.00518442</td>\n",
       "    </tr>\n",
       "    <tr>\n",
       "      <th>139</th>\n",
       "      <td>Venezuela</td>\n",
       "      <td>2.88</td>\n",
       "      <td>Authoritarian</td>\n",
       "      <td>Latin America</td>\n",
       "      <td>0.0133511</td>\n",
       "    </tr>\n",
       "    <tr>\n",
       "      <th>140</th>\n",
       "      <td>Cameroon</td>\n",
       "      <td>2.85</td>\n",
       "      <td>Authoritarian</td>\n",
       "      <td>Asia &amp; Australasia</td>\n",
       "      <td>0.0396713</td>\n",
       "    </tr>\n",
       "    <tr>\n",
       "      <th>141</th>\n",
       "      <td>Afghanistan</td>\n",
       "      <td>2.85</td>\n",
       "      <td>Authoritarian</td>\n",
       "      <td>Sub-Saharan Africa</td>\n",
       "      <td>0.0232589</td>\n",
       "    </tr>\n",
       "    <tr>\n",
       "      <th>142</th>\n",
       "      <td>Cuba</td>\n",
       "      <td>2.84</td>\n",
       "      <td>Authoritarian</td>\n",
       "      <td>Latin America</td>\n",
       "      <td>0.0418654</td>\n",
       "    </tr>\n",
       "    <tr>\n",
       "      <th>143</th>\n",
       "      <td>Djibouti</td>\n",
       "      <td>2.77</td>\n",
       "      <td>Authoritarian</td>\n",
       "      <td>Sub-Saharan Africa</td>\n",
       "      <td>0.00432633</td>\n",
       "    </tr>\n",
       "    <tr>\n",
       "      <th>144</th>\n",
       "      <td>United Arab Emirates</td>\n",
       "      <td>2.76</td>\n",
       "      <td>Authoritarian</td>\n",
       "      <td>Middle East &amp; North Africa</td>\n",
       "      <td>0.00905718</td>\n",
       "    </tr>\n",
       "    <tr>\n",
       "      <th>145</th>\n",
       "      <td>Azerbaijan</td>\n",
       "      <td>2.75</td>\n",
       "      <td>Authoritarian</td>\n",
       "      <td>Eastern Europe</td>\n",
       "      <td>0.0116543</td>\n",
       "    </tr>\n",
       "    <tr>\n",
       "      <th>146</th>\n",
       "      <td>Sudan</td>\n",
       "      <td>2.70</td>\n",
       "      <td>Authoritarian</td>\n",
       "      <td>Middle East &amp; North Africa</td>\n",
       "      <td>0.0406891</td>\n",
       "    </tr>\n",
       "    <tr>\n",
       "      <th>147</th>\n",
       "      <td>Guinea-Bissau</td>\n",
       "      <td>2.63</td>\n",
       "      <td>Authoritarian</td>\n",
       "      <td>Sub-Saharan Africa</td>\n",
       "      <td>0.00578035</td>\n",
       "    </tr>\n",
       "    <tr>\n",
       "      <th>148</th>\n",
       "      <td>Bahrain</td>\n",
       "      <td>2.55</td>\n",
       "      <td>Authoritarian</td>\n",
       "      <td>Middle East &amp; North Africa</td>\n",
       "      <td>0.0015932</td>\n",
       "    </tr>\n",
       "    <tr>\n",
       "      <th>149</th>\n",
       "      <td>Belarus</td>\n",
       "      <td>2.48</td>\n",
       "      <td>Authoritarian</td>\n",
       "      <td>Eastern Europe</td>\n",
       "      <td>0.00555414</td>\n",
       "    </tr>\n",
       "    <tr>\n",
       "      <th>150</th>\n",
       "      <td>Iran</td>\n",
       "      <td>2.38</td>\n",
       "      <td>Authoritarian</td>\n",
       "      <td>Middle East &amp; North Africa</td>\n",
       "      <td>0.0571335</td>\n",
       "    </tr>\n",
       "    <tr>\n",
       "      <th>151</th>\n",
       "      <td>Eritrea</td>\n",
       "      <td>2.37</td>\n",
       "      <td>Authoritarian</td>\n",
       "      <td>Sub-Saharan Africa</td>\n",
       "      <td>0</td>\n",
       "    </tr>\n",
       "    <tr>\n",
       "      <th>152</th>\n",
       "      <td>China</td>\n",
       "      <td>2.26</td>\n",
       "      <td>Authoritarian</td>\n",
       "      <td>Asia &amp; Australasia</td>\n",
       "      <td>0.0551729</td>\n",
       "    </tr>\n",
       "    <tr>\n",
       "      <th>153</th>\n",
       "      <td>Burundi</td>\n",
       "      <td>2.15</td>\n",
       "      <td>Authoritarian</td>\n",
       "      <td>Sub-Saharan Africa</td>\n",
       "      <td>0.0238095</td>\n",
       "    </tr>\n",
       "    <tr>\n",
       "      <th>154</th>\n",
       "      <td>Laos</td>\n",
       "      <td>2.14</td>\n",
       "      <td>Authoritarian</td>\n",
       "      <td>Asia &amp; Australasia</td>\n",
       "      <td>0</td>\n",
       "    </tr>\n",
       "    <tr>\n",
       "      <th>155</th>\n",
       "      <td>Libya</td>\n",
       "      <td>2.02</td>\n",
       "      <td>Authoritarian</td>\n",
       "      <td>Middle East &amp; North Africa</td>\n",
       "      <td>0.0441176</td>\n",
       "    </tr>\n",
       "    <tr>\n",
       "      <th>156</th>\n",
       "      <td>Uzbekistan</td>\n",
       "      <td>2.01</td>\n",
       "      <td>Authoritarian</td>\n",
       "      <td>Eastern Europe</td>\n",
       "      <td>0.00455342</td>\n",
       "    </tr>\n",
       "    <tr>\n",
       "      <th>157</th>\n",
       "      <td>Yemen</td>\n",
       "      <td>1.95</td>\n",
       "      <td>Authoritarian</td>\n",
       "      <td>Middle East &amp; North Africa</td>\n",
       "      <td>0.167665</td>\n",
       "    </tr>\n",
       "    <tr>\n",
       "      <th>158</th>\n",
       "      <td>Tajikistan</td>\n",
       "      <td>1.93</td>\n",
       "      <td>Authoritarian</td>\n",
       "      <td>Middle East &amp; North Africa</td>\n",
       "      <td>0.0211777</td>\n",
       "    </tr>\n",
       "    <tr>\n",
       "      <th>159</th>\n",
       "      <td>Saudi Arabia</td>\n",
       "      <td>1.93</td>\n",
       "      <td>Authoritarian</td>\n",
       "      <td>Eastern Europe</td>\n",
       "      <td>0.00549671</td>\n",
       "    </tr>\n",
       "    <tr>\n",
       "      <th>160</th>\n",
       "      <td>Equatorial Guinea</td>\n",
       "      <td>1.92</td>\n",
       "      <td>Authoritarian</td>\n",
       "      <td>Sub-Saharan Africa</td>\n",
       "      <td>0.00848485</td>\n",
       "    </tr>\n",
       "    <tr>\n",
       "      <th>161</th>\n",
       "      <td>Turkmenistan</td>\n",
       "      <td>1.72</td>\n",
       "      <td>Authoritarian</td>\n",
       "      <td>Eastern Europe</td>\n",
       "      <td>na</td>\n",
       "    </tr>\n",
       "    <tr>\n",
       "      <th>162</th>\n",
       "      <td>Chad</td>\n",
       "      <td>1.61</td>\n",
       "      <td>Authoritarian</td>\n",
       "      <td>Sub-Saharan Africa</td>\n",
       "      <td>0.102752</td>\n",
       "    </tr>\n",
       "    <tr>\n",
       "      <th>163</th>\n",
       "      <td>Syria</td>\n",
       "      <td>1.43</td>\n",
       "      <td>Authoritarian</td>\n",
       "      <td>Middle East &amp; North Africa</td>\n",
       "      <td>0.0517241</td>\n",
       "    </tr>\n",
       "    <tr>\n",
       "      <th>164</th>\n",
       "      <td>Central African Republic</td>\n",
       "      <td>1.32</td>\n",
       "      <td>Authoritarian</td>\n",
       "      <td>Sub-Saharan Africa</td>\n",
       "      <td>0</td>\n",
       "    </tr>\n",
       "    <tr>\n",
       "      <th>165</th>\n",
       "      <td>Democratic Republic of the Congo</td>\n",
       "      <td>1.13</td>\n",
       "      <td>Authoritarian</td>\n",
       "      <td>Sub-Saharan Africa</td>\n",
       "      <td>na</td>\n",
       "    </tr>\n",
       "    <tr>\n",
       "      <th>166</th>\n",
       "      <td>North Korea</td>\n",
       "      <td>1.08</td>\n",
       "      <td>Authoritarian</td>\n",
       "      <td>Asia &amp; Australasia</td>\n",
       "      <td>na</td>\n",
       "    </tr>\n",
       "  </tbody>\n",
       "</table>\n",
       "<p>167 rows × 5 columns</p>\n",
       "</div>"
      ],
      "text/plain": [
       "                               Country  Score        Regime Typ  \\\n",
       "0                               Norway   9.87    Full democracy   \n",
       "1                              Iceland   9.58    Full democracy   \n",
       "2                               Sweden   9.39    Full democracy   \n",
       "3                          New Zealand   9.26    Full democracy   \n",
       "4                              Finland   9.25    Full democracy   \n",
       "5                              Ireland   9.24    Full democracy   \n",
       "6                              Denmark   9.22    Full democracy   \n",
       "7                               Canada   9.22    Full democracy   \n",
       "8                            Australia   9.09    Full democracy   \n",
       "9                          Switzerland   9.03    Full democracy   \n",
       "10                         Netherlands   9.01    Full democracy   \n",
       "11                          Luxembourg   8.81    Full democracy   \n",
       "12                             Germany   8.68    Full democracy   \n",
       "13                      United Kingdom   8.52    Full democracy   \n",
       "14                             Uruguay   8.38    Full democracy   \n",
       "15                               Spain   8.29    Full democracy   \n",
       "16                             Austria   8.29    Full democracy   \n",
       "17                           Mauritius   8.22    Full democracy   \n",
       "18                          Costa Rica   8.13    Full democracy   \n",
       "19                              France   8.12    Full democracy   \n",
       "20                               Chile   8.08    Full democracy   \n",
       "21                            Portugal   8.03    Full democracy   \n",
       "22                         South Korea   8.00  Flawed democracy   \n",
       "23                               Japan   7.99  Flawed democracy   \n",
       "24                       United States   7.96  Flawed democracy   \n",
       "25                               Malta   7.95  Flawed democracy   \n",
       "26                             Estonia   7.90  Flawed democracy   \n",
       "27                              Israel   7.86  Flawed democracy   \n",
       "28                            Botswana   7.81  Flawed democracy   \n",
       "29                          Cape Verde   7.78  Flawed democracy   \n",
       "..                                 ...    ...               ...   \n",
       "137                              Egypt   3.06     Authoritarian   \n",
       "138                         Kazakhstan   2.94     Authoritarian   \n",
       "139                          Venezuela   2.88     Authoritarian   \n",
       "140                           Cameroon   2.85     Authoritarian   \n",
       "141                        Afghanistan   2.85     Authoritarian   \n",
       "142                               Cuba   2.84     Authoritarian   \n",
       "143                           Djibouti   2.77     Authoritarian   \n",
       "144               United Arab Emirates   2.76     Authoritarian   \n",
       "145                         Azerbaijan   2.75     Authoritarian   \n",
       "146                              Sudan   2.70     Authoritarian   \n",
       "147                      Guinea-Bissau   2.63     Authoritarian   \n",
       "148                            Bahrain   2.55     Authoritarian   \n",
       "149                            Belarus   2.48     Authoritarian   \n",
       "150                               Iran   2.38     Authoritarian   \n",
       "151                            Eritrea   2.37     Authoritarian   \n",
       "152                              China   2.26     Authoritarian   \n",
       "153                            Burundi   2.15     Authoritarian   \n",
       "154                               Laos   2.14     Authoritarian   \n",
       "155                              Libya   2.02     Authoritarian   \n",
       "156                         Uzbekistan   2.01     Authoritarian   \n",
       "157                              Yemen   1.95     Authoritarian   \n",
       "158                         Tajikistan   1.93     Authoritarian   \n",
       "159                       Saudi Arabia   1.93     Authoritarian   \n",
       "160                  Equatorial Guinea   1.92     Authoritarian   \n",
       "161                       Turkmenistan   1.72     Authoritarian   \n",
       "162                               Chad   1.61     Authoritarian   \n",
       "163                              Syria   1.43     Authoritarian   \n",
       "164           Central African Republic   1.32     Authoritarian   \n",
       "165   Democratic Republic of the Congo   1.13     Authoritarian   \n",
       "166                        North Korea   1.08     Authoritarian   \n",
       "\n",
       "                         Region   deathrate  \n",
       "0                Western Europe   0.0281843  \n",
       "1                Western Europe  0.00554939  \n",
       "2                Western Europe     0.12153  \n",
       "3            Asia & Australasia   0.0139721  \n",
       "4                Western Europe   0.0470386  \n",
       "5                Western Europe   0.0643685  \n",
       "6                Western Europe   0.0490126  \n",
       "7                 North America   0.0748885  \n",
       "8            Asia & Australasia   0.0141403  \n",
       "9                Western Europe   0.0617611  \n",
       "10               Western Europe    0.129002  \n",
       "11               Western Europe   0.0275392  \n",
       "12               Western Europe   0.0454556  \n",
       "13               Western Europe     0.14161  \n",
       "14                Latin America   0.0271003  \n",
       "15               Western Europe    0.119714  \n",
       "16               Western Europe   0.0387231  \n",
       "17           Sub-Saharan Africa   0.0301205  \n",
       "18                Latin America   0.0113379  \n",
       "19               Western Europe    0.154892  \n",
       "20                Latin America   0.0102664  \n",
       "21               Western Europe   0.0423689  \n",
       "22           Asia & Australasia          na  \n",
       "23           Asia & Australasia   0.0469237  \n",
       "24                North America   0.0601354  \n",
       "25               Western Europe   0.0105448  \n",
       "26               Eastern Europe   0.0357342  \n",
       "27   Middle East & North Africa   0.0166877  \n",
       "28           Sub-Saharan Africa        0.04  \n",
       "29           Sub-Saharan Africa          na  \n",
       "..                          ...         ...  \n",
       "137  Middle East & North Africa   0.0488727  \n",
       "138              Eastern Europe  0.00518442  \n",
       "139               Latin America   0.0133511  \n",
       "140          Asia & Australasia   0.0396713  \n",
       "141          Sub-Saharan Africa   0.0232589  \n",
       "142               Latin America   0.0418654  \n",
       "143          Sub-Saharan Africa  0.00432633  \n",
       "144  Middle East & North Africa  0.00905718  \n",
       "145              Eastern Europe   0.0116543  \n",
       "146  Middle East & North Africa   0.0406891  \n",
       "147          Sub-Saharan Africa  0.00578035  \n",
       "148  Middle East & North Africa   0.0015932  \n",
       "149              Eastern Europe  0.00555414  \n",
       "150  Middle East & North Africa   0.0571335  \n",
       "151          Sub-Saharan Africa           0  \n",
       "152          Asia & Australasia   0.0551729  \n",
       "153          Sub-Saharan Africa   0.0238095  \n",
       "154          Asia & Australasia           0  \n",
       "155  Middle East & North Africa   0.0441176  \n",
       "156              Eastern Europe  0.00455342  \n",
       "157  Middle East & North Africa    0.167665  \n",
       "158  Middle East & North Africa   0.0211777  \n",
       "159              Eastern Europe  0.00549671  \n",
       "160          Sub-Saharan Africa  0.00848485  \n",
       "161              Eastern Europe          na  \n",
       "162          Sub-Saharan Africa    0.102752  \n",
       "163  Middle East & North Africa   0.0517241  \n",
       "164          Sub-Saharan Africa           0  \n",
       "165          Sub-Saharan Africa          na  \n",
       "166          Asia & Australasia          na  \n",
       "\n",
       "[167 rows x 5 columns]"
      ]
     },
     "execution_count": 52,
     "metadata": {},
     "output_type": "execute_result"
    }
   ],
   "source": [
    "\n",
    "for ind, cou in enumerate(deathrate.index):\n",
    "    if cou in countries:\n",
    "        k = countries.index(cou)\n",
    "        #democracy['deathrate'][k] = deathrate.values[ind]\n",
    "        democracy.loc[k,'deathrate'] = deathrate.values[ind]\n",
    "\n",
    "democracy"
   ]
  },
  {
   "cell_type": "markdown",
   "metadata": {},
   "source": [
    "### Plot with Plotly"
   ]
  },
  {
   "cell_type": "code",
   "execution_count": 53,
   "metadata": {},
   "outputs": [],
   "source": [
    "import plotly\n",
    "from plotly.offline import download_plotlyjs, init_notebook_mode, plot, iplot\n",
    "import chart_studio\n",
    "import chart_studio.plotly as py\n",
    "import plotly.graph_objects as go\n",
    "import plotly.express as px\n",
    "import pycountry_convert as pc"
   ]
  },
  {
   "cell_type": "code",
   "execution_count": 54,
   "metadata": {},
   "outputs": [
    {
     "data": {
      "text/html": [
       "        <script type=\"text/javascript\">\n",
       "        window.PlotlyConfig = {MathJaxConfig: 'local'};\n",
       "        if (window.MathJax) {MathJax.Hub.Config({SVG: {font: \"STIX-Web\"}});}\n",
       "        if (typeof require !== 'undefined') {\n",
       "        require.undef(\"plotly\");\n",
       "        requirejs.config({\n",
       "            paths: {\n",
       "                'plotly': ['https://cdn.plot.ly/plotly-latest.min']\n",
       "            }\n",
       "        });\n",
       "        require(['plotly'], function(Plotly) {\n",
       "            window._Plotly = Plotly;\n",
       "        });\n",
       "        }\n",
       "        </script>\n",
       "        "
      ]
     },
     "metadata": {},
     "output_type": "display_data"
    }
   ],
   "source": [
    "#Jupyter setup (to display in notebook)\n",
    "init_notebook_mode(connected=True)"
   ]
  },
  {
   "cell_type": "code",
   "execution_count": 55,
   "metadata": {},
   "outputs": [],
   "source": [
    "\n",
    "# Continent_code to Continent_names as a dictionary\n",
    "continents = {\n",
    "    'NA': 'North America',\n",
    "    'SA': 'South America', \n",
    "    'AS': 'Asia',\n",
    "    'OC': 'Australia',\n",
    "    'AF': 'Africa',\n",
    "    'EU': 'Europe',\n",
    "    'na': 'Others'\n",
    "}\n",
    "\n",
    "# Defining Function for getting continent code for country by using the pc library\n",
    "def country_to_continent(country_name):\n",
    "    try:\n",
    "        country_alpha2 = pc.country_name_to_country_alpha2(country_name)\n",
    "        country_continent_code = pc.country_alpha2_to_continent_code(country_alpha2)\n",
    "        country_continent_name = pc.convert_continent_code_to_continent_name(country_continent_code)\n",
    "        return country_continent_name\n",
    "    except :\n",
    "        return 'na'\n",
    "\n",
    "#Collecting continent Information, insert at position 1, with column name 'continent'\n",
    "countries = list(democracy['Country'])\n",
    "continent = []\n",
    "for index, element in enumerate(countries):\n",
    "    countries[index] = element.replace('\\xa0','')\n",
    "    continent.append(country_to_continent(countries[index]))\n",
    "continent\n",
    "democracy['Region'] = continent\n",
    "democracy.loc[countries.index('Timor-Leste'), 'Region'] = 'Asia'"
   ]
  },
  {
   "cell_type": "code",
   "execution_count": 59,
   "metadata": {},
   "outputs": [
    {
     "data": {
      "application/vnd.plotly.v1+json": {
       "config": {
        "plotlyServerURL": "https://plotly.com"
       },
       "data": [
        {
         "hovertemplate": "<b>%{hovertext}</b><br><br>Region=Europe<br>Score=%{x}<br>deathrate=%{y}<extra></extra>",
         "hovertext": [
          "Norway",
          "Iceland",
          "Sweden",
          "Finland",
          "Ireland",
          "Denmark",
          "Switzerland",
          "Netherlands",
          "Luxembourg",
          "Germany",
          "United Kingdom",
          "Spain",
          "Austria",
          "France",
          "Portugal",
          "Malta",
          "Estonia",
          "Czech Republic",
          "Belgium",
          "Italy",
          "Slovenia",
          "Lithuania",
          "Latvia",
          "Greece",
          "Slovakia",
          "Bulgaria",
          "Hungary",
          "Poland",
          "Croatia",
          "Romania",
          "Serbia",
          "North Macedonia",
          "Ukraine",
          "Albania",
          "Moldova",
          "Montenegro",
          "Bosnia and Herzegovina",
          "Russia",
          "Belarus"
         ],
         "legendgroup": "Europe",
         "marker": {
          "color": "#636efa",
          "symbol": "circle"
         },
         "mode": "markers",
         "name": "Europe",
         "showlegend": true,
         "type": "scatter",
         "x": [
          9.87,
          9.58,
          9.39,
          9.25,
          9.24,
          9.22,
          9.03,
          9.01,
          8.81,
          8.68,
          8.52,
          8.29,
          8.29,
          8.12,
          8.03,
          7.95,
          7.9,
          7.69,
          7.64,
          7.52,
          7.5,
          7.5,
          7.49,
          7.43,
          7.17,
          7.03,
          6.63,
          6.62,
          6.57,
          6.49,
          6.41,
          5.97,
          5.9,
          5.89,
          5.75,
          5.65,
          4.86,
          3.11,
          2.48
         ],
         "xaxis": "x",
         "y": [
          0.028184347405346557,
          0.005549389567147614,
          0.121529919802591,
          0.047038599781215815,
          0.0643684796503237,
          0.04901263120441202,
          0.06176105558821608,
          0.12900177731782492,
          0.027539161192521474,
          0.04545556818053977,
          0.14160983137308206,
          0.11971366635493477,
          0.038723117456038236,
          0.15489158970447625,
          0.04236885023104105,
          0.01054481546572935,
          0.03573422668900056,
          "na",
          0.16325213744152284,
          0.14190181694670026,
          0.070892978868439,
          0.03841229193341869,
          0.020750988142292492,
          0.058098591549295774,
          0.018729096989966554,
          0.04957945993802568,
          0.1313273340832396,
          0.04920074735312435,
          0.043010752688172046,
          0.0661392589145483,
          0.02180191931426442,
          0.057640021750951606,
          0.02903157448611994,
          0.032665964172813484,
          0.03485804416403786,
          0.027777777777777776,
          0.05773373545885394,
          0.009458526843612577,
          0.005554144979052939
         ],
         "yaxis": "y"
        },
        {
         "hovertemplate": "<b>%{hovertext}</b><br><br>Region=Oceania<br>Score=%{x}<br>deathrate=%{y}<extra></extra>",
         "hovertext": [
          "New Zealand",
          "Australia",
          "Papua New Guinea",
          "Fiji"
         ],
         "legendgroup": "Oceania",
         "marker": {
          "color": "#EF553B",
          "symbol": "circle"
         },
         "mode": "markers",
         "name": "Oceania",
         "showlegend": true,
         "type": "scatter",
         "x": [
          9.26,
          9.09,
          6.03,
          5.85
         ],
         "xaxis": "x",
         "y": [
          0.013972055888223553,
          0.01414027149321267,
          0,
          0
         ],
         "yaxis": "y"
        },
        {
         "hovertemplate": "<b>%{hovertext}</b><br><br>Region=North America<br>Score=%{x}<br>deathrate=%{y}<extra></extra>",
         "hovertext": [
          "Canada",
          "Costa Rica",
          "United States",
          "Trinidad and Tobago",
          "Panama",
          "Jamaica",
          "Dominican Republic",
          "El Salvador",
          "Mexico",
          "Honduras",
          "Guatemala",
          "Haiti",
          "Nicaragua",
          "Cuba"
         ],
         "legendgroup": "North America",
         "marker": {
          "color": "#00cc96",
          "symbol": "circle"
         },
         "mode": "markers",
         "name": "North America",
         "showlegend": true,
         "type": "scatter",
         "x": [
          9.22,
          8.13,
          7.96,
          7.16,
          7.05,
          6.96,
          6.54,
          6.15,
          6.09,
          5.42,
          5.26,
          4.57,
          3.55,
          2.84
         ],
         "xaxis": "x",
         "y": [
          0.07488849962108507,
          0.011337868480725623,
          0.06013536852792941,
          0.06896551724137931,
          0.028478767609202392,
          0.01730769230769231,
          0.03335097935415564,
          0.020026702269692925,
          0.104257903065543,
          0.049746192893401014,
          0.02015939990623535,
          0.039399624765478425,
          0.06692913385826772,
          0.041865394806571275
         ],
         "yaxis": "y"
        },
        {
         "hovertemplate": "<b>%{hovertext}</b><br><br>Region=South America<br>Score=%{x}<br>deathrate=%{y}<extra></extra>",
         "hovertext": [
          "Uruguay",
          "Chile",
          "Colombia",
          "Argentina",
          "Suriname",
          "Brazil",
          "Peru",
          "Ecuador",
          "Paraguay",
          "Guyana",
          "Bolivia",
          "Venezuela"
         ],
         "legendgroup": "South America",
         "marker": {
          "color": "#ab63fa",
          "symbol": "circle"
         },
         "mode": "markers",
         "name": "South America",
         "showlegend": true,
         "type": "scatter",
         "x": [
          8.38,
          8.08,
          7.13,
          7.02,
          6.98,
          6.86,
          6.6,
          6.33,
          6.24,
          6.15,
          4.84,
          2.88
         ],
         "xaxis": "x",
         "y": [
          0.02710027100271003,
          0.010266443453881684,
          0.03619722468260998,
          0.04461346350323533,
          0.09090909090909091,
          0.06614193500928701,
          0.029291436727883157,
          0.0831308014406606,
          0.013268998793727383,
          0.08,
          0.042178085248828386,
          0.01335113484646195
         ],
         "yaxis": "y"
        },
        {
         "hovertemplate": "<b>%{hovertext}</b><br><br>Region=Africa<br>Score=%{x}<br>deathrate=%{y}<extra></extra>",
         "hovertext": [
          "Mauritius",
          "Botswana",
          "Cape Verde",
          "South Africa",
          "Tunisia",
          "Ghana",
          "Lesotho",
          "Namibia",
          "Senegal",
          "Madagascar",
          "Malawi",
          "Liberia",
          "Kenya",
          "Tanzania",
          "Morocco",
          "Zambia",
          "Benin",
          "Uganda",
          "Mali",
          "Sierra Leone",
          "Gambia",
          "Nigeria",
          "Ivory Coast",
          "Burkina Faso",
          "Algeria",
          "Mauritania",
          "Angola",
          "Mozambique",
          "Gabon",
          "Ethiopia",
          "Togo",
          "Niger",
          "Zimbabwe",
          "Rwanda",
          "Comoros",
          "Guinea",
          "Eswatini",
          "Republic of the Congo",
          "Egypt",
          "Cameroon",
          "Djibouti",
          "Sudan",
          "Guinea-Bissau",
          "Eritrea",
          "Burundi",
          "Libya",
          "Equatorial Guinea",
          "Chad",
          "Central African Republic",
          "Democratic Republic of the Congo"
         ],
         "legendgroup": "Africa",
         "marker": {
          "color": "#FFA15A",
          "symbol": "circle"
         },
         "mode": "markers",
         "name": "Africa",
         "showlegend": true,
         "type": "scatter",
         "x": [
          8.22,
          7.81,
          7.78,
          7.24,
          6.72,
          6.63,
          6.54,
          6.43,
          5.81,
          5.64,
          5.5,
          5.45,
          5.18,
          5.16,
          5.1,
          5.09,
          5.09,
          5.02,
          4.92,
          4.86,
          4.33,
          4.12,
          4.05,
          4.04,
          4.01,
          3.92,
          3.72,
          3.65,
          3.61,
          3.44,
          3.3,
          3.29,
          3.16,
          3.16,
          3.15,
          3.14,
          3.14,
          3.11,
          3.06,
          2.85,
          2.77,
          2.7,
          2.63,
          2.37,
          2.15,
          2.02,
          1.92,
          1.61,
          1.32,
          1.13
         ],
         "xaxis": "x",
         "y": [
          0.030120481927710843,
          0.04,
          "na",
          0.01813953488372093,
          0.045019157088122604,
          0.005085301837270341,
          0,
          0,
          0.01146350783339702,
          0.006134969325153374,
          0.04285714285714286,
          0.09871244635193133,
          0.05192107995846314,
          0.0412573673870334,
          0.027481133418766908,
          0.009067357512953367,
          0.015384615384615385,
          0,
          0.058823529411764705,
          0.06179775280898876,
          0.041666666666666664,
          0.029995313232307454,
          "na",
          0.06407035175879397,
          0.07604717364782432,
          0.030534351145038167,
          0.057692307692307696,
          0,
          0.007989347536617843,
          0.0136986301369863,
          0.03550295857988166,
          0.060175054704595186,
          0.08695652173913043,
          0,
          0.09090909090909091,
          0.0062871114215857496,
          0.009615384615384616,
          "na",
          0.04887273805992287,
          0.03967129498441485,
          0.004326328800988875,
          0.0406891495601173,
          0.005780346820809248,
          0,
          0.023809523809523808,
          0.04411764705882353,
          0.008484848484848486,
          0.10275229357798166,
          0,
          "na"
         ],
         "yaxis": "y"
        },
        {
         "hovertemplate": "<b>%{hovertext}</b><br><br>Region=Asia<br>Score=%{x}<br>deathrate=%{y}<extra></extra>",
         "hovertext": [
          "South Korea",
          "Japan",
          "Israel",
          "Taiwan",
          "Cyprus",
          "Timor-Leste",
          "Malaysia",
          "India",
          "Philippines",
          "Mongolia",
          "Indonesia",
          "Thailand",
          "Sri Lanka",
          "Singapore",
          "Hong Kong",
          "Bangladesh",
          "Armenia",
          "Georgia",
          "Bhutan",
          "Nepal",
          "Kyrgyzstan",
          "Lebanon",
          "Pakistan",
          "Turkey",
          "Kuwait",
          "Jordan",
          "Palestine",
          "Iraq",
          "Myanmar",
          "Cambodia",
          "Qatar",
          "Vietnam",
          "Oman",
          "Kazakhstan",
          "Afghanistan",
          "United Arab Emirates",
          "Azerbaijan",
          "Bahrain",
          "Iran",
          "China",
          "Laos",
          "Uzbekistan",
          "Yemen",
          "Tajikistan",
          "Saudi Arabia",
          "Turkmenistan",
          "Syria",
          "North Korea"
         ],
         "legendgroup": "Asia",
         "marker": {
          "color": "#19d3f3",
          "symbol": "circle"
         },
         "mode": "markers",
         "name": "Asia",
         "showlegend": true,
         "type": "scatter",
         "x": [
          8,
          7.99,
          7.86,
          7.73,
          7.59,
          7.19,
          7.16,
          6.9,
          6.64,
          6.5,
          6.48,
          6.32,
          6.27,
          6.02,
          6.02,
          5.88,
          5.54,
          5.42,
          5.3,
          5.28,
          4.89,
          4.36,
          4.25,
          4.09,
          3.93,
          3.93,
          3.89,
          3.74,
          3.55,
          3.53,
          3.19,
          3.08,
          3.06,
          2.94,
          2.85,
          2.76,
          2.75,
          2.55,
          2.38,
          2.26,
          2.14,
          2.01,
          1.95,
          1.93,
          1.93,
          1.72,
          1.43,
          1.08
         ],
         "xaxis": "x",
         "y": [
          "na",
          0.046923687908596565,
          0.016687676331112313,
          "na",
          0.018518518518518517,
          0,
          0.01633705932932072,
          0.031011974641934725,
          0.06467315716272601,
          0,
          0.06601427335640138,
          0.018463567424991757,
          0.008763388510223954,
          0.0007640480655692158,
          "na",
          0.014728713028939931,
          0.012695893671890498,
          0.016973125884016973,
          0,
          0.004975124378109453,
          0.011263073209975865,
          0.027253668763102725,
          0.02135741254605832,
          0.027695148896876957,
          0.007217847769028871,
          0.01386748844375963,
          "na",
          0.0362780393242869,
          "na",
          0,
          0.00042127731281244734,
          0,
          0.004761065067889261,
          0.005184417123389127,
          0.023258852737488567,
          0.009057175916689942,
          0.011654349061967027,
          0.0015932023366967605,
          0.057133455855798015,
          0.05517290603475965,
          0,
          0.004553415061295972,
          0.16766467065868262,
          0.021177685950413222,
          0.005496708657733819,
          "na",
          0.05172413793103448,
          "na"
         ],
         "yaxis": "y"
        }
       ],
       "layout": {
        "legend": {
         "title": {
          "text": "Region"
         },
         "tracegroupgap": 0
        },
        "template": {
         "data": {
          "bar": [
           {
            "error_x": {
             "color": "#2a3f5f"
            },
            "error_y": {
             "color": "#2a3f5f"
            },
            "marker": {
             "line": {
              "color": "#E5ECF6",
              "width": 0.5
             }
            },
            "type": "bar"
           }
          ],
          "barpolar": [
           {
            "marker": {
             "line": {
              "color": "#E5ECF6",
              "width": 0.5
             }
            },
            "type": "barpolar"
           }
          ],
          "carpet": [
           {
            "aaxis": {
             "endlinecolor": "#2a3f5f",
             "gridcolor": "white",
             "linecolor": "white",
             "minorgridcolor": "white",
             "startlinecolor": "#2a3f5f"
            },
            "baxis": {
             "endlinecolor": "#2a3f5f",
             "gridcolor": "white",
             "linecolor": "white",
             "minorgridcolor": "white",
             "startlinecolor": "#2a3f5f"
            },
            "type": "carpet"
           }
          ],
          "choropleth": [
           {
            "colorbar": {
             "outlinewidth": 0,
             "ticks": ""
            },
            "type": "choropleth"
           }
          ],
          "contour": [
           {
            "colorbar": {
             "outlinewidth": 0,
             "ticks": ""
            },
            "colorscale": [
             [
              0,
              "#0d0887"
             ],
             [
              0.1111111111111111,
              "#46039f"
             ],
             [
              0.2222222222222222,
              "#7201a8"
             ],
             [
              0.3333333333333333,
              "#9c179e"
             ],
             [
              0.4444444444444444,
              "#bd3786"
             ],
             [
              0.5555555555555556,
              "#d8576b"
             ],
             [
              0.6666666666666666,
              "#ed7953"
             ],
             [
              0.7777777777777778,
              "#fb9f3a"
             ],
             [
              0.8888888888888888,
              "#fdca26"
             ],
             [
              1,
              "#f0f921"
             ]
            ],
            "type": "contour"
           }
          ],
          "contourcarpet": [
           {
            "colorbar": {
             "outlinewidth": 0,
             "ticks": ""
            },
            "type": "contourcarpet"
           }
          ],
          "heatmap": [
           {
            "colorbar": {
             "outlinewidth": 0,
             "ticks": ""
            },
            "colorscale": [
             [
              0,
              "#0d0887"
             ],
             [
              0.1111111111111111,
              "#46039f"
             ],
             [
              0.2222222222222222,
              "#7201a8"
             ],
             [
              0.3333333333333333,
              "#9c179e"
             ],
             [
              0.4444444444444444,
              "#bd3786"
             ],
             [
              0.5555555555555556,
              "#d8576b"
             ],
             [
              0.6666666666666666,
              "#ed7953"
             ],
             [
              0.7777777777777778,
              "#fb9f3a"
             ],
             [
              0.8888888888888888,
              "#fdca26"
             ],
             [
              1,
              "#f0f921"
             ]
            ],
            "type": "heatmap"
           }
          ],
          "heatmapgl": [
           {
            "colorbar": {
             "outlinewidth": 0,
             "ticks": ""
            },
            "colorscale": [
             [
              0,
              "#0d0887"
             ],
             [
              0.1111111111111111,
              "#46039f"
             ],
             [
              0.2222222222222222,
              "#7201a8"
             ],
             [
              0.3333333333333333,
              "#9c179e"
             ],
             [
              0.4444444444444444,
              "#bd3786"
             ],
             [
              0.5555555555555556,
              "#d8576b"
             ],
             [
              0.6666666666666666,
              "#ed7953"
             ],
             [
              0.7777777777777778,
              "#fb9f3a"
             ],
             [
              0.8888888888888888,
              "#fdca26"
             ],
             [
              1,
              "#f0f921"
             ]
            ],
            "type": "heatmapgl"
           }
          ],
          "histogram": [
           {
            "marker": {
             "colorbar": {
              "outlinewidth": 0,
              "ticks": ""
             }
            },
            "type": "histogram"
           }
          ],
          "histogram2d": [
           {
            "colorbar": {
             "outlinewidth": 0,
             "ticks": ""
            },
            "colorscale": [
             [
              0,
              "#0d0887"
             ],
             [
              0.1111111111111111,
              "#46039f"
             ],
             [
              0.2222222222222222,
              "#7201a8"
             ],
             [
              0.3333333333333333,
              "#9c179e"
             ],
             [
              0.4444444444444444,
              "#bd3786"
             ],
             [
              0.5555555555555556,
              "#d8576b"
             ],
             [
              0.6666666666666666,
              "#ed7953"
             ],
             [
              0.7777777777777778,
              "#fb9f3a"
             ],
             [
              0.8888888888888888,
              "#fdca26"
             ],
             [
              1,
              "#f0f921"
             ]
            ],
            "type": "histogram2d"
           }
          ],
          "histogram2dcontour": [
           {
            "colorbar": {
             "outlinewidth": 0,
             "ticks": ""
            },
            "colorscale": [
             [
              0,
              "#0d0887"
             ],
             [
              0.1111111111111111,
              "#46039f"
             ],
             [
              0.2222222222222222,
              "#7201a8"
             ],
             [
              0.3333333333333333,
              "#9c179e"
             ],
             [
              0.4444444444444444,
              "#bd3786"
             ],
             [
              0.5555555555555556,
              "#d8576b"
             ],
             [
              0.6666666666666666,
              "#ed7953"
             ],
             [
              0.7777777777777778,
              "#fb9f3a"
             ],
             [
              0.8888888888888888,
              "#fdca26"
             ],
             [
              1,
              "#f0f921"
             ]
            ],
            "type": "histogram2dcontour"
           }
          ],
          "mesh3d": [
           {
            "colorbar": {
             "outlinewidth": 0,
             "ticks": ""
            },
            "type": "mesh3d"
           }
          ],
          "parcoords": [
           {
            "line": {
             "colorbar": {
              "outlinewidth": 0,
              "ticks": ""
             }
            },
            "type": "parcoords"
           }
          ],
          "pie": [
           {
            "automargin": true,
            "type": "pie"
           }
          ],
          "scatter": [
           {
            "marker": {
             "colorbar": {
              "outlinewidth": 0,
              "ticks": ""
             }
            },
            "type": "scatter"
           }
          ],
          "scatter3d": [
           {
            "line": {
             "colorbar": {
              "outlinewidth": 0,
              "ticks": ""
             }
            },
            "marker": {
             "colorbar": {
              "outlinewidth": 0,
              "ticks": ""
             }
            },
            "type": "scatter3d"
           }
          ],
          "scattercarpet": [
           {
            "marker": {
             "colorbar": {
              "outlinewidth": 0,
              "ticks": ""
             }
            },
            "type": "scattercarpet"
           }
          ],
          "scattergeo": [
           {
            "marker": {
             "colorbar": {
              "outlinewidth": 0,
              "ticks": ""
             }
            },
            "type": "scattergeo"
           }
          ],
          "scattergl": [
           {
            "marker": {
             "colorbar": {
              "outlinewidth": 0,
              "ticks": ""
             }
            },
            "type": "scattergl"
           }
          ],
          "scattermapbox": [
           {
            "marker": {
             "colorbar": {
              "outlinewidth": 0,
              "ticks": ""
             }
            },
            "type": "scattermapbox"
           }
          ],
          "scatterpolar": [
           {
            "marker": {
             "colorbar": {
              "outlinewidth": 0,
              "ticks": ""
             }
            },
            "type": "scatterpolar"
           }
          ],
          "scatterpolargl": [
           {
            "marker": {
             "colorbar": {
              "outlinewidth": 0,
              "ticks": ""
             }
            },
            "type": "scatterpolargl"
           }
          ],
          "scatterternary": [
           {
            "marker": {
             "colorbar": {
              "outlinewidth": 0,
              "ticks": ""
             }
            },
            "type": "scatterternary"
           }
          ],
          "surface": [
           {
            "colorbar": {
             "outlinewidth": 0,
             "ticks": ""
            },
            "colorscale": [
             [
              0,
              "#0d0887"
             ],
             [
              0.1111111111111111,
              "#46039f"
             ],
             [
              0.2222222222222222,
              "#7201a8"
             ],
             [
              0.3333333333333333,
              "#9c179e"
             ],
             [
              0.4444444444444444,
              "#bd3786"
             ],
             [
              0.5555555555555556,
              "#d8576b"
             ],
             [
              0.6666666666666666,
              "#ed7953"
             ],
             [
              0.7777777777777778,
              "#fb9f3a"
             ],
             [
              0.8888888888888888,
              "#fdca26"
             ],
             [
              1,
              "#f0f921"
             ]
            ],
            "type": "surface"
           }
          ],
          "table": [
           {
            "cells": {
             "fill": {
              "color": "#EBF0F8"
             },
             "line": {
              "color": "white"
             }
            },
            "header": {
             "fill": {
              "color": "#C8D4E3"
             },
             "line": {
              "color": "white"
             }
            },
            "type": "table"
           }
          ]
         },
         "layout": {
          "annotationdefaults": {
           "arrowcolor": "#2a3f5f",
           "arrowhead": 0,
           "arrowwidth": 1
          },
          "coloraxis": {
           "colorbar": {
            "outlinewidth": 0,
            "ticks": ""
           }
          },
          "colorscale": {
           "diverging": [
            [
             0,
             "#8e0152"
            ],
            [
             0.1,
             "#c51b7d"
            ],
            [
             0.2,
             "#de77ae"
            ],
            [
             0.3,
             "#f1b6da"
            ],
            [
             0.4,
             "#fde0ef"
            ],
            [
             0.5,
             "#f7f7f7"
            ],
            [
             0.6,
             "#e6f5d0"
            ],
            [
             0.7,
             "#b8e186"
            ],
            [
             0.8,
             "#7fbc41"
            ],
            [
             0.9,
             "#4d9221"
            ],
            [
             1,
             "#276419"
            ]
           ],
           "sequential": [
            [
             0,
             "#0d0887"
            ],
            [
             0.1111111111111111,
             "#46039f"
            ],
            [
             0.2222222222222222,
             "#7201a8"
            ],
            [
             0.3333333333333333,
             "#9c179e"
            ],
            [
             0.4444444444444444,
             "#bd3786"
            ],
            [
             0.5555555555555556,
             "#d8576b"
            ],
            [
             0.6666666666666666,
             "#ed7953"
            ],
            [
             0.7777777777777778,
             "#fb9f3a"
            ],
            [
             0.8888888888888888,
             "#fdca26"
            ],
            [
             1,
             "#f0f921"
            ]
           ],
           "sequentialminus": [
            [
             0,
             "#0d0887"
            ],
            [
             0.1111111111111111,
             "#46039f"
            ],
            [
             0.2222222222222222,
             "#7201a8"
            ],
            [
             0.3333333333333333,
             "#9c179e"
            ],
            [
             0.4444444444444444,
             "#bd3786"
            ],
            [
             0.5555555555555556,
             "#d8576b"
            ],
            [
             0.6666666666666666,
             "#ed7953"
            ],
            [
             0.7777777777777778,
             "#fb9f3a"
            ],
            [
             0.8888888888888888,
             "#fdca26"
            ],
            [
             1,
             "#f0f921"
            ]
           ]
          },
          "colorway": [
           "#636efa",
           "#EF553B",
           "#00cc96",
           "#ab63fa",
           "#FFA15A",
           "#19d3f3",
           "#FF6692",
           "#B6E880",
           "#FF97FF",
           "#FECB52"
          ],
          "font": {
           "color": "#2a3f5f"
          },
          "geo": {
           "bgcolor": "white",
           "lakecolor": "white",
           "landcolor": "#E5ECF6",
           "showlakes": true,
           "showland": true,
           "subunitcolor": "white"
          },
          "hoverlabel": {
           "align": "left"
          },
          "hovermode": "closest",
          "mapbox": {
           "style": "light"
          },
          "paper_bgcolor": "white",
          "plot_bgcolor": "#E5ECF6",
          "polar": {
           "angularaxis": {
            "gridcolor": "white",
            "linecolor": "white",
            "ticks": ""
           },
           "bgcolor": "#E5ECF6",
           "radialaxis": {
            "gridcolor": "white",
            "linecolor": "white",
            "ticks": ""
           }
          },
          "scene": {
           "xaxis": {
            "backgroundcolor": "#E5ECF6",
            "gridcolor": "white",
            "gridwidth": 2,
            "linecolor": "white",
            "showbackground": true,
            "ticks": "",
            "zerolinecolor": "white"
           },
           "yaxis": {
            "backgroundcolor": "#E5ECF6",
            "gridcolor": "white",
            "gridwidth": 2,
            "linecolor": "white",
            "showbackground": true,
            "ticks": "",
            "zerolinecolor": "white"
           },
           "zaxis": {
            "backgroundcolor": "#E5ECF6",
            "gridcolor": "white",
            "gridwidth": 2,
            "linecolor": "white",
            "showbackground": true,
            "ticks": "",
            "zerolinecolor": "white"
           }
          },
          "shapedefaults": {
           "line": {
            "color": "#2a3f5f"
           }
          },
          "ternary": {
           "aaxis": {
            "gridcolor": "white",
            "linecolor": "white",
            "ticks": ""
           },
           "baxis": {
            "gridcolor": "white",
            "linecolor": "white",
            "ticks": ""
           },
           "bgcolor": "#E5ECF6",
           "caxis": {
            "gridcolor": "white",
            "linecolor": "white",
            "ticks": ""
           }
          },
          "title": {
           "x": 0.05
          },
          "xaxis": {
           "automargin": true,
           "gridcolor": "white",
           "linecolor": "white",
           "ticks": "",
           "title": {
            "standoff": 15
           },
           "zerolinecolor": "white",
           "zerolinewidth": 2
          },
          "yaxis": {
           "automargin": true,
           "gridcolor": "white",
           "linecolor": "white",
           "ticks": "",
           "title": {
            "standoff": 15
           },
           "zerolinecolor": "white",
           "zerolinewidth": 2
          }
         }
        },
        "title": {
         "text": "democracy Index vs. death rate"
        },
        "xaxis": {
         "anchor": "y",
         "domain": [
          0,
          1
         ],
         "title": {
          "text": "Democracy Index score"
         }
        },
        "yaxis": {
         "anchor": "x",
         "domain": [
          0,
          1
         ],
         "title": {
          "text": "death rate"
         }
        }
       }
      },
      "text/html": [
       "<div>\n",
       "        \n",
       "        \n",
       "            <div id=\"2dbcfc3d-0807-4e39-98f4-838e4ae92f25\" class=\"plotly-graph-div\" style=\"height:525px; width:100%;\"></div>\n",
       "            <script type=\"text/javascript\">\n",
       "                require([\"plotly\"], function(Plotly) {\n",
       "                    window.PLOTLYENV=window.PLOTLYENV || {};\n",
       "                    \n",
       "                if (document.getElementById(\"2dbcfc3d-0807-4e39-98f4-838e4ae92f25\")) {\n",
       "                    Plotly.newPlot(\n",
       "                        '2dbcfc3d-0807-4e39-98f4-838e4ae92f25',\n",
       "                        [{\"hovertemplate\": \"<b>%{hovertext}</b><br><br>Region=Europe<br>Score=%{x}<br>deathrate=%{y}<extra></extra>\", \"hovertext\": [\"Norway\", \"Iceland\", \"Sweden\", \"Finland\", \"Ireland\", \"Denmark\", \"Switzerland\", \"Netherlands\", \"Luxembourg\", \"Germany\", \"United Kingdom\", \"Spain\", \"Austria\", \"France\", \"Portugal\", \"Malta\", \"Estonia\", \"Czech Republic\", \"Belgium\", \"Italy\", \"Slovenia\", \"Lithuania\", \"Latvia\", \"Greece\", \"Slovakia\", \"Bulgaria\", \"Hungary\", \"Poland\", \"Croatia\", \"Romania\", \"Serbia\", \"North Macedonia\", \"Ukraine\", \"Albania\", \"Moldova\", \"Montenegro\", \"Bosnia and Herzegovina\", \"Russia\", \"Belarus\"], \"legendgroup\": \"Europe\", \"marker\": {\"color\": \"#636efa\", \"symbol\": \"circle\"}, \"mode\": \"markers\", \"name\": \"Europe\", \"showlegend\": true, \"type\": \"scatter\", \"x\": [9.87, 9.58, 9.39, 9.25, 9.24, 9.22, 9.03, 9.01, 8.81, 8.68, 8.52, 8.29, 8.29, 8.12, 8.03, 7.95, 7.9, 7.69, 7.64, 7.52, 7.5, 7.5, 7.49, 7.43, 7.17, 7.03, 6.63, 6.62, 6.57, 6.49, 6.41, 5.97, 5.9, 5.89, 5.75, 5.65, 4.86, 3.11, 2.48], \"xaxis\": \"x\", \"y\": [0.028184347405346557, 0.005549389567147614, 0.121529919802591, 0.047038599781215815, 0.0643684796503237, 0.04901263120441202, 0.06176105558821608, 0.12900177731782492, 0.027539161192521474, 0.04545556818053977, 0.14160983137308206, 0.11971366635493477, 0.038723117456038236, 0.15489158970447625, 0.04236885023104105, 0.01054481546572935, 0.03573422668900056, \"na\", 0.16325213744152284, 0.14190181694670026, 0.070892978868439, 0.03841229193341869, 0.020750988142292492, 0.058098591549295774, 0.018729096989966554, 0.04957945993802568, 0.1313273340832396, 0.04920074735312435, 0.043010752688172046, 0.0661392589145483, 0.02180191931426442, 0.057640021750951606, 0.02903157448611994, 0.032665964172813484, 0.03485804416403786, 0.027777777777777776, 0.05773373545885394, 0.009458526843612577, 0.005554144979052939], \"yaxis\": \"y\"}, {\"hovertemplate\": \"<b>%{hovertext}</b><br><br>Region=Oceania<br>Score=%{x}<br>deathrate=%{y}<extra></extra>\", \"hovertext\": [\"New Zealand\", \"Australia\", \"Papua New Guinea\", \"Fiji\"], \"legendgroup\": \"Oceania\", \"marker\": {\"color\": \"#EF553B\", \"symbol\": \"circle\"}, \"mode\": \"markers\", \"name\": \"Oceania\", \"showlegend\": true, \"type\": \"scatter\", \"x\": [9.26, 9.09, 6.03, 5.85], \"xaxis\": \"x\", \"y\": [0.013972055888223553, 0.01414027149321267, 0.0, 0.0], \"yaxis\": \"y\"}, {\"hovertemplate\": \"<b>%{hovertext}</b><br><br>Region=North America<br>Score=%{x}<br>deathrate=%{y}<extra></extra>\", \"hovertext\": [\"Canada\", \"Costa Rica\", \"United States\", \"Trinidad and Tobago\", \"Panama\", \"Jamaica\", \"Dominican Republic\", \"El Salvador\", \"Mexico\", \"Honduras\", \"Guatemala\", \"Haiti\", \"Nicaragua\", \"Cuba\"], \"legendgroup\": \"North America\", \"marker\": {\"color\": \"#00cc96\", \"symbol\": \"circle\"}, \"mode\": \"markers\", \"name\": \"North America\", \"showlegend\": true, \"type\": \"scatter\", \"x\": [9.22, 8.13, 7.96, 7.16, 7.05, 6.96, 6.54, 6.15, 6.09, 5.42, 5.26, 4.57, 3.55, 2.84], \"xaxis\": \"x\", \"y\": [0.07488849962108507, 0.011337868480725623, 0.06013536852792941, 0.06896551724137931, 0.028478767609202392, 0.01730769230769231, 0.03335097935415564, 0.020026702269692925, 0.104257903065543, 0.049746192893401014, 0.02015939990623535, 0.039399624765478425, 0.06692913385826772, 0.041865394806571275], \"yaxis\": \"y\"}, {\"hovertemplate\": \"<b>%{hovertext}</b><br><br>Region=South America<br>Score=%{x}<br>deathrate=%{y}<extra></extra>\", \"hovertext\": [\"Uruguay\", \"Chile\", \"Colombia\", \"Argentina\", \"Suriname\", \"Brazil\", \"Peru\", \"Ecuador\", \"Paraguay\", \"Guyana\", \"Bolivia\", \"Venezuela\"], \"legendgroup\": \"South America\", \"marker\": {\"color\": \"#ab63fa\", \"symbol\": \"circle\"}, \"mode\": \"markers\", \"name\": \"South America\", \"showlegend\": true, \"type\": \"scatter\", \"x\": [8.38, 8.08, 7.13, 7.02, 6.98, 6.86, 6.6, 6.33, 6.24, 6.15, 4.84, 2.88], \"xaxis\": \"x\", \"y\": [0.02710027100271003, 0.010266443453881684, 0.03619722468260998, 0.04461346350323533, 0.09090909090909091, 0.06614193500928701, 0.029291436727883157, 0.0831308014406606, 0.013268998793727383, 0.08, 0.042178085248828386, 0.01335113484646195], \"yaxis\": \"y\"}, {\"hovertemplate\": \"<b>%{hovertext}</b><br><br>Region=Africa<br>Score=%{x}<br>deathrate=%{y}<extra></extra>\", \"hovertext\": [\"Mauritius\", \"Botswana\", \"Cape Verde\", \"South Africa\", \"Tunisia\", \"Ghana\", \"Lesotho\", \"Namibia\", \"Senegal\", \"Madagascar\", \"Malawi\", \"Liberia\", \"Kenya\", \"Tanzania\", \"Morocco\", \"Zambia\", \"Benin\", \"Uganda\", \"Mali\", \"Sierra Leone\", \"Gambia\", \"Nigeria\", \"Ivory Coast\", \"Burkina Faso\", \"Algeria\", \"Mauritania\", \"Angola\", \"Mozambique\", \"Gabon\", \"Ethiopia\", \"Togo\", \"Niger\", \"Zimbabwe\", \"Rwanda\", \"Comoros\", \"Guinea\", \"Eswatini\", \"Republic of the Congo\", \"Egypt\", \"Cameroon\", \"Djibouti\", \"Sudan\", \"Guinea-Bissau\", \"Eritrea\", \"Burundi\", \"Libya\", \"Equatorial Guinea\", \"Chad\", \"Central African Republic\", \"Democratic Republic of the Congo\"], \"legendgroup\": \"Africa\", \"marker\": {\"color\": \"#FFA15A\", \"symbol\": \"circle\"}, \"mode\": \"markers\", \"name\": \"Africa\", \"showlegend\": true, \"type\": \"scatter\", \"x\": [8.22, 7.81, 7.78, 7.24, 6.72, 6.63, 6.54, 6.43, 5.81, 5.64, 5.5, 5.45, 5.18, 5.16, 5.1, 5.09, 5.09, 5.02, 4.92, 4.86, 4.33, 4.12, 4.05, 4.04, 4.01, 3.92, 3.72, 3.65, 3.61, 3.44, 3.3, 3.29, 3.16, 3.16, 3.15, 3.14, 3.14, 3.11, 3.06, 2.85, 2.77, 2.7, 2.63, 2.37, 2.15, 2.02, 1.92, 1.61, 1.32, 1.13], \"xaxis\": \"x\", \"y\": [0.030120481927710843, 0.04, \"na\", 0.01813953488372093, 0.045019157088122604, 0.005085301837270341, 0.0, 0.0, 0.01146350783339702, 0.006134969325153374, 0.04285714285714286, 0.09871244635193133, 0.05192107995846314, 0.0412573673870334, 0.027481133418766908, 0.009067357512953367, 0.015384615384615385, 0.0, 0.058823529411764705, 0.06179775280898876, 0.041666666666666664, 0.029995313232307454, \"na\", 0.06407035175879397, 0.07604717364782432, 0.030534351145038167, 0.057692307692307696, 0.0, 0.007989347536617843, 0.0136986301369863, 0.03550295857988166, 0.060175054704595186, 0.08695652173913043, 0.0, 0.09090909090909091, 0.0062871114215857496, 0.009615384615384616, \"na\", 0.04887273805992287, 0.03967129498441485, 0.004326328800988875, 0.0406891495601173, 0.005780346820809248, 0.0, 0.023809523809523808, 0.04411764705882353, 0.008484848484848486, 0.10275229357798166, 0.0, \"na\"], \"yaxis\": \"y\"}, {\"hovertemplate\": \"<b>%{hovertext}</b><br><br>Region=Asia<br>Score=%{x}<br>deathrate=%{y}<extra></extra>\", \"hovertext\": [\"South Korea\", \"Japan\", \"Israel\", \"Taiwan\", \"Cyprus\", \"Timor-Leste\", \"Malaysia\", \"India\", \"Philippines\", \"Mongolia\", \"Indonesia\", \"Thailand\", \"Sri Lanka\", \"Singapore\", \"Hong Kong\", \"Bangladesh\", \"Armenia\", \"Georgia\", \"Bhutan\", \"Nepal\", \"Kyrgyzstan\", \"Lebanon\", \"Pakistan\", \"Turkey\", \"Kuwait\", \"Jordan\", \"Palestine\", \"Iraq\", \"Myanmar\", \"Cambodia\", \"Qatar\", \"Vietnam\", \"Oman\", \"Kazakhstan\", \"Afghanistan\", \"United Arab Emirates\", \"Azerbaijan\", \"Bahrain\", \"Iran\", \"China\", \"Laos\", \"Uzbekistan\", \"Yemen\", \"Tajikistan\", \"Saudi Arabia\", \"Turkmenistan\", \"Syria\", \"North Korea\"], \"legendgroup\": \"Asia\", \"marker\": {\"color\": \"#19d3f3\", \"symbol\": \"circle\"}, \"mode\": \"markers\", \"name\": \"Asia\", \"showlegend\": true, \"type\": \"scatter\", \"x\": [8.0, 7.99, 7.86, 7.73, 7.59, 7.19, 7.16, 6.9, 6.64, 6.5, 6.48, 6.32, 6.27, 6.02, 6.02, 5.88, 5.54, 5.42, 5.3, 5.28, 4.89, 4.36, 4.25, 4.09, 3.93, 3.93, 3.89, 3.74, 3.55, 3.53, 3.19, 3.08, 3.06, 2.94, 2.85, 2.76, 2.75, 2.55, 2.38, 2.26, 2.14, 2.01, 1.95, 1.93, 1.93, 1.72, 1.43, 1.08], \"xaxis\": \"x\", \"y\": [\"na\", 0.046923687908596565, 0.016687676331112313, \"na\", 0.018518518518518517, 0.0, 0.01633705932932072, 0.031011974641934725, 0.06467315716272601, 0.0, 0.06601427335640138, 0.018463567424991757, 0.008763388510223954, 0.0007640480655692158, \"na\", 0.014728713028939931, 0.012695893671890498, 0.016973125884016973, 0.0, 0.004975124378109453, 0.011263073209975865, 0.027253668763102725, 0.02135741254605832, 0.027695148896876957, 0.007217847769028871, 0.01386748844375963, \"na\", 0.0362780393242869, \"na\", 0.0, 0.00042127731281244734, 0.0, 0.004761065067889261, 0.005184417123389127, 0.023258852737488567, 0.009057175916689942, 0.011654349061967027, 0.0015932023366967605, 0.057133455855798015, 0.05517290603475965, 0.0, 0.004553415061295972, 0.16766467065868262, 0.021177685950413222, 0.005496708657733819, \"na\", 0.05172413793103448, \"na\"], \"yaxis\": \"y\"}],\n",
       "                        {\"legend\": {\"title\": {\"text\": \"Region\"}, \"tracegroupgap\": 0}, \"template\": {\"data\": {\"bar\": [{\"error_x\": {\"color\": \"#2a3f5f\"}, \"error_y\": {\"color\": \"#2a3f5f\"}, \"marker\": {\"line\": {\"color\": \"#E5ECF6\", \"width\": 0.5}}, \"type\": \"bar\"}], \"barpolar\": [{\"marker\": {\"line\": {\"color\": \"#E5ECF6\", \"width\": 0.5}}, \"type\": \"barpolar\"}], \"carpet\": [{\"aaxis\": {\"endlinecolor\": \"#2a3f5f\", \"gridcolor\": \"white\", \"linecolor\": \"white\", \"minorgridcolor\": \"white\", \"startlinecolor\": \"#2a3f5f\"}, \"baxis\": {\"endlinecolor\": \"#2a3f5f\", \"gridcolor\": \"white\", \"linecolor\": \"white\", \"minorgridcolor\": \"white\", \"startlinecolor\": \"#2a3f5f\"}, \"type\": \"carpet\"}], \"choropleth\": [{\"colorbar\": {\"outlinewidth\": 0, \"ticks\": \"\"}, \"type\": \"choropleth\"}], \"contour\": [{\"colorbar\": {\"outlinewidth\": 0, \"ticks\": \"\"}, \"colorscale\": [[0.0, \"#0d0887\"], [0.1111111111111111, \"#46039f\"], [0.2222222222222222, \"#7201a8\"], [0.3333333333333333, \"#9c179e\"], [0.4444444444444444, \"#bd3786\"], [0.5555555555555556, \"#d8576b\"], [0.6666666666666666, \"#ed7953\"], [0.7777777777777778, \"#fb9f3a\"], [0.8888888888888888, \"#fdca26\"], [1.0, \"#f0f921\"]], \"type\": \"contour\"}], \"contourcarpet\": [{\"colorbar\": {\"outlinewidth\": 0, \"ticks\": \"\"}, \"type\": \"contourcarpet\"}], \"heatmap\": [{\"colorbar\": {\"outlinewidth\": 0, \"ticks\": \"\"}, \"colorscale\": [[0.0, \"#0d0887\"], [0.1111111111111111, \"#46039f\"], [0.2222222222222222, \"#7201a8\"], [0.3333333333333333, \"#9c179e\"], [0.4444444444444444, \"#bd3786\"], [0.5555555555555556, \"#d8576b\"], [0.6666666666666666, \"#ed7953\"], [0.7777777777777778, \"#fb9f3a\"], [0.8888888888888888, \"#fdca26\"], [1.0, \"#f0f921\"]], \"type\": \"heatmap\"}], \"heatmapgl\": [{\"colorbar\": {\"outlinewidth\": 0, \"ticks\": \"\"}, \"colorscale\": [[0.0, \"#0d0887\"], [0.1111111111111111, \"#46039f\"], [0.2222222222222222, \"#7201a8\"], [0.3333333333333333, \"#9c179e\"], [0.4444444444444444, \"#bd3786\"], [0.5555555555555556, \"#d8576b\"], [0.6666666666666666, \"#ed7953\"], [0.7777777777777778, \"#fb9f3a\"], [0.8888888888888888, \"#fdca26\"], [1.0, \"#f0f921\"]], \"type\": \"heatmapgl\"}], \"histogram\": [{\"marker\": {\"colorbar\": {\"outlinewidth\": 0, \"ticks\": \"\"}}, \"type\": \"histogram\"}], \"histogram2d\": [{\"colorbar\": {\"outlinewidth\": 0, \"ticks\": \"\"}, \"colorscale\": [[0.0, \"#0d0887\"], [0.1111111111111111, \"#46039f\"], [0.2222222222222222, \"#7201a8\"], [0.3333333333333333, \"#9c179e\"], [0.4444444444444444, \"#bd3786\"], [0.5555555555555556, \"#d8576b\"], [0.6666666666666666, \"#ed7953\"], [0.7777777777777778, \"#fb9f3a\"], [0.8888888888888888, \"#fdca26\"], [1.0, \"#f0f921\"]], \"type\": \"histogram2d\"}], \"histogram2dcontour\": [{\"colorbar\": {\"outlinewidth\": 0, \"ticks\": \"\"}, \"colorscale\": [[0.0, \"#0d0887\"], [0.1111111111111111, \"#46039f\"], [0.2222222222222222, \"#7201a8\"], [0.3333333333333333, \"#9c179e\"], [0.4444444444444444, \"#bd3786\"], [0.5555555555555556, \"#d8576b\"], [0.6666666666666666, \"#ed7953\"], [0.7777777777777778, \"#fb9f3a\"], [0.8888888888888888, \"#fdca26\"], [1.0, \"#f0f921\"]], \"type\": \"histogram2dcontour\"}], \"mesh3d\": [{\"colorbar\": {\"outlinewidth\": 0, \"ticks\": \"\"}, \"type\": \"mesh3d\"}], \"parcoords\": [{\"line\": {\"colorbar\": {\"outlinewidth\": 0, \"ticks\": \"\"}}, \"type\": \"parcoords\"}], \"pie\": [{\"automargin\": true, \"type\": \"pie\"}], \"scatter\": [{\"marker\": {\"colorbar\": {\"outlinewidth\": 0, \"ticks\": \"\"}}, \"type\": \"scatter\"}], \"scatter3d\": [{\"line\": {\"colorbar\": {\"outlinewidth\": 0, \"ticks\": \"\"}}, \"marker\": {\"colorbar\": {\"outlinewidth\": 0, \"ticks\": \"\"}}, \"type\": \"scatter3d\"}], \"scattercarpet\": [{\"marker\": {\"colorbar\": {\"outlinewidth\": 0, \"ticks\": \"\"}}, \"type\": \"scattercarpet\"}], \"scattergeo\": [{\"marker\": {\"colorbar\": {\"outlinewidth\": 0, \"ticks\": \"\"}}, \"type\": \"scattergeo\"}], \"scattergl\": [{\"marker\": {\"colorbar\": {\"outlinewidth\": 0, \"ticks\": \"\"}}, \"type\": \"scattergl\"}], \"scattermapbox\": [{\"marker\": {\"colorbar\": {\"outlinewidth\": 0, \"ticks\": \"\"}}, \"type\": \"scattermapbox\"}], \"scatterpolar\": [{\"marker\": {\"colorbar\": {\"outlinewidth\": 0, \"ticks\": \"\"}}, \"type\": \"scatterpolar\"}], \"scatterpolargl\": [{\"marker\": {\"colorbar\": {\"outlinewidth\": 0, \"ticks\": \"\"}}, \"type\": \"scatterpolargl\"}], \"scatterternary\": [{\"marker\": {\"colorbar\": {\"outlinewidth\": 0, \"ticks\": \"\"}}, \"type\": \"scatterternary\"}], \"surface\": [{\"colorbar\": {\"outlinewidth\": 0, \"ticks\": \"\"}, \"colorscale\": [[0.0, \"#0d0887\"], [0.1111111111111111, \"#46039f\"], [0.2222222222222222, \"#7201a8\"], [0.3333333333333333, \"#9c179e\"], [0.4444444444444444, \"#bd3786\"], [0.5555555555555556, \"#d8576b\"], [0.6666666666666666, \"#ed7953\"], [0.7777777777777778, \"#fb9f3a\"], [0.8888888888888888, \"#fdca26\"], [1.0, \"#f0f921\"]], \"type\": \"surface\"}], \"table\": [{\"cells\": {\"fill\": {\"color\": \"#EBF0F8\"}, \"line\": {\"color\": \"white\"}}, \"header\": {\"fill\": {\"color\": \"#C8D4E3\"}, \"line\": {\"color\": \"white\"}}, \"type\": \"table\"}]}, \"layout\": {\"annotationdefaults\": {\"arrowcolor\": \"#2a3f5f\", \"arrowhead\": 0, \"arrowwidth\": 1}, \"coloraxis\": {\"colorbar\": {\"outlinewidth\": 0, \"ticks\": \"\"}}, \"colorscale\": {\"diverging\": [[0, \"#8e0152\"], [0.1, \"#c51b7d\"], [0.2, \"#de77ae\"], [0.3, \"#f1b6da\"], [0.4, \"#fde0ef\"], [0.5, \"#f7f7f7\"], [0.6, \"#e6f5d0\"], [0.7, \"#b8e186\"], [0.8, \"#7fbc41\"], [0.9, \"#4d9221\"], [1, \"#276419\"]], \"sequential\": [[0.0, \"#0d0887\"], [0.1111111111111111, \"#46039f\"], [0.2222222222222222, \"#7201a8\"], [0.3333333333333333, \"#9c179e\"], [0.4444444444444444, \"#bd3786\"], [0.5555555555555556, \"#d8576b\"], [0.6666666666666666, \"#ed7953\"], [0.7777777777777778, \"#fb9f3a\"], [0.8888888888888888, \"#fdca26\"], [1.0, \"#f0f921\"]], \"sequentialminus\": [[0.0, \"#0d0887\"], [0.1111111111111111, \"#46039f\"], [0.2222222222222222, \"#7201a8\"], [0.3333333333333333, \"#9c179e\"], [0.4444444444444444, \"#bd3786\"], [0.5555555555555556, \"#d8576b\"], [0.6666666666666666, \"#ed7953\"], [0.7777777777777778, \"#fb9f3a\"], [0.8888888888888888, \"#fdca26\"], [1.0, \"#f0f921\"]]}, \"colorway\": [\"#636efa\", \"#EF553B\", \"#00cc96\", \"#ab63fa\", \"#FFA15A\", \"#19d3f3\", \"#FF6692\", \"#B6E880\", \"#FF97FF\", \"#FECB52\"], \"font\": {\"color\": \"#2a3f5f\"}, \"geo\": {\"bgcolor\": \"white\", \"lakecolor\": \"white\", \"landcolor\": \"#E5ECF6\", \"showlakes\": true, \"showland\": true, \"subunitcolor\": \"white\"}, \"hoverlabel\": {\"align\": \"left\"}, \"hovermode\": \"closest\", \"mapbox\": {\"style\": \"light\"}, \"paper_bgcolor\": \"white\", \"plot_bgcolor\": \"#E5ECF6\", \"polar\": {\"angularaxis\": {\"gridcolor\": \"white\", \"linecolor\": \"white\", \"ticks\": \"\"}, \"bgcolor\": \"#E5ECF6\", \"radialaxis\": {\"gridcolor\": \"white\", \"linecolor\": \"white\", \"ticks\": \"\"}}, \"scene\": {\"xaxis\": {\"backgroundcolor\": \"#E5ECF6\", \"gridcolor\": \"white\", \"gridwidth\": 2, \"linecolor\": \"white\", \"showbackground\": true, \"ticks\": \"\", \"zerolinecolor\": \"white\"}, \"yaxis\": {\"backgroundcolor\": \"#E5ECF6\", \"gridcolor\": \"white\", \"gridwidth\": 2, \"linecolor\": \"white\", \"showbackground\": true, \"ticks\": \"\", \"zerolinecolor\": \"white\"}, \"zaxis\": {\"backgroundcolor\": \"#E5ECF6\", \"gridcolor\": \"white\", \"gridwidth\": 2, \"linecolor\": \"white\", \"showbackground\": true, \"ticks\": \"\", \"zerolinecolor\": \"white\"}}, \"shapedefaults\": {\"line\": {\"color\": \"#2a3f5f\"}}, \"ternary\": {\"aaxis\": {\"gridcolor\": \"white\", \"linecolor\": \"white\", \"ticks\": \"\"}, \"baxis\": {\"gridcolor\": \"white\", \"linecolor\": \"white\", \"ticks\": \"\"}, \"bgcolor\": \"#E5ECF6\", \"caxis\": {\"gridcolor\": \"white\", \"linecolor\": \"white\", \"ticks\": \"\"}}, \"title\": {\"x\": 0.05}, \"xaxis\": {\"automargin\": true, \"gridcolor\": \"white\", \"linecolor\": \"white\", \"ticks\": \"\", \"title\": {\"standoff\": 15}, \"zerolinecolor\": \"white\", \"zerolinewidth\": 2}, \"yaxis\": {\"automargin\": true, \"gridcolor\": \"white\", \"linecolor\": \"white\", \"ticks\": \"\", \"title\": {\"standoff\": 15}, \"zerolinecolor\": \"white\", \"zerolinewidth\": 2}}}, \"title\": {\"text\": \"democracy Index vs. death rate\"}, \"xaxis\": {\"anchor\": \"y\", \"domain\": [0.0, 1.0], \"title\": {\"text\": \"Democracy Index score\"}}, \"yaxis\": {\"anchor\": \"x\", \"domain\": [0.0, 1.0], \"title\": {\"text\": \"death rate\"}}},\n",
       "                        {\"responsive\": true}\n",
       "                    ).then(function(){\n",
       "                            \n",
       "var gd = document.getElementById('2dbcfc3d-0807-4e39-98f4-838e4ae92f25');\n",
       "var x = new MutationObserver(function (mutations, observer) {{\n",
       "        var display = window.getComputedStyle(gd).display;\n",
       "        if (!display || display === 'none') {{\n",
       "            console.log([gd, 'removed!']);\n",
       "            Plotly.purge(gd);\n",
       "            observer.disconnect();\n",
       "        }}\n",
       "}});\n",
       "\n",
       "// Listen for the removal of the full notebook cells\n",
       "var notebookContainer = gd.closest('#notebook-container');\n",
       "if (notebookContainer) {{\n",
       "    x.observe(notebookContainer, {childList: true});\n",
       "}}\n",
       "\n",
       "// Listen for the clearing of the current output cell\n",
       "var outputEl = gd.closest('.output');\n",
       "if (outputEl) {{\n",
       "    x.observe(outputEl, {childList: true});\n",
       "}}\n",
       "\n",
       "                        })\n",
       "                };\n",
       "                });\n",
       "            </script>\n",
       "        </div>"
      ]
     },
     "metadata": {},
     "output_type": "display_data"
    }
   ],
   "source": [
    "fig = px.scatter(democracy,\n",
    "    x = 'Score',\n",
    "    y = 'deathrate',\n",
    "    hover_name=countries,\n",
    "    color='Region',\n",
    "    title='Democracy Index vs. death rate')\n",
    "\n",
    "fig.update_layout(\n",
    "    xaxis_title=\"Democracy Index score\",\n",
    "    yaxis_title=\"death rate\",\n",
    "    )\n",
    "fig.show()"
   ]
  },
  {
   "cell_type": "code",
   "execution_count": 57,
   "metadata": {},
   "outputs": [
    {
     "data": {
      "application/vnd.plotly.v1+json": {
       "config": {
        "plotlyServerURL": "https://plotly.com"
       },
       "data": [
        {
         "hovertemplate": "<b>%{hovertext}</b><br><br>Regime Typ=Full democracy<br>Score=%{x}<br>deathrate=%{y}<extra></extra>",
         "hovertext": [
          "Norway",
          "Iceland",
          "Sweden",
          "New Zealand",
          "Finland",
          "Ireland",
          "Denmark",
          "Canada",
          "Australia",
          "Switzerland",
          "Netherlands",
          "Luxembourg",
          "Germany",
          "United Kingdom",
          "Uruguay",
          "Spain",
          "Austria",
          "Mauritius",
          "Costa Rica",
          "France",
          "Chile",
          "Portugal"
         ],
         "legendgroup": "Full democracy",
         "marker": {
          "color": "#636efa",
          "symbol": "circle"
         },
         "mode": "markers",
         "name": "Full democracy",
         "showlegend": true,
         "type": "scatter",
         "x": [
          9.87,
          9.58,
          9.39,
          9.26,
          9.25,
          9.24,
          9.22,
          9.22,
          9.09,
          9.03,
          9.01,
          8.81,
          8.68,
          8.52,
          8.38,
          8.29,
          8.29,
          8.22,
          8.13,
          8.12,
          8.08,
          8.03
         ],
         "xaxis": "x",
         "y": [
          0.028184347405346557,
          0.005549389567147614,
          0.121529919802591,
          0.013972055888223553,
          0.047038599781215815,
          0.0643684796503237,
          0.04901263120441202,
          0.07488849962108507,
          0.01414027149321267,
          0.06176105558821608,
          0.12900177731782492,
          0.027539161192521474,
          0.04545556818053977,
          0.14160983137308206,
          0.02710027100271003,
          0.11971366635493477,
          0.038723117456038236,
          0.030120481927710843,
          0.011337868480725623,
          0.15489158970447625,
          0.010266443453881684,
          0.04236885023104105
         ],
         "yaxis": "y"
        },
        {
         "hovertemplate": "<b>%{hovertext}</b><br><br>Regime Typ=Flawed democracy<br>Score=%{x}<br>deathrate=%{y}<extra></extra>",
         "hovertext": [
          "South Korea",
          "Japan",
          "United States",
          "Malta",
          "Estonia",
          "Israel",
          "Botswana",
          "Cape Verde",
          "Taiwan",
          "Czech Republic",
          "Belgium",
          "Cyprus",
          "Italy",
          "Slovenia",
          "Lithuania",
          "Latvia",
          "Greece",
          "South Africa",
          "Timor-Leste",
          "Slovakia",
          "Trinidad and Tobago",
          "Malaysia",
          "Colombia",
          "Panama",
          "Bulgaria",
          "Argentina",
          "Suriname",
          "Jamaica",
          "India",
          "Brazil",
          "Tunisia",
          "Philippines",
          "Hungary",
          "Ghana",
          "Poland",
          "Peru",
          "Croatia",
          "Lesotho",
          "Dominican Republic",
          "Mongolia",
          "Romania",
          "Indonesia",
          "Namibia",
          "Serbia",
          "Ecuador",
          "Thailand",
          "Sri Lanka",
          "Paraguay",
          "Guyana",
          "El Salvador",
          "Mexico",
          "Papua New Guinea",
          "Singapore",
          "Hong Kong"
         ],
         "legendgroup": "Flawed democracy",
         "marker": {
          "color": "#EF553B",
          "symbol": "circle"
         },
         "mode": "markers",
         "name": "Flawed democracy",
         "showlegend": true,
         "type": "scatter",
         "x": [
          8,
          7.99,
          7.96,
          7.95,
          7.9,
          7.86,
          7.81,
          7.78,
          7.73,
          7.69,
          7.64,
          7.59,
          7.52,
          7.5,
          7.5,
          7.49,
          7.43,
          7.24,
          7.19,
          7.17,
          7.16,
          7.16,
          7.13,
          7.05,
          7.03,
          7.02,
          6.98,
          6.96,
          6.9,
          6.86,
          6.72,
          6.64,
          6.63,
          6.63,
          6.62,
          6.6,
          6.57,
          6.54,
          6.54,
          6.5,
          6.49,
          6.48,
          6.43,
          6.41,
          6.33,
          6.32,
          6.27,
          6.24,
          6.15,
          6.15,
          6.09,
          6.03,
          6.02,
          6.02
         ],
         "xaxis": "x",
         "y": [
          "na",
          0.046923687908596565,
          0.06013536852792941,
          0.01054481546572935,
          0.03573422668900056,
          0.016687676331112313,
          0.04,
          "na",
          "na",
          "na",
          0.16325213744152284,
          0.018518518518518517,
          0.14190181694670026,
          0.070892978868439,
          0.03841229193341869,
          0.020750988142292492,
          0.058098591549295774,
          0.01813953488372093,
          0,
          0.018729096989966554,
          0.06896551724137931,
          0.01633705932932072,
          0.03619722468260998,
          0.028478767609202392,
          0.04957945993802568,
          0.04461346350323533,
          0.09090909090909091,
          0.01730769230769231,
          0.031011974641934725,
          0.06614193500928701,
          0.045019157088122604,
          0.06467315716272601,
          0.1313273340832396,
          0.005085301837270341,
          0.04920074735312435,
          0.029291436727883157,
          0.043010752688172046,
          0,
          0.03335097935415564,
          0,
          0.0661392589145483,
          0.06601427335640138,
          0,
          0.02180191931426442,
          0.0831308014406606,
          0.018463567424991757,
          0.008763388510223954,
          0.013268998793727383,
          0.08,
          0.020026702269692925,
          0.104257903065543,
          0,
          0.0007640480655692158,
          "na"
         ],
         "yaxis": "y"
        },
        {
         "hovertemplate": "<b>%{hovertext}</b><br><br>Regime Typ=Hybrid regime<br>Score=%{x}<br>deathrate=%{y}<extra></extra>",
         "hovertext": [
          "North Macedonia",
          "Ukraine",
          "Albania",
          "Bangladesh",
          "Fiji",
          "Senegal",
          "Moldova",
          "Montenegro",
          "Madagascar",
          "Armenia",
          "Malawi",
          "Liberia",
          "Honduras",
          "Georgia",
          "Bhutan",
          "Nepal",
          "Guatemala",
          "Kenya",
          "Tanzania",
          "Morocco",
          "Zambia",
          "Benin",
          "Uganda",
          "Mali",
          "Kyrgyzstan",
          "Sierra Leone",
          "Bosnia and Herzegovina",
          "Bolivia",
          "Haiti",
          "Lebanon",
          "Gambia",
          "Pakistan",
          "Nigeria",
          "Turkey",
          "Ivory Coast",
          "Burkina Faso",
          "Algeria"
         ],
         "legendgroup": "Hybrid regime",
         "marker": {
          "color": "#00cc96",
          "symbol": "circle"
         },
         "mode": "markers",
         "name": "Hybrid regime",
         "showlegend": true,
         "type": "scatter",
         "x": [
          5.97,
          5.9,
          5.89,
          5.88,
          5.85,
          5.81,
          5.75,
          5.65,
          5.64,
          5.54,
          5.5,
          5.45,
          5.42,
          5.42,
          5.3,
          5.28,
          5.26,
          5.18,
          5.16,
          5.1,
          5.09,
          5.09,
          5.02,
          4.92,
          4.89,
          4.86,
          4.86,
          4.84,
          4.57,
          4.36,
          4.33,
          4.25,
          4.12,
          4.09,
          4.05,
          4.04,
          4.01
         ],
         "xaxis": "x",
         "y": [
          0.057640021750951606,
          0.02903157448611994,
          0.032665964172813484,
          0.014728713028939931,
          0,
          0.01146350783339702,
          0.03485804416403786,
          0.027777777777777776,
          0.006134969325153374,
          0.012695893671890498,
          0.04285714285714286,
          0.09871244635193133,
          0.049746192893401014,
          0.016973125884016973,
          0,
          0.004975124378109453,
          0.02015939990623535,
          0.05192107995846314,
          0.0412573673870334,
          0.027481133418766908,
          0.009067357512953367,
          0.015384615384615385,
          0,
          0.058823529411764705,
          0.011263073209975865,
          0.06179775280898876,
          0.05773373545885394,
          0.042178085248828386,
          0.039399624765478425,
          0.027253668763102725,
          0.041666666666666664,
          0.02135741254605832,
          0.029995313232307454,
          0.027695148896876957,
          "na",
          0.06407035175879397,
          0.07604717364782432
         ],
         "yaxis": "y"
        },
        {
         "hovertemplate": "<b>%{hovertext}</b><br><br>Regime Typ=Authoritarian<br>Score=%{x}<br>deathrate=%{y}<extra></extra>",
         "hovertext": [
          "Kuwait",
          "Jordan",
          "Mauritania",
          "Palestine",
          "Iraq",
          "Angola",
          "Mozambique",
          "Gabon",
          "Nicaragua",
          "Myanmar",
          "Cambodia",
          "Ethiopia",
          "Togo",
          "Niger",
          "Qatar",
          "Zimbabwe",
          "Rwanda",
          "Comoros",
          "Guinea",
          "Eswatini",
          "Russia",
          "Republic of the Congo",
          "Vietnam",
          "Oman",
          "Egypt",
          "Kazakhstan",
          "Venezuela",
          "Cameroon",
          "Afghanistan",
          "Cuba",
          "Djibouti",
          "United Arab Emirates",
          "Azerbaijan",
          "Sudan",
          "Guinea-Bissau",
          "Bahrain",
          "Belarus",
          "Iran",
          "Eritrea",
          "China",
          "Burundi",
          "Laos",
          "Libya",
          "Uzbekistan",
          "Yemen",
          "Tajikistan",
          "Saudi Arabia",
          "Equatorial Guinea",
          "Turkmenistan",
          "Chad",
          "Syria",
          "Central African Republic",
          "Democratic Republic of the Congo",
          "North Korea"
         ],
         "legendgroup": "Authoritarian",
         "marker": {
          "color": "#ab63fa",
          "symbol": "circle"
         },
         "mode": "markers",
         "name": "Authoritarian",
         "showlegend": true,
         "type": "scatter",
         "x": [
          3.93,
          3.93,
          3.92,
          3.89,
          3.74,
          3.72,
          3.65,
          3.61,
          3.55,
          3.55,
          3.53,
          3.44,
          3.3,
          3.29,
          3.19,
          3.16,
          3.16,
          3.15,
          3.14,
          3.14,
          3.11,
          3.11,
          3.08,
          3.06,
          3.06,
          2.94,
          2.88,
          2.85,
          2.85,
          2.84,
          2.77,
          2.76,
          2.75,
          2.7,
          2.63,
          2.55,
          2.48,
          2.38,
          2.37,
          2.26,
          2.15,
          2.14,
          2.02,
          2.01,
          1.95,
          1.93,
          1.93,
          1.92,
          1.72,
          1.61,
          1.43,
          1.32,
          1.13,
          1.08
         ],
         "xaxis": "x",
         "y": [
          0.007217847769028871,
          0.01386748844375963,
          0.030534351145038167,
          "na",
          0.0362780393242869,
          0.057692307692307696,
          0,
          0.007989347536617843,
          0.06692913385826772,
          "na",
          0,
          0.0136986301369863,
          0.03550295857988166,
          0.060175054704595186,
          0.00042127731281244734,
          0.08695652173913043,
          0,
          0.09090909090909091,
          0.0062871114215857496,
          0.009615384615384616,
          0.009458526843612577,
          "na",
          0,
          0.004761065067889261,
          0.04887273805992287,
          0.005184417123389127,
          0.01335113484646195,
          0.03967129498441485,
          0.023258852737488567,
          0.041865394806571275,
          0.004326328800988875,
          0.009057175916689942,
          0.011654349061967027,
          0.0406891495601173,
          0.005780346820809248,
          0.0015932023366967605,
          0.005554144979052939,
          0.057133455855798015,
          0,
          0.05517290603475965,
          0.023809523809523808,
          0,
          0.04411764705882353,
          0.004553415061295972,
          0.16766467065868262,
          0.021177685950413222,
          0.005496708657733819,
          0.008484848484848486,
          "na",
          0.10275229357798166,
          0.05172413793103448,
          0,
          "na",
          "na"
         ],
         "yaxis": "y"
        }
       ],
       "layout": {
        "legend": {
         "title": {
          "text": "Regime Typ"
         },
         "tracegroupgap": 0
        },
        "template": {
         "data": {
          "bar": [
           {
            "error_x": {
             "color": "#2a3f5f"
            },
            "error_y": {
             "color": "#2a3f5f"
            },
            "marker": {
             "line": {
              "color": "#E5ECF6",
              "width": 0.5
             }
            },
            "type": "bar"
           }
          ],
          "barpolar": [
           {
            "marker": {
             "line": {
              "color": "#E5ECF6",
              "width": 0.5
             }
            },
            "type": "barpolar"
           }
          ],
          "carpet": [
           {
            "aaxis": {
             "endlinecolor": "#2a3f5f",
             "gridcolor": "white",
             "linecolor": "white",
             "minorgridcolor": "white",
             "startlinecolor": "#2a3f5f"
            },
            "baxis": {
             "endlinecolor": "#2a3f5f",
             "gridcolor": "white",
             "linecolor": "white",
             "minorgridcolor": "white",
             "startlinecolor": "#2a3f5f"
            },
            "type": "carpet"
           }
          ],
          "choropleth": [
           {
            "colorbar": {
             "outlinewidth": 0,
             "ticks": ""
            },
            "type": "choropleth"
           }
          ],
          "contour": [
           {
            "colorbar": {
             "outlinewidth": 0,
             "ticks": ""
            },
            "colorscale": [
             [
              0,
              "#0d0887"
             ],
             [
              0.1111111111111111,
              "#46039f"
             ],
             [
              0.2222222222222222,
              "#7201a8"
             ],
             [
              0.3333333333333333,
              "#9c179e"
             ],
             [
              0.4444444444444444,
              "#bd3786"
             ],
             [
              0.5555555555555556,
              "#d8576b"
             ],
             [
              0.6666666666666666,
              "#ed7953"
             ],
             [
              0.7777777777777778,
              "#fb9f3a"
             ],
             [
              0.8888888888888888,
              "#fdca26"
             ],
             [
              1,
              "#f0f921"
             ]
            ],
            "type": "contour"
           }
          ],
          "contourcarpet": [
           {
            "colorbar": {
             "outlinewidth": 0,
             "ticks": ""
            },
            "type": "contourcarpet"
           }
          ],
          "heatmap": [
           {
            "colorbar": {
             "outlinewidth": 0,
             "ticks": ""
            },
            "colorscale": [
             [
              0,
              "#0d0887"
             ],
             [
              0.1111111111111111,
              "#46039f"
             ],
             [
              0.2222222222222222,
              "#7201a8"
             ],
             [
              0.3333333333333333,
              "#9c179e"
             ],
             [
              0.4444444444444444,
              "#bd3786"
             ],
             [
              0.5555555555555556,
              "#d8576b"
             ],
             [
              0.6666666666666666,
              "#ed7953"
             ],
             [
              0.7777777777777778,
              "#fb9f3a"
             ],
             [
              0.8888888888888888,
              "#fdca26"
             ],
             [
              1,
              "#f0f921"
             ]
            ],
            "type": "heatmap"
           }
          ],
          "heatmapgl": [
           {
            "colorbar": {
             "outlinewidth": 0,
             "ticks": ""
            },
            "colorscale": [
             [
              0,
              "#0d0887"
             ],
             [
              0.1111111111111111,
              "#46039f"
             ],
             [
              0.2222222222222222,
              "#7201a8"
             ],
             [
              0.3333333333333333,
              "#9c179e"
             ],
             [
              0.4444444444444444,
              "#bd3786"
             ],
             [
              0.5555555555555556,
              "#d8576b"
             ],
             [
              0.6666666666666666,
              "#ed7953"
             ],
             [
              0.7777777777777778,
              "#fb9f3a"
             ],
             [
              0.8888888888888888,
              "#fdca26"
             ],
             [
              1,
              "#f0f921"
             ]
            ],
            "type": "heatmapgl"
           }
          ],
          "histogram": [
           {
            "marker": {
             "colorbar": {
              "outlinewidth": 0,
              "ticks": ""
             }
            },
            "type": "histogram"
           }
          ],
          "histogram2d": [
           {
            "colorbar": {
             "outlinewidth": 0,
             "ticks": ""
            },
            "colorscale": [
             [
              0,
              "#0d0887"
             ],
             [
              0.1111111111111111,
              "#46039f"
             ],
             [
              0.2222222222222222,
              "#7201a8"
             ],
             [
              0.3333333333333333,
              "#9c179e"
             ],
             [
              0.4444444444444444,
              "#bd3786"
             ],
             [
              0.5555555555555556,
              "#d8576b"
             ],
             [
              0.6666666666666666,
              "#ed7953"
             ],
             [
              0.7777777777777778,
              "#fb9f3a"
             ],
             [
              0.8888888888888888,
              "#fdca26"
             ],
             [
              1,
              "#f0f921"
             ]
            ],
            "type": "histogram2d"
           }
          ],
          "histogram2dcontour": [
           {
            "colorbar": {
             "outlinewidth": 0,
             "ticks": ""
            },
            "colorscale": [
             [
              0,
              "#0d0887"
             ],
             [
              0.1111111111111111,
              "#46039f"
             ],
             [
              0.2222222222222222,
              "#7201a8"
             ],
             [
              0.3333333333333333,
              "#9c179e"
             ],
             [
              0.4444444444444444,
              "#bd3786"
             ],
             [
              0.5555555555555556,
              "#d8576b"
             ],
             [
              0.6666666666666666,
              "#ed7953"
             ],
             [
              0.7777777777777778,
              "#fb9f3a"
             ],
             [
              0.8888888888888888,
              "#fdca26"
             ],
             [
              1,
              "#f0f921"
             ]
            ],
            "type": "histogram2dcontour"
           }
          ],
          "mesh3d": [
           {
            "colorbar": {
             "outlinewidth": 0,
             "ticks": ""
            },
            "type": "mesh3d"
           }
          ],
          "parcoords": [
           {
            "line": {
             "colorbar": {
              "outlinewidth": 0,
              "ticks": ""
             }
            },
            "type": "parcoords"
           }
          ],
          "pie": [
           {
            "automargin": true,
            "type": "pie"
           }
          ],
          "scatter": [
           {
            "marker": {
             "colorbar": {
              "outlinewidth": 0,
              "ticks": ""
             }
            },
            "type": "scatter"
           }
          ],
          "scatter3d": [
           {
            "line": {
             "colorbar": {
              "outlinewidth": 0,
              "ticks": ""
             }
            },
            "marker": {
             "colorbar": {
              "outlinewidth": 0,
              "ticks": ""
             }
            },
            "type": "scatter3d"
           }
          ],
          "scattercarpet": [
           {
            "marker": {
             "colorbar": {
              "outlinewidth": 0,
              "ticks": ""
             }
            },
            "type": "scattercarpet"
           }
          ],
          "scattergeo": [
           {
            "marker": {
             "colorbar": {
              "outlinewidth": 0,
              "ticks": ""
             }
            },
            "type": "scattergeo"
           }
          ],
          "scattergl": [
           {
            "marker": {
             "colorbar": {
              "outlinewidth": 0,
              "ticks": ""
             }
            },
            "type": "scattergl"
           }
          ],
          "scattermapbox": [
           {
            "marker": {
             "colorbar": {
              "outlinewidth": 0,
              "ticks": ""
             }
            },
            "type": "scattermapbox"
           }
          ],
          "scatterpolar": [
           {
            "marker": {
             "colorbar": {
              "outlinewidth": 0,
              "ticks": ""
             }
            },
            "type": "scatterpolar"
           }
          ],
          "scatterpolargl": [
           {
            "marker": {
             "colorbar": {
              "outlinewidth": 0,
              "ticks": ""
             }
            },
            "type": "scatterpolargl"
           }
          ],
          "scatterternary": [
           {
            "marker": {
             "colorbar": {
              "outlinewidth": 0,
              "ticks": ""
             }
            },
            "type": "scatterternary"
           }
          ],
          "surface": [
           {
            "colorbar": {
             "outlinewidth": 0,
             "ticks": ""
            },
            "colorscale": [
             [
              0,
              "#0d0887"
             ],
             [
              0.1111111111111111,
              "#46039f"
             ],
             [
              0.2222222222222222,
              "#7201a8"
             ],
             [
              0.3333333333333333,
              "#9c179e"
             ],
             [
              0.4444444444444444,
              "#bd3786"
             ],
             [
              0.5555555555555556,
              "#d8576b"
             ],
             [
              0.6666666666666666,
              "#ed7953"
             ],
             [
              0.7777777777777778,
              "#fb9f3a"
             ],
             [
              0.8888888888888888,
              "#fdca26"
             ],
             [
              1,
              "#f0f921"
             ]
            ],
            "type": "surface"
           }
          ],
          "table": [
           {
            "cells": {
             "fill": {
              "color": "#EBF0F8"
             },
             "line": {
              "color": "white"
             }
            },
            "header": {
             "fill": {
              "color": "#C8D4E3"
             },
             "line": {
              "color": "white"
             }
            },
            "type": "table"
           }
          ]
         },
         "layout": {
          "annotationdefaults": {
           "arrowcolor": "#2a3f5f",
           "arrowhead": 0,
           "arrowwidth": 1
          },
          "coloraxis": {
           "colorbar": {
            "outlinewidth": 0,
            "ticks": ""
           }
          },
          "colorscale": {
           "diverging": [
            [
             0,
             "#8e0152"
            ],
            [
             0.1,
             "#c51b7d"
            ],
            [
             0.2,
             "#de77ae"
            ],
            [
             0.3,
             "#f1b6da"
            ],
            [
             0.4,
             "#fde0ef"
            ],
            [
             0.5,
             "#f7f7f7"
            ],
            [
             0.6,
             "#e6f5d0"
            ],
            [
             0.7,
             "#b8e186"
            ],
            [
             0.8,
             "#7fbc41"
            ],
            [
             0.9,
             "#4d9221"
            ],
            [
             1,
             "#276419"
            ]
           ],
           "sequential": [
            [
             0,
             "#0d0887"
            ],
            [
             0.1111111111111111,
             "#46039f"
            ],
            [
             0.2222222222222222,
             "#7201a8"
            ],
            [
             0.3333333333333333,
             "#9c179e"
            ],
            [
             0.4444444444444444,
             "#bd3786"
            ],
            [
             0.5555555555555556,
             "#d8576b"
            ],
            [
             0.6666666666666666,
             "#ed7953"
            ],
            [
             0.7777777777777778,
             "#fb9f3a"
            ],
            [
             0.8888888888888888,
             "#fdca26"
            ],
            [
             1,
             "#f0f921"
            ]
           ],
           "sequentialminus": [
            [
             0,
             "#0d0887"
            ],
            [
             0.1111111111111111,
             "#46039f"
            ],
            [
             0.2222222222222222,
             "#7201a8"
            ],
            [
             0.3333333333333333,
             "#9c179e"
            ],
            [
             0.4444444444444444,
             "#bd3786"
            ],
            [
             0.5555555555555556,
             "#d8576b"
            ],
            [
             0.6666666666666666,
             "#ed7953"
            ],
            [
             0.7777777777777778,
             "#fb9f3a"
            ],
            [
             0.8888888888888888,
             "#fdca26"
            ],
            [
             1,
             "#f0f921"
            ]
           ]
          },
          "colorway": [
           "#636efa",
           "#EF553B",
           "#00cc96",
           "#ab63fa",
           "#FFA15A",
           "#19d3f3",
           "#FF6692",
           "#B6E880",
           "#FF97FF",
           "#FECB52"
          ],
          "font": {
           "color": "#2a3f5f"
          },
          "geo": {
           "bgcolor": "white",
           "lakecolor": "white",
           "landcolor": "#E5ECF6",
           "showlakes": true,
           "showland": true,
           "subunitcolor": "white"
          },
          "hoverlabel": {
           "align": "left"
          },
          "hovermode": "closest",
          "mapbox": {
           "style": "light"
          },
          "paper_bgcolor": "white",
          "plot_bgcolor": "#E5ECF6",
          "polar": {
           "angularaxis": {
            "gridcolor": "white",
            "linecolor": "white",
            "ticks": ""
           },
           "bgcolor": "#E5ECF6",
           "radialaxis": {
            "gridcolor": "white",
            "linecolor": "white",
            "ticks": ""
           }
          },
          "scene": {
           "xaxis": {
            "backgroundcolor": "#E5ECF6",
            "gridcolor": "white",
            "gridwidth": 2,
            "linecolor": "white",
            "showbackground": true,
            "ticks": "",
            "zerolinecolor": "white"
           },
           "yaxis": {
            "backgroundcolor": "#E5ECF6",
            "gridcolor": "white",
            "gridwidth": 2,
            "linecolor": "white",
            "showbackground": true,
            "ticks": "",
            "zerolinecolor": "white"
           },
           "zaxis": {
            "backgroundcolor": "#E5ECF6",
            "gridcolor": "white",
            "gridwidth": 2,
            "linecolor": "white",
            "showbackground": true,
            "ticks": "",
            "zerolinecolor": "white"
           }
          },
          "shapedefaults": {
           "line": {
            "color": "#2a3f5f"
           }
          },
          "ternary": {
           "aaxis": {
            "gridcolor": "white",
            "linecolor": "white",
            "ticks": ""
           },
           "baxis": {
            "gridcolor": "white",
            "linecolor": "white",
            "ticks": ""
           },
           "bgcolor": "#E5ECF6",
           "caxis": {
            "gridcolor": "white",
            "linecolor": "white",
            "ticks": ""
           }
          },
          "title": {
           "x": 0.05
          },
          "xaxis": {
           "automargin": true,
           "gridcolor": "white",
           "linecolor": "white",
           "ticks": "",
           "title": {
            "standoff": 15
           },
           "zerolinecolor": "white",
           "zerolinewidth": 2
          },
          "yaxis": {
           "automargin": true,
           "gridcolor": "white",
           "linecolor": "white",
           "ticks": "",
           "title": {
            "standoff": 15
           },
           "zerolinecolor": "white",
           "zerolinewidth": 2
          }
         }
        },
        "title": {
         "text": "Regime Typ vs. death rate"
        },
        "xaxis": {
         "anchor": "y",
         "domain": [
          0,
          1
         ],
         "title": {
          "text": "Score"
         }
        },
        "yaxis": {
         "anchor": "x",
         "domain": [
          0,
          1
         ],
         "title": {
          "text": "deathrate"
         }
        }
       }
      },
      "text/html": [
       "<div>\n",
       "        \n",
       "        \n",
       "            <div id=\"8bffd0f5-63d5-42a3-9b4c-bae2c4744d67\" class=\"plotly-graph-div\" style=\"height:525px; width:100%;\"></div>\n",
       "            <script type=\"text/javascript\">\n",
       "                require([\"plotly\"], function(Plotly) {\n",
       "                    window.PLOTLYENV=window.PLOTLYENV || {};\n",
       "                    \n",
       "                if (document.getElementById(\"8bffd0f5-63d5-42a3-9b4c-bae2c4744d67\")) {\n",
       "                    Plotly.newPlot(\n",
       "                        '8bffd0f5-63d5-42a3-9b4c-bae2c4744d67',\n",
       "                        [{\"hovertemplate\": \"<b>%{hovertext}</b><br><br>Regime Typ=Full democracy<br>Score=%{x}<br>deathrate=%{y}<extra></extra>\", \"hovertext\": [\"Norway\", \"Iceland\", \"Sweden\", \"New Zealand\", \"Finland\", \"Ireland\", \"Denmark\", \"Canada\", \"Australia\", \"Switzerland\", \"Netherlands\", \"Luxembourg\", \"Germany\", \"United Kingdom\", \"Uruguay\", \"Spain\", \"Austria\", \"Mauritius\", \"Costa Rica\", \"France\", \"Chile\", \"Portugal\"], \"legendgroup\": \"Full democracy\", \"marker\": {\"color\": \"#636efa\", \"symbol\": \"circle\"}, \"mode\": \"markers\", \"name\": \"Full democracy\", \"showlegend\": true, \"type\": \"scatter\", \"x\": [9.87, 9.58, 9.39, 9.26, 9.25, 9.24, 9.22, 9.22, 9.09, 9.03, 9.01, 8.81, 8.68, 8.52, 8.38, 8.29, 8.29, 8.22, 8.13, 8.12, 8.08, 8.03], \"xaxis\": \"x\", \"y\": [0.028184347405346557, 0.005549389567147614, 0.121529919802591, 0.013972055888223553, 0.047038599781215815, 0.0643684796503237, 0.04901263120441202, 0.07488849962108507, 0.01414027149321267, 0.06176105558821608, 0.12900177731782492, 0.027539161192521474, 0.04545556818053977, 0.14160983137308206, 0.02710027100271003, 0.11971366635493477, 0.038723117456038236, 0.030120481927710843, 0.011337868480725623, 0.15489158970447625, 0.010266443453881684, 0.04236885023104105], \"yaxis\": \"y\"}, {\"hovertemplate\": \"<b>%{hovertext}</b><br><br>Regime Typ=Flawed democracy<br>Score=%{x}<br>deathrate=%{y}<extra></extra>\", \"hovertext\": [\"South Korea\", \"Japan\", \"United States\", \"Malta\", \"Estonia\", \"Israel\", \"Botswana\", \"Cape Verde\", \"Taiwan\", \"Czech Republic\", \"Belgium\", \"Cyprus\", \"Italy\", \"Slovenia\", \"Lithuania\", \"Latvia\", \"Greece\", \"South Africa\", \"Timor-Leste\", \"Slovakia\", \"Trinidad and Tobago\", \"Malaysia\", \"Colombia\", \"Panama\", \"Bulgaria\", \"Argentina\", \"Suriname\", \"Jamaica\", \"India\", \"Brazil\", \"Tunisia\", \"Philippines\", \"Hungary\", \"Ghana\", \"Poland\", \"Peru\", \"Croatia\", \"Lesotho\", \"Dominican Republic\", \"Mongolia\", \"Romania\", \"Indonesia\", \"Namibia\", \"Serbia\", \"Ecuador\", \"Thailand\", \"Sri Lanka\", \"Paraguay\", \"Guyana\", \"El Salvador\", \"Mexico\", \"Papua New Guinea\", \"Singapore\", \"Hong Kong\"], \"legendgroup\": \"Flawed democracy\", \"marker\": {\"color\": \"#EF553B\", \"symbol\": \"circle\"}, \"mode\": \"markers\", \"name\": \"Flawed democracy\", \"showlegend\": true, \"type\": \"scatter\", \"x\": [8.0, 7.99, 7.96, 7.95, 7.9, 7.86, 7.81, 7.78, 7.73, 7.69, 7.64, 7.59, 7.52, 7.5, 7.5, 7.49, 7.43, 7.24, 7.19, 7.17, 7.16, 7.16, 7.13, 7.05, 7.03, 7.02, 6.98, 6.96, 6.9, 6.86, 6.72, 6.64, 6.63, 6.63, 6.62, 6.6, 6.57, 6.54, 6.54, 6.5, 6.49, 6.48, 6.43, 6.41, 6.33, 6.32, 6.27, 6.24, 6.15, 6.15, 6.09, 6.03, 6.02, 6.02], \"xaxis\": \"x\", \"y\": [\"na\", 0.046923687908596565, 0.06013536852792941, 0.01054481546572935, 0.03573422668900056, 0.016687676331112313, 0.04, \"na\", \"na\", \"na\", 0.16325213744152284, 0.018518518518518517, 0.14190181694670026, 0.070892978868439, 0.03841229193341869, 0.020750988142292492, 0.058098591549295774, 0.01813953488372093, 0.0, 0.018729096989966554, 0.06896551724137931, 0.01633705932932072, 0.03619722468260998, 0.028478767609202392, 0.04957945993802568, 0.04461346350323533, 0.09090909090909091, 0.01730769230769231, 0.031011974641934725, 0.06614193500928701, 0.045019157088122604, 0.06467315716272601, 0.1313273340832396, 0.005085301837270341, 0.04920074735312435, 0.029291436727883157, 0.043010752688172046, 0.0, 0.03335097935415564, 0.0, 0.0661392589145483, 0.06601427335640138, 0.0, 0.02180191931426442, 0.0831308014406606, 0.018463567424991757, 0.008763388510223954, 0.013268998793727383, 0.08, 0.020026702269692925, 0.104257903065543, 0.0, 0.0007640480655692158, \"na\"], \"yaxis\": \"y\"}, {\"hovertemplate\": \"<b>%{hovertext}</b><br><br>Regime Typ=Hybrid regime<br>Score=%{x}<br>deathrate=%{y}<extra></extra>\", \"hovertext\": [\"North Macedonia\", \"Ukraine\", \"Albania\", \"Bangladesh\", \"Fiji\", \"Senegal\", \"Moldova\", \"Montenegro\", \"Madagascar\", \"Armenia\", \"Malawi\", \"Liberia\", \"Honduras\", \"Georgia\", \"Bhutan\", \"Nepal\", \"Guatemala\", \"Kenya\", \"Tanzania\", \"Morocco\", \"Zambia\", \"Benin\", \"Uganda\", \"Mali\", \"Kyrgyzstan\", \"Sierra Leone\", \"Bosnia and Herzegovina\", \"Bolivia\", \"Haiti\", \"Lebanon\", \"Gambia\", \"Pakistan\", \"Nigeria\", \"Turkey\", \"Ivory Coast\", \"Burkina Faso\", \"Algeria\"], \"legendgroup\": \"Hybrid regime\", \"marker\": {\"color\": \"#00cc96\", \"symbol\": \"circle\"}, \"mode\": \"markers\", \"name\": \"Hybrid regime\", \"showlegend\": true, \"type\": \"scatter\", \"x\": [5.97, 5.9, 5.89, 5.88, 5.85, 5.81, 5.75, 5.65, 5.64, 5.54, 5.5, 5.45, 5.42, 5.42, 5.3, 5.28, 5.26, 5.18, 5.16, 5.1, 5.09, 5.09, 5.02, 4.92, 4.89, 4.86, 4.86, 4.84, 4.57, 4.36, 4.33, 4.25, 4.12, 4.09, 4.05, 4.04, 4.01], \"xaxis\": \"x\", \"y\": [0.057640021750951606, 0.02903157448611994, 0.032665964172813484, 0.014728713028939931, 0.0, 0.01146350783339702, 0.03485804416403786, 0.027777777777777776, 0.006134969325153374, 0.012695893671890498, 0.04285714285714286, 0.09871244635193133, 0.049746192893401014, 0.016973125884016973, 0.0, 0.004975124378109453, 0.02015939990623535, 0.05192107995846314, 0.0412573673870334, 0.027481133418766908, 0.009067357512953367, 0.015384615384615385, 0.0, 0.058823529411764705, 0.011263073209975865, 0.06179775280898876, 0.05773373545885394, 0.042178085248828386, 0.039399624765478425, 0.027253668763102725, 0.041666666666666664, 0.02135741254605832, 0.029995313232307454, 0.027695148896876957, \"na\", 0.06407035175879397, 0.07604717364782432], \"yaxis\": \"y\"}, {\"hovertemplate\": \"<b>%{hovertext}</b><br><br>Regime Typ=Authoritarian<br>Score=%{x}<br>deathrate=%{y}<extra></extra>\", \"hovertext\": [\"Kuwait\", \"Jordan\", \"Mauritania\", \"Palestine\", \"Iraq\", \"Angola\", \"Mozambique\", \"Gabon\", \"Nicaragua\", \"Myanmar\", \"Cambodia\", \"Ethiopia\", \"Togo\", \"Niger\", \"Qatar\", \"Zimbabwe\", \"Rwanda\", \"Comoros\", \"Guinea\", \"Eswatini\", \"Russia\", \"Republic of the Congo\", \"Vietnam\", \"Oman\", \"Egypt\", \"Kazakhstan\", \"Venezuela\", \"Cameroon\", \"Afghanistan\", \"Cuba\", \"Djibouti\", \"United Arab Emirates\", \"Azerbaijan\", \"Sudan\", \"Guinea-Bissau\", \"Bahrain\", \"Belarus\", \"Iran\", \"Eritrea\", \"China\", \"Burundi\", \"Laos\", \"Libya\", \"Uzbekistan\", \"Yemen\", \"Tajikistan\", \"Saudi Arabia\", \"Equatorial Guinea\", \"Turkmenistan\", \"Chad\", \"Syria\", \"Central African Republic\", \"Democratic Republic of the Congo\", \"North Korea\"], \"legendgroup\": \"Authoritarian\", \"marker\": {\"color\": \"#ab63fa\", \"symbol\": \"circle\"}, \"mode\": \"markers\", \"name\": \"Authoritarian\", \"showlegend\": true, \"type\": \"scatter\", \"x\": [3.93, 3.93, 3.92, 3.89, 3.74, 3.72, 3.65, 3.61, 3.55, 3.55, 3.53, 3.44, 3.3, 3.29, 3.19, 3.16, 3.16, 3.15, 3.14, 3.14, 3.11, 3.11, 3.08, 3.06, 3.06, 2.94, 2.88, 2.85, 2.85, 2.84, 2.77, 2.76, 2.75, 2.7, 2.63, 2.55, 2.48, 2.38, 2.37, 2.26, 2.15, 2.14, 2.02, 2.01, 1.95, 1.93, 1.93, 1.92, 1.72, 1.61, 1.43, 1.32, 1.13, 1.08], \"xaxis\": \"x\", \"y\": [0.007217847769028871, 0.01386748844375963, 0.030534351145038167, \"na\", 0.0362780393242869, 0.057692307692307696, 0.0, 0.007989347536617843, 0.06692913385826772, \"na\", 0.0, 0.0136986301369863, 0.03550295857988166, 0.060175054704595186, 0.00042127731281244734, 0.08695652173913043, 0.0, 0.09090909090909091, 0.0062871114215857496, 0.009615384615384616, 0.009458526843612577, \"na\", 0.0, 0.004761065067889261, 0.04887273805992287, 0.005184417123389127, 0.01335113484646195, 0.03967129498441485, 0.023258852737488567, 0.041865394806571275, 0.004326328800988875, 0.009057175916689942, 0.011654349061967027, 0.0406891495601173, 0.005780346820809248, 0.0015932023366967605, 0.005554144979052939, 0.057133455855798015, 0.0, 0.05517290603475965, 0.023809523809523808, 0.0, 0.04411764705882353, 0.004553415061295972, 0.16766467065868262, 0.021177685950413222, 0.005496708657733819, 0.008484848484848486, \"na\", 0.10275229357798166, 0.05172413793103448, 0.0, \"na\", \"na\"], \"yaxis\": \"y\"}],\n",
       "                        {\"legend\": {\"title\": {\"text\": \"Regime Typ\"}, \"tracegroupgap\": 0}, \"template\": {\"data\": {\"bar\": [{\"error_x\": {\"color\": \"#2a3f5f\"}, \"error_y\": {\"color\": \"#2a3f5f\"}, \"marker\": {\"line\": {\"color\": \"#E5ECF6\", \"width\": 0.5}}, \"type\": \"bar\"}], \"barpolar\": [{\"marker\": {\"line\": {\"color\": \"#E5ECF6\", \"width\": 0.5}}, \"type\": \"barpolar\"}], \"carpet\": [{\"aaxis\": {\"endlinecolor\": \"#2a3f5f\", \"gridcolor\": \"white\", \"linecolor\": \"white\", \"minorgridcolor\": \"white\", \"startlinecolor\": \"#2a3f5f\"}, \"baxis\": {\"endlinecolor\": \"#2a3f5f\", \"gridcolor\": \"white\", \"linecolor\": \"white\", \"minorgridcolor\": \"white\", \"startlinecolor\": \"#2a3f5f\"}, \"type\": \"carpet\"}], \"choropleth\": [{\"colorbar\": {\"outlinewidth\": 0, \"ticks\": \"\"}, \"type\": \"choropleth\"}], \"contour\": [{\"colorbar\": {\"outlinewidth\": 0, \"ticks\": \"\"}, \"colorscale\": [[0.0, \"#0d0887\"], [0.1111111111111111, \"#46039f\"], [0.2222222222222222, \"#7201a8\"], [0.3333333333333333, \"#9c179e\"], [0.4444444444444444, \"#bd3786\"], [0.5555555555555556, \"#d8576b\"], [0.6666666666666666, \"#ed7953\"], [0.7777777777777778, \"#fb9f3a\"], [0.8888888888888888, \"#fdca26\"], [1.0, \"#f0f921\"]], \"type\": \"contour\"}], \"contourcarpet\": [{\"colorbar\": {\"outlinewidth\": 0, \"ticks\": \"\"}, \"type\": \"contourcarpet\"}], \"heatmap\": [{\"colorbar\": {\"outlinewidth\": 0, \"ticks\": \"\"}, \"colorscale\": [[0.0, \"#0d0887\"], [0.1111111111111111, \"#46039f\"], [0.2222222222222222, \"#7201a8\"], [0.3333333333333333, \"#9c179e\"], [0.4444444444444444, \"#bd3786\"], [0.5555555555555556, \"#d8576b\"], [0.6666666666666666, \"#ed7953\"], [0.7777777777777778, \"#fb9f3a\"], [0.8888888888888888, \"#fdca26\"], [1.0, \"#f0f921\"]], \"type\": \"heatmap\"}], \"heatmapgl\": [{\"colorbar\": {\"outlinewidth\": 0, \"ticks\": \"\"}, \"colorscale\": [[0.0, \"#0d0887\"], [0.1111111111111111, \"#46039f\"], [0.2222222222222222, \"#7201a8\"], [0.3333333333333333, \"#9c179e\"], [0.4444444444444444, \"#bd3786\"], [0.5555555555555556, \"#d8576b\"], [0.6666666666666666, \"#ed7953\"], [0.7777777777777778, \"#fb9f3a\"], [0.8888888888888888, \"#fdca26\"], [1.0, \"#f0f921\"]], \"type\": \"heatmapgl\"}], \"histogram\": [{\"marker\": {\"colorbar\": {\"outlinewidth\": 0, \"ticks\": \"\"}}, \"type\": \"histogram\"}], \"histogram2d\": [{\"colorbar\": {\"outlinewidth\": 0, \"ticks\": \"\"}, \"colorscale\": [[0.0, \"#0d0887\"], [0.1111111111111111, \"#46039f\"], [0.2222222222222222, \"#7201a8\"], [0.3333333333333333, \"#9c179e\"], [0.4444444444444444, \"#bd3786\"], [0.5555555555555556, \"#d8576b\"], [0.6666666666666666, \"#ed7953\"], [0.7777777777777778, \"#fb9f3a\"], [0.8888888888888888, \"#fdca26\"], [1.0, \"#f0f921\"]], \"type\": \"histogram2d\"}], \"histogram2dcontour\": [{\"colorbar\": {\"outlinewidth\": 0, \"ticks\": \"\"}, \"colorscale\": [[0.0, \"#0d0887\"], [0.1111111111111111, \"#46039f\"], [0.2222222222222222, \"#7201a8\"], [0.3333333333333333, \"#9c179e\"], [0.4444444444444444, \"#bd3786\"], [0.5555555555555556, \"#d8576b\"], [0.6666666666666666, \"#ed7953\"], [0.7777777777777778, \"#fb9f3a\"], [0.8888888888888888, \"#fdca26\"], [1.0, \"#f0f921\"]], \"type\": \"histogram2dcontour\"}], \"mesh3d\": [{\"colorbar\": {\"outlinewidth\": 0, \"ticks\": \"\"}, \"type\": \"mesh3d\"}], \"parcoords\": [{\"line\": {\"colorbar\": {\"outlinewidth\": 0, \"ticks\": \"\"}}, \"type\": \"parcoords\"}], \"pie\": [{\"automargin\": true, \"type\": \"pie\"}], \"scatter\": [{\"marker\": {\"colorbar\": {\"outlinewidth\": 0, \"ticks\": \"\"}}, \"type\": \"scatter\"}], \"scatter3d\": [{\"line\": {\"colorbar\": {\"outlinewidth\": 0, \"ticks\": \"\"}}, \"marker\": {\"colorbar\": {\"outlinewidth\": 0, \"ticks\": \"\"}}, \"type\": \"scatter3d\"}], \"scattercarpet\": [{\"marker\": {\"colorbar\": {\"outlinewidth\": 0, \"ticks\": \"\"}}, \"type\": \"scattercarpet\"}], \"scattergeo\": [{\"marker\": {\"colorbar\": {\"outlinewidth\": 0, \"ticks\": \"\"}}, \"type\": \"scattergeo\"}], \"scattergl\": [{\"marker\": {\"colorbar\": {\"outlinewidth\": 0, \"ticks\": \"\"}}, \"type\": \"scattergl\"}], \"scattermapbox\": [{\"marker\": {\"colorbar\": {\"outlinewidth\": 0, \"ticks\": \"\"}}, \"type\": \"scattermapbox\"}], \"scatterpolar\": [{\"marker\": {\"colorbar\": {\"outlinewidth\": 0, \"ticks\": \"\"}}, \"type\": \"scatterpolar\"}], \"scatterpolargl\": [{\"marker\": {\"colorbar\": {\"outlinewidth\": 0, \"ticks\": \"\"}}, \"type\": \"scatterpolargl\"}], \"scatterternary\": [{\"marker\": {\"colorbar\": {\"outlinewidth\": 0, \"ticks\": \"\"}}, \"type\": \"scatterternary\"}], \"surface\": [{\"colorbar\": {\"outlinewidth\": 0, \"ticks\": \"\"}, \"colorscale\": [[0.0, \"#0d0887\"], [0.1111111111111111, \"#46039f\"], [0.2222222222222222, \"#7201a8\"], [0.3333333333333333, \"#9c179e\"], [0.4444444444444444, \"#bd3786\"], [0.5555555555555556, \"#d8576b\"], [0.6666666666666666, \"#ed7953\"], [0.7777777777777778, \"#fb9f3a\"], [0.8888888888888888, \"#fdca26\"], [1.0, \"#f0f921\"]], \"type\": \"surface\"}], \"table\": [{\"cells\": {\"fill\": {\"color\": \"#EBF0F8\"}, \"line\": {\"color\": \"white\"}}, \"header\": {\"fill\": {\"color\": \"#C8D4E3\"}, \"line\": {\"color\": \"white\"}}, \"type\": \"table\"}]}, \"layout\": {\"annotationdefaults\": {\"arrowcolor\": \"#2a3f5f\", \"arrowhead\": 0, \"arrowwidth\": 1}, \"coloraxis\": {\"colorbar\": {\"outlinewidth\": 0, \"ticks\": \"\"}}, \"colorscale\": {\"diverging\": [[0, \"#8e0152\"], [0.1, \"#c51b7d\"], [0.2, \"#de77ae\"], [0.3, \"#f1b6da\"], [0.4, \"#fde0ef\"], [0.5, \"#f7f7f7\"], [0.6, \"#e6f5d0\"], [0.7, \"#b8e186\"], [0.8, \"#7fbc41\"], [0.9, \"#4d9221\"], [1, \"#276419\"]], \"sequential\": [[0.0, \"#0d0887\"], [0.1111111111111111, \"#46039f\"], [0.2222222222222222, \"#7201a8\"], [0.3333333333333333, \"#9c179e\"], [0.4444444444444444, \"#bd3786\"], [0.5555555555555556, \"#d8576b\"], [0.6666666666666666, \"#ed7953\"], [0.7777777777777778, \"#fb9f3a\"], [0.8888888888888888, \"#fdca26\"], [1.0, \"#f0f921\"]], \"sequentialminus\": [[0.0, \"#0d0887\"], [0.1111111111111111, \"#46039f\"], [0.2222222222222222, \"#7201a8\"], [0.3333333333333333, \"#9c179e\"], [0.4444444444444444, \"#bd3786\"], [0.5555555555555556, \"#d8576b\"], [0.6666666666666666, \"#ed7953\"], [0.7777777777777778, \"#fb9f3a\"], [0.8888888888888888, \"#fdca26\"], [1.0, \"#f0f921\"]]}, \"colorway\": [\"#636efa\", \"#EF553B\", \"#00cc96\", \"#ab63fa\", \"#FFA15A\", \"#19d3f3\", \"#FF6692\", \"#B6E880\", \"#FF97FF\", \"#FECB52\"], \"font\": {\"color\": \"#2a3f5f\"}, \"geo\": {\"bgcolor\": \"white\", \"lakecolor\": \"white\", \"landcolor\": \"#E5ECF6\", \"showlakes\": true, \"showland\": true, \"subunitcolor\": \"white\"}, \"hoverlabel\": {\"align\": \"left\"}, \"hovermode\": \"closest\", \"mapbox\": {\"style\": \"light\"}, \"paper_bgcolor\": \"white\", \"plot_bgcolor\": \"#E5ECF6\", \"polar\": {\"angularaxis\": {\"gridcolor\": \"white\", \"linecolor\": \"white\", \"ticks\": \"\"}, \"bgcolor\": \"#E5ECF6\", \"radialaxis\": {\"gridcolor\": \"white\", \"linecolor\": \"white\", \"ticks\": \"\"}}, \"scene\": {\"xaxis\": {\"backgroundcolor\": \"#E5ECF6\", \"gridcolor\": \"white\", \"gridwidth\": 2, \"linecolor\": \"white\", \"showbackground\": true, \"ticks\": \"\", \"zerolinecolor\": \"white\"}, \"yaxis\": {\"backgroundcolor\": \"#E5ECF6\", \"gridcolor\": \"white\", \"gridwidth\": 2, \"linecolor\": \"white\", \"showbackground\": true, \"ticks\": \"\", \"zerolinecolor\": \"white\"}, \"zaxis\": {\"backgroundcolor\": \"#E5ECF6\", \"gridcolor\": \"white\", \"gridwidth\": 2, \"linecolor\": \"white\", \"showbackground\": true, \"ticks\": \"\", \"zerolinecolor\": \"white\"}}, \"shapedefaults\": {\"line\": {\"color\": \"#2a3f5f\"}}, \"ternary\": {\"aaxis\": {\"gridcolor\": \"white\", \"linecolor\": \"white\", \"ticks\": \"\"}, \"baxis\": {\"gridcolor\": \"white\", \"linecolor\": \"white\", \"ticks\": \"\"}, \"bgcolor\": \"#E5ECF6\", \"caxis\": {\"gridcolor\": \"white\", \"linecolor\": \"white\", \"ticks\": \"\"}}, \"title\": {\"x\": 0.05}, \"xaxis\": {\"automargin\": true, \"gridcolor\": \"white\", \"linecolor\": \"white\", \"ticks\": \"\", \"title\": {\"standoff\": 15}, \"zerolinecolor\": \"white\", \"zerolinewidth\": 2}, \"yaxis\": {\"automargin\": true, \"gridcolor\": \"white\", \"linecolor\": \"white\", \"ticks\": \"\", \"title\": {\"standoff\": 15}, \"zerolinecolor\": \"white\", \"zerolinewidth\": 2}}}, \"title\": {\"text\": \"Regime Typ vs. death rate\"}, \"xaxis\": {\"anchor\": \"y\", \"domain\": [0.0, 1.0], \"title\": {\"text\": \"Score\"}}, \"yaxis\": {\"anchor\": \"x\", \"domain\": [0.0, 1.0], \"title\": {\"text\": \"deathrate\"}}},\n",
       "                        {\"responsive\": true}\n",
       "                    ).then(function(){\n",
       "                            \n",
       "var gd = document.getElementById('8bffd0f5-63d5-42a3-9b4c-bae2c4744d67');\n",
       "var x = new MutationObserver(function (mutations, observer) {{\n",
       "        var display = window.getComputedStyle(gd).display;\n",
       "        if (!display || display === 'none') {{\n",
       "            console.log([gd, 'removed!']);\n",
       "            Plotly.purge(gd);\n",
       "            observer.disconnect();\n",
       "        }}\n",
       "}});\n",
       "\n",
       "// Listen for the removal of the full notebook cells\n",
       "var notebookContainer = gd.closest('#notebook-container');\n",
       "if (notebookContainer) {{\n",
       "    x.observe(notebookContainer, {childList: true});\n",
       "}}\n",
       "\n",
       "// Listen for the clearing of the current output cell\n",
       "var outputEl = gd.closest('.output');\n",
       "if (outputEl) {{\n",
       "    x.observe(outputEl, {childList: true});\n",
       "}}\n",
       "\n",
       "                        })\n",
       "                };\n",
       "                });\n",
       "            </script>\n",
       "        </div>"
      ]
     },
     "metadata": {},
     "output_type": "display_data"
    }
   ],
   "source": [
    "fig = px.scatter(democracy,\n",
    "    x = 'Score',\n",
    "    y = 'deathrate',\n",
    "    hover_name=countries,\n",
    "    color='Regime Typ',\n",
    "    title='Regime Typ vs. death rate')\n",
    "fig.show()"
   ]
  },
  {
   "cell_type": "code",
   "execution_count": null,
   "metadata": {},
   "outputs": [],
   "source": []
  }
 ],
 "metadata": {
  "kernelspec": {
   "display_name": "Python 3",
   "language": "python",
   "name": "python3"
  },
  "language_info": {
   "codemirror_mode": {
    "name": "ipython",
    "version": 3
   },
   "file_extension": ".py",
   "mimetype": "text/x-python",
   "name": "python",
   "nbconvert_exporter": "python",
   "pygments_lexer": "ipython3",
   "version": "3.7.6"
  }
 },
 "nbformat": 4,
 "nbformat_minor": 2
}
