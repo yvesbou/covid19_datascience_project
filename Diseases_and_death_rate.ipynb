{
 "cells": [
  {
   "cell_type": "markdown",
   "metadata": {},
   "source": [
    "# Testing disease prevalence as explanatory variable for death rate"
   ]
  },
  {
   "cell_type": "markdown",
   "metadata": {},
   "source": [
    "## Code book\n",
    "\n",
    "### For Covid-19 data\n",
    "\n",
    "#### Variables and their units\n",
    "\n",
    "- We have 2 dataframes (df_infected, df_deaths) each one contains only one type of information\n",
    "   - Infected\n",
    "   - Deaths\n",
    "- dates (columns): days of the year 2020 from end of January to today\n",
    "- deaths (entries of df_deaths): # of people died of covid-19\n",
    "- Infected (entries of df_infected): # of people tested positive on covid-19\n",
    "- Countries (index): Names of all Countries that maintain a record of their covid-19 cases\n",
    "\n",
    "\n",
    "#### Summary choices made\n",
    "\n",
    "- We made up a new column for Continents Names of all Continents \n",
    "- We calculated a death rate for the latest day and each country by computing deaths divided by infected\n",
    "        \n",
    "\n",
    "### For diseases data\n",
    "\n",
    "#### Variables and their units\n",
    "\n",
    "- Our dataframe contained:\n",
    "    - Entity -> Country names\n",
    "    - Country 3 letter code\n",
    "    - year\n",
    "    - about 20 diseases each reporting in % how large the proportion of deaths is caused by this disease respect to total deaths in a country in a year\n",
    "\n",
    "#### Summary choices made\n",
    "\n",
    "- We discarded many diseases and all years from the past (we have chosen 2016 as recent year since it's complete unlike 2017)\n",
    "- the diseases we investigated are reported as risk factors for covid-19 and are the following:\n",
    "    - Cardiovascular diseases\n",
    "    - Diabetes\n",
    "    - Respiratory diseases\n",
    "    - Nutritional deficiencies\n",
    "\n",
    "\n",
    "### Plots\n",
    "- We  made scatterplots with x-axis the prevelance of a disease vs. the deathrate and hoped to see any correlation, but we didn't\n",
    "- a linear regression was performed for europe with respiratory diseases but the residuals and the metrics don't look good\n",
    "\n"
   ]
  },
  {
   "cell_type": "markdown",
   "metadata": {},
   "source": [
    "## Import"
   ]
  },
  {
   "cell_type": "code",
   "execution_count": 1,
   "metadata": {},
   "outputs": [],
   "source": [
    "import pandas as pd\n",
    "import numpy as np\n",
    "import matplotlib.pyplot as plt\n",
    "import pycountry_convert as pc"
   ]
  },
  {
   "cell_type": "markdown",
   "metadata": {},
   "source": [
    "## Read in data"
   ]
  },
  {
   "cell_type": "markdown",
   "metadata": {},
   "source": [
    "Data from: https://github.com/CSSEGISandData/COVID-19"
   ]
  },
  {
   "cell_type": "code",
   "execution_count": 2,
   "metadata": {},
   "outputs": [],
   "source": [
    "#import data of deaths and infected\n",
    "deaths = pd.read_csv('./COVID-19-master/csse_covid_19_data/csse_covid_19_time_series/time_series_covid19_deaths_global.csv')\n",
    "infected = pd.read_csv('./COVID-19-master/csse_covid_19_data/csse_covid_19_time_series/time_series_covid19_confirmed_global.csv')\n",
    "deaths_US = pd.read_csv('./COVID-19-master/csse_covid_19_data/csse_covid_19_time_series/time_series_covid19_deaths_US.csv')\n",
    "infected_US = pd.read_csv('./COVID-19-master/csse_covid_19_data/csse_covid_19_time_series/time_series_covid19_confirmed_US.csv')\n",
    "#add a column called United States to the US datasets so that they are compatible\n",
    "deaths_US['Country/Region'] = 'United States'\n",
    "infected_US['Country/Region'] = 'United States'"
   ]
  },
  {
   "cell_type": "markdown",
   "metadata": {},
   "source": [
    "data from: https://ourworldindata.org/grapher/share-of-total-disease-burden-by-cause"
   ]
  },
  {
   "cell_type": "code",
   "execution_count": 3,
   "metadata": {},
   "outputs": [],
   "source": [
    "diseases = pd.read_csv('./diseases.csv')"
   ]
  },
  {
   "cell_type": "markdown",
   "metadata": {},
   "source": [
    "## Data wrangling"
   ]
  },
  {
   "cell_type": "code",
   "execution_count": 4,
   "metadata": {},
   "outputs": [],
   "source": [
    "#statistics for countries (group all regions together)\n",
    "deaths = deaths.groupby('Country/Region').sum() \n",
    "infected = infected.groupby('Country/Region').sum() \n",
    "#sum over all states in the US\n",
    "deaths_US = deaths_US.groupby('Country/Region').sum()\n",
    "infected_US = infected_US.groupby('Country/Region').sum()"
   ]
  },
  {
   "cell_type": "code",
   "execution_count": 5,
   "metadata": {},
   "outputs": [],
   "source": [
    "#take just the most recent day (i.e. data) for analysis\n",
    "deaths = deaths[deaths.columns[-1]]\n",
    "infected = infected[infected.columns[-1]]\n",
    "deaths_US = deaths_US[deaths_US.columns[-1]]\n",
    "infected_US = infected_US[infected_US.columns[-1]]\n",
    "deaths = deaths.append(deaths_US)\n",
    "infected = infected.append(infected_US)"
   ]
  },
  {
   "cell_type": "code",
   "execution_count": 6,
   "metadata": {},
   "outputs": [],
   "source": [
    "#create a pd.series with contains death_rates for all countries within the datasets\n",
    "death_rate = deaths/infected\n",
    "countries_death_rate = death_rate.index"
   ]
  },
  {
   "cell_type": "code",
   "execution_count": 7,
   "metadata": {},
   "outputs": [
    {
     "data": {
      "text/plain": [
       "Index(['Entity', 'Code', 'Year', 'Cardiovascular diseases (%)', 'Cancers (%)',\n",
       "       'Diabetes, blood, & endocrine diseases (%)',\n",
       "       'Mental and substance use disorders (%)', 'Respiratory diseases (%)',\n",
       "       'Other NCDs (%)', 'Liver disease (%)',\n",
       "       'Diarrhea & common infectious diseases (%)', 'Neonatal disorders (%)',\n",
       "       'Maternal disorders (%)', 'Musculoskeletal disorders (%)',\n",
       "       'Unintentional injuries (%)', 'Neurological disorders (%)',\n",
       "       'HIV/AIDS and tuberculosis (%)', 'Transport injuries (%)',\n",
       "       'Self-harm (%)', 'Interpersonal violence (%)',\n",
       "       'Conflict & terrorism (%)', 'Natural disasters (%)',\n",
       "       'Malaria & neglected tropical diseases (%)',\n",
       "       'Nutritional deficiencies (%)', 'Digestive diseases (%)',\n",
       "       'Other communicable diseases (%)'],\n",
       "      dtype='object')"
      ]
     },
     "execution_count": 7,
     "metadata": {},
     "output_type": "execute_result"
    }
   ],
   "source": [
    "diseases.columns"
   ]
  },
  {
   "cell_type": "markdown",
   "metadata": {},
   "source": [
    "### interesting variables\n",
    "- Cardiovascular diseases\n",
    "- Diabetes\n",
    "- Respiratory diseases\n",
    "- Nutritional deficiencies"
   ]
  },
  {
   "cell_type": "code",
   "execution_count": 8,
   "metadata": {},
   "outputs": [],
   "source": [
    "diseases = diseases.loc[(diseases['Year'] == 2016)]\n",
    "#have to take 2016 since for 2017 there is no data available regarding diabetes"
   ]
  },
  {
   "cell_type": "code",
   "execution_count": 9,
   "metadata": {},
   "outputs": [
    {
     "data": {
      "text/html": [
       "<div>\n",
       "<style scoped>\n",
       "    .dataframe tbody tr th:only-of-type {\n",
       "        vertical-align: middle;\n",
       "    }\n",
       "\n",
       "    .dataframe tbody tr th {\n",
       "        vertical-align: top;\n",
       "    }\n",
       "\n",
       "    .dataframe thead th {\n",
       "        text-align: right;\n",
       "    }\n",
       "</style>\n",
       "<table border=\"1\" class=\"dataframe\">\n",
       "  <thead>\n",
       "    <tr style=\"text-align: right;\">\n",
       "      <th></th>\n",
       "      <th>Entity</th>\n",
       "      <th>Code</th>\n",
       "      <th>Year</th>\n",
       "      <th>Cardiovascular diseases (%)</th>\n",
       "      <th>Cancers (%)</th>\n",
       "      <th>Diabetes, blood, &amp; endocrine diseases (%)</th>\n",
       "      <th>Mental and substance use disorders (%)</th>\n",
       "      <th>Respiratory diseases (%)</th>\n",
       "      <th>Other NCDs (%)</th>\n",
       "      <th>Liver disease (%)</th>\n",
       "      <th>...</th>\n",
       "      <th>HIV/AIDS and tuberculosis (%)</th>\n",
       "      <th>Transport injuries (%)</th>\n",
       "      <th>Self-harm (%)</th>\n",
       "      <th>Interpersonal violence (%)</th>\n",
       "      <th>Conflict &amp; terrorism (%)</th>\n",
       "      <th>Natural disasters (%)</th>\n",
       "      <th>Malaria &amp; neglected tropical diseases (%)</th>\n",
       "      <th>Nutritional deficiencies (%)</th>\n",
       "      <th>Digestive diseases (%)</th>\n",
       "      <th>Other communicable diseases (%)</th>\n",
       "    </tr>\n",
       "  </thead>\n",
       "  <tbody>\n",
       "    <tr>\n",
       "      <th>26</th>\n",
       "      <td>Afghanistan</td>\n",
       "      <td>AFG</td>\n",
       "      <td>2016</td>\n",
       "      <td>8.953006</td>\n",
       "      <td>3.372082</td>\n",
       "      <td>5.273280</td>\n",
       "      <td>2.858358</td>\n",
       "      <td>1.963170</td>\n",
       "      <td>8.610303</td>\n",
       "      <td>0.498116</td>\n",
       "      <td>...</td>\n",
       "      <td>2.938014</td>\n",
       "      <td>3.091958</td>\n",
       "      <td>0.477499</td>\n",
       "      <td>1.364792</td>\n",
       "      <td>11.950411</td>\n",
       "      <td>0.113785</td>\n",
       "      <td>1.393345</td>\n",
       "      <td>1.770030</td>\n",
       "      <td>1.919848</td>\n",
       "      <td>1.318737</td>\n",
       "    </tr>\n",
       "    <tr>\n",
       "      <th>54</th>\n",
       "      <td>Albania</td>\n",
       "      <td>ALB</td>\n",
       "      <td>2016</td>\n",
       "      <td>27.016784</td>\n",
       "      <td>13.225390</td>\n",
       "      <td>4.571592</td>\n",
       "      <td>5.021419</td>\n",
       "      <td>3.251425</td>\n",
       "      <td>4.906855</td>\n",
       "      <td>1.122277</td>\n",
       "      <td>...</td>\n",
       "      <td>0.051632</td>\n",
       "      <td>2.559099</td>\n",
       "      <td>0.960000</td>\n",
       "      <td>0.657873</td>\n",
       "      <td>0.089445</td>\n",
       "      <td>0.012838</td>\n",
       "      <td>0.019658</td>\n",
       "      <td>0.980691</td>\n",
       "      <td>2.993068</td>\n",
       "      <td>0.256763</td>\n",
       "    </tr>\n",
       "    <tr>\n",
       "      <th>82</th>\n",
       "      <td>Algeria</td>\n",
       "      <td>DZA</td>\n",
       "      <td>2016</td>\n",
       "      <td>17.005476</td>\n",
       "      <td>6.481729</td>\n",
       "      <td>8.614000</td>\n",
       "      <td>7.428263</td>\n",
       "      <td>3.475417</td>\n",
       "      <td>9.213593</td>\n",
       "      <td>0.926308</td>\n",
       "      <td>...</td>\n",
       "      <td>0.390351</td>\n",
       "      <td>4.754736</td>\n",
       "      <td>0.937858</td>\n",
       "      <td>0.379171</td>\n",
       "      <td>0.187965</td>\n",
       "      <td>0.065546</td>\n",
       "      <td>0.124510</td>\n",
       "      <td>1.188142</td>\n",
       "      <td>2.755848</td>\n",
       "      <td>0.597224</td>\n",
       "    </tr>\n",
       "    <tr>\n",
       "      <th>110</th>\n",
       "      <td>American Samoa</td>\n",
       "      <td>ASM</td>\n",
       "      <td>2016</td>\n",
       "      <td>17.731443</td>\n",
       "      <td>10.766780</td>\n",
       "      <td>16.741250</td>\n",
       "      <td>4.579241</td>\n",
       "      <td>5.447381</td>\n",
       "      <td>5.238647</td>\n",
       "      <td>1.317823</td>\n",
       "      <td>...</td>\n",
       "      <td>0.832989</td>\n",
       "      <td>2.039153</td>\n",
       "      <td>1.165921</td>\n",
       "      <td>1.292605</td>\n",
       "      <td>0.021500</td>\n",
       "      <td>0.136717</td>\n",
       "      <td>0.299595</td>\n",
       "      <td>1.717747</td>\n",
       "      <td>2.856487</td>\n",
       "      <td>1.455184</td>\n",
       "    </tr>\n",
       "    <tr>\n",
       "      <th>138</th>\n",
       "      <td>Andean Latin America</td>\n",
       "      <td>NaN</td>\n",
       "      <td>2016</td>\n",
       "      <td>8.975195</td>\n",
       "      <td>9.638716</td>\n",
       "      <td>6.775455</td>\n",
       "      <td>6.345378</td>\n",
       "      <td>3.097143</td>\n",
       "      <td>6.264238</td>\n",
       "      <td>2.045797</td>\n",
       "      <td>...</td>\n",
       "      <td>1.517249</td>\n",
       "      <td>4.230945</td>\n",
       "      <td>1.129436</td>\n",
       "      <td>1.660275</td>\n",
       "      <td>0.113817</td>\n",
       "      <td>0.309585</td>\n",
       "      <td>0.912056</td>\n",
       "      <td>2.031825</td>\n",
       "      <td>4.376244</td>\n",
       "      <td>0.503100</td>\n",
       "    </tr>\n",
       "    <tr>\n",
       "      <th>...</th>\n",
       "      <td>...</td>\n",
       "      <td>...</td>\n",
       "      <td>...</td>\n",
       "      <td>...</td>\n",
       "      <td>...</td>\n",
       "      <td>...</td>\n",
       "      <td>...</td>\n",
       "      <td>...</td>\n",
       "      <td>...</td>\n",
       "      <td>...</td>\n",
       "      <td>...</td>\n",
       "      <td>...</td>\n",
       "      <td>...</td>\n",
       "      <td>...</td>\n",
       "      <td>...</td>\n",
       "      <td>...</td>\n",
       "      <td>...</td>\n",
       "      <td>...</td>\n",
       "      <td>...</td>\n",
       "      <td>...</td>\n",
       "      <td>...</td>\n",
       "    </tr>\n",
       "    <tr>\n",
       "      <th>6354</th>\n",
       "      <td>Western Sub-Saharan Africa</td>\n",
       "      <td>NaN</td>\n",
       "      <td>2016</td>\n",
       "      <td>3.724172</td>\n",
       "      <td>2.791558</td>\n",
       "      <td>3.214157</td>\n",
       "      <td>2.222745</td>\n",
       "      <td>1.278003</td>\n",
       "      <td>5.317264</td>\n",
       "      <td>1.075991</td>\n",
       "      <td>...</td>\n",
       "      <td>7.584554</td>\n",
       "      <td>1.556068</td>\n",
       "      <td>0.380757</td>\n",
       "      <td>0.565460</td>\n",
       "      <td>0.206688</td>\n",
       "      <td>0.004924</td>\n",
       "      <td>12.399159</td>\n",
       "      <td>4.473840</td>\n",
       "      <td>2.317353</td>\n",
       "      <td>1.489165</td>\n",
       "    </tr>\n",
       "    <tr>\n",
       "      <th>6382</th>\n",
       "      <td>World</td>\n",
       "      <td>OWID_WRL</td>\n",
       "      <td>2016</td>\n",
       "      <td>14.490059</td>\n",
       "      <td>9.232437</td>\n",
       "      <td>5.586523</td>\n",
       "      <td>4.822218</td>\n",
       "      <td>4.437275</td>\n",
       "      <td>4.923699</td>\n",
       "      <td>1.632587</td>\n",
       "      <td>...</td>\n",
       "      <td>4.237291</td>\n",
       "      <td>3.039545</td>\n",
       "      <td>1.357773</td>\n",
       "      <td>1.018319</td>\n",
       "      <td>0.476779</td>\n",
       "      <td>0.044277</td>\n",
       "      <td>2.520883</td>\n",
       "      <td>2.353481</td>\n",
       "      <td>3.365841</td>\n",
       "      <td>0.982084</td>\n",
       "    </tr>\n",
       "    <tr>\n",
       "      <th>6410</th>\n",
       "      <td>Yemen</td>\n",
       "      <td>YEM</td>\n",
       "      <td>2016</td>\n",
       "      <td>11.662122</td>\n",
       "      <td>3.194844</td>\n",
       "      <td>4.071575</td>\n",
       "      <td>4.190816</td>\n",
       "      <td>2.032312</td>\n",
       "      <td>7.713454</td>\n",
       "      <td>0.509678</td>\n",
       "      <td>...</td>\n",
       "      <td>0.657666</td>\n",
       "      <td>5.155841</td>\n",
       "      <td>0.662017</td>\n",
       "      <td>0.991902</td>\n",
       "      <td>8.732391</td>\n",
       "      <td>0.040894</td>\n",
       "      <td>0.910300</td>\n",
       "      <td>7.359534</td>\n",
       "      <td>2.110756</td>\n",
       "      <td>2.998945</td>\n",
       "    </tr>\n",
       "    <tr>\n",
       "      <th>6438</th>\n",
       "      <td>Zambia</td>\n",
       "      <td>ZMB</td>\n",
       "      <td>2016</td>\n",
       "      <td>4.074966</td>\n",
       "      <td>3.864070</td>\n",
       "      <td>2.823180</td>\n",
       "      <td>2.743615</td>\n",
       "      <td>1.453882</td>\n",
       "      <td>6.395929</td>\n",
       "      <td>1.369252</td>\n",
       "      <td>...</td>\n",
       "      <td>22.644122</td>\n",
       "      <td>1.749760</td>\n",
       "      <td>0.621454</td>\n",
       "      <td>0.879693</td>\n",
       "      <td>0.003851</td>\n",
       "      <td>0.000432</td>\n",
       "      <td>4.989169</td>\n",
       "      <td>4.257678</td>\n",
       "      <td>2.606263</td>\n",
       "      <td>1.526627</td>\n",
       "    </tr>\n",
       "    <tr>\n",
       "      <th>6466</th>\n",
       "      <td>Zimbabwe</td>\n",
       "      <td>ZWE</td>\n",
       "      <td>2016</td>\n",
       "      <td>6.560883</td>\n",
       "      <td>4.998633</td>\n",
       "      <td>3.622970</td>\n",
       "      <td>2.411915</td>\n",
       "      <td>2.377705</td>\n",
       "      <td>3.342036</td>\n",
       "      <td>0.681232</td>\n",
       "      <td>...</td>\n",
       "      <td>25.493061</td>\n",
       "      <td>2.523233</td>\n",
       "      <td>1.724938</td>\n",
       "      <td>1.092041</td>\n",
       "      <td>0.009497</td>\n",
       "      <td>0.028184</td>\n",
       "      <td>1.354636</td>\n",
       "      <td>4.517717</td>\n",
       "      <td>2.037757</td>\n",
       "      <td>0.680423</td>\n",
       "    </tr>\n",
       "  </tbody>\n",
       "</table>\n",
       "<p>231 rows × 26 columns</p>\n",
       "</div>"
      ],
      "text/plain": [
       "                          Entity      Code  Year  Cardiovascular diseases (%)  \\\n",
       "26                   Afghanistan       AFG  2016                     8.953006   \n",
       "54                       Albania       ALB  2016                    27.016784   \n",
       "82                       Algeria       DZA  2016                    17.005476   \n",
       "110               American Samoa       ASM  2016                    17.731443   \n",
       "138         Andean Latin America       NaN  2016                     8.975195   \n",
       "...                          ...       ...   ...                          ...   \n",
       "6354  Western Sub-Saharan Africa       NaN  2016                     3.724172   \n",
       "6382                       World  OWID_WRL  2016                    14.490059   \n",
       "6410                       Yemen       YEM  2016                    11.662122   \n",
       "6438                      Zambia       ZMB  2016                     4.074966   \n",
       "6466                    Zimbabwe       ZWE  2016                     6.560883   \n",
       "\n",
       "      Cancers (%)  Diabetes, blood, & endocrine diseases (%)  \\\n",
       "26       3.372082                                   5.273280   \n",
       "54      13.225390                                   4.571592   \n",
       "82       6.481729                                   8.614000   \n",
       "110     10.766780                                  16.741250   \n",
       "138      9.638716                                   6.775455   \n",
       "...           ...                                        ...   \n",
       "6354     2.791558                                   3.214157   \n",
       "6382     9.232437                                   5.586523   \n",
       "6410     3.194844                                   4.071575   \n",
       "6438     3.864070                                   2.823180   \n",
       "6466     4.998633                                   3.622970   \n",
       "\n",
       "      Mental and substance use disorders (%)  Respiratory diseases (%)  \\\n",
       "26                                  2.858358                  1.963170   \n",
       "54                                  5.021419                  3.251425   \n",
       "82                                  7.428263                  3.475417   \n",
       "110                                 4.579241                  5.447381   \n",
       "138                                 6.345378                  3.097143   \n",
       "...                                      ...                       ...   \n",
       "6354                                2.222745                  1.278003   \n",
       "6382                                4.822218                  4.437275   \n",
       "6410                                4.190816                  2.032312   \n",
       "6438                                2.743615                  1.453882   \n",
       "6466                                2.411915                  2.377705   \n",
       "\n",
       "      Other NCDs (%)  Liver disease (%)  ...  HIV/AIDS and tuberculosis (%)  \\\n",
       "26          8.610303           0.498116  ...                       2.938014   \n",
       "54          4.906855           1.122277  ...                       0.051632   \n",
       "82          9.213593           0.926308  ...                       0.390351   \n",
       "110         5.238647           1.317823  ...                       0.832989   \n",
       "138         6.264238           2.045797  ...                       1.517249   \n",
       "...              ...                ...  ...                            ...   \n",
       "6354        5.317264           1.075991  ...                       7.584554   \n",
       "6382        4.923699           1.632587  ...                       4.237291   \n",
       "6410        7.713454           0.509678  ...                       0.657666   \n",
       "6438        6.395929           1.369252  ...                      22.644122   \n",
       "6466        3.342036           0.681232  ...                      25.493061   \n",
       "\n",
       "      Transport injuries (%)  Self-harm (%)  Interpersonal violence (%)  \\\n",
       "26                  3.091958       0.477499                    1.364792   \n",
       "54                  2.559099       0.960000                    0.657873   \n",
       "82                  4.754736       0.937858                    0.379171   \n",
       "110                 2.039153       1.165921                    1.292605   \n",
       "138                 4.230945       1.129436                    1.660275   \n",
       "...                      ...            ...                         ...   \n",
       "6354                1.556068       0.380757                    0.565460   \n",
       "6382                3.039545       1.357773                    1.018319   \n",
       "6410                5.155841       0.662017                    0.991902   \n",
       "6438                1.749760       0.621454                    0.879693   \n",
       "6466                2.523233       1.724938                    1.092041   \n",
       "\n",
       "      Conflict & terrorism (%)  Natural disasters (%)  \\\n",
       "26                   11.950411               0.113785   \n",
       "54                    0.089445               0.012838   \n",
       "82                    0.187965               0.065546   \n",
       "110                   0.021500               0.136717   \n",
       "138                   0.113817               0.309585   \n",
       "...                        ...                    ...   \n",
       "6354                  0.206688               0.004924   \n",
       "6382                  0.476779               0.044277   \n",
       "6410                  8.732391               0.040894   \n",
       "6438                  0.003851               0.000432   \n",
       "6466                  0.009497               0.028184   \n",
       "\n",
       "      Malaria & neglected tropical diseases (%)  Nutritional deficiencies (%)  \\\n",
       "26                                     1.393345                      1.770030   \n",
       "54                                     0.019658                      0.980691   \n",
       "82                                     0.124510                      1.188142   \n",
       "110                                    0.299595                      1.717747   \n",
       "138                                    0.912056                      2.031825   \n",
       "...                                         ...                           ...   \n",
       "6354                                  12.399159                      4.473840   \n",
       "6382                                   2.520883                      2.353481   \n",
       "6410                                   0.910300                      7.359534   \n",
       "6438                                   4.989169                      4.257678   \n",
       "6466                                   1.354636                      4.517717   \n",
       "\n",
       "      Digestive diseases (%)  Other communicable diseases (%)  \n",
       "26                  1.919848                         1.318737  \n",
       "54                  2.993068                         0.256763  \n",
       "82                  2.755848                         0.597224  \n",
       "110                 2.856487                         1.455184  \n",
       "138                 4.376244                         0.503100  \n",
       "...                      ...                              ...  \n",
       "6354                2.317353                         1.489165  \n",
       "6382                3.365841                         0.982084  \n",
       "6410                2.110756                         2.998945  \n",
       "6438                2.606263                         1.526627  \n",
       "6466                2.037757                         0.680423  \n",
       "\n",
       "[231 rows x 26 columns]"
      ]
     },
     "execution_count": 9,
     "metadata": {},
     "output_type": "execute_result"
    }
   ],
   "source": [
    "diseases"
   ]
  },
  {
   "cell_type": "code",
   "execution_count": 10,
   "metadata": {},
   "outputs": [],
   "source": [
    "#select columns we investigate\n",
    "diseases = diseases[['Entity', 'Year', 'Cardiovascular diseases (%)',\n",
    "       'Diabetes, blood, & endocrine diseases (%)', 'Respiratory diseases (%)','Nutritional deficiencies (%)']]"
   ]
  },
  {
   "cell_type": "code",
   "execution_count": 11,
   "metadata": {},
   "outputs": [
    {
     "data": {
      "text/html": [
       "<div>\n",
       "<style scoped>\n",
       "    .dataframe tbody tr th:only-of-type {\n",
       "        vertical-align: middle;\n",
       "    }\n",
       "\n",
       "    .dataframe tbody tr th {\n",
       "        vertical-align: top;\n",
       "    }\n",
       "\n",
       "    .dataframe thead th {\n",
       "        text-align: right;\n",
       "    }\n",
       "</style>\n",
       "<table border=\"1\" class=\"dataframe\">\n",
       "  <thead>\n",
       "    <tr style=\"text-align: right;\">\n",
       "      <th></th>\n",
       "      <th>Entity</th>\n",
       "      <th>Year</th>\n",
       "      <th>Cardiovascular diseases (%)</th>\n",
       "      <th>Diabetes, blood, &amp; endocrine diseases (%)</th>\n",
       "      <th>Respiratory diseases (%)</th>\n",
       "      <th>Nutritional deficiencies (%)</th>\n",
       "    </tr>\n",
       "  </thead>\n",
       "  <tbody>\n",
       "    <tr>\n",
       "      <th>26</th>\n",
       "      <td>Afghanistan</td>\n",
       "      <td>2016</td>\n",
       "      <td>8.953006</td>\n",
       "      <td>5.273280</td>\n",
       "      <td>1.963170</td>\n",
       "      <td>1.770030</td>\n",
       "    </tr>\n",
       "    <tr>\n",
       "      <th>54</th>\n",
       "      <td>Albania</td>\n",
       "      <td>2016</td>\n",
       "      <td>27.016784</td>\n",
       "      <td>4.571592</td>\n",
       "      <td>3.251425</td>\n",
       "      <td>0.980691</td>\n",
       "    </tr>\n",
       "    <tr>\n",
       "      <th>82</th>\n",
       "      <td>Algeria</td>\n",
       "      <td>2016</td>\n",
       "      <td>17.005476</td>\n",
       "      <td>8.614000</td>\n",
       "      <td>3.475417</td>\n",
       "      <td>1.188142</td>\n",
       "    </tr>\n",
       "    <tr>\n",
       "      <th>110</th>\n",
       "      <td>American Samoa</td>\n",
       "      <td>2016</td>\n",
       "      <td>17.731443</td>\n",
       "      <td>16.741250</td>\n",
       "      <td>5.447381</td>\n",
       "      <td>1.717747</td>\n",
       "    </tr>\n",
       "    <tr>\n",
       "      <th>138</th>\n",
       "      <td>Andean Latin America</td>\n",
       "      <td>2016</td>\n",
       "      <td>8.975195</td>\n",
       "      <td>6.775455</td>\n",
       "      <td>3.097143</td>\n",
       "      <td>2.031825</td>\n",
       "    </tr>\n",
       "    <tr>\n",
       "      <th>...</th>\n",
       "      <td>...</td>\n",
       "      <td>...</td>\n",
       "      <td>...</td>\n",
       "      <td>...</td>\n",
       "      <td>...</td>\n",
       "      <td>...</td>\n",
       "    </tr>\n",
       "    <tr>\n",
       "      <th>6354</th>\n",
       "      <td>Western Sub-Saharan Africa</td>\n",
       "      <td>2016</td>\n",
       "      <td>3.724172</td>\n",
       "      <td>3.214157</td>\n",
       "      <td>1.278003</td>\n",
       "      <td>4.473840</td>\n",
       "    </tr>\n",
       "    <tr>\n",
       "      <th>6382</th>\n",
       "      <td>World</td>\n",
       "      <td>2016</td>\n",
       "      <td>14.490059</td>\n",
       "      <td>5.586523</td>\n",
       "      <td>4.437275</td>\n",
       "      <td>2.353481</td>\n",
       "    </tr>\n",
       "    <tr>\n",
       "      <th>6410</th>\n",
       "      <td>Yemen</td>\n",
       "      <td>2016</td>\n",
       "      <td>11.662122</td>\n",
       "      <td>4.071575</td>\n",
       "      <td>2.032312</td>\n",
       "      <td>7.359534</td>\n",
       "    </tr>\n",
       "    <tr>\n",
       "      <th>6438</th>\n",
       "      <td>Zambia</td>\n",
       "      <td>2016</td>\n",
       "      <td>4.074966</td>\n",
       "      <td>2.823180</td>\n",
       "      <td>1.453882</td>\n",
       "      <td>4.257678</td>\n",
       "    </tr>\n",
       "    <tr>\n",
       "      <th>6466</th>\n",
       "      <td>Zimbabwe</td>\n",
       "      <td>2016</td>\n",
       "      <td>6.560883</td>\n",
       "      <td>3.622970</td>\n",
       "      <td>2.377705</td>\n",
       "      <td>4.517717</td>\n",
       "    </tr>\n",
       "  </tbody>\n",
       "</table>\n",
       "<p>231 rows × 6 columns</p>\n",
       "</div>"
      ],
      "text/plain": [
       "                          Entity  Year  Cardiovascular diseases (%)  \\\n",
       "26                   Afghanistan  2016                     8.953006   \n",
       "54                       Albania  2016                    27.016784   \n",
       "82                       Algeria  2016                    17.005476   \n",
       "110               American Samoa  2016                    17.731443   \n",
       "138         Andean Latin America  2016                     8.975195   \n",
       "...                          ...   ...                          ...   \n",
       "6354  Western Sub-Saharan Africa  2016                     3.724172   \n",
       "6382                       World  2016                    14.490059   \n",
       "6410                       Yemen  2016                    11.662122   \n",
       "6438                      Zambia  2016                     4.074966   \n",
       "6466                    Zimbabwe  2016                     6.560883   \n",
       "\n",
       "      Diabetes, blood, & endocrine diseases (%)  Respiratory diseases (%)  \\\n",
       "26                                     5.273280                  1.963170   \n",
       "54                                     4.571592                  3.251425   \n",
       "82                                     8.614000                  3.475417   \n",
       "110                                   16.741250                  5.447381   \n",
       "138                                    6.775455                  3.097143   \n",
       "...                                         ...                       ...   \n",
       "6354                                   3.214157                  1.278003   \n",
       "6382                                   5.586523                  4.437275   \n",
       "6410                                   4.071575                  2.032312   \n",
       "6438                                   2.823180                  1.453882   \n",
       "6466                                   3.622970                  2.377705   \n",
       "\n",
       "      Nutritional deficiencies (%)  \n",
       "26                        1.770030  \n",
       "54                        0.980691  \n",
       "82                        1.188142  \n",
       "110                       1.717747  \n",
       "138                       2.031825  \n",
       "...                            ...  \n",
       "6354                      4.473840  \n",
       "6382                      2.353481  \n",
       "6410                      7.359534  \n",
       "6438                      4.257678  \n",
       "6466                      4.517717  \n",
       "\n",
       "[231 rows x 6 columns]"
      ]
     },
     "execution_count": 11,
     "metadata": {},
     "output_type": "execute_result"
    }
   ],
   "source": [
    "diseases"
   ]
  },
  {
   "cell_type": "code",
   "execution_count": 12,
   "metadata": {},
   "outputs": [],
   "source": [
    "country_names_diseases = np.ndarray.tolist(diseases['Entity'].unique())"
   ]
  },
  {
   "cell_type": "code",
   "execution_count": 13,
   "metadata": {},
   "outputs": [],
   "source": [
    "#loop through data and create new df that contains only these elementes\n",
    "#that are part of death_rate.index \n",
    "\n",
    "final_diseases = pd.DataFrame()\n",
    "for index, row in diseases.iterrows():\n",
    "    if row['Entity'] in countries_death_rate:\n",
    "          final_diseases = final_diseases.append(row)\n",
    "            "
   ]
  },
  {
   "cell_type": "code",
   "execution_count": 14,
   "metadata": {},
   "outputs": [
    {
     "data": {
      "text/html": [
       "<div>\n",
       "<style scoped>\n",
       "    .dataframe tbody tr th:only-of-type {\n",
       "        vertical-align: middle;\n",
       "    }\n",
       "\n",
       "    .dataframe tbody tr th {\n",
       "        vertical-align: top;\n",
       "    }\n",
       "\n",
       "    .dataframe thead th {\n",
       "        text-align: right;\n",
       "    }\n",
       "</style>\n",
       "<table border=\"1\" class=\"dataframe\">\n",
       "  <thead>\n",
       "    <tr style=\"text-align: right;\">\n",
       "      <th></th>\n",
       "      <th>Cardiovascular diseases (%)</th>\n",
       "      <th>Diabetes, blood, &amp; endocrine diseases (%)</th>\n",
       "      <th>Entity</th>\n",
       "      <th>Nutritional deficiencies (%)</th>\n",
       "      <th>Respiratory diseases (%)</th>\n",
       "      <th>Year</th>\n",
       "    </tr>\n",
       "  </thead>\n",
       "  <tbody>\n",
       "    <tr>\n",
       "      <th>26</th>\n",
       "      <td>8.953006</td>\n",
       "      <td>5.273280</td>\n",
       "      <td>Afghanistan</td>\n",
       "      <td>1.770030</td>\n",
       "      <td>1.963170</td>\n",
       "      <td>2016.0</td>\n",
       "    </tr>\n",
       "    <tr>\n",
       "      <th>54</th>\n",
       "      <td>27.016784</td>\n",
       "      <td>4.571592</td>\n",
       "      <td>Albania</td>\n",
       "      <td>0.980691</td>\n",
       "      <td>3.251425</td>\n",
       "      <td>2016.0</td>\n",
       "    </tr>\n",
       "    <tr>\n",
       "      <th>82</th>\n",
       "      <td>17.005476</td>\n",
       "      <td>8.614000</td>\n",
       "      <td>Algeria</td>\n",
       "      <td>1.188142</td>\n",
       "      <td>3.475417</td>\n",
       "      <td>2016.0</td>\n",
       "    </tr>\n",
       "    <tr>\n",
       "      <th>166</th>\n",
       "      <td>13.784688</td>\n",
       "      <td>4.381889</td>\n",
       "      <td>Andorra</td>\n",
       "      <td>0.340551</td>\n",
       "      <td>4.771667</td>\n",
       "      <td>2016.0</td>\n",
       "    </tr>\n",
       "    <tr>\n",
       "      <th>194</th>\n",
       "      <td>4.480300</td>\n",
       "      <td>2.733065</td>\n",
       "      <td>Angola</td>\n",
       "      <td>5.597667</td>\n",
       "      <td>1.711981</td>\n",
       "      <td>2016.0</td>\n",
       "    </tr>\n",
       "    <tr>\n",
       "      <th>...</th>\n",
       "      <td>...</td>\n",
       "      <td>...</td>\n",
       "      <td>...</td>\n",
       "      <td>...</td>\n",
       "      <td>...</td>\n",
       "      <td>...</td>\n",
       "    </tr>\n",
       "    <tr>\n",
       "      <th>6242</th>\n",
       "      <td>12.951494</td>\n",
       "      <td>8.146976</td>\n",
       "      <td>Venezuela</td>\n",
       "      <td>0.672916</td>\n",
       "      <td>2.856847</td>\n",
       "      <td>2016.0</td>\n",
       "    </tr>\n",
       "    <tr>\n",
       "      <th>6270</th>\n",
       "      <td>16.842832</td>\n",
       "      <td>6.516006</td>\n",
       "      <td>Vietnam</td>\n",
       "      <td>0.897179</td>\n",
       "      <td>4.246777</td>\n",
       "      <td>2016.0</td>\n",
       "    </tr>\n",
       "    <tr>\n",
       "      <th>6410</th>\n",
       "      <td>11.662122</td>\n",
       "      <td>4.071575</td>\n",
       "      <td>Yemen</td>\n",
       "      <td>7.359534</td>\n",
       "      <td>2.032312</td>\n",
       "      <td>2016.0</td>\n",
       "    </tr>\n",
       "    <tr>\n",
       "      <th>6438</th>\n",
       "      <td>4.074966</td>\n",
       "      <td>2.823180</td>\n",
       "      <td>Zambia</td>\n",
       "      <td>4.257678</td>\n",
       "      <td>1.453882</td>\n",
       "      <td>2016.0</td>\n",
       "    </tr>\n",
       "    <tr>\n",
       "      <th>6466</th>\n",
       "      <td>6.560883</td>\n",
       "      <td>3.622970</td>\n",
       "      <td>Zimbabwe</td>\n",
       "      <td>4.517717</td>\n",
       "      <td>2.377705</td>\n",
       "      <td>2016.0</td>\n",
       "    </tr>\n",
       "  </tbody>\n",
       "</table>\n",
       "<p>168 rows × 6 columns</p>\n",
       "</div>"
      ],
      "text/plain": [
       "      Cardiovascular diseases (%)  Diabetes, blood, & endocrine diseases (%)  \\\n",
       "26                       8.953006                                   5.273280   \n",
       "54                      27.016784                                   4.571592   \n",
       "82                      17.005476                                   8.614000   \n",
       "166                     13.784688                                   4.381889   \n",
       "194                      4.480300                                   2.733065   \n",
       "...                           ...                                        ...   \n",
       "6242                    12.951494                                   8.146976   \n",
       "6270                    16.842832                                   6.516006   \n",
       "6410                    11.662122                                   4.071575   \n",
       "6438                     4.074966                                   2.823180   \n",
       "6466                     6.560883                                   3.622970   \n",
       "\n",
       "           Entity  Nutritional deficiencies (%)  Respiratory diseases (%)  \\\n",
       "26    Afghanistan                      1.770030                  1.963170   \n",
       "54        Albania                      0.980691                  3.251425   \n",
       "82        Algeria                      1.188142                  3.475417   \n",
       "166       Andorra                      0.340551                  4.771667   \n",
       "194        Angola                      5.597667                  1.711981   \n",
       "...           ...                           ...                       ...   \n",
       "6242    Venezuela                      0.672916                  2.856847   \n",
       "6270      Vietnam                      0.897179                  4.246777   \n",
       "6410        Yemen                      7.359534                  2.032312   \n",
       "6438       Zambia                      4.257678                  1.453882   \n",
       "6466     Zimbabwe                      4.517717                  2.377705   \n",
       "\n",
       "        Year  \n",
       "26    2016.0  \n",
       "54    2016.0  \n",
       "82    2016.0  \n",
       "166   2016.0  \n",
       "194   2016.0  \n",
       "...      ...  \n",
       "6242  2016.0  \n",
       "6270  2016.0  \n",
       "6410  2016.0  \n",
       "6438  2016.0  \n",
       "6466  2016.0  \n",
       "\n",
       "[168 rows x 6 columns]"
      ]
     },
     "execution_count": 14,
     "metadata": {},
     "output_type": "execute_result"
    }
   ],
   "source": [
    "final_diseases"
   ]
  },
  {
   "cell_type": "code",
   "execution_count": 15,
   "metadata": {},
   "outputs": [
    {
     "data": {
      "text/plain": [
       "189"
      ]
     },
     "execution_count": 15,
     "metadata": {},
     "output_type": "execute_result"
    }
   ],
   "source": [
    "len(death_rate)\n",
    "#we have to diminish death_rate series"
   ]
  },
  {
   "cell_type": "code",
   "execution_count": 16,
   "metadata": {},
   "outputs": [],
   "source": [
    "#make the Location to the index, so that we can easily sort the dataframe and get the death_rate we want \n",
    "final_diseases.set_index('Entity', inplace=True)"
   ]
  },
  {
   "cell_type": "code",
   "execution_count": 17,
   "metadata": {},
   "outputs": [],
   "source": [
    "death_rate = death_rate.get(list(final_diseases.index))\n",
    "#get only the countries where we have lifeexpectancy data\n",
    "\n",
    "\n",
    "#sort dataframe and series so that we can easily append each to another\n",
    "final_diseases = final_diseases.sort_index()\n",
    "death_rate = death_rate.sort_index()"
   ]
  },
  {
   "cell_type": "code",
   "execution_count": 18,
   "metadata": {},
   "outputs": [],
   "source": [
    "final_diseases['death_rate'] = death_rate"
   ]
  },
  {
   "cell_type": "code",
   "execution_count": 19,
   "metadata": {},
   "outputs": [
    {
     "data": {
      "text/html": [
       "<div>\n",
       "<style scoped>\n",
       "    .dataframe tbody tr th:only-of-type {\n",
       "        vertical-align: middle;\n",
       "    }\n",
       "\n",
       "    .dataframe tbody tr th {\n",
       "        vertical-align: top;\n",
       "    }\n",
       "\n",
       "    .dataframe thead th {\n",
       "        text-align: right;\n",
       "    }\n",
       "</style>\n",
       "<table border=\"1\" class=\"dataframe\">\n",
       "  <thead>\n",
       "    <tr style=\"text-align: right;\">\n",
       "      <th></th>\n",
       "      <th>Cardiovascular diseases (%)</th>\n",
       "      <th>Diabetes, blood, &amp; endocrine diseases (%)</th>\n",
       "      <th>Nutritional deficiencies (%)</th>\n",
       "      <th>Respiratory diseases (%)</th>\n",
       "      <th>Year</th>\n",
       "      <th>death_rate</th>\n",
       "    </tr>\n",
       "    <tr>\n",
       "      <th>Entity</th>\n",
       "      <th></th>\n",
       "      <th></th>\n",
       "      <th></th>\n",
       "      <th></th>\n",
       "      <th></th>\n",
       "      <th></th>\n",
       "    </tr>\n",
       "  </thead>\n",
       "  <tbody>\n",
       "    <tr>\n",
       "      <th>Afghanistan</th>\n",
       "      <td>8.953006</td>\n",
       "      <td>5.273280</td>\n",
       "      <td>1.770030</td>\n",
       "      <td>1.963170</td>\n",
       "      <td>2016.0</td>\n",
       "      <td>0.020601</td>\n",
       "    </tr>\n",
       "    <tr>\n",
       "      <th>Albania</th>\n",
       "      <td>27.016784</td>\n",
       "      <td>4.571592</td>\n",
       "      <td>0.980691</td>\n",
       "      <td>3.251425</td>\n",
       "      <td>2016.0</td>\n",
       "      <td>0.032064</td>\n",
       "    </tr>\n",
       "    <tr>\n",
       "      <th>Algeria</th>\n",
       "      <td>17.005476</td>\n",
       "      <td>8.614000</td>\n",
       "      <td>1.188142</td>\n",
       "      <td>3.475417</td>\n",
       "      <td>2016.0</td>\n",
       "      <td>0.072237</td>\n",
       "    </tr>\n",
       "    <tr>\n",
       "      <th>Andorra</th>\n",
       "      <td>13.784688</td>\n",
       "      <td>4.381889</td>\n",
       "      <td>0.340551</td>\n",
       "      <td>4.771667</td>\n",
       "      <td>2016.0</td>\n",
       "      <td>0.066929</td>\n",
       "    </tr>\n",
       "    <tr>\n",
       "      <th>Angola</th>\n",
       "      <td>4.480300</td>\n",
       "      <td>2.733065</td>\n",
       "      <td>5.597667</td>\n",
       "      <td>1.711981</td>\n",
       "      <td>2016.0</td>\n",
       "      <td>0.057971</td>\n",
       "    </tr>\n",
       "    <tr>\n",
       "      <th>...</th>\n",
       "      <td>...</td>\n",
       "      <td>...</td>\n",
       "      <td>...</td>\n",
       "      <td>...</td>\n",
       "      <td>...</td>\n",
       "      <td>...</td>\n",
       "    </tr>\n",
       "    <tr>\n",
       "      <th>Venezuela</th>\n",
       "      <td>12.951494</td>\n",
       "      <td>8.146976</td>\n",
       "      <td>0.672916</td>\n",
       "      <td>2.856847</td>\n",
       "      <td>2016.0</td>\n",
       "      <td>0.008921</td>\n",
       "    </tr>\n",
       "    <tr>\n",
       "      <th>Vietnam</th>\n",
       "      <td>16.842832</td>\n",
       "      <td>6.516006</td>\n",
       "      <td>0.897179</td>\n",
       "      <td>4.246777</td>\n",
       "      <td>2016.0</td>\n",
       "      <td>0.000000</td>\n",
       "    </tr>\n",
       "    <tr>\n",
       "      <th>Yemen</th>\n",
       "      <td>11.662122</td>\n",
       "      <td>4.071575</td>\n",
       "      <td>7.359534</td>\n",
       "      <td>2.032312</td>\n",
       "      <td>2016.0</td>\n",
       "      <td>0.189189</td>\n",
       "    </tr>\n",
       "    <tr>\n",
       "      <th>Zambia</th>\n",
       "      <td>4.074966</td>\n",
       "      <td>2.823180</td>\n",
       "      <td>4.257678</td>\n",
       "      <td>1.453882</td>\n",
       "      <td>2016.0</td>\n",
       "      <td>0.007609</td>\n",
       "    </tr>\n",
       "    <tr>\n",
       "      <th>Zimbabwe</th>\n",
       "      <td>6.560883</td>\n",
       "      <td>3.622970</td>\n",
       "      <td>4.517717</td>\n",
       "      <td>2.377705</td>\n",
       "      <td>2016.0</td>\n",
       "      <td>0.071429</td>\n",
       "    </tr>\n",
       "  </tbody>\n",
       "</table>\n",
       "<p>168 rows × 6 columns</p>\n",
       "</div>"
      ],
      "text/plain": [
       "             Cardiovascular diseases (%)  \\\n",
       "Entity                                     \n",
       "Afghanistan                     8.953006   \n",
       "Albania                        27.016784   \n",
       "Algeria                        17.005476   \n",
       "Andorra                        13.784688   \n",
       "Angola                          4.480300   \n",
       "...                                  ...   \n",
       "Venezuela                      12.951494   \n",
       "Vietnam                        16.842832   \n",
       "Yemen                          11.662122   \n",
       "Zambia                          4.074966   \n",
       "Zimbabwe                        6.560883   \n",
       "\n",
       "             Diabetes, blood, & endocrine diseases (%)  \\\n",
       "Entity                                                   \n",
       "Afghanistan                                   5.273280   \n",
       "Albania                                       4.571592   \n",
       "Algeria                                       8.614000   \n",
       "Andorra                                       4.381889   \n",
       "Angola                                        2.733065   \n",
       "...                                                ...   \n",
       "Venezuela                                     8.146976   \n",
       "Vietnam                                       6.516006   \n",
       "Yemen                                         4.071575   \n",
       "Zambia                                        2.823180   \n",
       "Zimbabwe                                      3.622970   \n",
       "\n",
       "             Nutritional deficiencies (%)  Respiratory diseases (%)    Year  \\\n",
       "Entity                                                                        \n",
       "Afghanistan                      1.770030                  1.963170  2016.0   \n",
       "Albania                          0.980691                  3.251425  2016.0   \n",
       "Algeria                          1.188142                  3.475417  2016.0   \n",
       "Andorra                          0.340551                  4.771667  2016.0   \n",
       "Angola                           5.597667                  1.711981  2016.0   \n",
       "...                                   ...                       ...     ...   \n",
       "Venezuela                        0.672916                  2.856847  2016.0   \n",
       "Vietnam                          0.897179                  4.246777  2016.0   \n",
       "Yemen                            7.359534                  2.032312  2016.0   \n",
       "Zambia                           4.257678                  1.453882  2016.0   \n",
       "Zimbabwe                         4.517717                  2.377705  2016.0   \n",
       "\n",
       "             death_rate  \n",
       "Entity                   \n",
       "Afghanistan    0.020601  \n",
       "Albania        0.032064  \n",
       "Algeria        0.072237  \n",
       "Andorra        0.066929  \n",
       "Angola         0.057971  \n",
       "...                 ...  \n",
       "Venezuela      0.008921  \n",
       "Vietnam        0.000000  \n",
       "Yemen          0.189189  \n",
       "Zambia         0.007609  \n",
       "Zimbabwe       0.071429  \n",
       "\n",
       "[168 rows x 6 columns]"
      ]
     },
     "execution_count": 19,
     "metadata": {},
     "output_type": "execute_result"
    }
   ],
   "source": [
    "final_diseases"
   ]
  },
  {
   "cell_type": "code",
   "execution_count": 20,
   "metadata": {},
   "outputs": [],
   "source": [
    "countries = np.asarray(list(final_diseases.index))\n",
    "# Continent_code to Continent_names as a dictionary\n",
    "continents = {\n",
    "    'NA': 'North America',\n",
    "    'SA': 'South America', \n",
    "    'AS': 'Asia',\n",
    "    'OC': 'Australia',\n",
    "    'AF': 'Africa',\n",
    "    'EU' : 'Europe',\n",
    "    'na' : 'Others'\n",
    "}\n",
    "\n",
    "# Defining Function for getting continent code for country by using the pc library\n",
    "def country_to_continent_code(country):\n",
    "    try:\n",
    "        return pc.country_alpha2_to_continent_code(pc.country_name_to_country_alpha2(country))\n",
    "    except :\n",
    "        return 'na'\n",
    "\n",
    "#Collecting continent Information, insert at position 1, with column name 'continent'\n",
    "final_diseases.insert(1,\"continent\", [continents[country_to_continent_code(country)] for country in countries[:]])"
   ]
  },
  {
   "cell_type": "code",
   "execution_count": 21,
   "metadata": {},
   "outputs": [],
   "source": [
    "#\"Cote d'Ivoire\" as others, but is africa\n",
    "final_diseases.replace('Others', 'Africa', inplace=True)"
   ]
  },
  {
   "cell_type": "code",
   "execution_count": 22,
   "metadata": {},
   "outputs": [
    {
     "data": {
      "text/html": [
       "<div>\n",
       "<style scoped>\n",
       "    .dataframe tbody tr th:only-of-type {\n",
       "        vertical-align: middle;\n",
       "    }\n",
       "\n",
       "    .dataframe tbody tr th {\n",
       "        vertical-align: top;\n",
       "    }\n",
       "\n",
       "    .dataframe thead th {\n",
       "        text-align: right;\n",
       "    }\n",
       "</style>\n",
       "<table border=\"1\" class=\"dataframe\">\n",
       "  <thead>\n",
       "    <tr style=\"text-align: right;\">\n",
       "      <th></th>\n",
       "      <th>Cardiovascular diseases (%)</th>\n",
       "      <th>continent</th>\n",
       "      <th>Diabetes, blood, &amp; endocrine diseases (%)</th>\n",
       "      <th>Nutritional deficiencies (%)</th>\n",
       "      <th>Respiratory diseases (%)</th>\n",
       "      <th>Year</th>\n",
       "      <th>death_rate</th>\n",
       "    </tr>\n",
       "    <tr>\n",
       "      <th>Entity</th>\n",
       "      <th></th>\n",
       "      <th></th>\n",
       "      <th></th>\n",
       "      <th></th>\n",
       "      <th></th>\n",
       "      <th></th>\n",
       "      <th></th>\n",
       "    </tr>\n",
       "  </thead>\n",
       "  <tbody>\n",
       "    <tr>\n",
       "      <th>Afghanistan</th>\n",
       "      <td>8.953006</td>\n",
       "      <td>Asia</td>\n",
       "      <td>5.273280</td>\n",
       "      <td>1.770030</td>\n",
       "      <td>1.963170</td>\n",
       "      <td>2016.0</td>\n",
       "      <td>0.020601</td>\n",
       "    </tr>\n",
       "    <tr>\n",
       "      <th>Albania</th>\n",
       "      <td>27.016784</td>\n",
       "      <td>Europe</td>\n",
       "      <td>4.571592</td>\n",
       "      <td>0.980691</td>\n",
       "      <td>3.251425</td>\n",
       "      <td>2016.0</td>\n",
       "      <td>0.032064</td>\n",
       "    </tr>\n",
       "    <tr>\n",
       "      <th>Algeria</th>\n",
       "      <td>17.005476</td>\n",
       "      <td>Africa</td>\n",
       "      <td>8.614000</td>\n",
       "      <td>1.188142</td>\n",
       "      <td>3.475417</td>\n",
       "      <td>2016.0</td>\n",
       "      <td>0.072237</td>\n",
       "    </tr>\n",
       "    <tr>\n",
       "      <th>Andorra</th>\n",
       "      <td>13.784688</td>\n",
       "      <td>Europe</td>\n",
       "      <td>4.381889</td>\n",
       "      <td>0.340551</td>\n",
       "      <td>4.771667</td>\n",
       "      <td>2016.0</td>\n",
       "      <td>0.066929</td>\n",
       "    </tr>\n",
       "    <tr>\n",
       "      <th>Angola</th>\n",
       "      <td>4.480300</td>\n",
       "      <td>Africa</td>\n",
       "      <td>2.733065</td>\n",
       "      <td>5.597667</td>\n",
       "      <td>1.711981</td>\n",
       "      <td>2016.0</td>\n",
       "      <td>0.057971</td>\n",
       "    </tr>\n",
       "    <tr>\n",
       "      <th>...</th>\n",
       "      <td>...</td>\n",
       "      <td>...</td>\n",
       "      <td>...</td>\n",
       "      <td>...</td>\n",
       "      <td>...</td>\n",
       "      <td>...</td>\n",
       "      <td>...</td>\n",
       "    </tr>\n",
       "    <tr>\n",
       "      <th>Venezuela</th>\n",
       "      <td>12.951494</td>\n",
       "      <td>South America</td>\n",
       "      <td>8.146976</td>\n",
       "      <td>0.672916</td>\n",
       "      <td>2.856847</td>\n",
       "      <td>2016.0</td>\n",
       "      <td>0.008921</td>\n",
       "    </tr>\n",
       "    <tr>\n",
       "      <th>Vietnam</th>\n",
       "      <td>16.842832</td>\n",
       "      <td>Asia</td>\n",
       "      <td>6.516006</td>\n",
       "      <td>0.897179</td>\n",
       "      <td>4.246777</td>\n",
       "      <td>2016.0</td>\n",
       "      <td>0.000000</td>\n",
       "    </tr>\n",
       "    <tr>\n",
       "      <th>Yemen</th>\n",
       "      <td>11.662122</td>\n",
       "      <td>Asia</td>\n",
       "      <td>4.071575</td>\n",
       "      <td>7.359534</td>\n",
       "      <td>2.032312</td>\n",
       "      <td>2016.0</td>\n",
       "      <td>0.189189</td>\n",
       "    </tr>\n",
       "    <tr>\n",
       "      <th>Zambia</th>\n",
       "      <td>4.074966</td>\n",
       "      <td>Africa</td>\n",
       "      <td>2.823180</td>\n",
       "      <td>4.257678</td>\n",
       "      <td>1.453882</td>\n",
       "      <td>2016.0</td>\n",
       "      <td>0.007609</td>\n",
       "    </tr>\n",
       "    <tr>\n",
       "      <th>Zimbabwe</th>\n",
       "      <td>6.560883</td>\n",
       "      <td>Africa</td>\n",
       "      <td>3.622970</td>\n",
       "      <td>4.517717</td>\n",
       "      <td>2.377705</td>\n",
       "      <td>2016.0</td>\n",
       "      <td>0.071429</td>\n",
       "    </tr>\n",
       "  </tbody>\n",
       "</table>\n",
       "<p>168 rows × 7 columns</p>\n",
       "</div>"
      ],
      "text/plain": [
       "             Cardiovascular diseases (%)      continent  \\\n",
       "Entity                                                    \n",
       "Afghanistan                     8.953006           Asia   \n",
       "Albania                        27.016784         Europe   \n",
       "Algeria                        17.005476         Africa   \n",
       "Andorra                        13.784688         Europe   \n",
       "Angola                          4.480300         Africa   \n",
       "...                                  ...            ...   \n",
       "Venezuela                      12.951494  South America   \n",
       "Vietnam                        16.842832           Asia   \n",
       "Yemen                          11.662122           Asia   \n",
       "Zambia                          4.074966         Africa   \n",
       "Zimbabwe                        6.560883         Africa   \n",
       "\n",
       "             Diabetes, blood, & endocrine diseases (%)  \\\n",
       "Entity                                                   \n",
       "Afghanistan                                   5.273280   \n",
       "Albania                                       4.571592   \n",
       "Algeria                                       8.614000   \n",
       "Andorra                                       4.381889   \n",
       "Angola                                        2.733065   \n",
       "...                                                ...   \n",
       "Venezuela                                     8.146976   \n",
       "Vietnam                                       6.516006   \n",
       "Yemen                                         4.071575   \n",
       "Zambia                                        2.823180   \n",
       "Zimbabwe                                      3.622970   \n",
       "\n",
       "             Nutritional deficiencies (%)  Respiratory diseases (%)    Year  \\\n",
       "Entity                                                                        \n",
       "Afghanistan                      1.770030                  1.963170  2016.0   \n",
       "Albania                          0.980691                  3.251425  2016.0   \n",
       "Algeria                          1.188142                  3.475417  2016.0   \n",
       "Andorra                          0.340551                  4.771667  2016.0   \n",
       "Angola                           5.597667                  1.711981  2016.0   \n",
       "...                                   ...                       ...     ...   \n",
       "Venezuela                        0.672916                  2.856847  2016.0   \n",
       "Vietnam                          0.897179                  4.246777  2016.0   \n",
       "Yemen                            7.359534                  2.032312  2016.0   \n",
       "Zambia                           4.257678                  1.453882  2016.0   \n",
       "Zimbabwe                         4.517717                  2.377705  2016.0   \n",
       "\n",
       "             death_rate  \n",
       "Entity                   \n",
       "Afghanistan    0.020601  \n",
       "Albania        0.032064  \n",
       "Algeria        0.072237  \n",
       "Andorra        0.066929  \n",
       "Angola         0.057971  \n",
       "...                 ...  \n",
       "Venezuela      0.008921  \n",
       "Vietnam        0.000000  \n",
       "Yemen          0.189189  \n",
       "Zambia         0.007609  \n",
       "Zimbabwe       0.071429  \n",
       "\n",
       "[168 rows x 7 columns]"
      ]
     },
     "execution_count": 22,
     "metadata": {},
     "output_type": "execute_result"
    }
   ],
   "source": [
    "final_diseases"
   ]
  },
  {
   "cell_type": "markdown",
   "metadata": {},
   "source": [
    "## Scatterplots\n",
    "- Cardiovascular diseases vs. death_rate\n",
    "- Diabetes, blood & endocrine diseases vs. death_rate\n",
    "- nutrional deficiencies vs. death_rate\n",
    "- respiratory diseaes vs. death_rate"
   ]
  },
  {
   "cell_type": "code",
   "execution_count": 23,
   "metadata": {},
   "outputs": [],
   "source": [
    "import plotly\n",
    "from plotly.offline import download_plotlyjs, init_notebook_mode, plot, iplot\n",
    "import chart_studio\n",
    "import chart_studio.plotly as py\n",
    "import plotly.graph_objects as go\n",
    "import plotly.express as px"
   ]
  },
  {
   "cell_type": "code",
   "execution_count": 24,
   "metadata": {},
   "outputs": [],
   "source": [
    "chart_studio.tools.set_credentials_file(username='asrira', api_key='u1AQVbhfs7neeJ0TPl1f')"
   ]
  },
  {
   "cell_type": "code",
   "execution_count": 25,
   "metadata": {},
   "outputs": [
    {
     "data": {
      "text/html": [
       "        <script type=\"text/javascript\">\n",
       "        window.PlotlyConfig = {MathJaxConfig: 'local'};\n",
       "        if (window.MathJax) {MathJax.Hub.Config({SVG: {font: \"STIX-Web\"}});}\n",
       "        if (typeof require !== 'undefined') {\n",
       "        require.undef(\"plotly\");\n",
       "        requirejs.config({\n",
       "            paths: {\n",
       "                'plotly': ['https://cdn.plot.ly/plotly-latest.min']\n",
       "            }\n",
       "        });\n",
       "        require(['plotly'], function(Plotly) {\n",
       "            window._Plotly = Plotly;\n",
       "        });\n",
       "        }\n",
       "        </script>\n",
       "        "
      ]
     },
     "metadata": {},
     "output_type": "display_data"
    }
   ],
   "source": [
    "#Jupyter setup (to display in notebook)\n",
    "init_notebook_mode(connected=True)"
   ]
  },
  {
   "cell_type": "code",
   "execution_count": 26,
   "metadata": {},
   "outputs": [],
   "source": [
    "countries = list(final_diseases.index)"
   ]
  },
  {
   "cell_type": "code",
   "execution_count": 27,
   "metadata": {
    "scrolled": false
   },
   "outputs": [
    {
     "data": {
      "text/html": [
       "\n",
       "        <iframe\n",
       "            width=\"100%\"\n",
       "            height=\"525px\"\n",
       "            src=\"https://plotly.com/~asrira/26.embed\"\n",
       "            frameborder=\"0\"\n",
       "            allowfullscreen\n",
       "        ></iframe>\n",
       "        "
      ],
      "text/plain": [
       "<IPython.lib.display.IFrame at 0x11ec68790>"
      ]
     },
     "execution_count": 27,
     "metadata": {},
     "output_type": "execute_result"
    }
   ],
   "source": [
    "fig = px.scatter(final_diseases,\n",
    "    x = 'Cardiovascular diseases (%)',\n",
    "    y = 'death_rate',\n",
    "    hover_name=countries,\n",
    "    color='continent',\n",
    "    title='Cardiovascular diseases vs Death rate')\n",
    "fig.update_layout(\n",
    "  xaxis_title=\"percentage of deaths attributable to cardiovascular diseases\",\n",
    "  yaxis_title=\"Death rate\")\n",
    "#fig.show()\n",
    "#add to plotly account\n",
    "py.iplot(fig, filename='Cardiovascular diseases', auto_open=True) "
   ]
  },
  {
   "cell_type": "code",
   "execution_count": 28,
   "metadata": {},
   "outputs": [
    {
     "data": {
      "text/html": [
       "\n",
       "        <iframe\n",
       "            width=\"100%\"\n",
       "            height=\"525px\"\n",
       "            src=\"https://plotly.com/~asrira/28.embed\"\n",
       "            frameborder=\"0\"\n",
       "            allowfullscreen\n",
       "        ></iframe>\n",
       "        "
      ],
      "text/plain": [
       "<IPython.lib.display.IFrame at 0x11eaec390>"
      ]
     },
     "execution_count": 28,
     "metadata": {},
     "output_type": "execute_result"
    }
   ],
   "source": [
    "fig = px.scatter(final_diseases,\n",
    "    x = 'Diabetes, blood, & endocrine diseases (%)',\n",
    "    y = 'death_rate',\n",
    "    hover_name=countries,\n",
    "    color='continent',\n",
    "    title='Diabetes, blood, & endocrine diseases vs Death rate')\n",
    "fig.update_layout(\n",
    "  xaxis_title= \"percentage of deaths attributable to diabetes, blood & endocrine diseases\",\n",
    "  yaxis_title=\"Death rate\")\n",
    "#fig.show()\n",
    "#add to plotly account\n",
    "py.iplot(fig, filename='Diabetes, blood, & endocrine diseases', auto_open=True) "
   ]
  },
  {
   "cell_type": "code",
   "execution_count": 29,
   "metadata": {},
   "outputs": [
    {
     "data": {
      "text/html": [
       "\n",
       "        <iframe\n",
       "            width=\"100%\"\n",
       "            height=\"525px\"\n",
       "            src=\"https://plotly.com/~asrira/30.embed\"\n",
       "            frameborder=\"0\"\n",
       "            allowfullscreen\n",
       "        ></iframe>\n",
       "        "
      ],
      "text/plain": [
       "<IPython.lib.display.IFrame at 0x11fc69590>"
      ]
     },
     "execution_count": 29,
     "metadata": {},
     "output_type": "execute_result"
    }
   ],
   "source": [
    "fig = px.scatter(final_diseases,\n",
    "    x = 'Nutritional deficiencies (%)',\n",
    "    y = 'death_rate',\n",
    "    hover_name=countries,\n",
    "    color='continent',\n",
    "    title='Nutritional deficiencies vs Death rate')\n",
    "fig.update_layout(\n",
    "  xaxis_title= \"percentage of deaths attributable to nutritional deficiencies\",\n",
    "  yaxis_title=\"Death rate\")\n",
    "#fig.show()\n",
    "#add to plotly account\n",
    "py.iplot(fig, filename='Nutritional deficiencies', auto_open=True) "
   ]
  },
  {
   "cell_type": "code",
   "execution_count": 30,
   "metadata": {},
   "outputs": [
    {
     "data": {
      "text/html": [
       "\n",
       "        <iframe\n",
       "            width=\"100%\"\n",
       "            height=\"525px\"\n",
       "            src=\"https://plotly.com/~asrira/32.embed\"\n",
       "            frameborder=\"0\"\n",
       "            allowfullscreen\n",
       "        ></iframe>\n",
       "        "
      ],
      "text/plain": [
       "<IPython.lib.display.IFrame at 0x11fc29c50>"
      ]
     },
     "execution_count": 30,
     "metadata": {},
     "output_type": "execute_result"
    }
   ],
   "source": [
    "#if one focusses on europe there is at least a weak positive correlation\n",
    "fig = px.scatter(final_diseases,\n",
    "    x = 'Respiratory diseases (%)',\n",
    "    y = 'death_rate',\n",
    "    hover_name=countries,\n",
    "    color='continent',\n",
    "    title='Respiratory diseases vs Death rate')\n",
    "fig.update_layout(\n",
    "  xaxis_title=\"percentage of deaths attributable to respiratory diseases\",\n",
    "  yaxis_title=\"Death rate\")\n",
    "#fig.show()\n",
    "#add to plotly account\n",
    "py.iplot(fig, filename='Respiratory_diseases', auto_open=True) "
   ]
  },
  {
   "cell_type": "markdown",
   "metadata": {},
   "source": [
    "## Statistical Inference"
   ]
  },
  {
   "cell_type": "code",
   "execution_count": 31,
   "metadata": {},
   "outputs": [],
   "source": [
    "europe_data = final_diseases[final_diseases[\"continent\" ]== 'Europe']"
   ]
  },
  {
   "cell_type": "code",
   "execution_count": 32,
   "metadata": {},
   "outputs": [],
   "source": [
    "europe_countries = list(europe_data.index)"
   ]
  },
  {
   "cell_type": "code",
   "execution_count": 33,
   "metadata": {},
   "outputs": [],
   "source": [
    "europe_data=europe_data.rename(columns = {'Respiratory diseases (%)':'Respiratory_disease_perc'})"
   ]
  },
  {
   "cell_type": "code",
   "execution_count": 34,
   "metadata": {},
   "outputs": [],
   "source": [
    "import statsmodels.formula.api as sm\n",
    "reg = sm.ols(formula='death_rate ~ Respiratory_disease_perc',data=europe_data).fit()\n",
    "reg.summary()\n",
    "#get the values of the regression line\n",
    "europe_data['fitted_values'] = reg.fittedvalues"
   ]
  },
  {
   "cell_type": "code",
   "execution_count": 35,
   "metadata": {},
   "outputs": [
    {
     "data": {
      "application/vnd.plotly.v1+json": {
       "config": {
        "plotlyServerURL": "https://plotly.com"
       },
       "data": [
        {
         "hovertext": [
          "Albania",
          "Andorra",
          "Austria",
          "Belarus",
          "Belgium",
          "Bosnia and Herzegovina",
          "Bulgaria",
          "Croatia",
          "Denmark",
          "Estonia",
          "Finland",
          "France",
          "Germany",
          "Greece",
          "Hungary",
          "Iceland",
          "Ireland",
          "Italy",
          "Latvia",
          "Lithuania",
          "Luxembourg",
          "Malta",
          "Moldova",
          "Montenegro",
          "Netherlands",
          "Norway",
          "Poland",
          "Portugal",
          "Romania",
          "Russia",
          "Serbia",
          "Slovakia",
          "Slovenia",
          "Spain",
          "Sweden",
          "Switzerland",
          "Ukraine",
          "United Kingdom"
         ],
         "mode": "markers",
         "name": "Respiratory Diseases (%)",
         "type": "scatter",
         "x": [
          3.2514253176738404,
          4.771666828410284,
          4.348961969402323,
          2.3361433270921,
          5.179322809000662,
          3.865477493192525,
          3.666356508884166,
          3.9381908259733542,
          5.887261700503943,
          2.487847179215016,
          3.6420076371000265,
          3.2162393906537785,
          4.838841688982823,
          4.853683272683731,
          4.860332812067168,
          5.404932791140827,
          5.606315354708087,
          3.5050331485610218,
          2.227245089630606,
          2.3228006759388955,
          4.6832918728562944,
          4.015113320175786,
          2.233640257837454,
          2.379967146008719,
          5.62594300634431,
          5.224426793296673,
          3.7986854307613225,
          4.830245500349349,
          3.5040123313359044,
          2.348089706754948,
          3.9492411143238018,
          2.854960247803954,
          3.5351729464537684,
          5.038821007117723,
          5.245567734770662,
          4.2263946994038415,
          2.1108171262031283,
          6.6779137018954655
         ],
         "y": [
          0.032665964172813484,
          0.06701708278580815,
          0.038723117456038236,
          0.005554144979052939,
          0.16325213744152284,
          0.05773373545885394,
          0.04957945993802568,
          0.043010752688172046,
          0.04901263120441202,
          0.03573422668900056,
          0.047038599781215815,
          0.15489158970447625,
          0.04545556818053977,
          0.058098591549295774,
          0.1313273340832396,
          0.005549389567147614,
          0.0643684796503237,
          0.14190181694670026,
          0.020750988142292492,
          0.03841229193341869,
          0.027539161192521474,
          0.01054481546572935,
          0.03485804416403786,
          0.027777777777777776,
          0.12900177731782492,
          0.028184347405346557,
          0.04920074735312435,
          0.04236885023104105,
          0.0661392589145483,
          0.009458526843612577,
          0.02180191931426442,
          0.018729096989966554,
          0.070892978868439,
          0.11971366635493477,
          0.121529919802591,
          0.06176105558821608,
          0.02903157448611994,
          0.14160983137308206
         ]
        },
        {
         "mode": "lines",
         "name": "line of best fit",
         "type": "scatter",
         "x": [
          3.2514253176738404,
          4.771666828410284,
          4.348961969402323,
          2.3361433270921,
          5.179322809000662,
          3.865477493192525,
          3.666356508884166,
          3.9381908259733542,
          5.887261700503943,
          2.487847179215016,
          3.6420076371000265,
          3.2162393906537785,
          4.838841688982823,
          4.853683272683731,
          4.860332812067168,
          5.404932791140827,
          5.606315354708087,
          3.5050331485610218,
          2.227245089630606,
          2.3228006759388955,
          4.6832918728562944,
          4.015113320175786,
          2.233640257837454,
          2.379967146008719,
          5.62594300634431,
          5.224426793296673,
          3.7986854307613225,
          4.830245500349349,
          3.5040123313359044,
          2.348089706754948,
          3.9492411143238018,
          2.854960247803954,
          3.5351729464537684,
          5.038821007117723,
          5.245567734770662,
          4.2263946994038415,
          2.1108171262031283,
          6.6779137018954655
         ],
         "y": [
          0.04680090291976137,
          0.07211110901031334,
          0.06507357778819425,
          0.03156255055996276,
          0.07889809437409957,
          0.057024138506323443,
          0.053709011854271474,
          0.05823472868243444,
          0.09068443168756037,
          0.03408823857390312,
          0.05330363220993427,
          0.046215099244440415,
          0.07322949023670902,
          0.07347658488550478,
          0.07358729177714893,
          0.08265423121401992,
          0.08600701046056339,
          0.05102317051382473,
          0.029749524923191994,
          0.03134041134846448,
          0.0706397715139235,
          0.05951539637076751,
          0.02985599683844753,
          0.032292164822315936,
          0.08633378742624809,
          0.07964902186159072,
          0.05591213041194651,
          0.07308637395921631,
          0.05100617512581168,
          0.031761443518198186,
          0.05841870279018943,
          0.040200232858297984,
          0.05152496216390502,
          0.07655890712218168,
          0.08000099329631083,
          0.06303297907956203,
          0.027811138339059592,
          0.10384784352692837
         ]
        }
       ],
       "layout": {
        "template": {
         "data": {
          "bar": [
           {
            "error_x": {
             "color": "#2a3f5f"
            },
            "error_y": {
             "color": "#2a3f5f"
            },
            "marker": {
             "line": {
              "color": "#E5ECF6",
              "width": 0.5
             }
            },
            "type": "bar"
           }
          ],
          "barpolar": [
           {
            "marker": {
             "line": {
              "color": "#E5ECF6",
              "width": 0.5
             }
            },
            "type": "barpolar"
           }
          ],
          "carpet": [
           {
            "aaxis": {
             "endlinecolor": "#2a3f5f",
             "gridcolor": "white",
             "linecolor": "white",
             "minorgridcolor": "white",
             "startlinecolor": "#2a3f5f"
            },
            "baxis": {
             "endlinecolor": "#2a3f5f",
             "gridcolor": "white",
             "linecolor": "white",
             "minorgridcolor": "white",
             "startlinecolor": "#2a3f5f"
            },
            "type": "carpet"
           }
          ],
          "choropleth": [
           {
            "colorbar": {
             "outlinewidth": 0,
             "ticks": ""
            },
            "type": "choropleth"
           }
          ],
          "contour": [
           {
            "colorbar": {
             "outlinewidth": 0,
             "ticks": ""
            },
            "colorscale": [
             [
              0,
              "#0d0887"
             ],
             [
              0.1111111111111111,
              "#46039f"
             ],
             [
              0.2222222222222222,
              "#7201a8"
             ],
             [
              0.3333333333333333,
              "#9c179e"
             ],
             [
              0.4444444444444444,
              "#bd3786"
             ],
             [
              0.5555555555555556,
              "#d8576b"
             ],
             [
              0.6666666666666666,
              "#ed7953"
             ],
             [
              0.7777777777777778,
              "#fb9f3a"
             ],
             [
              0.8888888888888888,
              "#fdca26"
             ],
             [
              1,
              "#f0f921"
             ]
            ],
            "type": "contour"
           }
          ],
          "contourcarpet": [
           {
            "colorbar": {
             "outlinewidth": 0,
             "ticks": ""
            },
            "type": "contourcarpet"
           }
          ],
          "heatmap": [
           {
            "colorbar": {
             "outlinewidth": 0,
             "ticks": ""
            },
            "colorscale": [
             [
              0,
              "#0d0887"
             ],
             [
              0.1111111111111111,
              "#46039f"
             ],
             [
              0.2222222222222222,
              "#7201a8"
             ],
             [
              0.3333333333333333,
              "#9c179e"
             ],
             [
              0.4444444444444444,
              "#bd3786"
             ],
             [
              0.5555555555555556,
              "#d8576b"
             ],
             [
              0.6666666666666666,
              "#ed7953"
             ],
             [
              0.7777777777777778,
              "#fb9f3a"
             ],
             [
              0.8888888888888888,
              "#fdca26"
             ],
             [
              1,
              "#f0f921"
             ]
            ],
            "type": "heatmap"
           }
          ],
          "heatmapgl": [
           {
            "colorbar": {
             "outlinewidth": 0,
             "ticks": ""
            },
            "colorscale": [
             [
              0,
              "#0d0887"
             ],
             [
              0.1111111111111111,
              "#46039f"
             ],
             [
              0.2222222222222222,
              "#7201a8"
             ],
             [
              0.3333333333333333,
              "#9c179e"
             ],
             [
              0.4444444444444444,
              "#bd3786"
             ],
             [
              0.5555555555555556,
              "#d8576b"
             ],
             [
              0.6666666666666666,
              "#ed7953"
             ],
             [
              0.7777777777777778,
              "#fb9f3a"
             ],
             [
              0.8888888888888888,
              "#fdca26"
             ],
             [
              1,
              "#f0f921"
             ]
            ],
            "type": "heatmapgl"
           }
          ],
          "histogram": [
           {
            "marker": {
             "colorbar": {
              "outlinewidth": 0,
              "ticks": ""
             }
            },
            "type": "histogram"
           }
          ],
          "histogram2d": [
           {
            "colorbar": {
             "outlinewidth": 0,
             "ticks": ""
            },
            "colorscale": [
             [
              0,
              "#0d0887"
             ],
             [
              0.1111111111111111,
              "#46039f"
             ],
             [
              0.2222222222222222,
              "#7201a8"
             ],
             [
              0.3333333333333333,
              "#9c179e"
             ],
             [
              0.4444444444444444,
              "#bd3786"
             ],
             [
              0.5555555555555556,
              "#d8576b"
             ],
             [
              0.6666666666666666,
              "#ed7953"
             ],
             [
              0.7777777777777778,
              "#fb9f3a"
             ],
             [
              0.8888888888888888,
              "#fdca26"
             ],
             [
              1,
              "#f0f921"
             ]
            ],
            "type": "histogram2d"
           }
          ],
          "histogram2dcontour": [
           {
            "colorbar": {
             "outlinewidth": 0,
             "ticks": ""
            },
            "colorscale": [
             [
              0,
              "#0d0887"
             ],
             [
              0.1111111111111111,
              "#46039f"
             ],
             [
              0.2222222222222222,
              "#7201a8"
             ],
             [
              0.3333333333333333,
              "#9c179e"
             ],
             [
              0.4444444444444444,
              "#bd3786"
             ],
             [
              0.5555555555555556,
              "#d8576b"
             ],
             [
              0.6666666666666666,
              "#ed7953"
             ],
             [
              0.7777777777777778,
              "#fb9f3a"
             ],
             [
              0.8888888888888888,
              "#fdca26"
             ],
             [
              1,
              "#f0f921"
             ]
            ],
            "type": "histogram2dcontour"
           }
          ],
          "mesh3d": [
           {
            "colorbar": {
             "outlinewidth": 0,
             "ticks": ""
            },
            "type": "mesh3d"
           }
          ],
          "parcoords": [
           {
            "line": {
             "colorbar": {
              "outlinewidth": 0,
              "ticks": ""
             }
            },
            "type": "parcoords"
           }
          ],
          "pie": [
           {
            "automargin": true,
            "type": "pie"
           }
          ],
          "scatter": [
           {
            "marker": {
             "colorbar": {
              "outlinewidth": 0,
              "ticks": ""
             }
            },
            "type": "scatter"
           }
          ],
          "scatter3d": [
           {
            "line": {
             "colorbar": {
              "outlinewidth": 0,
              "ticks": ""
             }
            },
            "marker": {
             "colorbar": {
              "outlinewidth": 0,
              "ticks": ""
             }
            },
            "type": "scatter3d"
           }
          ],
          "scattercarpet": [
           {
            "marker": {
             "colorbar": {
              "outlinewidth": 0,
              "ticks": ""
             }
            },
            "type": "scattercarpet"
           }
          ],
          "scattergeo": [
           {
            "marker": {
             "colorbar": {
              "outlinewidth": 0,
              "ticks": ""
             }
            },
            "type": "scattergeo"
           }
          ],
          "scattergl": [
           {
            "marker": {
             "colorbar": {
              "outlinewidth": 0,
              "ticks": ""
             }
            },
            "type": "scattergl"
           }
          ],
          "scattermapbox": [
           {
            "marker": {
             "colorbar": {
              "outlinewidth": 0,
              "ticks": ""
             }
            },
            "type": "scattermapbox"
           }
          ],
          "scatterpolar": [
           {
            "marker": {
             "colorbar": {
              "outlinewidth": 0,
              "ticks": ""
             }
            },
            "type": "scatterpolar"
           }
          ],
          "scatterpolargl": [
           {
            "marker": {
             "colorbar": {
              "outlinewidth": 0,
              "ticks": ""
             }
            },
            "type": "scatterpolargl"
           }
          ],
          "scatterternary": [
           {
            "marker": {
             "colorbar": {
              "outlinewidth": 0,
              "ticks": ""
             }
            },
            "type": "scatterternary"
           }
          ],
          "surface": [
           {
            "colorbar": {
             "outlinewidth": 0,
             "ticks": ""
            },
            "colorscale": [
             [
              0,
              "#0d0887"
             ],
             [
              0.1111111111111111,
              "#46039f"
             ],
             [
              0.2222222222222222,
              "#7201a8"
             ],
             [
              0.3333333333333333,
              "#9c179e"
             ],
             [
              0.4444444444444444,
              "#bd3786"
             ],
             [
              0.5555555555555556,
              "#d8576b"
             ],
             [
              0.6666666666666666,
              "#ed7953"
             ],
             [
              0.7777777777777778,
              "#fb9f3a"
             ],
             [
              0.8888888888888888,
              "#fdca26"
             ],
             [
              1,
              "#f0f921"
             ]
            ],
            "type": "surface"
           }
          ],
          "table": [
           {
            "cells": {
             "fill": {
              "color": "#EBF0F8"
             },
             "line": {
              "color": "white"
             }
            },
            "header": {
             "fill": {
              "color": "#C8D4E3"
             },
             "line": {
              "color": "white"
             }
            },
            "type": "table"
           }
          ]
         },
         "layout": {
          "annotationdefaults": {
           "arrowcolor": "#2a3f5f",
           "arrowhead": 0,
           "arrowwidth": 1
          },
          "coloraxis": {
           "colorbar": {
            "outlinewidth": 0,
            "ticks": ""
           }
          },
          "colorscale": {
           "diverging": [
            [
             0,
             "#8e0152"
            ],
            [
             0.1,
             "#c51b7d"
            ],
            [
             0.2,
             "#de77ae"
            ],
            [
             0.3,
             "#f1b6da"
            ],
            [
             0.4,
             "#fde0ef"
            ],
            [
             0.5,
             "#f7f7f7"
            ],
            [
             0.6,
             "#e6f5d0"
            ],
            [
             0.7,
             "#b8e186"
            ],
            [
             0.8,
             "#7fbc41"
            ],
            [
             0.9,
             "#4d9221"
            ],
            [
             1,
             "#276419"
            ]
           ],
           "sequential": [
            [
             0,
             "#0d0887"
            ],
            [
             0.1111111111111111,
             "#46039f"
            ],
            [
             0.2222222222222222,
             "#7201a8"
            ],
            [
             0.3333333333333333,
             "#9c179e"
            ],
            [
             0.4444444444444444,
             "#bd3786"
            ],
            [
             0.5555555555555556,
             "#d8576b"
            ],
            [
             0.6666666666666666,
             "#ed7953"
            ],
            [
             0.7777777777777778,
             "#fb9f3a"
            ],
            [
             0.8888888888888888,
             "#fdca26"
            ],
            [
             1,
             "#f0f921"
            ]
           ],
           "sequentialminus": [
            [
             0,
             "#0d0887"
            ],
            [
             0.1111111111111111,
             "#46039f"
            ],
            [
             0.2222222222222222,
             "#7201a8"
            ],
            [
             0.3333333333333333,
             "#9c179e"
            ],
            [
             0.4444444444444444,
             "#bd3786"
            ],
            [
             0.5555555555555556,
             "#d8576b"
            ],
            [
             0.6666666666666666,
             "#ed7953"
            ],
            [
             0.7777777777777778,
             "#fb9f3a"
            ],
            [
             0.8888888888888888,
             "#fdca26"
            ],
            [
             1,
             "#f0f921"
            ]
           ]
          },
          "colorway": [
           "#636efa",
           "#EF553B",
           "#00cc96",
           "#ab63fa",
           "#FFA15A",
           "#19d3f3",
           "#FF6692",
           "#B6E880",
           "#FF97FF",
           "#FECB52"
          ],
          "font": {
           "color": "#2a3f5f"
          },
          "geo": {
           "bgcolor": "white",
           "lakecolor": "white",
           "landcolor": "#E5ECF6",
           "showlakes": true,
           "showland": true,
           "subunitcolor": "white"
          },
          "hoverlabel": {
           "align": "left"
          },
          "hovermode": "closest",
          "mapbox": {
           "style": "light"
          },
          "paper_bgcolor": "white",
          "plot_bgcolor": "#E5ECF6",
          "polar": {
           "angularaxis": {
            "gridcolor": "white",
            "linecolor": "white",
            "ticks": ""
           },
           "bgcolor": "#E5ECF6",
           "radialaxis": {
            "gridcolor": "white",
            "linecolor": "white",
            "ticks": ""
           }
          },
          "scene": {
           "xaxis": {
            "backgroundcolor": "#E5ECF6",
            "gridcolor": "white",
            "gridwidth": 2,
            "linecolor": "white",
            "showbackground": true,
            "ticks": "",
            "zerolinecolor": "white"
           },
           "yaxis": {
            "backgroundcolor": "#E5ECF6",
            "gridcolor": "white",
            "gridwidth": 2,
            "linecolor": "white",
            "showbackground": true,
            "ticks": "",
            "zerolinecolor": "white"
           },
           "zaxis": {
            "backgroundcolor": "#E5ECF6",
            "gridcolor": "white",
            "gridwidth": 2,
            "linecolor": "white",
            "showbackground": true,
            "ticks": "",
            "zerolinecolor": "white"
           }
          },
          "shapedefaults": {
           "line": {
            "color": "#2a3f5f"
           }
          },
          "ternary": {
           "aaxis": {
            "gridcolor": "white",
            "linecolor": "white",
            "ticks": ""
           },
           "baxis": {
            "gridcolor": "white",
            "linecolor": "white",
            "ticks": ""
           },
           "bgcolor": "#E5ECF6",
           "caxis": {
            "gridcolor": "white",
            "linecolor": "white",
            "ticks": ""
           }
          },
          "title": {
           "x": 0.05
          },
          "xaxis": {
           "automargin": true,
           "gridcolor": "white",
           "linecolor": "white",
           "ticks": "",
           "title": {
            "standoff": 15
           },
           "zerolinecolor": "white",
           "zerolinewidth": 2
          },
          "yaxis": {
           "automargin": true,
           "gridcolor": "white",
           "linecolor": "white",
           "ticks": "",
           "title": {
            "standoff": 15
           },
           "zerolinecolor": "white",
           "zerolinewidth": 2
          }
         }
        },
        "title": {
         "text": "Respiratory diseases vs Death rate with Linear Regression"
        },
        "xaxis": {
         "title": {
          "text": "Respiratory Diseases in %"
         }
        },
        "yaxis": {
         "title": {
          "text": "Death rate"
         }
        }
       }
      },
      "text/html": [
       "<div>\n",
       "        \n",
       "        \n",
       "            <div id=\"60c928d2-3a20-46f8-8238-fbbc59ec93b6\" class=\"plotly-graph-div\" style=\"height:525px; width:100%;\"></div>\n",
       "            <script type=\"text/javascript\">\n",
       "                require([\"plotly\"], function(Plotly) {\n",
       "                    window.PLOTLYENV=window.PLOTLYENV || {};\n",
       "                    \n",
       "                if (document.getElementById(\"60c928d2-3a20-46f8-8238-fbbc59ec93b6\")) {\n",
       "                    Plotly.newPlot(\n",
       "                        '60c928d2-3a20-46f8-8238-fbbc59ec93b6',\n",
       "                        [{\"hovertext\": [\"Albania\", \"Andorra\", \"Austria\", \"Belarus\", \"Belgium\", \"Bosnia and Herzegovina\", \"Bulgaria\", \"Croatia\", \"Denmark\", \"Estonia\", \"Finland\", \"France\", \"Germany\", \"Greece\", \"Hungary\", \"Iceland\", \"Ireland\", \"Italy\", \"Latvia\", \"Lithuania\", \"Luxembourg\", \"Malta\", \"Moldova\", \"Montenegro\", \"Netherlands\", \"Norway\", \"Poland\", \"Portugal\", \"Romania\", \"Russia\", \"Serbia\", \"Slovakia\", \"Slovenia\", \"Spain\", \"Sweden\", \"Switzerland\", \"Ukraine\", \"United Kingdom\"], \"mode\": \"markers\", \"name\": \"Respiratory Diseases (%)\", \"type\": \"scatter\", \"x\": [3.2514253176738404, 4.771666828410284, 4.348961969402323, 2.3361433270921, 5.179322809000662, 3.865477493192525, 3.666356508884166, 3.9381908259733542, 5.887261700503943, 2.487847179215016, 3.6420076371000265, 3.2162393906537785, 4.838841688982823, 4.853683272683731, 4.860332812067168, 5.404932791140827, 5.606315354708087, 3.5050331485610218, 2.227245089630606, 2.3228006759388955, 4.6832918728562944, 4.015113320175786, 2.233640257837454, 2.379967146008719, 5.62594300634431, 5.224426793296673, 3.7986854307613225, 4.830245500349349, 3.5040123313359044, 2.348089706754948, 3.9492411143238018, 2.854960247803954, 3.5351729464537684, 5.038821007117723, 5.245567734770662, 4.2263946994038415, 2.1108171262031283, 6.6779137018954655], \"y\": [0.032665964172813484, 0.06701708278580815, 0.038723117456038236, 0.005554144979052939, 0.16325213744152284, 0.05773373545885394, 0.04957945993802568, 0.043010752688172046, 0.04901263120441202, 0.03573422668900056, 0.047038599781215815, 0.15489158970447625, 0.04545556818053977, 0.058098591549295774, 0.1313273340832396, 0.005549389567147614, 0.0643684796503237, 0.14190181694670026, 0.020750988142292492, 0.03841229193341869, 0.027539161192521474, 0.01054481546572935, 0.03485804416403786, 0.027777777777777776, 0.12900177731782492, 0.028184347405346557, 0.04920074735312435, 0.04236885023104105, 0.0661392589145483, 0.009458526843612577, 0.02180191931426442, 0.018729096989966554, 0.070892978868439, 0.11971366635493477, 0.121529919802591, 0.06176105558821608, 0.02903157448611994, 0.14160983137308206]}, {\"mode\": \"lines\", \"name\": \"line of best fit\", \"type\": \"scatter\", \"x\": [3.2514253176738404, 4.771666828410284, 4.348961969402323, 2.3361433270921, 5.179322809000662, 3.865477493192525, 3.666356508884166, 3.9381908259733542, 5.887261700503943, 2.487847179215016, 3.6420076371000265, 3.2162393906537785, 4.838841688982823, 4.853683272683731, 4.860332812067168, 5.404932791140827, 5.606315354708087, 3.5050331485610218, 2.227245089630606, 2.3228006759388955, 4.6832918728562944, 4.015113320175786, 2.233640257837454, 2.379967146008719, 5.62594300634431, 5.224426793296673, 3.7986854307613225, 4.830245500349349, 3.5040123313359044, 2.348089706754948, 3.9492411143238018, 2.854960247803954, 3.5351729464537684, 5.038821007117723, 5.245567734770662, 4.2263946994038415, 2.1108171262031283, 6.6779137018954655], \"y\": [0.04680090291976137, 0.07211110901031334, 0.06507357778819425, 0.03156255055996276, 0.07889809437409957, 0.057024138506323443, 0.053709011854271474, 0.05823472868243444, 0.09068443168756037, 0.03408823857390312, 0.05330363220993427, 0.046215099244440415, 0.07322949023670902, 0.07347658488550478, 0.07358729177714893, 0.08265423121401992, 0.08600701046056339, 0.05102317051382473, 0.029749524923191994, 0.03134041134846448, 0.0706397715139235, 0.05951539637076751, 0.02985599683844753, 0.032292164822315936, 0.08633378742624809, 0.07964902186159072, 0.05591213041194651, 0.07308637395921631, 0.05100617512581168, 0.031761443518198186, 0.05841870279018943, 0.040200232858297984, 0.05152496216390502, 0.07655890712218168, 0.08000099329631083, 0.06303297907956203, 0.027811138339059592, 0.10384784352692837]}],\n",
       "                        {\"template\": {\"data\": {\"bar\": [{\"error_x\": {\"color\": \"#2a3f5f\"}, \"error_y\": {\"color\": \"#2a3f5f\"}, \"marker\": {\"line\": {\"color\": \"#E5ECF6\", \"width\": 0.5}}, \"type\": \"bar\"}], \"barpolar\": [{\"marker\": {\"line\": {\"color\": \"#E5ECF6\", \"width\": 0.5}}, \"type\": \"barpolar\"}], \"carpet\": [{\"aaxis\": {\"endlinecolor\": \"#2a3f5f\", \"gridcolor\": \"white\", \"linecolor\": \"white\", \"minorgridcolor\": \"white\", \"startlinecolor\": \"#2a3f5f\"}, \"baxis\": {\"endlinecolor\": \"#2a3f5f\", \"gridcolor\": \"white\", \"linecolor\": \"white\", \"minorgridcolor\": \"white\", \"startlinecolor\": \"#2a3f5f\"}, \"type\": \"carpet\"}], \"choropleth\": [{\"colorbar\": {\"outlinewidth\": 0, \"ticks\": \"\"}, \"type\": \"choropleth\"}], \"contour\": [{\"colorbar\": {\"outlinewidth\": 0, \"ticks\": \"\"}, \"colorscale\": [[0.0, \"#0d0887\"], [0.1111111111111111, \"#46039f\"], [0.2222222222222222, \"#7201a8\"], [0.3333333333333333, \"#9c179e\"], [0.4444444444444444, \"#bd3786\"], [0.5555555555555556, \"#d8576b\"], [0.6666666666666666, \"#ed7953\"], [0.7777777777777778, \"#fb9f3a\"], [0.8888888888888888, \"#fdca26\"], [1.0, \"#f0f921\"]], \"type\": \"contour\"}], \"contourcarpet\": [{\"colorbar\": {\"outlinewidth\": 0, \"ticks\": \"\"}, \"type\": \"contourcarpet\"}], \"heatmap\": [{\"colorbar\": {\"outlinewidth\": 0, \"ticks\": \"\"}, \"colorscale\": [[0.0, \"#0d0887\"], [0.1111111111111111, \"#46039f\"], [0.2222222222222222, \"#7201a8\"], [0.3333333333333333, \"#9c179e\"], [0.4444444444444444, \"#bd3786\"], [0.5555555555555556, \"#d8576b\"], [0.6666666666666666, \"#ed7953\"], [0.7777777777777778, \"#fb9f3a\"], [0.8888888888888888, \"#fdca26\"], [1.0, \"#f0f921\"]], \"type\": \"heatmap\"}], \"heatmapgl\": [{\"colorbar\": {\"outlinewidth\": 0, \"ticks\": \"\"}, \"colorscale\": [[0.0, \"#0d0887\"], [0.1111111111111111, \"#46039f\"], [0.2222222222222222, \"#7201a8\"], [0.3333333333333333, \"#9c179e\"], [0.4444444444444444, \"#bd3786\"], [0.5555555555555556, \"#d8576b\"], [0.6666666666666666, \"#ed7953\"], [0.7777777777777778, \"#fb9f3a\"], [0.8888888888888888, \"#fdca26\"], [1.0, \"#f0f921\"]], \"type\": \"heatmapgl\"}], \"histogram\": [{\"marker\": {\"colorbar\": {\"outlinewidth\": 0, \"ticks\": \"\"}}, \"type\": \"histogram\"}], \"histogram2d\": [{\"colorbar\": {\"outlinewidth\": 0, \"ticks\": \"\"}, \"colorscale\": [[0.0, \"#0d0887\"], [0.1111111111111111, \"#46039f\"], [0.2222222222222222, \"#7201a8\"], [0.3333333333333333, \"#9c179e\"], [0.4444444444444444, \"#bd3786\"], [0.5555555555555556, \"#d8576b\"], [0.6666666666666666, \"#ed7953\"], [0.7777777777777778, \"#fb9f3a\"], [0.8888888888888888, \"#fdca26\"], [1.0, \"#f0f921\"]], \"type\": \"histogram2d\"}], \"histogram2dcontour\": [{\"colorbar\": {\"outlinewidth\": 0, \"ticks\": \"\"}, \"colorscale\": [[0.0, \"#0d0887\"], [0.1111111111111111, \"#46039f\"], [0.2222222222222222, \"#7201a8\"], [0.3333333333333333, \"#9c179e\"], [0.4444444444444444, \"#bd3786\"], [0.5555555555555556, \"#d8576b\"], [0.6666666666666666, \"#ed7953\"], [0.7777777777777778, \"#fb9f3a\"], [0.8888888888888888, \"#fdca26\"], [1.0, \"#f0f921\"]], \"type\": \"histogram2dcontour\"}], \"mesh3d\": [{\"colorbar\": {\"outlinewidth\": 0, \"ticks\": \"\"}, \"type\": \"mesh3d\"}], \"parcoords\": [{\"line\": {\"colorbar\": {\"outlinewidth\": 0, \"ticks\": \"\"}}, \"type\": \"parcoords\"}], \"pie\": [{\"automargin\": true, \"type\": \"pie\"}], \"scatter\": [{\"marker\": {\"colorbar\": {\"outlinewidth\": 0, \"ticks\": \"\"}}, \"type\": \"scatter\"}], \"scatter3d\": [{\"line\": {\"colorbar\": {\"outlinewidth\": 0, \"ticks\": \"\"}}, \"marker\": {\"colorbar\": {\"outlinewidth\": 0, \"ticks\": \"\"}}, \"type\": \"scatter3d\"}], \"scattercarpet\": [{\"marker\": {\"colorbar\": {\"outlinewidth\": 0, \"ticks\": \"\"}}, \"type\": \"scattercarpet\"}], \"scattergeo\": [{\"marker\": {\"colorbar\": {\"outlinewidth\": 0, \"ticks\": \"\"}}, \"type\": \"scattergeo\"}], \"scattergl\": [{\"marker\": {\"colorbar\": {\"outlinewidth\": 0, \"ticks\": \"\"}}, \"type\": \"scattergl\"}], \"scattermapbox\": [{\"marker\": {\"colorbar\": {\"outlinewidth\": 0, \"ticks\": \"\"}}, \"type\": \"scattermapbox\"}], \"scatterpolar\": [{\"marker\": {\"colorbar\": {\"outlinewidth\": 0, \"ticks\": \"\"}}, \"type\": \"scatterpolar\"}], \"scatterpolargl\": [{\"marker\": {\"colorbar\": {\"outlinewidth\": 0, \"ticks\": \"\"}}, \"type\": \"scatterpolargl\"}], \"scatterternary\": [{\"marker\": {\"colorbar\": {\"outlinewidth\": 0, \"ticks\": \"\"}}, \"type\": \"scatterternary\"}], \"surface\": [{\"colorbar\": {\"outlinewidth\": 0, \"ticks\": \"\"}, \"colorscale\": [[0.0, \"#0d0887\"], [0.1111111111111111, \"#46039f\"], [0.2222222222222222, \"#7201a8\"], [0.3333333333333333, \"#9c179e\"], [0.4444444444444444, \"#bd3786\"], [0.5555555555555556, \"#d8576b\"], [0.6666666666666666, \"#ed7953\"], [0.7777777777777778, \"#fb9f3a\"], [0.8888888888888888, \"#fdca26\"], [1.0, \"#f0f921\"]], \"type\": \"surface\"}], \"table\": [{\"cells\": {\"fill\": {\"color\": \"#EBF0F8\"}, \"line\": {\"color\": \"white\"}}, \"header\": {\"fill\": {\"color\": \"#C8D4E3\"}, \"line\": {\"color\": \"white\"}}, \"type\": \"table\"}]}, \"layout\": {\"annotationdefaults\": {\"arrowcolor\": \"#2a3f5f\", \"arrowhead\": 0, \"arrowwidth\": 1}, \"coloraxis\": {\"colorbar\": {\"outlinewidth\": 0, \"ticks\": \"\"}}, \"colorscale\": {\"diverging\": [[0, \"#8e0152\"], [0.1, \"#c51b7d\"], [0.2, \"#de77ae\"], [0.3, \"#f1b6da\"], [0.4, \"#fde0ef\"], [0.5, \"#f7f7f7\"], [0.6, \"#e6f5d0\"], [0.7, \"#b8e186\"], [0.8, \"#7fbc41\"], [0.9, \"#4d9221\"], [1, \"#276419\"]], \"sequential\": [[0.0, \"#0d0887\"], [0.1111111111111111, \"#46039f\"], [0.2222222222222222, \"#7201a8\"], [0.3333333333333333, \"#9c179e\"], [0.4444444444444444, \"#bd3786\"], [0.5555555555555556, \"#d8576b\"], [0.6666666666666666, \"#ed7953\"], [0.7777777777777778, \"#fb9f3a\"], [0.8888888888888888, \"#fdca26\"], [1.0, \"#f0f921\"]], \"sequentialminus\": [[0.0, \"#0d0887\"], [0.1111111111111111, \"#46039f\"], [0.2222222222222222, \"#7201a8\"], [0.3333333333333333, \"#9c179e\"], [0.4444444444444444, \"#bd3786\"], [0.5555555555555556, \"#d8576b\"], [0.6666666666666666, \"#ed7953\"], [0.7777777777777778, \"#fb9f3a\"], [0.8888888888888888, \"#fdca26\"], [1.0, \"#f0f921\"]]}, \"colorway\": [\"#636efa\", \"#EF553B\", \"#00cc96\", \"#ab63fa\", \"#FFA15A\", \"#19d3f3\", \"#FF6692\", \"#B6E880\", \"#FF97FF\", \"#FECB52\"], \"font\": {\"color\": \"#2a3f5f\"}, \"geo\": {\"bgcolor\": \"white\", \"lakecolor\": \"white\", \"landcolor\": \"#E5ECF6\", \"showlakes\": true, \"showland\": true, \"subunitcolor\": \"white\"}, \"hoverlabel\": {\"align\": \"left\"}, \"hovermode\": \"closest\", \"mapbox\": {\"style\": \"light\"}, \"paper_bgcolor\": \"white\", \"plot_bgcolor\": \"#E5ECF6\", \"polar\": {\"angularaxis\": {\"gridcolor\": \"white\", \"linecolor\": \"white\", \"ticks\": \"\"}, \"bgcolor\": \"#E5ECF6\", \"radialaxis\": {\"gridcolor\": \"white\", \"linecolor\": \"white\", \"ticks\": \"\"}}, \"scene\": {\"xaxis\": {\"backgroundcolor\": \"#E5ECF6\", \"gridcolor\": \"white\", \"gridwidth\": 2, \"linecolor\": \"white\", \"showbackground\": true, \"ticks\": \"\", \"zerolinecolor\": \"white\"}, \"yaxis\": {\"backgroundcolor\": \"#E5ECF6\", \"gridcolor\": \"white\", \"gridwidth\": 2, \"linecolor\": \"white\", \"showbackground\": true, \"ticks\": \"\", \"zerolinecolor\": \"white\"}, \"zaxis\": {\"backgroundcolor\": \"#E5ECF6\", \"gridcolor\": \"white\", \"gridwidth\": 2, \"linecolor\": \"white\", \"showbackground\": true, \"ticks\": \"\", \"zerolinecolor\": \"white\"}}, \"shapedefaults\": {\"line\": {\"color\": \"#2a3f5f\"}}, \"ternary\": {\"aaxis\": {\"gridcolor\": \"white\", \"linecolor\": \"white\", \"ticks\": \"\"}, \"baxis\": {\"gridcolor\": \"white\", \"linecolor\": \"white\", \"ticks\": \"\"}, \"bgcolor\": \"#E5ECF6\", \"caxis\": {\"gridcolor\": \"white\", \"linecolor\": \"white\", \"ticks\": \"\"}}, \"title\": {\"x\": 0.05}, \"xaxis\": {\"automargin\": true, \"gridcolor\": \"white\", \"linecolor\": \"white\", \"ticks\": \"\", \"title\": {\"standoff\": 15}, \"zerolinecolor\": \"white\", \"zerolinewidth\": 2}, \"yaxis\": {\"automargin\": true, \"gridcolor\": \"white\", \"linecolor\": \"white\", \"ticks\": \"\", \"title\": {\"standoff\": 15}, \"zerolinecolor\": \"white\", \"zerolinewidth\": 2}}}, \"title\": {\"text\": \"Respiratory diseases vs Death rate with Linear Regression\"}, \"xaxis\": {\"title\": {\"text\": \"Respiratory Diseases in %\"}}, \"yaxis\": {\"title\": {\"text\": \"Death rate\"}}},\n",
       "                        {\"responsive\": true}\n",
       "                    ).then(function(){\n",
       "                            \n",
       "var gd = document.getElementById('60c928d2-3a20-46f8-8238-fbbc59ec93b6');\n",
       "var x = new MutationObserver(function (mutations, observer) {{\n",
       "        var display = window.getComputedStyle(gd).display;\n",
       "        if (!display || display === 'none') {{\n",
       "            console.log([gd, 'removed!']);\n",
       "            Plotly.purge(gd);\n",
       "            observer.disconnect();\n",
       "        }}\n",
       "}});\n",
       "\n",
       "// Listen for the removal of the full notebook cells\n",
       "var notebookContainer = gd.closest('#notebook-container');\n",
       "if (notebookContainer) {{\n",
       "    x.observe(notebookContainer, {childList: true});\n",
       "}}\n",
       "\n",
       "// Listen for the clearing of the current output cell\n",
       "var outputEl = gd.closest('.output');\n",
       "if (outputEl) {{\n",
       "    x.observe(outputEl, {childList: true});\n",
       "}}\n",
       "\n",
       "                        })\n",
       "                };\n",
       "                });\n",
       "            </script>\n",
       "        </div>"
      ]
     },
     "metadata": {},
     "output_type": "display_data"
    }
   ],
   "source": [
    "# plotly figure setup\n",
    "fig=go.Figure()\n",
    "fig.add_trace(go.Scatter(name='Respiratory Diseases (%)',x=europe_data['Respiratory_disease_perc'], y=europe_data['death_rate'], hovertext=europe_countries,mode='markers'))\n",
    "fig.add_trace(go.Scatter(name='line of best fit', x=europe_data['Respiratory_disease_perc'], y=europe_data['fitted_values'], mode='lines'))\n",
    "\n",
    "\n",
    "# plotly figure layout\n",
    "fig.update_layout(xaxis_title = 'Respiratory Diseases in %', yaxis_title = 'Death rate', title='Respiratory diseases vs Death rate with Linear Regression')\n",
    "\n",
    "fig.show()\n",
    "#add to plotly account\n",
    "#py.iplot(fig, filename='Respiratory_diseases_Linear_Regression', auto_open=True) "
   ]
  },
  {
   "cell_type": "markdown",
   "metadata": {},
   "source": [
    "### Look at residuals"
   ]
  },
  {
   "cell_type": "code",
   "execution_count": 36,
   "metadata": {},
   "outputs": [
    {
     "name": "stderr",
     "output_type": "stream",
     "text": [
      "/opt/anaconda3/lib/python3.7/site-packages/plotly/graph_objs/_deprecations.py:385: DeprecationWarning:\n",
      "\n",
      "plotly.graph_objs.Line is deprecated.\n",
      "Please replace it with one of the following more specific types\n",
      "  - plotly.graph_objs.scatter.Line\n",
      "  - plotly.graph_objs.layout.shape.Line\n",
      "  - etc.\n",
      "\n",
      "\n"
     ]
    },
    {
     "data": {
      "application/vnd.plotly.v1+json": {
       "config": {
        "plotlyServerURL": "https://plotly.com"
       },
       "data": [
        {
         "hovertext": [
          "Albania",
          "Andorra",
          "Austria",
          "Belarus",
          "Belgium",
          "Bosnia and Herzegovina",
          "Bulgaria",
          "Croatia",
          "Denmark",
          "Estonia",
          "Finland",
          "France",
          "Germany",
          "Greece",
          "Hungary",
          "Iceland",
          "Ireland",
          "Italy",
          "Latvia",
          "Lithuania",
          "Luxembourg",
          "Malta",
          "Moldova",
          "Montenegro",
          "Netherlands",
          "Norway",
          "Poland",
          "Portugal",
          "Romania",
          "Russia",
          "Serbia",
          "Slovakia",
          "Slovenia",
          "Spain",
          "Sweden",
          "Switzerland",
          "Ukraine",
          "United Kingdom"
         ],
         "mode": "markers",
         "name": "Residuals",
         "type": "scatter",
         "x": [
          3.2514253176738404,
          4.771666828410284,
          4.348961969402323,
          2.3361433270921,
          5.179322809000662,
          3.865477493192525,
          3.666356508884166,
          3.9381908259733542,
          5.887261700503943,
          2.487847179215016,
          3.6420076371000265,
          3.2162393906537785,
          4.838841688982823,
          4.853683272683731,
          4.860332812067168,
          5.404932791140827,
          5.606315354708087,
          3.5050331485610218,
          2.227245089630606,
          2.3228006759388955,
          4.6832918728562944,
          4.015113320175786,
          2.233640257837454,
          2.379967146008719,
          5.62594300634431,
          5.224426793296673,
          3.7986854307613225,
          4.830245500349349,
          3.5040123313359044,
          2.348089706754948,
          3.9492411143238018,
          2.854960247803954,
          3.5351729464537684,
          5.038821007117723,
          5.245567734770662,
          4.2263946994038415,
          2.1108171262031283,
          6.6779137018954655
         ],
         "y": [
          0.014134938746947885,
          0.005094026224505194,
          0.026350460332156017,
          0.02600840558090982,
          -0.08435404306742326,
          -0.0007095969525304988,
          0.004129551916245797,
          0.015223975994262395,
          0.04167180048314834,
          -0.0016459881150974395,
          0.006265032428718453,
          -0.10867649046003583,
          0.02777392205616925,
          0.015377993336209005,
          -0.05774004230609067,
          0.07710484164687231,
          0.021638530810239684,
          -0.09087864643287552,
          0.008998536780899503,
          -0.007071880584954213,
          0.04310061032140203,
          0.04897058090503816,
          -0.005002047325590328,
          0.0045143870445381595,
          -0.04266798989157683,
          0.051464674456244155,
          0.006711383058822157,
          0.030717523728175267,
          -0.015133083788736623,
          0.02230291667458561,
          0.03661678347592501,
          0.02147113586833143,
          -0.019368016704533975,
          -0.043154759232753095,
          -0.041528926506280164,
          0.0012719234913459443,
          -0.0012204361470603484,
          -0.037761987846153686
         ]
        },
        {
         "name": "0",
         "type": "scatter",
         "x": [
          3.2514253176738404,
          4.771666828410284,
          4.348961969402323,
          2.3361433270921,
          5.179322809000662,
          3.865477493192525,
          3.666356508884166,
          3.9381908259733542,
          5.887261700503943,
          2.487847179215016,
          3.6420076371000265,
          3.2162393906537785,
          4.838841688982823,
          4.853683272683731,
          4.860332812067168,
          5.404932791140827,
          5.606315354708087,
          3.5050331485610218,
          2.227245089630606,
          2.3228006759388955,
          4.6832918728562944,
          4.015113320175786,
          2.233640257837454,
          2.379967146008719,
          5.62594300634431,
          5.224426793296673,
          3.7986854307613225,
          4.830245500349349,
          3.5040123313359044,
          2.348089706754948,
          3.9492411143238018,
          2.854960247803954,
          3.5351729464537684,
          5.038821007117723,
          5.245567734770662,
          4.2263946994038415,
          2.1108171262031283,
          6.6779137018954655
         ],
         "y": [
          0,
          0,
          0,
          0,
          0,
          0,
          0,
          0,
          0,
          0,
          0,
          0,
          0,
          0,
          0,
          0,
          0,
          0,
          0,
          0,
          0,
          0,
          0,
          0,
          0,
          0,
          0,
          0,
          0,
          0,
          0,
          0,
          0,
          0,
          0,
          0,
          0,
          0
         ]
        }
       ],
       "layout": {
        "template": {
         "data": {
          "bar": [
           {
            "error_x": {
             "color": "#2a3f5f"
            },
            "error_y": {
             "color": "#2a3f5f"
            },
            "marker": {
             "line": {
              "color": "#E5ECF6",
              "width": 0.5
             }
            },
            "type": "bar"
           }
          ],
          "barpolar": [
           {
            "marker": {
             "line": {
              "color": "#E5ECF6",
              "width": 0.5
             }
            },
            "type": "barpolar"
           }
          ],
          "carpet": [
           {
            "aaxis": {
             "endlinecolor": "#2a3f5f",
             "gridcolor": "white",
             "linecolor": "white",
             "minorgridcolor": "white",
             "startlinecolor": "#2a3f5f"
            },
            "baxis": {
             "endlinecolor": "#2a3f5f",
             "gridcolor": "white",
             "linecolor": "white",
             "minorgridcolor": "white",
             "startlinecolor": "#2a3f5f"
            },
            "type": "carpet"
           }
          ],
          "choropleth": [
           {
            "colorbar": {
             "outlinewidth": 0,
             "ticks": ""
            },
            "type": "choropleth"
           }
          ],
          "contour": [
           {
            "colorbar": {
             "outlinewidth": 0,
             "ticks": ""
            },
            "colorscale": [
             [
              0,
              "#0d0887"
             ],
             [
              0.1111111111111111,
              "#46039f"
             ],
             [
              0.2222222222222222,
              "#7201a8"
             ],
             [
              0.3333333333333333,
              "#9c179e"
             ],
             [
              0.4444444444444444,
              "#bd3786"
             ],
             [
              0.5555555555555556,
              "#d8576b"
             ],
             [
              0.6666666666666666,
              "#ed7953"
             ],
             [
              0.7777777777777778,
              "#fb9f3a"
             ],
             [
              0.8888888888888888,
              "#fdca26"
             ],
             [
              1,
              "#f0f921"
             ]
            ],
            "type": "contour"
           }
          ],
          "contourcarpet": [
           {
            "colorbar": {
             "outlinewidth": 0,
             "ticks": ""
            },
            "type": "contourcarpet"
           }
          ],
          "heatmap": [
           {
            "colorbar": {
             "outlinewidth": 0,
             "ticks": ""
            },
            "colorscale": [
             [
              0,
              "#0d0887"
             ],
             [
              0.1111111111111111,
              "#46039f"
             ],
             [
              0.2222222222222222,
              "#7201a8"
             ],
             [
              0.3333333333333333,
              "#9c179e"
             ],
             [
              0.4444444444444444,
              "#bd3786"
             ],
             [
              0.5555555555555556,
              "#d8576b"
             ],
             [
              0.6666666666666666,
              "#ed7953"
             ],
             [
              0.7777777777777778,
              "#fb9f3a"
             ],
             [
              0.8888888888888888,
              "#fdca26"
             ],
             [
              1,
              "#f0f921"
             ]
            ],
            "type": "heatmap"
           }
          ],
          "heatmapgl": [
           {
            "colorbar": {
             "outlinewidth": 0,
             "ticks": ""
            },
            "colorscale": [
             [
              0,
              "#0d0887"
             ],
             [
              0.1111111111111111,
              "#46039f"
             ],
             [
              0.2222222222222222,
              "#7201a8"
             ],
             [
              0.3333333333333333,
              "#9c179e"
             ],
             [
              0.4444444444444444,
              "#bd3786"
             ],
             [
              0.5555555555555556,
              "#d8576b"
             ],
             [
              0.6666666666666666,
              "#ed7953"
             ],
             [
              0.7777777777777778,
              "#fb9f3a"
             ],
             [
              0.8888888888888888,
              "#fdca26"
             ],
             [
              1,
              "#f0f921"
             ]
            ],
            "type": "heatmapgl"
           }
          ],
          "histogram": [
           {
            "marker": {
             "colorbar": {
              "outlinewidth": 0,
              "ticks": ""
             }
            },
            "type": "histogram"
           }
          ],
          "histogram2d": [
           {
            "colorbar": {
             "outlinewidth": 0,
             "ticks": ""
            },
            "colorscale": [
             [
              0,
              "#0d0887"
             ],
             [
              0.1111111111111111,
              "#46039f"
             ],
             [
              0.2222222222222222,
              "#7201a8"
             ],
             [
              0.3333333333333333,
              "#9c179e"
             ],
             [
              0.4444444444444444,
              "#bd3786"
             ],
             [
              0.5555555555555556,
              "#d8576b"
             ],
             [
              0.6666666666666666,
              "#ed7953"
             ],
             [
              0.7777777777777778,
              "#fb9f3a"
             ],
             [
              0.8888888888888888,
              "#fdca26"
             ],
             [
              1,
              "#f0f921"
             ]
            ],
            "type": "histogram2d"
           }
          ],
          "histogram2dcontour": [
           {
            "colorbar": {
             "outlinewidth": 0,
             "ticks": ""
            },
            "colorscale": [
             [
              0,
              "#0d0887"
             ],
             [
              0.1111111111111111,
              "#46039f"
             ],
             [
              0.2222222222222222,
              "#7201a8"
             ],
             [
              0.3333333333333333,
              "#9c179e"
             ],
             [
              0.4444444444444444,
              "#bd3786"
             ],
             [
              0.5555555555555556,
              "#d8576b"
             ],
             [
              0.6666666666666666,
              "#ed7953"
             ],
             [
              0.7777777777777778,
              "#fb9f3a"
             ],
             [
              0.8888888888888888,
              "#fdca26"
             ],
             [
              1,
              "#f0f921"
             ]
            ],
            "type": "histogram2dcontour"
           }
          ],
          "mesh3d": [
           {
            "colorbar": {
             "outlinewidth": 0,
             "ticks": ""
            },
            "type": "mesh3d"
           }
          ],
          "parcoords": [
           {
            "line": {
             "colorbar": {
              "outlinewidth": 0,
              "ticks": ""
             }
            },
            "type": "parcoords"
           }
          ],
          "pie": [
           {
            "automargin": true,
            "type": "pie"
           }
          ],
          "scatter": [
           {
            "marker": {
             "colorbar": {
              "outlinewidth": 0,
              "ticks": ""
             }
            },
            "type": "scatter"
           }
          ],
          "scatter3d": [
           {
            "line": {
             "colorbar": {
              "outlinewidth": 0,
              "ticks": ""
             }
            },
            "marker": {
             "colorbar": {
              "outlinewidth": 0,
              "ticks": ""
             }
            },
            "type": "scatter3d"
           }
          ],
          "scattercarpet": [
           {
            "marker": {
             "colorbar": {
              "outlinewidth": 0,
              "ticks": ""
             }
            },
            "type": "scattercarpet"
           }
          ],
          "scattergeo": [
           {
            "marker": {
             "colorbar": {
              "outlinewidth": 0,
              "ticks": ""
             }
            },
            "type": "scattergeo"
           }
          ],
          "scattergl": [
           {
            "marker": {
             "colorbar": {
              "outlinewidth": 0,
              "ticks": ""
             }
            },
            "type": "scattergl"
           }
          ],
          "scattermapbox": [
           {
            "marker": {
             "colorbar": {
              "outlinewidth": 0,
              "ticks": ""
             }
            },
            "type": "scattermapbox"
           }
          ],
          "scatterpolar": [
           {
            "marker": {
             "colorbar": {
              "outlinewidth": 0,
              "ticks": ""
             }
            },
            "type": "scatterpolar"
           }
          ],
          "scatterpolargl": [
           {
            "marker": {
             "colorbar": {
              "outlinewidth": 0,
              "ticks": ""
             }
            },
            "type": "scatterpolargl"
           }
          ],
          "scatterternary": [
           {
            "marker": {
             "colorbar": {
              "outlinewidth": 0,
              "ticks": ""
             }
            },
            "type": "scatterternary"
           }
          ],
          "surface": [
           {
            "colorbar": {
             "outlinewidth": 0,
             "ticks": ""
            },
            "colorscale": [
             [
              0,
              "#0d0887"
             ],
             [
              0.1111111111111111,
              "#46039f"
             ],
             [
              0.2222222222222222,
              "#7201a8"
             ],
             [
              0.3333333333333333,
              "#9c179e"
             ],
             [
              0.4444444444444444,
              "#bd3786"
             ],
             [
              0.5555555555555556,
              "#d8576b"
             ],
             [
              0.6666666666666666,
              "#ed7953"
             ],
             [
              0.7777777777777778,
              "#fb9f3a"
             ],
             [
              0.8888888888888888,
              "#fdca26"
             ],
             [
              1,
              "#f0f921"
             ]
            ],
            "type": "surface"
           }
          ],
          "table": [
           {
            "cells": {
             "fill": {
              "color": "#EBF0F8"
             },
             "line": {
              "color": "white"
             }
            },
            "header": {
             "fill": {
              "color": "#C8D4E3"
             },
             "line": {
              "color": "white"
             }
            },
            "type": "table"
           }
          ]
         },
         "layout": {
          "annotationdefaults": {
           "arrowcolor": "#2a3f5f",
           "arrowhead": 0,
           "arrowwidth": 1
          },
          "coloraxis": {
           "colorbar": {
            "outlinewidth": 0,
            "ticks": ""
           }
          },
          "colorscale": {
           "diverging": [
            [
             0,
             "#8e0152"
            ],
            [
             0.1,
             "#c51b7d"
            ],
            [
             0.2,
             "#de77ae"
            ],
            [
             0.3,
             "#f1b6da"
            ],
            [
             0.4,
             "#fde0ef"
            ],
            [
             0.5,
             "#f7f7f7"
            ],
            [
             0.6,
             "#e6f5d0"
            ],
            [
             0.7,
             "#b8e186"
            ],
            [
             0.8,
             "#7fbc41"
            ],
            [
             0.9,
             "#4d9221"
            ],
            [
             1,
             "#276419"
            ]
           ],
           "sequential": [
            [
             0,
             "#0d0887"
            ],
            [
             0.1111111111111111,
             "#46039f"
            ],
            [
             0.2222222222222222,
             "#7201a8"
            ],
            [
             0.3333333333333333,
             "#9c179e"
            ],
            [
             0.4444444444444444,
             "#bd3786"
            ],
            [
             0.5555555555555556,
             "#d8576b"
            ],
            [
             0.6666666666666666,
             "#ed7953"
            ],
            [
             0.7777777777777778,
             "#fb9f3a"
            ],
            [
             0.8888888888888888,
             "#fdca26"
            ],
            [
             1,
             "#f0f921"
            ]
           ],
           "sequentialminus": [
            [
             0,
             "#0d0887"
            ],
            [
             0.1111111111111111,
             "#46039f"
            ],
            [
             0.2222222222222222,
             "#7201a8"
            ],
            [
             0.3333333333333333,
             "#9c179e"
            ],
            [
             0.4444444444444444,
             "#bd3786"
            ],
            [
             0.5555555555555556,
             "#d8576b"
            ],
            [
             0.6666666666666666,
             "#ed7953"
            ],
            [
             0.7777777777777778,
             "#fb9f3a"
            ],
            [
             0.8888888888888888,
             "#fdca26"
            ],
            [
             1,
             "#f0f921"
            ]
           ]
          },
          "colorway": [
           "#636efa",
           "#EF553B",
           "#00cc96",
           "#ab63fa",
           "#FFA15A",
           "#19d3f3",
           "#FF6692",
           "#B6E880",
           "#FF97FF",
           "#FECB52"
          ],
          "font": {
           "color": "#2a3f5f"
          },
          "geo": {
           "bgcolor": "white",
           "lakecolor": "white",
           "landcolor": "#E5ECF6",
           "showlakes": true,
           "showland": true,
           "subunitcolor": "white"
          },
          "hoverlabel": {
           "align": "left"
          },
          "hovermode": "closest",
          "mapbox": {
           "style": "light"
          },
          "paper_bgcolor": "white",
          "plot_bgcolor": "#E5ECF6",
          "polar": {
           "angularaxis": {
            "gridcolor": "white",
            "linecolor": "white",
            "ticks": ""
           },
           "bgcolor": "#E5ECF6",
           "radialaxis": {
            "gridcolor": "white",
            "linecolor": "white",
            "ticks": ""
           }
          },
          "scene": {
           "xaxis": {
            "backgroundcolor": "#E5ECF6",
            "gridcolor": "white",
            "gridwidth": 2,
            "linecolor": "white",
            "showbackground": true,
            "ticks": "",
            "zerolinecolor": "white"
           },
           "yaxis": {
            "backgroundcolor": "#E5ECF6",
            "gridcolor": "white",
            "gridwidth": 2,
            "linecolor": "white",
            "showbackground": true,
            "ticks": "",
            "zerolinecolor": "white"
           },
           "zaxis": {
            "backgroundcolor": "#E5ECF6",
            "gridcolor": "white",
            "gridwidth": 2,
            "linecolor": "white",
            "showbackground": true,
            "ticks": "",
            "zerolinecolor": "white"
           }
          },
          "shapedefaults": {
           "line": {
            "color": "#2a3f5f"
           }
          },
          "ternary": {
           "aaxis": {
            "gridcolor": "white",
            "linecolor": "white",
            "ticks": ""
           },
           "baxis": {
            "gridcolor": "white",
            "linecolor": "white",
            "ticks": ""
           },
           "bgcolor": "#E5ECF6",
           "caxis": {
            "gridcolor": "white",
            "linecolor": "white",
            "ticks": ""
           }
          },
          "title": {
           "x": 0.05
          },
          "xaxis": {
           "automargin": true,
           "gridcolor": "white",
           "linecolor": "white",
           "ticks": "",
           "title": {
            "standoff": 15
           },
           "zerolinecolor": "white",
           "zerolinewidth": 2
          },
          "yaxis": {
           "automargin": true,
           "gridcolor": "white",
           "linecolor": "white",
           "ticks": "",
           "title": {
            "standoff": 15
           },
           "zerolinecolor": "white",
           "zerolinewidth": 2
          }
         }
        },
        "title": {
         "text": "Respiratory diseases vs Death rate Residuals"
        },
        "xaxis": {
         "title": {
          "text": "Respiratory Diseases in %"
         }
        },
        "yaxis": {
         "title": {
          "text": "Residual"
         }
        }
       }
      },
      "text/html": [
       "<div>\n",
       "        \n",
       "        \n",
       "            <div id=\"c08b554e-83ba-4fac-9771-68accedc4c2e\" class=\"plotly-graph-div\" style=\"height:525px; width:100%;\"></div>\n",
       "            <script type=\"text/javascript\">\n",
       "                require([\"plotly\"], function(Plotly) {\n",
       "                    window.PLOTLYENV=window.PLOTLYENV || {};\n",
       "                    \n",
       "                if (document.getElementById(\"c08b554e-83ba-4fac-9771-68accedc4c2e\")) {\n",
       "                    Plotly.newPlot(\n",
       "                        'c08b554e-83ba-4fac-9771-68accedc4c2e',\n",
       "                        [{\"hovertext\": [\"Albania\", \"Andorra\", \"Austria\", \"Belarus\", \"Belgium\", \"Bosnia and Herzegovina\", \"Bulgaria\", \"Croatia\", \"Denmark\", \"Estonia\", \"Finland\", \"France\", \"Germany\", \"Greece\", \"Hungary\", \"Iceland\", \"Ireland\", \"Italy\", \"Latvia\", \"Lithuania\", \"Luxembourg\", \"Malta\", \"Moldova\", \"Montenegro\", \"Netherlands\", \"Norway\", \"Poland\", \"Portugal\", \"Romania\", \"Russia\", \"Serbia\", \"Slovakia\", \"Slovenia\", \"Spain\", \"Sweden\", \"Switzerland\", \"Ukraine\", \"United Kingdom\"], \"mode\": \"markers\", \"name\": \"Residuals\", \"type\": \"scatter\", \"x\": [3.2514253176738404, 4.771666828410284, 4.348961969402323, 2.3361433270921, 5.179322809000662, 3.865477493192525, 3.666356508884166, 3.9381908259733542, 5.887261700503943, 2.487847179215016, 3.6420076371000265, 3.2162393906537785, 4.838841688982823, 4.853683272683731, 4.860332812067168, 5.404932791140827, 5.606315354708087, 3.5050331485610218, 2.227245089630606, 2.3228006759388955, 4.6832918728562944, 4.015113320175786, 2.233640257837454, 2.379967146008719, 5.62594300634431, 5.224426793296673, 3.7986854307613225, 4.830245500349349, 3.5040123313359044, 2.348089706754948, 3.9492411143238018, 2.854960247803954, 3.5351729464537684, 5.038821007117723, 5.245567734770662, 4.2263946994038415, 2.1108171262031283, 6.6779137018954655], \"y\": [0.014134938746947885, 0.005094026224505194, 0.026350460332156017, 0.02600840558090982, -0.08435404306742326, -0.0007095969525304988, 0.004129551916245797, 0.015223975994262395, 0.04167180048314834, -0.0016459881150974395, 0.006265032428718453, -0.10867649046003583, 0.02777392205616925, 0.015377993336209005, -0.05774004230609067, 0.07710484164687231, 0.021638530810239684, -0.09087864643287552, 0.008998536780899503, -0.007071880584954213, 0.04310061032140203, 0.04897058090503816, -0.005002047325590328, 0.0045143870445381595, -0.04266798989157683, 0.051464674456244155, 0.006711383058822157, 0.030717523728175267, -0.015133083788736623, 0.02230291667458561, 0.03661678347592501, 0.02147113586833143, -0.019368016704533975, -0.043154759232753095, -0.041528926506280164, 0.0012719234913459443, -0.0012204361470603484, -0.037761987846153686]}, {\"name\": \"0\", \"type\": \"scatter\", \"x\": [3.2514253176738404, 4.771666828410284, 4.348961969402323, 2.3361433270921, 5.179322809000662, 3.865477493192525, 3.666356508884166, 3.9381908259733542, 5.887261700503943, 2.487847179215016, 3.6420076371000265, 3.2162393906537785, 4.838841688982823, 4.853683272683731, 4.860332812067168, 5.404932791140827, 5.606315354708087, 3.5050331485610218, 2.227245089630606, 2.3228006759388955, 4.6832918728562944, 4.015113320175786, 2.233640257837454, 2.379967146008719, 5.62594300634431, 5.224426793296673, 3.7986854307613225, 4.830245500349349, 3.5040123313359044, 2.348089706754948, 3.9492411143238018, 2.854960247803954, 3.5351729464537684, 5.038821007117723, 5.245567734770662, 4.2263946994038415, 2.1108171262031283, 6.6779137018954655], \"y\": [0.0, 0.0, 0.0, 0.0, 0.0, 0.0, 0.0, 0.0, 0.0, 0.0, 0.0, 0.0, 0.0, 0.0, 0.0, 0.0, 0.0, 0.0, 0.0, 0.0, 0.0, 0.0, 0.0, 0.0, 0.0, 0.0, 0.0, 0.0, 0.0, 0.0, 0.0, 0.0, 0.0, 0.0, 0.0, 0.0, 0.0, 0.0]}],\n",
       "                        {\"template\": {\"data\": {\"bar\": [{\"error_x\": {\"color\": \"#2a3f5f\"}, \"error_y\": {\"color\": \"#2a3f5f\"}, \"marker\": {\"line\": {\"color\": \"#E5ECF6\", \"width\": 0.5}}, \"type\": \"bar\"}], \"barpolar\": [{\"marker\": {\"line\": {\"color\": \"#E5ECF6\", \"width\": 0.5}}, \"type\": \"barpolar\"}], \"carpet\": [{\"aaxis\": {\"endlinecolor\": \"#2a3f5f\", \"gridcolor\": \"white\", \"linecolor\": \"white\", \"minorgridcolor\": \"white\", \"startlinecolor\": \"#2a3f5f\"}, \"baxis\": {\"endlinecolor\": \"#2a3f5f\", \"gridcolor\": \"white\", \"linecolor\": \"white\", \"minorgridcolor\": \"white\", \"startlinecolor\": \"#2a3f5f\"}, \"type\": \"carpet\"}], \"choropleth\": [{\"colorbar\": {\"outlinewidth\": 0, \"ticks\": \"\"}, \"type\": \"choropleth\"}], \"contour\": [{\"colorbar\": {\"outlinewidth\": 0, \"ticks\": \"\"}, \"colorscale\": [[0.0, \"#0d0887\"], [0.1111111111111111, \"#46039f\"], [0.2222222222222222, \"#7201a8\"], [0.3333333333333333, \"#9c179e\"], [0.4444444444444444, \"#bd3786\"], [0.5555555555555556, \"#d8576b\"], [0.6666666666666666, \"#ed7953\"], [0.7777777777777778, \"#fb9f3a\"], [0.8888888888888888, \"#fdca26\"], [1.0, \"#f0f921\"]], \"type\": \"contour\"}], \"contourcarpet\": [{\"colorbar\": {\"outlinewidth\": 0, \"ticks\": \"\"}, \"type\": \"contourcarpet\"}], \"heatmap\": [{\"colorbar\": {\"outlinewidth\": 0, \"ticks\": \"\"}, \"colorscale\": [[0.0, \"#0d0887\"], [0.1111111111111111, \"#46039f\"], [0.2222222222222222, \"#7201a8\"], [0.3333333333333333, \"#9c179e\"], [0.4444444444444444, \"#bd3786\"], [0.5555555555555556, \"#d8576b\"], [0.6666666666666666, \"#ed7953\"], [0.7777777777777778, \"#fb9f3a\"], [0.8888888888888888, \"#fdca26\"], [1.0, \"#f0f921\"]], \"type\": \"heatmap\"}], \"heatmapgl\": [{\"colorbar\": {\"outlinewidth\": 0, \"ticks\": \"\"}, \"colorscale\": [[0.0, \"#0d0887\"], [0.1111111111111111, \"#46039f\"], [0.2222222222222222, \"#7201a8\"], [0.3333333333333333, \"#9c179e\"], [0.4444444444444444, \"#bd3786\"], [0.5555555555555556, \"#d8576b\"], [0.6666666666666666, \"#ed7953\"], [0.7777777777777778, \"#fb9f3a\"], [0.8888888888888888, \"#fdca26\"], [1.0, \"#f0f921\"]], \"type\": \"heatmapgl\"}], \"histogram\": [{\"marker\": {\"colorbar\": {\"outlinewidth\": 0, \"ticks\": \"\"}}, \"type\": \"histogram\"}], \"histogram2d\": [{\"colorbar\": {\"outlinewidth\": 0, \"ticks\": \"\"}, \"colorscale\": [[0.0, \"#0d0887\"], [0.1111111111111111, \"#46039f\"], [0.2222222222222222, \"#7201a8\"], [0.3333333333333333, \"#9c179e\"], [0.4444444444444444, \"#bd3786\"], [0.5555555555555556, \"#d8576b\"], [0.6666666666666666, \"#ed7953\"], [0.7777777777777778, \"#fb9f3a\"], [0.8888888888888888, \"#fdca26\"], [1.0, \"#f0f921\"]], \"type\": \"histogram2d\"}], \"histogram2dcontour\": [{\"colorbar\": {\"outlinewidth\": 0, \"ticks\": \"\"}, \"colorscale\": [[0.0, \"#0d0887\"], [0.1111111111111111, \"#46039f\"], [0.2222222222222222, \"#7201a8\"], [0.3333333333333333, \"#9c179e\"], [0.4444444444444444, \"#bd3786\"], [0.5555555555555556, \"#d8576b\"], [0.6666666666666666, \"#ed7953\"], [0.7777777777777778, \"#fb9f3a\"], [0.8888888888888888, \"#fdca26\"], [1.0, \"#f0f921\"]], \"type\": \"histogram2dcontour\"}], \"mesh3d\": [{\"colorbar\": {\"outlinewidth\": 0, \"ticks\": \"\"}, \"type\": \"mesh3d\"}], \"parcoords\": [{\"line\": {\"colorbar\": {\"outlinewidth\": 0, \"ticks\": \"\"}}, \"type\": \"parcoords\"}], \"pie\": [{\"automargin\": true, \"type\": \"pie\"}], \"scatter\": [{\"marker\": {\"colorbar\": {\"outlinewidth\": 0, \"ticks\": \"\"}}, \"type\": \"scatter\"}], \"scatter3d\": [{\"line\": {\"colorbar\": {\"outlinewidth\": 0, \"ticks\": \"\"}}, \"marker\": {\"colorbar\": {\"outlinewidth\": 0, \"ticks\": \"\"}}, \"type\": \"scatter3d\"}], \"scattercarpet\": [{\"marker\": {\"colorbar\": {\"outlinewidth\": 0, \"ticks\": \"\"}}, \"type\": \"scattercarpet\"}], \"scattergeo\": [{\"marker\": {\"colorbar\": {\"outlinewidth\": 0, \"ticks\": \"\"}}, \"type\": \"scattergeo\"}], \"scattergl\": [{\"marker\": {\"colorbar\": {\"outlinewidth\": 0, \"ticks\": \"\"}}, \"type\": \"scattergl\"}], \"scattermapbox\": [{\"marker\": {\"colorbar\": {\"outlinewidth\": 0, \"ticks\": \"\"}}, \"type\": \"scattermapbox\"}], \"scatterpolar\": [{\"marker\": {\"colorbar\": {\"outlinewidth\": 0, \"ticks\": \"\"}}, \"type\": \"scatterpolar\"}], \"scatterpolargl\": [{\"marker\": {\"colorbar\": {\"outlinewidth\": 0, \"ticks\": \"\"}}, \"type\": \"scatterpolargl\"}], \"scatterternary\": [{\"marker\": {\"colorbar\": {\"outlinewidth\": 0, \"ticks\": \"\"}}, \"type\": \"scatterternary\"}], \"surface\": [{\"colorbar\": {\"outlinewidth\": 0, \"ticks\": \"\"}, \"colorscale\": [[0.0, \"#0d0887\"], [0.1111111111111111, \"#46039f\"], [0.2222222222222222, \"#7201a8\"], [0.3333333333333333, \"#9c179e\"], [0.4444444444444444, \"#bd3786\"], [0.5555555555555556, \"#d8576b\"], [0.6666666666666666, \"#ed7953\"], [0.7777777777777778, \"#fb9f3a\"], [0.8888888888888888, \"#fdca26\"], [1.0, \"#f0f921\"]], \"type\": \"surface\"}], \"table\": [{\"cells\": {\"fill\": {\"color\": \"#EBF0F8\"}, \"line\": {\"color\": \"white\"}}, \"header\": {\"fill\": {\"color\": \"#C8D4E3\"}, \"line\": {\"color\": \"white\"}}, \"type\": \"table\"}]}, \"layout\": {\"annotationdefaults\": {\"arrowcolor\": \"#2a3f5f\", \"arrowhead\": 0, \"arrowwidth\": 1}, \"coloraxis\": {\"colorbar\": {\"outlinewidth\": 0, \"ticks\": \"\"}}, \"colorscale\": {\"diverging\": [[0, \"#8e0152\"], [0.1, \"#c51b7d\"], [0.2, \"#de77ae\"], [0.3, \"#f1b6da\"], [0.4, \"#fde0ef\"], [0.5, \"#f7f7f7\"], [0.6, \"#e6f5d0\"], [0.7, \"#b8e186\"], [0.8, \"#7fbc41\"], [0.9, \"#4d9221\"], [1, \"#276419\"]], \"sequential\": [[0.0, \"#0d0887\"], [0.1111111111111111, \"#46039f\"], [0.2222222222222222, \"#7201a8\"], [0.3333333333333333, \"#9c179e\"], [0.4444444444444444, \"#bd3786\"], [0.5555555555555556, \"#d8576b\"], [0.6666666666666666, \"#ed7953\"], [0.7777777777777778, \"#fb9f3a\"], [0.8888888888888888, \"#fdca26\"], [1.0, \"#f0f921\"]], \"sequentialminus\": [[0.0, \"#0d0887\"], [0.1111111111111111, \"#46039f\"], [0.2222222222222222, \"#7201a8\"], [0.3333333333333333, \"#9c179e\"], [0.4444444444444444, \"#bd3786\"], [0.5555555555555556, \"#d8576b\"], [0.6666666666666666, \"#ed7953\"], [0.7777777777777778, \"#fb9f3a\"], [0.8888888888888888, \"#fdca26\"], [1.0, \"#f0f921\"]]}, \"colorway\": [\"#636efa\", \"#EF553B\", \"#00cc96\", \"#ab63fa\", \"#FFA15A\", \"#19d3f3\", \"#FF6692\", \"#B6E880\", \"#FF97FF\", \"#FECB52\"], \"font\": {\"color\": \"#2a3f5f\"}, \"geo\": {\"bgcolor\": \"white\", \"lakecolor\": \"white\", \"landcolor\": \"#E5ECF6\", \"showlakes\": true, \"showland\": true, \"subunitcolor\": \"white\"}, \"hoverlabel\": {\"align\": \"left\"}, \"hovermode\": \"closest\", \"mapbox\": {\"style\": \"light\"}, \"paper_bgcolor\": \"white\", \"plot_bgcolor\": \"#E5ECF6\", \"polar\": {\"angularaxis\": {\"gridcolor\": \"white\", \"linecolor\": \"white\", \"ticks\": \"\"}, \"bgcolor\": \"#E5ECF6\", \"radialaxis\": {\"gridcolor\": \"white\", \"linecolor\": \"white\", \"ticks\": \"\"}}, \"scene\": {\"xaxis\": {\"backgroundcolor\": \"#E5ECF6\", \"gridcolor\": \"white\", \"gridwidth\": 2, \"linecolor\": \"white\", \"showbackground\": true, \"ticks\": \"\", \"zerolinecolor\": \"white\"}, \"yaxis\": {\"backgroundcolor\": \"#E5ECF6\", \"gridcolor\": \"white\", \"gridwidth\": 2, \"linecolor\": \"white\", \"showbackground\": true, \"ticks\": \"\", \"zerolinecolor\": \"white\"}, \"zaxis\": {\"backgroundcolor\": \"#E5ECF6\", \"gridcolor\": \"white\", \"gridwidth\": 2, \"linecolor\": \"white\", \"showbackground\": true, \"ticks\": \"\", \"zerolinecolor\": \"white\"}}, \"shapedefaults\": {\"line\": {\"color\": \"#2a3f5f\"}}, \"ternary\": {\"aaxis\": {\"gridcolor\": \"white\", \"linecolor\": \"white\", \"ticks\": \"\"}, \"baxis\": {\"gridcolor\": \"white\", \"linecolor\": \"white\", \"ticks\": \"\"}, \"bgcolor\": \"#E5ECF6\", \"caxis\": {\"gridcolor\": \"white\", \"linecolor\": \"white\", \"ticks\": \"\"}}, \"title\": {\"x\": 0.05}, \"xaxis\": {\"automargin\": true, \"gridcolor\": \"white\", \"linecolor\": \"white\", \"ticks\": \"\", \"title\": {\"standoff\": 15}, \"zerolinecolor\": \"white\", \"zerolinewidth\": 2}, \"yaxis\": {\"automargin\": true, \"gridcolor\": \"white\", \"linecolor\": \"white\", \"ticks\": \"\", \"title\": {\"standoff\": 15}, \"zerolinecolor\": \"white\", \"zerolinewidth\": 2}}}, \"title\": {\"text\": \"Respiratory diseases vs Death rate Residuals\"}, \"xaxis\": {\"title\": {\"text\": \"Respiratory Diseases in %\"}}, \"yaxis\": {\"title\": {\"text\": \"Residual\"}}},\n",
       "                        {\"responsive\": true}\n",
       "                    ).then(function(){\n",
       "                            \n",
       "var gd = document.getElementById('c08b554e-83ba-4fac-9771-68accedc4c2e');\n",
       "var x = new MutationObserver(function (mutations, observer) {{\n",
       "        var display = window.getComputedStyle(gd).display;\n",
       "        if (!display || display === 'none') {{\n",
       "            console.log([gd, 'removed!']);\n",
       "            Plotly.purge(gd);\n",
       "            observer.disconnect();\n",
       "        }}\n",
       "}});\n",
       "\n",
       "// Listen for the removal of the full notebook cells\n",
       "var notebookContainer = gd.closest('#notebook-container');\n",
       "if (notebookContainer) {{\n",
       "    x.observe(notebookContainer, {childList: true});\n",
       "}}\n",
       "\n",
       "// Listen for the clearing of the current output cell\n",
       "var outputEl = gd.closest('.output');\n",
       "if (outputEl) {{\n",
       "    x.observe(outputEl, {childList: true});\n",
       "}}\n",
       "\n",
       "                        })\n",
       "                };\n",
       "                });\n",
       "            </script>\n",
       "        </div>"
      ]
     },
     "metadata": {},
     "output_type": "display_data"
    }
   ],
   "source": [
    "x=europe_data['Respiratory_disease_perc']\n",
    "fig = go.Figure()\n",
    "fig.add_trace(go.Scatter(name='Residuals', x=x, y=europe_data['fitted_values']-europe_data['death_rate'], hovertext=europe_countries,mode='markers'))\n",
    "fig.add_trace(go.Line(name='0',x=x, y=np.zeros_like(x)))\n",
    "fig.update_layout(xaxis_title = 'Respiratory Diseases in %', yaxis_title = 'Residual', title='Respiratory diseases vs Death rate Residuals')\n",
    "\n",
    "fig.show()"
   ]
  },
  {
   "cell_type": "code",
   "execution_count": null,
   "metadata": {},
   "outputs": [],
   "source": []
  }
 ],
 "metadata": {
  "kernelspec": {
   "display_name": "Python 3",
   "language": "python",
   "name": "python3"
  },
  "language_info": {
   "codemirror_mode": {
    "name": "ipython",
    "version": 3
   },
   "file_extension": ".py",
   "mimetype": "text/x-python",
   "name": "python",
   "nbconvert_exporter": "python",
   "pygments_lexer": "ipython3",
   "version": "3.7.6"
  }
 },
 "nbformat": 4,
 "nbformat_minor": 4
}
