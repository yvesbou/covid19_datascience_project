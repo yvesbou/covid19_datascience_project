{
 "cells": [
  {
   "cell_type": "markdown",
   "metadata": {},
   "source": [
    "# Testing population ageing as explanatory variable"
   ]
  },
  {
   "cell_type": "markdown",
   "metadata": {},
   "source": [
    "### Setup"
   ]
  },
  {
   "cell_type": "code",
   "execution_count": 14,
   "metadata": {},
   "outputs": [],
   "source": [
    "import pandas as pd\n",
    "import numpy as np\n",
    "import plotly\n",
    "from plotly.offline import download_plotlyjs, init_notebook_mode, plot, iplot\n",
    "import chart_studio\n",
    "import chart_studio.plotly as py\n",
    "import plotly.graph_objects as go\n",
    "import plotly.express as px\n",
    "import pycountry_convert as pc\n",
    "import matplotlib.pyplot as plt"
   ]
  },
  {
   "cell_type": "code",
   "execution_count": 20,
   "metadata": {},
   "outputs": [
    {
     "data": {
      "text/html": [
       "        <script type=\"text/javascript\">\n",
       "        window.PlotlyConfig = {MathJaxConfig: 'local'};\n",
       "        if (window.MathJax) {MathJax.Hub.Config({SVG: {font: \"STIX-Web\"}});}\n",
       "        if (typeof require !== 'undefined') {\n",
       "        require.undef(\"plotly\");\n",
       "        requirejs.config({\n",
       "            paths: {\n",
       "                'plotly': ['https://cdn.plot.ly/plotly-latest.min']\n",
       "            }\n",
       "        });\n",
       "        require(['plotly'], function(Plotly) {\n",
       "            window._Plotly = Plotly;\n",
       "        });\n",
       "        }\n",
       "        </script>\n",
       "        "
      ]
     },
     "metadata": {},
     "output_type": "display_data"
    }
   ],
   "source": [
    "#Jupyter setup (to display in notebook)\n",
    "init_notebook_mode(connected=True)"
   ]
  },
  {
   "cell_type": "code",
   "execution_count": 21,
   "metadata": {},
   "outputs": [],
   "source": [
    "chart_studio.tools.set_credentials_file(username='sagaciousplots', api_key='97jNm6mo2vxdYga1mtYv')"
   ]
  },
  {
   "cell_type": "markdown",
   "metadata": {},
   "source": [
    "data from: https://data.oecd.org/pop/elderly-population.htm"
   ]
  },
  {
   "cell_type": "code",
   "execution_count": 59,
   "metadata": {},
   "outputs": [],
   "source": [
    "#read in demographic data\n",
    "demographic = pd.read_csv('./demographic_data.csv')"
   ]
  },
  {
   "cell_type": "markdown",
   "metadata": {},
   "source": [
    "Data from: https://github.com/CSSEGISandData/COVID-19"
   ]
  },
  {
   "cell_type": "code",
   "execution_count": 60,
   "metadata": {},
   "outputs": [],
   "source": [
    "#import data\n",
    "deaths = pd.read_csv('./COVID-19-master/csse_covid_19_data/csse_covid_19_time_series/time_series_covid19_deaths_global.csv')\n",
    "infected = pd.read_csv('./COVID-19-master/csse_covid_19_data/csse_covid_19_time_series/time_series_covid19_confirmed_global.csv')\n",
    "deaths_US = pd.read_csv('./COVID-19-master/csse_covid_19_data/csse_covid_19_time_series/time_series_covid19_deaths_US.csv')\n",
    "infected_US = pd.read_csv('./COVID-19-master/csse_covid_19_data/csse_covid_19_time_series/time_series_covid19_confirmed_US.csv')\n",
    "#add a column called United States to the US datasets so that they are compatible\n",
    "deaths_US['Country/Region'] = 'United States'\n",
    "infected_US['Country/Region'] = 'United States'"
   ]
  },
  {
   "cell_type": "markdown",
   "metadata": {},
   "source": [
    "## Data wrangling Covid Data"
   ]
  },
  {
   "cell_type": "code",
   "execution_count": 61,
   "metadata": {},
   "outputs": [],
   "source": [
    "#statistics for countries (group all regions together)\n",
    "deaths = deaths.groupby('Country/Region').sum() \n",
    "infected = infected.groupby('Country/Region').sum() \n",
    "#sum over all states in the US\n",
    "deaths_US = deaths_US.groupby('Country/Region').sum()\n",
    "infected_US = infected_US.groupby('Country/Region').sum()"
   ]
  },
  {
   "cell_type": "code",
   "execution_count": 62,
   "metadata": {},
   "outputs": [],
   "source": [
    "#take just the most recent day (i.e. data) for analysis\n",
    "deaths = deaths[deaths.columns[-1]]\n",
    "infected = infected[infected.columns[-1]]\n",
    "deaths_US = deaths_US[deaths_US.columns[-1]]\n",
    "infected_US = infected_US[infected_US.columns[-1]]\n",
    "deaths = deaths.append(deaths_US)\n",
    "infected = infected.append(infected_US)"
   ]
  },
  {
   "cell_type": "code",
   "execution_count": 63,
   "metadata": {},
   "outputs": [],
   "source": [
    "#create a pd.series with contains deathrates for all countries within the datasets\n",
    "deathrate = deaths/infected\n",
    "countries_deathrate = deathrate.index"
   ]
  },
  {
   "cell_type": "markdown",
   "metadata": {},
   "source": [
    "## Data wrangling Ageing Data\n",
    "Describes how many people in % of a population are older than 65"
   ]
  },
  {
   "cell_type": "code",
   "execution_count": 64,
   "metadata": {},
   "outputs": [
    {
     "data": {
      "text/html": [
       "<div>\n",
       "<style scoped>\n",
       "    .dataframe tbody tr th:only-of-type {\n",
       "        vertical-align: middle;\n",
       "    }\n",
       "\n",
       "    .dataframe tbody tr th {\n",
       "        vertical-align: top;\n",
       "    }\n",
       "\n",
       "    .dataframe thead th {\n",
       "        text-align: right;\n",
       "    }\n",
       "</style>\n",
       "<table border=\"1\" class=\"dataframe\">\n",
       "  <thead>\n",
       "    <tr style=\"text-align: right;\">\n",
       "      <th></th>\n",
       "      <th>LOCATION</th>\n",
       "      <th>SUBJECT</th>\n",
       "      <th>Value</th>\n",
       "      <th>Flag Codes</th>\n",
       "    </tr>\n",
       "    <tr>\n",
       "      <th>TIME</th>\n",
       "      <th></th>\n",
       "      <th></th>\n",
       "      <th></th>\n",
       "      <th></th>\n",
       "    </tr>\n",
       "  </thead>\n",
       "  <tbody>\n",
       "    <tr>\n",
       "      <th>2018</th>\n",
       "      <td>G20</td>\n",
       "      <td>TOT</td>\n",
       "      <td>11.037</td>\n",
       "      <td>NaN</td>\n",
       "    </tr>\n",
       "    <tr>\n",
       "      <th>2018</th>\n",
       "      <td>AUS</td>\n",
       "      <td>TOT</td>\n",
       "      <td>15.663</td>\n",
       "      <td>NaN</td>\n",
       "    </tr>\n",
       "    <tr>\n",
       "      <th>2018</th>\n",
       "      <td>ITA</td>\n",
       "      <td>TOT</td>\n",
       "      <td>22.675</td>\n",
       "      <td>NaN</td>\n",
       "    </tr>\n",
       "    <tr>\n",
       "      <th>2018</th>\n",
       "      <td>EU28</td>\n",
       "      <td>TOT</td>\n",
       "      <td>19.849</td>\n",
       "      <td>NaN</td>\n",
       "    </tr>\n",
       "    <tr>\n",
       "      <th>2018</th>\n",
       "      <td>CZE</td>\n",
       "      <td>TOT</td>\n",
       "      <td>19.414</td>\n",
       "      <td>NaN</td>\n",
       "    </tr>\n",
       "    <tr>\n",
       "      <th>...</th>\n",
       "      <td>...</td>\n",
       "      <td>...</td>\n",
       "      <td>...</td>\n",
       "      <td>...</td>\n",
       "    </tr>\n",
       "    <tr>\n",
       "      <th>1960</th>\n",
       "      <td>EST</td>\n",
       "      <td>TOT</td>\n",
       "      <td>10.546</td>\n",
       "      <td>NaN</td>\n",
       "    </tr>\n",
       "    <tr>\n",
       "      <th>1960</th>\n",
       "      <td>COL</td>\n",
       "      <td>TOT</td>\n",
       "      <td>3.172</td>\n",
       "      <td>NaN</td>\n",
       "    </tr>\n",
       "    <tr>\n",
       "      <th>1960</th>\n",
       "      <td>CHL</td>\n",
       "      <td>TOT</td>\n",
       "      <td>4.767</td>\n",
       "      <td>NaN</td>\n",
       "    </tr>\n",
       "    <tr>\n",
       "      <th>1960</th>\n",
       "      <td>BRA</td>\n",
       "      <td>TOT</td>\n",
       "      <td>3.150</td>\n",
       "      <td>NaN</td>\n",
       "    </tr>\n",
       "    <tr>\n",
       "      <th>1960</th>\n",
       "      <td>GBR</td>\n",
       "      <td>TOT</td>\n",
       "      <td>11.699</td>\n",
       "      <td>NaN</td>\n",
       "    </tr>\n",
       "  </tbody>\n",
       "</table>\n",
       "<p>3304 rows × 4 columns</p>\n",
       "</div>"
      ],
      "text/plain": [
       "     LOCATION SUBJECT   Value  Flag Codes\n",
       "TIME                                     \n",
       "2018      G20     TOT  11.037         NaN\n",
       "2018      AUS     TOT  15.663         NaN\n",
       "2018      ITA     TOT  22.675         NaN\n",
       "2018     EU28     TOT  19.849         NaN\n",
       "2018      CZE     TOT  19.414         NaN\n",
       "...       ...     ...     ...         ...\n",
       "1960      EST     TOT  10.546         NaN\n",
       "1960      COL     TOT   3.172         NaN\n",
       "1960      CHL     TOT   4.767         NaN\n",
       "1960      BRA     TOT   3.150         NaN\n",
       "1960      GBR     TOT  11.699         NaN\n",
       "\n",
       "[3304 rows x 4 columns]"
      ]
     },
     "execution_count": 64,
     "metadata": {},
     "output_type": "execute_result"
    }
   ],
   "source": [
    "#making a list of country names and years maybe for later purpose\n",
    "country_names_age = np.ndarray.tolist(demographic['LOCATION'].unique())\n",
    "years_age = np.ndarray.tolist(demographic['TIME'].unique())\n",
    "\n",
    "#change the index from meaningless numbers to year of enquiry\n",
    "demographic.set_index('TIME', inplace=True)\n",
    "demographic.drop(['INDICATOR', 'MEASURE', 'FREQUENCY'], axis=1, inplace=True)\n",
    "\n",
    "#sort data with years for EDA\n",
    "demographic.sort_values(['TIME'], ascending = [0], inplace=True)\n",
    "\n",
    "#have a look at the data\n",
    "demographic"
   ]
  },
  {
   "cell_type": "code",
   "execution_count": 65,
   "metadata": {},
   "outputs": [
    {
     "data": {
      "text/plain": [
       "56"
      ]
     },
     "execution_count": 65,
     "metadata": {},
     "output_type": "execute_result"
    }
   ],
   "source": [
    "#around(since incl. G20, EU28) 56 countries are part of the data set \n",
    "len(country_names_age)"
   ]
  },
  {
   "cell_type": "code",
   "execution_count": 66,
   "metadata": {},
   "outputs": [],
   "source": [
    "#making a dictionary with countries as keys and the dataframe of each country as values\n",
    "df_collection_age = dict(tuple(demographic.groupby('LOCATION')))"
   ]
  },
  {
   "cell_type": "code",
   "execution_count": 67,
   "metadata": {},
   "outputs": [],
   "source": [
    "#since each df in the dictionary is ordered from years,\n",
    "#we can take head to have the most recent years\n",
    "for country in country_names_age:\n",
    "    df_collection_age[country] = df_collection_age[country].head(1)"
   ]
  },
  {
   "cell_type": "code",
   "execution_count": 68,
   "metadata": {},
   "outputs": [],
   "source": [
    "#making a df which contains only the most recent year for each country\n",
    "df_recentyear_age = pd.DataFrame()\n",
    "for country in country_names_age:\n",
    "    df_recentyear_age = df_recentyear_age.append(df_collection_age[country])"
   ]
  },
  {
   "cell_type": "code",
   "execution_count": 69,
   "metadata": {
    "scrolled": true
   },
   "outputs": [
    {
     "data": {
      "text/html": [
       "<div>\n",
       "<style scoped>\n",
       "    .dataframe tbody tr th:only-of-type {\n",
       "        vertical-align: middle;\n",
       "    }\n",
       "\n",
       "    .dataframe tbody tr th {\n",
       "        vertical-align: top;\n",
       "    }\n",
       "\n",
       "    .dataframe thead th {\n",
       "        text-align: right;\n",
       "    }\n",
       "</style>\n",
       "<table border=\"1\" class=\"dataframe\">\n",
       "  <thead>\n",
       "    <tr style=\"text-align: right;\">\n",
       "      <th></th>\n",
       "      <th>LOCATION</th>\n",
       "      <th>SUBJECT</th>\n",
       "      <th>Value</th>\n",
       "      <th>Flag Codes</th>\n",
       "    </tr>\n",
       "    <tr>\n",
       "      <th>TIME</th>\n",
       "      <th></th>\n",
       "      <th></th>\n",
       "      <th></th>\n",
       "      <th></th>\n",
       "    </tr>\n",
       "  </thead>\n",
       "  <tbody>\n",
       "    <tr>\n",
       "      <th>2018</th>\n",
       "      <td>AUS</td>\n",
       "      <td>TOT</td>\n",
       "      <td>15.663</td>\n",
       "      <td>NaN</td>\n",
       "    </tr>\n",
       "    <tr>\n",
       "      <th>2018</th>\n",
       "      <td>AUT</td>\n",
       "      <td>TOT</td>\n",
       "      <td>18.759</td>\n",
       "      <td>NaN</td>\n",
       "    </tr>\n",
       "    <tr>\n",
       "      <th>2018</th>\n",
       "      <td>BEL</td>\n",
       "      <td>TOT</td>\n",
       "      <td>18.835</td>\n",
       "      <td>NaN</td>\n",
       "    </tr>\n",
       "    <tr>\n",
       "      <th>2018</th>\n",
       "      <td>CAN</td>\n",
       "      <td>TOT</td>\n",
       "      <td>17.157</td>\n",
       "      <td>NaN</td>\n",
       "    </tr>\n",
       "    <tr>\n",
       "      <th>2018</th>\n",
       "      <td>CZE</td>\n",
       "      <td>TOT</td>\n",
       "      <td>19.414</td>\n",
       "      <td>NaN</td>\n",
       "    </tr>\n",
       "    <tr>\n",
       "      <th>2018</th>\n",
       "      <td>DNK</td>\n",
       "      <td>TOT</td>\n",
       "      <td>19.461</td>\n",
       "      <td>NaN</td>\n",
       "    </tr>\n",
       "    <tr>\n",
       "      <th>2018</th>\n",
       "      <td>FIN</td>\n",
       "      <td>TOT</td>\n",
       "      <td>21.613</td>\n",
       "      <td>NaN</td>\n",
       "    </tr>\n",
       "    <tr>\n",
       "      <th>2018</th>\n",
       "      <td>FRA</td>\n",
       "      <td>TOT</td>\n",
       "      <td>19.837</td>\n",
       "      <td>NaN</td>\n",
       "    </tr>\n",
       "    <tr>\n",
       "      <th>2018</th>\n",
       "      <td>DEU</td>\n",
       "      <td>TOT</td>\n",
       "      <td>21.466</td>\n",
       "      <td>NaN</td>\n",
       "    </tr>\n",
       "    <tr>\n",
       "      <th>2018</th>\n",
       "      <td>GRC</td>\n",
       "      <td>TOT</td>\n",
       "      <td>21.894</td>\n",
       "      <td>NaN</td>\n",
       "    </tr>\n",
       "    <tr>\n",
       "      <th>2018</th>\n",
       "      <td>HUN</td>\n",
       "      <td>TOT</td>\n",
       "      <td>19.143</td>\n",
       "      <td>NaN</td>\n",
       "    </tr>\n",
       "    <tr>\n",
       "      <th>2018</th>\n",
       "      <td>ISL</td>\n",
       "      <td>TOT</td>\n",
       "      <td>14.136</td>\n",
       "      <td>NaN</td>\n",
       "    </tr>\n",
       "    <tr>\n",
       "      <th>2018</th>\n",
       "      <td>IRL</td>\n",
       "      <td>TOT</td>\n",
       "      <td>13.864</td>\n",
       "      <td>NaN</td>\n",
       "    </tr>\n",
       "    <tr>\n",
       "      <th>2018</th>\n",
       "      <td>ITA</td>\n",
       "      <td>TOT</td>\n",
       "      <td>22.675</td>\n",
       "      <td>NaN</td>\n",
       "    </tr>\n",
       "    <tr>\n",
       "      <th>2018</th>\n",
       "      <td>JPN</td>\n",
       "      <td>TOT</td>\n",
       "      <td>28.137</td>\n",
       "      <td>NaN</td>\n",
       "    </tr>\n",
       "    <tr>\n",
       "      <th>2018</th>\n",
       "      <td>KOR</td>\n",
       "      <td>TOT</td>\n",
       "      <td>14.294</td>\n",
       "      <td>NaN</td>\n",
       "    </tr>\n",
       "    <tr>\n",
       "      <th>2018</th>\n",
       "      <td>LUX</td>\n",
       "      <td>TOT</td>\n",
       "      <td>14.354</td>\n",
       "      <td>NaN</td>\n",
       "    </tr>\n",
       "    <tr>\n",
       "      <th>2018</th>\n",
       "      <td>MEX</td>\n",
       "      <td>TOT</td>\n",
       "      <td>7.246</td>\n",
       "      <td>NaN</td>\n",
       "    </tr>\n",
       "    <tr>\n",
       "      <th>2018</th>\n",
       "      <td>NLD</td>\n",
       "      <td>TOT</td>\n",
       "      <td>19.015</td>\n",
       "      <td>NaN</td>\n",
       "    </tr>\n",
       "    <tr>\n",
       "      <th>2018</th>\n",
       "      <td>NZL</td>\n",
       "      <td>TOT</td>\n",
       "      <td>15.288</td>\n",
       "      <td>NaN</td>\n",
       "    </tr>\n",
       "    <tr>\n",
       "      <th>2018</th>\n",
       "      <td>NOR</td>\n",
       "      <td>TOT</td>\n",
       "      <td>17.087</td>\n",
       "      <td>NaN</td>\n",
       "    </tr>\n",
       "    <tr>\n",
       "      <th>2018</th>\n",
       "      <td>POL</td>\n",
       "      <td>TOT</td>\n",
       "      <td>17.230</td>\n",
       "      <td>NaN</td>\n",
       "    </tr>\n",
       "    <tr>\n",
       "      <th>2018</th>\n",
       "      <td>PRT</td>\n",
       "      <td>TOT</td>\n",
       "      <td>21.672</td>\n",
       "      <td>NaN</td>\n",
       "    </tr>\n",
       "    <tr>\n",
       "      <th>2018</th>\n",
       "      <td>SVK</td>\n",
       "      <td>TOT</td>\n",
       "      <td>15.782</td>\n",
       "      <td>NaN</td>\n",
       "    </tr>\n",
       "    <tr>\n",
       "      <th>2018</th>\n",
       "      <td>ESP</td>\n",
       "      <td>TOT</td>\n",
       "      <td>19.290</td>\n",
       "      <td>NaN</td>\n",
       "    </tr>\n",
       "    <tr>\n",
       "      <th>2018</th>\n",
       "      <td>SWE</td>\n",
       "      <td>TOT</td>\n",
       "      <td>19.861</td>\n",
       "      <td>NaN</td>\n",
       "    </tr>\n",
       "    <tr>\n",
       "      <th>2018</th>\n",
       "      <td>CHE</td>\n",
       "      <td>TOT</td>\n",
       "      <td>18.371</td>\n",
       "      <td>NaN</td>\n",
       "    </tr>\n",
       "    <tr>\n",
       "      <th>2018</th>\n",
       "      <td>TUR</td>\n",
       "      <td>TOT</td>\n",
       "      <td>8.649</td>\n",
       "      <td>NaN</td>\n",
       "    </tr>\n",
       "    <tr>\n",
       "      <th>2018</th>\n",
       "      <td>GBR</td>\n",
       "      <td>TOT</td>\n",
       "      <td>18.312</td>\n",
       "      <td>NaN</td>\n",
       "    </tr>\n",
       "    <tr>\n",
       "      <th>2018</th>\n",
       "      <td>USA</td>\n",
       "      <td>TOT</td>\n",
       "      <td>16.026</td>\n",
       "      <td>NaN</td>\n",
       "    </tr>\n",
       "    <tr>\n",
       "      <th>2018</th>\n",
       "      <td>BRA</td>\n",
       "      <td>TOT</td>\n",
       "      <td>9.222</td>\n",
       "      <td>NaN</td>\n",
       "    </tr>\n",
       "    <tr>\n",
       "      <th>2018</th>\n",
       "      <td>CHL</td>\n",
       "      <td>TOT</td>\n",
       "      <td>11.547</td>\n",
       "      <td>NaN</td>\n",
       "    </tr>\n",
       "    <tr>\n",
       "      <th>2018</th>\n",
       "      <td>COL</td>\n",
       "      <td>TOT</td>\n",
       "      <td>8.060</td>\n",
       "      <td>NaN</td>\n",
       "    </tr>\n",
       "    <tr>\n",
       "      <th>2018</th>\n",
       "      <td>EST</td>\n",
       "      <td>TOT</td>\n",
       "      <td>19.676</td>\n",
       "      <td>NaN</td>\n",
       "    </tr>\n",
       "    <tr>\n",
       "      <th>2018</th>\n",
       "      <td>ISR</td>\n",
       "      <td>TOT</td>\n",
       "      <td>11.654</td>\n",
       "      <td>NaN</td>\n",
       "    </tr>\n",
       "    <tr>\n",
       "      <th>2018</th>\n",
       "      <td>RUS</td>\n",
       "      <td>TOT</td>\n",
       "      <td>14.746</td>\n",
       "      <td>NaN</td>\n",
       "    </tr>\n",
       "    <tr>\n",
       "      <th>2018</th>\n",
       "      <td>SVN</td>\n",
       "      <td>TOT</td>\n",
       "      <td>19.670</td>\n",
       "      <td>NaN</td>\n",
       "    </tr>\n",
       "    <tr>\n",
       "      <th>2018</th>\n",
       "      <td>OECD</td>\n",
       "      <td>TOT</td>\n",
       "      <td>17.204</td>\n",
       "      <td>NaN</td>\n",
       "    </tr>\n",
       "    <tr>\n",
       "      <th>2018</th>\n",
       "      <td>EU28</td>\n",
       "      <td>TOT</td>\n",
       "      <td>19.849</td>\n",
       "      <td>NaN</td>\n",
       "    </tr>\n",
       "    <tr>\n",
       "      <th>2018</th>\n",
       "      <td>LVA</td>\n",
       "      <td>TOT</td>\n",
       "      <td>20.181</td>\n",
       "      <td>NaN</td>\n",
       "    </tr>\n",
       "    <tr>\n",
       "      <th>2018</th>\n",
       "      <td>ARG</td>\n",
       "      <td>TOT</td>\n",
       "      <td>11.198</td>\n",
       "      <td>NaN</td>\n",
       "    </tr>\n",
       "    <tr>\n",
       "      <th>2018</th>\n",
       "      <td>BGR</td>\n",
       "      <td>TOT</td>\n",
       "      <td>21.174</td>\n",
       "      <td>NaN</td>\n",
       "    </tr>\n",
       "    <tr>\n",
       "      <th>2018</th>\n",
       "      <td>CHN</td>\n",
       "      <td>TOT</td>\n",
       "      <td>11.194</td>\n",
       "      <td>NaN</td>\n",
       "    </tr>\n",
       "    <tr>\n",
       "      <th>2018</th>\n",
       "      <td>CRI</td>\n",
       "      <td>TOT</td>\n",
       "      <td>8.180</td>\n",
       "      <td>NaN</td>\n",
       "    </tr>\n",
       "    <tr>\n",
       "      <th>2018</th>\n",
       "      <td>HRV</td>\n",
       "      <td>TOT</td>\n",
       "      <td>20.360</td>\n",
       "      <td>NaN</td>\n",
       "    </tr>\n",
       "    <tr>\n",
       "      <th>2018</th>\n",
       "      <td>CYP</td>\n",
       "      <td>TOT</td>\n",
       "      <td>16.023</td>\n",
       "      <td>NaN</td>\n",
       "    </tr>\n",
       "    <tr>\n",
       "      <th>2018</th>\n",
       "      <td>IND</td>\n",
       "      <td>TOT</td>\n",
       "      <td>6.176</td>\n",
       "      <td>NaN</td>\n",
       "    </tr>\n",
       "    <tr>\n",
       "      <th>2018</th>\n",
       "      <td>IDN</td>\n",
       "      <td>TOT</td>\n",
       "      <td>5.812</td>\n",
       "      <td>NaN</td>\n",
       "    </tr>\n",
       "    <tr>\n",
       "      <th>2018</th>\n",
       "      <td>LTU</td>\n",
       "      <td>TOT</td>\n",
       "      <td>19.706</td>\n",
       "      <td>NaN</td>\n",
       "    </tr>\n",
       "    <tr>\n",
       "      <th>2018</th>\n",
       "      <td>MLT</td>\n",
       "      <td>TOT</td>\n",
       "      <td>18.785</td>\n",
       "      <td>NaN</td>\n",
       "    </tr>\n",
       "    <tr>\n",
       "      <th>2018</th>\n",
       "      <td>ROU</td>\n",
       "      <td>TOT</td>\n",
       "      <td>18.356</td>\n",
       "      <td>NaN</td>\n",
       "    </tr>\n",
       "    <tr>\n",
       "      <th>2018</th>\n",
       "      <td>SAU</td>\n",
       "      <td>TOT</td>\n",
       "      <td>3.220</td>\n",
       "      <td>NaN</td>\n",
       "    </tr>\n",
       "    <tr>\n",
       "      <th>2018</th>\n",
       "      <td>SGP</td>\n",
       "      <td>TOT</td>\n",
       "      <td>13.716</td>\n",
       "      <td>NaN</td>\n",
       "    </tr>\n",
       "    <tr>\n",
       "      <th>2018</th>\n",
       "      <td>ZAF</td>\n",
       "      <td>TOT</td>\n",
       "      <td>5.587</td>\n",
       "      <td>NaN</td>\n",
       "    </tr>\n",
       "    <tr>\n",
       "      <th>2018</th>\n",
       "      <td>WLD</td>\n",
       "      <td>TOT</td>\n",
       "      <td>8.921</td>\n",
       "      <td>NaN</td>\n",
       "    </tr>\n",
       "    <tr>\n",
       "      <th>2018</th>\n",
       "      <td>G20</td>\n",
       "      <td>TOT</td>\n",
       "      <td>11.037</td>\n",
       "      <td>NaN</td>\n",
       "    </tr>\n",
       "  </tbody>\n",
       "</table>\n",
       "</div>"
      ],
      "text/plain": [
       "     LOCATION SUBJECT   Value  Flag Codes\n",
       "TIME                                     \n",
       "2018      AUS     TOT  15.663         NaN\n",
       "2018      AUT     TOT  18.759         NaN\n",
       "2018      BEL     TOT  18.835         NaN\n",
       "2018      CAN     TOT  17.157         NaN\n",
       "2018      CZE     TOT  19.414         NaN\n",
       "2018      DNK     TOT  19.461         NaN\n",
       "2018      FIN     TOT  21.613         NaN\n",
       "2018      FRA     TOT  19.837         NaN\n",
       "2018      DEU     TOT  21.466         NaN\n",
       "2018      GRC     TOT  21.894         NaN\n",
       "2018      HUN     TOT  19.143         NaN\n",
       "2018      ISL     TOT  14.136         NaN\n",
       "2018      IRL     TOT  13.864         NaN\n",
       "2018      ITA     TOT  22.675         NaN\n",
       "2018      JPN     TOT  28.137         NaN\n",
       "2018      KOR     TOT  14.294         NaN\n",
       "2018      LUX     TOT  14.354         NaN\n",
       "2018      MEX     TOT   7.246         NaN\n",
       "2018      NLD     TOT  19.015         NaN\n",
       "2018      NZL     TOT  15.288         NaN\n",
       "2018      NOR     TOT  17.087         NaN\n",
       "2018      POL     TOT  17.230         NaN\n",
       "2018      PRT     TOT  21.672         NaN\n",
       "2018      SVK     TOT  15.782         NaN\n",
       "2018      ESP     TOT  19.290         NaN\n",
       "2018      SWE     TOT  19.861         NaN\n",
       "2018      CHE     TOT  18.371         NaN\n",
       "2018      TUR     TOT   8.649         NaN\n",
       "2018      GBR     TOT  18.312         NaN\n",
       "2018      USA     TOT  16.026         NaN\n",
       "2018      BRA     TOT   9.222         NaN\n",
       "2018      CHL     TOT  11.547         NaN\n",
       "2018      COL     TOT   8.060         NaN\n",
       "2018      EST     TOT  19.676         NaN\n",
       "2018      ISR     TOT  11.654         NaN\n",
       "2018      RUS     TOT  14.746         NaN\n",
       "2018      SVN     TOT  19.670         NaN\n",
       "2018     OECD     TOT  17.204         NaN\n",
       "2018     EU28     TOT  19.849         NaN\n",
       "2018      LVA     TOT  20.181         NaN\n",
       "2018      ARG     TOT  11.198         NaN\n",
       "2018      BGR     TOT  21.174         NaN\n",
       "2018      CHN     TOT  11.194         NaN\n",
       "2018      CRI     TOT   8.180         NaN\n",
       "2018      HRV     TOT  20.360         NaN\n",
       "2018      CYP     TOT  16.023         NaN\n",
       "2018      IND     TOT   6.176         NaN\n",
       "2018      IDN     TOT   5.812         NaN\n",
       "2018      LTU     TOT  19.706         NaN\n",
       "2018      MLT     TOT  18.785         NaN\n",
       "2018      ROU     TOT  18.356         NaN\n",
       "2018      SAU     TOT   3.220         NaN\n",
       "2018      SGP     TOT  13.716         NaN\n",
       "2018      ZAF     TOT   5.587         NaN\n",
       "2018      WLD     TOT   8.921         NaN\n",
       "2018      G20     TOT  11.037         NaN"
      ]
     },
     "execution_count": 69,
     "metadata": {},
     "output_type": "execute_result"
    }
   ],
   "source": [
    "df_recentyear_age"
   ]
  },
  {
   "cell_type": "code",
   "execution_count": 70,
   "metadata": {},
   "outputs": [
    {
     "data": {
      "image/png": "[encoded data removed]",
      "text/plain": [
       "<Figure size 1296x576 with 1 Axes>"
      ]
     },
     "metadata": {
      "needs_background": "light"
     },
     "output_type": "display_data"
    }
   ],
   "source": [
    "#making a barplot to have an overview over the final age data\n",
    "plt.figure(figsize=(18,8))\n",
    "for index, row in df_recentyear_age.iterrows():\n",
    "    plt.bar(row['LOCATION'], row['Value'])\n",
    "plt.xticks(country_names_age, rotation='vertical')\n",
    "plt.subplots_adjust(bottom=0.15)\n",
    "plt.suptitle('percentage of people over 65')\n",
    "plt.show()"
   ]
  },
  {
   "cell_type": "code",
   "execution_count": 38,
   "metadata": {
    "scrolled": true
   },
   "outputs": [
    {
     "data": {
      "text/html": [
       "<div>\n",
       "<style scoped>\n",
       "    .dataframe tbody tr th:only-of-type {\n",
       "        vertical-align: middle;\n",
       "    }\n",
       "\n",
       "    .dataframe tbody tr th {\n",
       "        vertical-align: top;\n",
       "    }\n",
       "\n",
       "    .dataframe thead th {\n",
       "        text-align: right;\n",
       "    }\n",
       "</style>\n",
       "<table border=\"1\" class=\"dataframe\">\n",
       "  <thead>\n",
       "    <tr style=\"text-align: right;\">\n",
       "      <th></th>\n",
       "      <th>LOCATION</th>\n",
       "      <th>SUBJECT</th>\n",
       "      <th>Value</th>\n",
       "      <th>Flag Codes</th>\n",
       "    </tr>\n",
       "    <tr>\n",
       "      <th>TIME</th>\n",
       "      <th></th>\n",
       "      <th></th>\n",
       "      <th></th>\n",
       "      <th></th>\n",
       "    </tr>\n",
       "  </thead>\n",
       "  <tbody>\n",
       "    <tr>\n",
       "      <th>2018</th>\n",
       "      <td>AUS</td>\n",
       "      <td>TOT</td>\n",
       "      <td>15.663</td>\n",
       "      <td>NaN</td>\n",
       "    </tr>\n",
       "    <tr>\n",
       "      <th>2018</th>\n",
       "      <td>AUT</td>\n",
       "      <td>TOT</td>\n",
       "      <td>18.759</td>\n",
       "      <td>NaN</td>\n",
       "    </tr>\n",
       "    <tr>\n",
       "      <th>2018</th>\n",
       "      <td>BEL</td>\n",
       "      <td>TOT</td>\n",
       "      <td>18.835</td>\n",
       "      <td>NaN</td>\n",
       "    </tr>\n",
       "    <tr>\n",
       "      <th>2018</th>\n",
       "      <td>CAN</td>\n",
       "      <td>TOT</td>\n",
       "      <td>17.157</td>\n",
       "      <td>NaN</td>\n",
       "    </tr>\n",
       "    <tr>\n",
       "      <th>2018</th>\n",
       "      <td>CZE</td>\n",
       "      <td>TOT</td>\n",
       "      <td>19.414</td>\n",
       "      <td>NaN</td>\n",
       "    </tr>\n",
       "    <tr>\n",
       "      <th>2018</th>\n",
       "      <td>DNK</td>\n",
       "      <td>TOT</td>\n",
       "      <td>19.461</td>\n",
       "      <td>NaN</td>\n",
       "    </tr>\n",
       "    <tr>\n",
       "      <th>2018</th>\n",
       "      <td>FIN</td>\n",
       "      <td>TOT</td>\n",
       "      <td>21.613</td>\n",
       "      <td>NaN</td>\n",
       "    </tr>\n",
       "    <tr>\n",
       "      <th>2018</th>\n",
       "      <td>FRA</td>\n",
       "      <td>TOT</td>\n",
       "      <td>19.837</td>\n",
       "      <td>NaN</td>\n",
       "    </tr>\n",
       "    <tr>\n",
       "      <th>2018</th>\n",
       "      <td>DEU</td>\n",
       "      <td>TOT</td>\n",
       "      <td>21.466</td>\n",
       "      <td>NaN</td>\n",
       "    </tr>\n",
       "    <tr>\n",
       "      <th>2018</th>\n",
       "      <td>GRC</td>\n",
       "      <td>TOT</td>\n",
       "      <td>21.894</td>\n",
       "      <td>NaN</td>\n",
       "    </tr>\n",
       "    <tr>\n",
       "      <th>2018</th>\n",
       "      <td>HUN</td>\n",
       "      <td>TOT</td>\n",
       "      <td>19.143</td>\n",
       "      <td>NaN</td>\n",
       "    </tr>\n",
       "    <tr>\n",
       "      <th>2018</th>\n",
       "      <td>ISL</td>\n",
       "      <td>TOT</td>\n",
       "      <td>14.136</td>\n",
       "      <td>NaN</td>\n",
       "    </tr>\n",
       "    <tr>\n",
       "      <th>2018</th>\n",
       "      <td>IRL</td>\n",
       "      <td>TOT</td>\n",
       "      <td>13.864</td>\n",
       "      <td>NaN</td>\n",
       "    </tr>\n",
       "    <tr>\n",
       "      <th>2018</th>\n",
       "      <td>ITA</td>\n",
       "      <td>TOT</td>\n",
       "      <td>22.675</td>\n",
       "      <td>NaN</td>\n",
       "    </tr>\n",
       "    <tr>\n",
       "      <th>2018</th>\n",
       "      <td>JPN</td>\n",
       "      <td>TOT</td>\n",
       "      <td>28.137</td>\n",
       "      <td>NaN</td>\n",
       "    </tr>\n",
       "    <tr>\n",
       "      <th>2018</th>\n",
       "      <td>KOR</td>\n",
       "      <td>TOT</td>\n",
       "      <td>14.294</td>\n",
       "      <td>NaN</td>\n",
       "    </tr>\n",
       "    <tr>\n",
       "      <th>2018</th>\n",
       "      <td>LUX</td>\n",
       "      <td>TOT</td>\n",
       "      <td>14.354</td>\n",
       "      <td>NaN</td>\n",
       "    </tr>\n",
       "    <tr>\n",
       "      <th>2018</th>\n",
       "      <td>MEX</td>\n",
       "      <td>TOT</td>\n",
       "      <td>7.246</td>\n",
       "      <td>NaN</td>\n",
       "    </tr>\n",
       "    <tr>\n",
       "      <th>2018</th>\n",
       "      <td>NLD</td>\n",
       "      <td>TOT</td>\n",
       "      <td>19.015</td>\n",
       "      <td>NaN</td>\n",
       "    </tr>\n",
       "    <tr>\n",
       "      <th>2018</th>\n",
       "      <td>NZL</td>\n",
       "      <td>TOT</td>\n",
       "      <td>15.288</td>\n",
       "      <td>NaN</td>\n",
       "    </tr>\n",
       "    <tr>\n",
       "      <th>2018</th>\n",
       "      <td>NOR</td>\n",
       "      <td>TOT</td>\n",
       "      <td>17.087</td>\n",
       "      <td>NaN</td>\n",
       "    </tr>\n",
       "    <tr>\n",
       "      <th>2018</th>\n",
       "      <td>POL</td>\n",
       "      <td>TOT</td>\n",
       "      <td>17.230</td>\n",
       "      <td>NaN</td>\n",
       "    </tr>\n",
       "    <tr>\n",
       "      <th>2018</th>\n",
       "      <td>PRT</td>\n",
       "      <td>TOT</td>\n",
       "      <td>21.672</td>\n",
       "      <td>NaN</td>\n",
       "    </tr>\n",
       "    <tr>\n",
       "      <th>2018</th>\n",
       "      <td>SVK</td>\n",
       "      <td>TOT</td>\n",
       "      <td>15.782</td>\n",
       "      <td>NaN</td>\n",
       "    </tr>\n",
       "    <tr>\n",
       "      <th>2018</th>\n",
       "      <td>ESP</td>\n",
       "      <td>TOT</td>\n",
       "      <td>19.290</td>\n",
       "      <td>NaN</td>\n",
       "    </tr>\n",
       "    <tr>\n",
       "      <th>2018</th>\n",
       "      <td>SWE</td>\n",
       "      <td>TOT</td>\n",
       "      <td>19.861</td>\n",
       "      <td>NaN</td>\n",
       "    </tr>\n",
       "    <tr>\n",
       "      <th>2018</th>\n",
       "      <td>CHE</td>\n",
       "      <td>TOT</td>\n",
       "      <td>18.371</td>\n",
       "      <td>NaN</td>\n",
       "    </tr>\n",
       "    <tr>\n",
       "      <th>2018</th>\n",
       "      <td>TUR</td>\n",
       "      <td>TOT</td>\n",
       "      <td>8.649</td>\n",
       "      <td>NaN</td>\n",
       "    </tr>\n",
       "    <tr>\n",
       "      <th>2018</th>\n",
       "      <td>GBR</td>\n",
       "      <td>TOT</td>\n",
       "      <td>18.312</td>\n",
       "      <td>NaN</td>\n",
       "    </tr>\n",
       "    <tr>\n",
       "      <th>2018</th>\n",
       "      <td>USA</td>\n",
       "      <td>TOT</td>\n",
       "      <td>16.026</td>\n",
       "      <td>NaN</td>\n",
       "    </tr>\n",
       "    <tr>\n",
       "      <th>2018</th>\n",
       "      <td>BRA</td>\n",
       "      <td>TOT</td>\n",
       "      <td>9.222</td>\n",
       "      <td>NaN</td>\n",
       "    </tr>\n",
       "    <tr>\n",
       "      <th>2018</th>\n",
       "      <td>CHL</td>\n",
       "      <td>TOT</td>\n",
       "      <td>11.547</td>\n",
       "      <td>NaN</td>\n",
       "    </tr>\n",
       "    <tr>\n",
       "      <th>2018</th>\n",
       "      <td>COL</td>\n",
       "      <td>TOT</td>\n",
       "      <td>8.060</td>\n",
       "      <td>NaN</td>\n",
       "    </tr>\n",
       "    <tr>\n",
       "      <th>2018</th>\n",
       "      <td>EST</td>\n",
       "      <td>TOT</td>\n",
       "      <td>19.676</td>\n",
       "      <td>NaN</td>\n",
       "    </tr>\n",
       "    <tr>\n",
       "      <th>2018</th>\n",
       "      <td>ISR</td>\n",
       "      <td>TOT</td>\n",
       "      <td>11.654</td>\n",
       "      <td>NaN</td>\n",
       "    </tr>\n",
       "    <tr>\n",
       "      <th>2018</th>\n",
       "      <td>RUS</td>\n",
       "      <td>TOT</td>\n",
       "      <td>14.746</td>\n",
       "      <td>NaN</td>\n",
       "    </tr>\n",
       "    <tr>\n",
       "      <th>2018</th>\n",
       "      <td>SVN</td>\n",
       "      <td>TOT</td>\n",
       "      <td>19.670</td>\n",
       "      <td>NaN</td>\n",
       "    </tr>\n",
       "    <tr>\n",
       "      <th>2018</th>\n",
       "      <td>LVA</td>\n",
       "      <td>TOT</td>\n",
       "      <td>20.181</td>\n",
       "      <td>NaN</td>\n",
       "    </tr>\n",
       "    <tr>\n",
       "      <th>2018</th>\n",
       "      <td>ARG</td>\n",
       "      <td>TOT</td>\n",
       "      <td>11.198</td>\n",
       "      <td>NaN</td>\n",
       "    </tr>\n",
       "    <tr>\n",
       "      <th>2018</th>\n",
       "      <td>BGR</td>\n",
       "      <td>TOT</td>\n",
       "      <td>21.174</td>\n",
       "      <td>NaN</td>\n",
       "    </tr>\n",
       "    <tr>\n",
       "      <th>2018</th>\n",
       "      <td>CHN</td>\n",
       "      <td>TOT</td>\n",
       "      <td>11.194</td>\n",
       "      <td>NaN</td>\n",
       "    </tr>\n",
       "    <tr>\n",
       "      <th>2018</th>\n",
       "      <td>CRI</td>\n",
       "      <td>TOT</td>\n",
       "      <td>8.180</td>\n",
       "      <td>NaN</td>\n",
       "    </tr>\n",
       "    <tr>\n",
       "      <th>2018</th>\n",
       "      <td>HRV</td>\n",
       "      <td>TOT</td>\n",
       "      <td>20.360</td>\n",
       "      <td>NaN</td>\n",
       "    </tr>\n",
       "    <tr>\n",
       "      <th>2018</th>\n",
       "      <td>CYP</td>\n",
       "      <td>TOT</td>\n",
       "      <td>16.023</td>\n",
       "      <td>NaN</td>\n",
       "    </tr>\n",
       "    <tr>\n",
       "      <th>2018</th>\n",
       "      <td>IND</td>\n",
       "      <td>TOT</td>\n",
       "      <td>6.176</td>\n",
       "      <td>NaN</td>\n",
       "    </tr>\n",
       "    <tr>\n",
       "      <th>2018</th>\n",
       "      <td>IDN</td>\n",
       "      <td>TOT</td>\n",
       "      <td>5.812</td>\n",
       "      <td>NaN</td>\n",
       "    </tr>\n",
       "    <tr>\n",
       "      <th>2018</th>\n",
       "      <td>LTU</td>\n",
       "      <td>TOT</td>\n",
       "      <td>19.706</td>\n",
       "      <td>NaN</td>\n",
       "    </tr>\n",
       "    <tr>\n",
       "      <th>2018</th>\n",
       "      <td>MLT</td>\n",
       "      <td>TOT</td>\n",
       "      <td>18.785</td>\n",
       "      <td>NaN</td>\n",
       "    </tr>\n",
       "    <tr>\n",
       "      <th>2018</th>\n",
       "      <td>ROU</td>\n",
       "      <td>TOT</td>\n",
       "      <td>18.356</td>\n",
       "      <td>NaN</td>\n",
       "    </tr>\n",
       "    <tr>\n",
       "      <th>2018</th>\n",
       "      <td>SAU</td>\n",
       "      <td>TOT</td>\n",
       "      <td>3.220</td>\n",
       "      <td>NaN</td>\n",
       "    </tr>\n",
       "    <tr>\n",
       "      <th>2018</th>\n",
       "      <td>SGP</td>\n",
       "      <td>TOT</td>\n",
       "      <td>13.716</td>\n",
       "      <td>NaN</td>\n",
       "    </tr>\n",
       "    <tr>\n",
       "      <th>2018</th>\n",
       "      <td>ZAF</td>\n",
       "      <td>TOT</td>\n",
       "      <td>5.587</td>\n",
       "      <td>NaN</td>\n",
       "    </tr>\n",
       "  </tbody>\n",
       "</table>\n",
       "</div>"
      ],
      "text/plain": [
       "     LOCATION SUBJECT   Value  Flag Codes\n",
       "TIME                                     \n",
       "2018      AUS     TOT  15.663         NaN\n",
       "2018      AUT     TOT  18.759         NaN\n",
       "2018      BEL     TOT  18.835         NaN\n",
       "2018      CAN     TOT  17.157         NaN\n",
       "2018      CZE     TOT  19.414         NaN\n",
       "2018      DNK     TOT  19.461         NaN\n",
       "2018      FIN     TOT  21.613         NaN\n",
       "2018      FRA     TOT  19.837         NaN\n",
       "2018      DEU     TOT  21.466         NaN\n",
       "2018      GRC     TOT  21.894         NaN\n",
       "2018      HUN     TOT  19.143         NaN\n",
       "2018      ISL     TOT  14.136         NaN\n",
       "2018      IRL     TOT  13.864         NaN\n",
       "2018      ITA     TOT  22.675         NaN\n",
       "2018      JPN     TOT  28.137         NaN\n",
       "2018      KOR     TOT  14.294         NaN\n",
       "2018      LUX     TOT  14.354         NaN\n",
       "2018      MEX     TOT   7.246         NaN\n",
       "2018      NLD     TOT  19.015         NaN\n",
       "2018      NZL     TOT  15.288         NaN\n",
       "2018      NOR     TOT  17.087         NaN\n",
       "2018      POL     TOT  17.230         NaN\n",
       "2018      PRT     TOT  21.672         NaN\n",
       "2018      SVK     TOT  15.782         NaN\n",
       "2018      ESP     TOT  19.290         NaN\n",
       "2018      SWE     TOT  19.861         NaN\n",
       "2018      CHE     TOT  18.371         NaN\n",
       "2018      TUR     TOT   8.649         NaN\n",
       "2018      GBR     TOT  18.312         NaN\n",
       "2018      USA     TOT  16.026         NaN\n",
       "2018      BRA     TOT   9.222         NaN\n",
       "2018      CHL     TOT  11.547         NaN\n",
       "2018      COL     TOT   8.060         NaN\n",
       "2018      EST     TOT  19.676         NaN\n",
       "2018      ISR     TOT  11.654         NaN\n",
       "2018      RUS     TOT  14.746         NaN\n",
       "2018      SVN     TOT  19.670         NaN\n",
       "2018      LVA     TOT  20.181         NaN\n",
       "2018      ARG     TOT  11.198         NaN\n",
       "2018      BGR     TOT  21.174         NaN\n",
       "2018      CHN     TOT  11.194         NaN\n",
       "2018      CRI     TOT   8.180         NaN\n",
       "2018      HRV     TOT  20.360         NaN\n",
       "2018      CYP     TOT  16.023         NaN\n",
       "2018      IND     TOT   6.176         NaN\n",
       "2018      IDN     TOT   5.812         NaN\n",
       "2018      LTU     TOT  19.706         NaN\n",
       "2018      MLT     TOT  18.785         NaN\n",
       "2018      ROU     TOT  18.356         NaN\n",
       "2018      SAU     TOT   3.220         NaN\n",
       "2018      SGP     TOT  13.716         NaN\n",
       "2018      ZAF     TOT   5.587         NaN"
      ]
     },
     "execution_count": 38,
     "metadata": {},
     "output_type": "execute_result"
    }
   ],
   "source": [
    "#delete g20 eu28, wld, oecd since they are not part of the deathrate dataset\n",
    "df_recentyear_age = df_recentyear_age[~df_recentyear_age.LOCATION.str.contains('G20|EU28|WLD|OECD')]\n",
    "df_recentyear_age"
   ]
  },
  {
   "cell_type": "code",
   "execution_count": 71,
   "metadata": {},
   "outputs": [],
   "source": [
    "#create manually a list of the names of the list before since in the hospitalbed data set only\n",
    "#3 letter codes were used and in the other data set we use full name\n",
    "country_longnames_recent_age = ['Australia','Austria', 'Belgium', 'Canada', 'Czechia',\n",
    "                       'Denmark', 'Finland', 'France', 'Germany', 'Greece','Hungary',\n",
    "                       'Iceland', 'Ireland', 'Italy', 'Japan',\n",
    "                       'Korea, South', 'Luxembourg', 'Mexico', 'Netherlands', 'New Zealand',\n",
    "                       'Norway', 'Poland', 'Portugal', 'Slovakia', 'Spain',\n",
    "                       'Sweden', 'Switzerland', 'Turkey','United Kingdom', 'United States',\n",
    "                       'Brazil', 'Chile', 'Colombia','Estonia', 'Israel', 'Russia','Slovenia',\n",
    "                        'Latvia', 'Argentina', 'Bulgaria', 'China', 'Costa Rica', 'Croatia', 'Cyprus',\n",
    "                        'India', 'Indonesia','Lithuania', 'Malta', 'Romania', 'Saudi Arabia',\n",
    "                           'Singapore', 'South Africa']"
   ]
  },
  {
   "cell_type": "code",
   "execution_count": 42,
   "metadata": {},
   "outputs": [],
   "source": [
    "#make use of the list (full name) to extract the rows (deathrate data) \n",
    "#of countries that have data regarding hospitalbed density \n",
    "deathrate = deathrate.get(country_longnames_recent_age)"
   ]
  },
  {
   "cell_type": "code",
   "execution_count": 43,
   "metadata": {
    "scrolled": true
   },
   "outputs": [
    {
     "data": {
      "text/plain": [
       "Country/Region\n",
       "Australia         0.013917\n",
       "Austria           0.039038\n",
       "Belgium           0.162903\n",
       "Canada            0.071775\n",
       "Czechia           0.034491\n",
       "Denmark           0.049762\n",
       "Finland           0.045287\n",
       "France            0.150079\n",
       "Germany           0.044392\n",
       "Greece            0.055393\n",
       "Hungary           0.128197\n",
       "Iceland           0.005552\n",
       "Ireland           0.063410\n",
       "Italy             0.139841\n",
       "Japan             0.039944\n",
       "Korea, South      0.023592\n",
       "Luxembourg        0.025977\n",
       "Mexico            0.098357\n",
       "Netherlands       0.127364\n",
       "New Zealand       0.014028\n",
       "Norway            0.027545\n",
       "Poland            0.049675\n",
       "Portugal          0.041331\n",
       "Slovakia          0.017845\n",
       "Spain             0.117589\n",
       "Sweden            0.122085\n",
       "Switzerland       0.060803\n",
       "Turkey            0.027481\n",
       "United Kingdom    0.143274\n",
       "United States     0.059858\n",
       "Brazil            0.068711\n",
       "Chile             0.010744\n",
       "Colombia          0.041247\n",
       "Estonia           0.035037\n",
       "Israel            0.015631\n",
       "Russia            0.009076\n",
       "Slovenia          0.069863\n",
       "Latvia            0.019027\n",
       "Argentina         0.050016\n",
       "Bulgaria          0.046734\n",
       "China             0.055195\n",
       "Costa Rica        0.008739\n",
       "Croatia           0.041439\n",
       "Cyprus            0.017758\n",
       "India             0.032416\n",
       "Indonesia         0.069471\n",
       "Lithuania         0.033670\n",
       "Malta             0.009940\n",
       "Romania           0.062997\n",
       "Saudi Arabia      0.006217\n",
       "Singapore         0.000882\n",
       "South Africa      0.019339\n",
       "Name: 5/11/20, dtype: float64"
      ]
     },
     "execution_count": 43,
     "metadata": {},
     "output_type": "execute_result"
    }
   ],
   "source": [
    "deathrate"
   ]
  },
  {
   "cell_type": "markdown",
   "metadata": {},
   "source": [
    "## Plotting and analyzing data"
   ]
  },
  {
   "cell_type": "code",
   "execution_count": 72,
   "metadata": {
    "scrolled": false
   },
   "outputs": [
    {
     "data": {
      "application/vnd.plotly.v1+json": {
       "config": {
        "plotlyServerURL": "https://plotly.com"
       },
       "data": [
        {
         "alignmentgroup": "True",
         "bingroup": "x",
         "hovertemplate": "x=%{x}<br>count=%{y}<extra></extra>",
         "legendgroup": "",
         "marker": {
          "color": "#636efa"
         },
         "name": "",
         "offsetgroup": "",
         "orientation": "v",
         "showlegend": false,
         "type": "histogram",
         "x": [
          0.026029443140601665,
          0.03555045871559633,
          0.08606348667458835,
          0.06357615894039735,
          0.044444444444444446,
          0.12,
          0.05001592863969417,
          0.013561320754716982,
          0.013916786226685796,
          0.03903790454602695,
          0.012359984550019312,
          0.11827956989247312,
          0.0015278838808250573,
          0.015231661461984578,
          0.08333333333333333,
          0.005647117878356898,
          0.16290295421803963,
          0.1111111111111111,
          0.006269592476489028,
          0,
          0.0430943129636171,
          0.052779075198505374,
          0.041666666666666664,
          0.06871115723433611,
          0.0070921985815602835,
          0.04673366834170854,
          0.06578947368421052,
          0.03333333333333333,
          0.06666666666666667,
          0.007692307692307693,
          0,
          0.04648568240981778,
          0.07177537045352492,
          0,
          0.09627329192546584,
          0.01074410404816552,
          0.05519515301567652,
          0.04124687849823474,
          0.09090909090909091,
          0.03303303303303303,
          0.0400390625,
          0.008739076154806492,
          0.012138728323699421,
          0.04143897996357013,
          0.04318564217610768,
          0.017758046614872364,
          0.03449119373776908,
          0.04976192699094389,
          0.018258426966292134,
          0.0024449877750611247,
          0,
          0.036956930599962384,
          0.07268968789182961,
          0.0546891032218346,
          0.018789144050104383,
          0.009111617312072893,
          0,
          0.0350373348650201,
          0.011428571428571429,
          0.02,
          0,
          0.045287433155080214,
          0.1500785707446479,
          0.011221945137157107,
          0.045454545454545456,
          0.017241379310344827,
          0.04439203597255702,
          0.004680851063829788,
          0.0553925165077036,
          0,
          0.02333931777378815,
          0.005125815470643057,
          0.003942181340341655,
          0.09174311926605505,
          0.07655502392344497,
          0,
          0.05523809523809524,
          0.1281973203410475,
          0.00555247084952804,
          0.0324157811440199,
          0.06947073256221521,
          0.06116977471954322,
          0.03903477643718949,
          0.06341041711692241,
          0.015630679752817157,
          0.1398409564449944,
          0.01782178217821782,
          0.03994446898466587,
          0.01601423487544484,
          0.0061455732667562895,
          0.047142857142857146,
          0.023591806876371618,
          0.03167420814479638,
          0.006999784622011631,
          0.011811023622047244,
          0,
          0.019027484143763214,
          0.030267753201396973,
          0.0947867298578199,
          0.046875,
          0.012195121951219513,
          0.03367003367003367,
          0.025977366255144033,
          0.2222222222222222,
          0,
          0.05263157894736842,
          0.016205768658935474,
          0.0033444816053511705,
          0.054775280898876406,
          0.009940357852882704,
          0.125,
          0.030120481927710843,
          0.09835659426872574,
          0.035035035035035036,
          0.041666666666666664,
          0,
          0.027777777777777776,
          0.02993153956376373,
          0,
          0,
          0,
          0.12736408681694467,
          0.014028056112224449,
          0.3125,
          0.055288461538461536,
          0.03232062055591468,
          0.0546875,
          0.027545499262174127,
          0.004757906521130702,
          0.022006795299398398,
          0.028899721448467967,
          0,
          0.013812154696132596,
          0.02849379558861992,
          0.06548800288652354,
          0.0496753644493446,
          0.041330972939773836,
          0.0005926427634085425,
          0.06299717731588401,
          0.009076369813502964,
          0,
          0,
          0,
          0,
          0.06528662420382166,
          0.02403846153846154,
          0.006217389184181011,
          0.01007423117709438,
          0.021422955974842766,
          0,
          0.05621301775147929,
          0.0008815380740491983,
          0.017844886753603295,
          0.06986301369863014,
          0.047750229568411386,
          0.019339091250469394,
          0,
          0.11758912397333755,
          0.010356731875719217,
          0.04849279161205767,
          0.1,
          0.12208473940757406,
          0.0608027946216715,
          0.06382978723404255,
          0.015909090909090907,
          0.03177004538577912,
          0.0412573673870334,
          0.01857379767827529,
          0,
          0.06077348066298342,
          0.06896551724137931,
          0.0436046511627907,
          0.02748066480171137,
          0.05985839996260797,
          0,
          0.02607361963190184,
          0.010647314334145567,
          0.14327425423033718,
          0.026722925457102673,
          0.004022526146419952,
          0.023696682464454975,
          0,
          0.005333333333333333,
          0,
          0.16071428571428573,
          0.026217228464419477,
          0.1111111111111111,
          0.05985839996260797
         ],
         "xaxis": "x",
         "yaxis": "y"
        }
       ],
       "layout": {
        "barmode": "relative",
        "legend": {
         "tracegroupgap": 0
        },
        "margin": {
         "t": 60
        },
        "template": {
         "data": {
          "bar": [
           {
            "error_x": {
             "color": "#2a3f5f"
            },
            "error_y": {
             "color": "#2a3f5f"
            },
            "marker": {
             "line": {
              "color": "#E5ECF6",
              "width": 0.5
             }
            },
            "type": "bar"
           }
          ],
          "barpolar": [
           {
            "marker": {
             "line": {
              "color": "#E5ECF6",
              "width": 0.5
             }
            },
            "type": "barpolar"
           }
          ],
          "carpet": [
           {
            "aaxis": {
             "endlinecolor": "#2a3f5f",
             "gridcolor": "white",
             "linecolor": "white",
             "minorgridcolor": "white",
             "startlinecolor": "#2a3f5f"
            },
            "baxis": {
             "endlinecolor": "#2a3f5f",
             "gridcolor": "white",
             "linecolor": "white",
             "minorgridcolor": "white",
             "startlinecolor": "#2a3f5f"
            },
            "type": "carpet"
           }
          ],
          "choropleth": [
           {
            "colorbar": {
             "outlinewidth": 0,
             "ticks": ""
            },
            "type": "choropleth"
           }
          ],
          "contour": [
           {
            "colorbar": {
             "outlinewidth": 0,
             "ticks": ""
            },
            "colorscale": [
             [
              0,
              "#0d0887"
             ],
             [
              0.1111111111111111,
              "#46039f"
             ],
             [
              0.2222222222222222,
              "#7201a8"
             ],
             [
              0.3333333333333333,
              "#9c179e"
             ],
             [
              0.4444444444444444,
              "#bd3786"
             ],
             [
              0.5555555555555556,
              "#d8576b"
             ],
             [
              0.6666666666666666,
              "#ed7953"
             ],
             [
              0.7777777777777778,
              "#fb9f3a"
             ],
             [
              0.8888888888888888,
              "#fdca26"
             ],
             [
              1,
              "#f0f921"
             ]
            ],
            "type": "contour"
           }
          ],
          "contourcarpet": [
           {
            "colorbar": {
             "outlinewidth": 0,
             "ticks": ""
            },
            "type": "contourcarpet"
           }
          ],
          "heatmap": [
           {
            "colorbar": {
             "outlinewidth": 0,
             "ticks": ""
            },
            "colorscale": [
             [
              0,
              "#0d0887"
             ],
             [
              0.1111111111111111,
              "#46039f"
             ],
             [
              0.2222222222222222,
              "#7201a8"
             ],
             [
              0.3333333333333333,
              "#9c179e"
             ],
             [
              0.4444444444444444,
              "#bd3786"
             ],
             [
              0.5555555555555556,
              "#d8576b"
             ],
             [
              0.6666666666666666,
              "#ed7953"
             ],
             [
              0.7777777777777778,
              "#fb9f3a"
             ],
             [
              0.8888888888888888,
              "#fdca26"
             ],
             [
              1,
              "#f0f921"
             ]
            ],
            "type": "heatmap"
           }
          ],
          "heatmapgl": [
           {
            "colorbar": {
             "outlinewidth": 0,
             "ticks": ""
            },
            "colorscale": [
             [
              0,
              "#0d0887"
             ],
             [
              0.1111111111111111,
              "#46039f"
             ],
             [
              0.2222222222222222,
              "#7201a8"
             ],
             [
              0.3333333333333333,
              "#9c179e"
             ],
             [
              0.4444444444444444,
              "#bd3786"
             ],
             [
              0.5555555555555556,
              "#d8576b"
             ],
             [
              0.6666666666666666,
              "#ed7953"
             ],
             [
              0.7777777777777778,
              "#fb9f3a"
             ],
             [
              0.8888888888888888,
              "#fdca26"
             ],
             [
              1,
              "#f0f921"
             ]
            ],
            "type": "heatmapgl"
           }
          ],
          "histogram": [
           {
            "marker": {
             "colorbar": {
              "outlinewidth": 0,
              "ticks": ""
             }
            },
            "type": "histogram"
           }
          ],
          "histogram2d": [
           {
            "colorbar": {
             "outlinewidth": 0,
             "ticks": ""
            },
            "colorscale": [
             [
              0,
              "#0d0887"
             ],
             [
              0.1111111111111111,
              "#46039f"
             ],
             [
              0.2222222222222222,
              "#7201a8"
             ],
             [
              0.3333333333333333,
              "#9c179e"
             ],
             [
              0.4444444444444444,
              "#bd3786"
             ],
             [
              0.5555555555555556,
              "#d8576b"
             ],
             [
              0.6666666666666666,
              "#ed7953"
             ],
             [
              0.7777777777777778,
              "#fb9f3a"
             ],
             [
              0.8888888888888888,
              "#fdca26"
             ],
             [
              1,
              "#f0f921"
             ]
            ],
            "type": "histogram2d"
           }
          ],
          "histogram2dcontour": [
           {
            "colorbar": {
             "outlinewidth": 0,
             "ticks": ""
            },
            "colorscale": [
             [
              0,
              "#0d0887"
             ],
             [
              0.1111111111111111,
              "#46039f"
             ],
             [
              0.2222222222222222,
              "#7201a8"
             ],
             [
              0.3333333333333333,
              "#9c179e"
             ],
             [
              0.4444444444444444,
              "#bd3786"
             ],
             [
              0.5555555555555556,
              "#d8576b"
             ],
             [
              0.6666666666666666,
              "#ed7953"
             ],
             [
              0.7777777777777778,
              "#fb9f3a"
             ],
             [
              0.8888888888888888,
              "#fdca26"
             ],
             [
              1,
              "#f0f921"
             ]
            ],
            "type": "histogram2dcontour"
           }
          ],
          "mesh3d": [
           {
            "colorbar": {
             "outlinewidth": 0,
             "ticks": ""
            },
            "type": "mesh3d"
           }
          ],
          "parcoords": [
           {
            "line": {
             "colorbar": {
              "outlinewidth": 0,
              "ticks": ""
             }
            },
            "type": "parcoords"
           }
          ],
          "pie": [
           {
            "automargin": true,
            "type": "pie"
           }
          ],
          "scatter": [
           {
            "marker": {
             "colorbar": {
              "outlinewidth": 0,
              "ticks": ""
             }
            },
            "type": "scatter"
           }
          ],
          "scatter3d": [
           {
            "line": {
             "colorbar": {
              "outlinewidth": 0,
              "ticks": ""
             }
            },
            "marker": {
             "colorbar": {
              "outlinewidth": 0,
              "ticks": ""
             }
            },
            "type": "scatter3d"
           }
          ],
          "scattercarpet": [
           {
            "marker": {
             "colorbar": {
              "outlinewidth": 0,
              "ticks": ""
             }
            },
            "type": "scattercarpet"
           }
          ],
          "scattergeo": [
           {
            "marker": {
             "colorbar": {
              "outlinewidth": 0,
              "ticks": ""
             }
            },
            "type": "scattergeo"
           }
          ],
          "scattergl": [
           {
            "marker": {
             "colorbar": {
              "outlinewidth": 0,
              "ticks": ""
             }
            },
            "type": "scattergl"
           }
          ],
          "scattermapbox": [
           {
            "marker": {
             "colorbar": {
              "outlinewidth": 0,
              "ticks": ""
             }
            },
            "type": "scattermapbox"
           }
          ],
          "scatterpolar": [
           {
            "marker": {
             "colorbar": {
              "outlinewidth": 0,
              "ticks": ""
             }
            },
            "type": "scatterpolar"
           }
          ],
          "scatterpolargl": [
           {
            "marker": {
             "colorbar": {
              "outlinewidth": 0,
              "ticks": ""
             }
            },
            "type": "scatterpolargl"
           }
          ],
          "scatterternary": [
           {
            "marker": {
             "colorbar": {
              "outlinewidth": 0,
              "ticks": ""
             }
            },
            "type": "scatterternary"
           }
          ],
          "surface": [
           {
            "colorbar": {
             "outlinewidth": 0,
             "ticks": ""
            },
            "colorscale": [
             [
              0,
              "#0d0887"
             ],
             [
              0.1111111111111111,
              "#46039f"
             ],
             [
              0.2222222222222222,
              "#7201a8"
             ],
             [
              0.3333333333333333,
              "#9c179e"
             ],
             [
              0.4444444444444444,
              "#bd3786"
             ],
             [
              0.5555555555555556,
              "#d8576b"
             ],
             [
              0.6666666666666666,
              "#ed7953"
             ],
             [
              0.7777777777777778,
              "#fb9f3a"
             ],
             [
              0.8888888888888888,
              "#fdca26"
             ],
             [
              1,
              "#f0f921"
             ]
            ],
            "type": "surface"
           }
          ],
          "table": [
           {
            "cells": {
             "fill": {
              "color": "#EBF0F8"
             },
             "line": {
              "color": "white"
             }
            },
            "header": {
             "fill": {
              "color": "#C8D4E3"
             },
             "line": {
              "color": "white"
             }
            },
            "type": "table"
           }
          ]
         },
         "layout": {
          "annotationdefaults": {
           "arrowcolor": "#2a3f5f",
           "arrowhead": 0,
           "arrowwidth": 1
          },
          "coloraxis": {
           "colorbar": {
            "outlinewidth": 0,
            "ticks": ""
           }
          },
          "colorscale": {
           "diverging": [
            [
             0,
             "#8e0152"
            ],
            [
             0.1,
             "#c51b7d"
            ],
            [
             0.2,
             "#de77ae"
            ],
            [
             0.3,
             "#f1b6da"
            ],
            [
             0.4,
             "#fde0ef"
            ],
            [
             0.5,
             "#f7f7f7"
            ],
            [
             0.6,
             "#e6f5d0"
            ],
            [
             0.7,
             "#b8e186"
            ],
            [
             0.8,
             "#7fbc41"
            ],
            [
             0.9,
             "#4d9221"
            ],
            [
             1,
             "#276419"
            ]
           ],
           "sequential": [
            [
             0,
             "#0d0887"
            ],
            [
             0.1111111111111111,
             "#46039f"
            ],
            [
             0.2222222222222222,
             "#7201a8"
            ],
            [
             0.3333333333333333,
             "#9c179e"
            ],
            [
             0.4444444444444444,
             "#bd3786"
            ],
            [
             0.5555555555555556,
             "#d8576b"
            ],
            [
             0.6666666666666666,
             "#ed7953"
            ],
            [
             0.7777777777777778,
             "#fb9f3a"
            ],
            [
             0.8888888888888888,
             "#fdca26"
            ],
            [
             1,
             "#f0f921"
            ]
           ],
           "sequentialminus": [
            [
             0,
             "#0d0887"
            ],
            [
             0.1111111111111111,
             "#46039f"
            ],
            [
             0.2222222222222222,
             "#7201a8"
            ],
            [
             0.3333333333333333,
             "#9c179e"
            ],
            [
             0.4444444444444444,
             "#bd3786"
            ],
            [
             0.5555555555555556,
             "#d8576b"
            ],
            [
             0.6666666666666666,
             "#ed7953"
            ],
            [
             0.7777777777777778,
             "#fb9f3a"
            ],
            [
             0.8888888888888888,
             "#fdca26"
            ],
            [
             1,
             "#f0f921"
            ]
           ]
          },
          "colorway": [
           "#636efa",
           "#EF553B",
           "#00cc96",
           "#ab63fa",
           "#FFA15A",
           "#19d3f3",
           "#FF6692",
           "#B6E880",
           "#FF97FF",
           "#FECB52"
          ],
          "font": {
           "color": "#2a3f5f"
          },
          "geo": {
           "bgcolor": "white",
           "lakecolor": "white",
           "landcolor": "#E5ECF6",
           "showlakes": true,
           "showland": true,
           "subunitcolor": "white"
          },
          "hoverlabel": {
           "align": "left"
          },
          "hovermode": "closest",
          "mapbox": {
           "style": "light"
          },
          "paper_bgcolor": "white",
          "plot_bgcolor": "#E5ECF6",
          "polar": {
           "angularaxis": {
            "gridcolor": "white",
            "linecolor": "white",
            "ticks": ""
           },
           "bgcolor": "#E5ECF6",
           "radialaxis": {
            "gridcolor": "white",
            "linecolor": "white",
            "ticks": ""
           }
          },
          "scene": {
           "xaxis": {
            "backgroundcolor": "#E5ECF6",
            "gridcolor": "white",
            "gridwidth": 2,
            "linecolor": "white",
            "showbackground": true,
            "ticks": "",
            "zerolinecolor": "white"
           },
           "yaxis": {
            "backgroundcolor": "#E5ECF6",
            "gridcolor": "white",
            "gridwidth": 2,
            "linecolor": "white",
            "showbackground": true,
            "ticks": "",
            "zerolinecolor": "white"
           },
           "zaxis": {
            "backgroundcolor": "#E5ECF6",
            "gridcolor": "white",
            "gridwidth": 2,
            "linecolor": "white",
            "showbackground": true,
            "ticks": "",
            "zerolinecolor": "white"
           }
          },
          "shapedefaults": {
           "line": {
            "color": "#2a3f5f"
           }
          },
          "ternary": {
           "aaxis": {
            "gridcolor": "white",
            "linecolor": "white",
            "ticks": ""
           },
           "baxis": {
            "gridcolor": "white",
            "linecolor": "white",
            "ticks": ""
           },
           "bgcolor": "#E5ECF6",
           "caxis": {
            "gridcolor": "white",
            "linecolor": "white",
            "ticks": ""
           }
          },
          "title": {
           "x": 0.05
          },
          "xaxis": {
           "automargin": true,
           "gridcolor": "white",
           "linecolor": "white",
           "ticks": "",
           "title": {
            "standoff": 15
           },
           "zerolinecolor": "white",
           "zerolinewidth": 2
          },
          "yaxis": {
           "automargin": true,
           "gridcolor": "white",
           "linecolor": "white",
           "ticks": "",
           "title": {
            "standoff": 15
           },
           "zerolinecolor": "white",
           "zerolinewidth": 2
          }
         }
        },
        "xaxis": {
         "anchor": "y",
         "domain": [
          0,
          1
         ],
         "title": {
          "text": "x"
         }
        },
        "yaxis": {
         "anchor": "x",
         "domain": [
          0,
          1
         ],
         "title": {
          "text": "count"
         }
        }
       }
      },
      "text/html": [
       "<div>\n",
       "        \n",
       "        \n",
       "            <div id=\"e855fc9e-adc9-4177-bc74-e7c6beb1b956\" class=\"plotly-graph-div\" style=\"height:525px; width:100%;\"></div>\n",
       "            <script type=\"text/javascript\">\n",
       "                require([\"plotly\"], function(Plotly) {\n",
       "                    window.PLOTLYENV=window.PLOTLYENV || {};\n",
       "                    \n",
       "                if (document.getElementById(\"e855fc9e-adc9-4177-bc74-e7c6beb1b956\")) {\n",
       "                    Plotly.newPlot(\n",
       "                        'e855fc9e-adc9-4177-bc74-e7c6beb1b956',\n",
       "                        [{\"alignmentgroup\": \"True\", \"bingroup\": \"x\", \"hovertemplate\": \"x=%{x}<br>count=%{y}<extra></extra>\", \"legendgroup\": \"\", \"marker\": {\"color\": \"#636efa\"}, \"name\": \"\", \"offsetgroup\": \"\", \"orientation\": \"v\", \"showlegend\": false, \"type\": \"histogram\", \"x\": [0.026029443140601665, 0.03555045871559633, 0.08606348667458835, 0.06357615894039735, 0.044444444444444446, 0.12, 0.05001592863969417, 0.013561320754716982, 0.013916786226685796, 0.03903790454602695, 0.012359984550019312, 0.11827956989247312, 0.0015278838808250573, 0.015231661461984578, 0.08333333333333333, 0.005647117878356898, 0.16290295421803963, 0.1111111111111111, 0.006269592476489028, 0.0, 0.0430943129636171, 0.052779075198505374, 0.041666666666666664, 0.06871115723433611, 0.0070921985815602835, 0.04673366834170854, 0.06578947368421052, 0.03333333333333333, 0.06666666666666667, 0.007692307692307693, 0.0, 0.04648568240981778, 0.07177537045352492, 0.0, 0.09627329192546584, 0.01074410404816552, 0.05519515301567652, 0.04124687849823474, 0.09090909090909091, 0.03303303303303303, 0.0400390625, 0.008739076154806492, 0.012138728323699421, 0.04143897996357013, 0.04318564217610768, 0.017758046614872364, 0.03449119373776908, 0.04976192699094389, 0.018258426966292134, 0.0024449877750611247, 0.0, 0.036956930599962384, 0.07268968789182961, 0.0546891032218346, 0.018789144050104383, 0.009111617312072893, 0.0, 0.0350373348650201, 0.011428571428571429, 0.02, 0.0, 0.045287433155080214, 0.1500785707446479, 0.011221945137157107, 0.045454545454545456, 0.017241379310344827, 0.04439203597255702, 0.004680851063829788, 0.0553925165077036, 0.0, 0.02333931777378815, 0.005125815470643057, 0.003942181340341655, 0.09174311926605505, 0.07655502392344497, 0.0, 0.05523809523809524, 0.1281973203410475, 0.00555247084952804, 0.0324157811440199, 0.06947073256221521, 0.06116977471954322, 0.03903477643718949, 0.06341041711692241, 0.015630679752817157, 0.1398409564449944, 0.01782178217821782, 0.03994446898466587, 0.01601423487544484, 0.0061455732667562895, 0.047142857142857146, 0.023591806876371618, 0.03167420814479638, 0.006999784622011631, 0.011811023622047244, 0.0, 0.019027484143763214, 0.030267753201396973, 0.0947867298578199, 0.046875, 0.012195121951219513, 0.03367003367003367, 0.025977366255144033, 0.2222222222222222, 0.0, 0.05263157894736842, 0.016205768658935474, 0.0033444816053511705, 0.054775280898876406, 0.009940357852882704, 0.125, 0.030120481927710843, 0.09835659426872574, 0.035035035035035036, 0.041666666666666664, 0.0, 0.027777777777777776, 0.02993153956376373, 0.0, 0.0, 0.0, 0.12736408681694467, 0.014028056112224449, 0.3125, 0.055288461538461536, 0.03232062055591468, 0.0546875, 0.027545499262174127, 0.004757906521130702, 0.022006795299398398, 0.028899721448467967, 0.0, 0.013812154696132596, 0.02849379558861992, 0.06548800288652354, 0.0496753644493446, 0.041330972939773836, 0.0005926427634085425, 0.06299717731588401, 0.009076369813502964, 0.0, 0.0, 0.0, 0.0, 0.06528662420382166, 0.02403846153846154, 0.006217389184181011, 0.01007423117709438, 0.021422955974842766, 0.0, 0.05621301775147929, 0.0008815380740491983, 0.017844886753603295, 0.06986301369863014, 0.047750229568411386, 0.019339091250469394, 0.0, 0.11758912397333755, 0.010356731875719217, 0.04849279161205767, 0.1, 0.12208473940757406, 0.0608027946216715, 0.06382978723404255, 0.015909090909090907, 0.03177004538577912, 0.0412573673870334, 0.01857379767827529, 0.0, 0.06077348066298342, 0.06896551724137931, 0.0436046511627907, 0.02748066480171137, 0.05985839996260797, 0.0, 0.02607361963190184, 0.010647314334145567, 0.14327425423033718, 0.026722925457102673, 0.004022526146419952, 0.023696682464454975, 0.0, 0.005333333333333333, 0.0, 0.16071428571428573, 0.026217228464419477, 0.1111111111111111, 0.05985839996260797], \"xaxis\": \"x\", \"yaxis\": \"y\"}],\n",
       "                        {\"barmode\": \"relative\", \"legend\": {\"tracegroupgap\": 0}, \"margin\": {\"t\": 60}, \"template\": {\"data\": {\"bar\": [{\"error_x\": {\"color\": \"#2a3f5f\"}, \"error_y\": {\"color\": \"#2a3f5f\"}, \"marker\": {\"line\": {\"color\": \"#E5ECF6\", \"width\": 0.5}}, \"type\": \"bar\"}], \"barpolar\": [{\"marker\": {\"line\": {\"color\": \"#E5ECF6\", \"width\": 0.5}}, \"type\": \"barpolar\"}], \"carpet\": [{\"aaxis\": {\"endlinecolor\": \"#2a3f5f\", \"gridcolor\": \"white\", \"linecolor\": \"white\", \"minorgridcolor\": \"white\", \"startlinecolor\": \"#2a3f5f\"}, \"baxis\": {\"endlinecolor\": \"#2a3f5f\", \"gridcolor\": \"white\", \"linecolor\": \"white\", \"minorgridcolor\": \"white\", \"startlinecolor\": \"#2a3f5f\"}, \"type\": \"carpet\"}], \"choropleth\": [{\"colorbar\": {\"outlinewidth\": 0, \"ticks\": \"\"}, \"type\": \"choropleth\"}], \"contour\": [{\"colorbar\": {\"outlinewidth\": 0, \"ticks\": \"\"}, \"colorscale\": [[0.0, \"#0d0887\"], [0.1111111111111111, \"#46039f\"], [0.2222222222222222, \"#7201a8\"], [0.3333333333333333, \"#9c179e\"], [0.4444444444444444, \"#bd3786\"], [0.5555555555555556, \"#d8576b\"], [0.6666666666666666, \"#ed7953\"], [0.7777777777777778, \"#fb9f3a\"], [0.8888888888888888, \"#fdca26\"], [1.0, \"#f0f921\"]], \"type\": \"contour\"}], \"contourcarpet\": [{\"colorbar\": {\"outlinewidth\": 0, \"ticks\": \"\"}, \"type\": \"contourcarpet\"}], \"heatmap\": [{\"colorbar\": {\"outlinewidth\": 0, \"ticks\": \"\"}, \"colorscale\": [[0.0, \"#0d0887\"], [0.1111111111111111, \"#46039f\"], [0.2222222222222222, \"#7201a8\"], [0.3333333333333333, \"#9c179e\"], [0.4444444444444444, \"#bd3786\"], [0.5555555555555556, \"#d8576b\"], [0.6666666666666666, \"#ed7953\"], [0.7777777777777778, \"#fb9f3a\"], [0.8888888888888888, \"#fdca26\"], [1.0, \"#f0f921\"]], \"type\": \"heatmap\"}], \"heatmapgl\": [{\"colorbar\": {\"outlinewidth\": 0, \"ticks\": \"\"}, \"colorscale\": [[0.0, \"#0d0887\"], [0.1111111111111111, \"#46039f\"], [0.2222222222222222, \"#7201a8\"], [0.3333333333333333, \"#9c179e\"], [0.4444444444444444, \"#bd3786\"], [0.5555555555555556, \"#d8576b\"], [0.6666666666666666, \"#ed7953\"], [0.7777777777777778, \"#fb9f3a\"], [0.8888888888888888, \"#fdca26\"], [1.0, \"#f0f921\"]], \"type\": \"heatmapgl\"}], \"histogram\": [{\"marker\": {\"colorbar\": {\"outlinewidth\": 0, \"ticks\": \"\"}}, \"type\": \"histogram\"}], \"histogram2d\": [{\"colorbar\": {\"outlinewidth\": 0, \"ticks\": \"\"}, \"colorscale\": [[0.0, \"#0d0887\"], [0.1111111111111111, \"#46039f\"], [0.2222222222222222, \"#7201a8\"], [0.3333333333333333, \"#9c179e\"], [0.4444444444444444, \"#bd3786\"], [0.5555555555555556, \"#d8576b\"], [0.6666666666666666, \"#ed7953\"], [0.7777777777777778, \"#fb9f3a\"], [0.8888888888888888, \"#fdca26\"], [1.0, \"#f0f921\"]], \"type\": \"histogram2d\"}], \"histogram2dcontour\": [{\"colorbar\": {\"outlinewidth\": 0, \"ticks\": \"\"}, \"colorscale\": [[0.0, \"#0d0887\"], [0.1111111111111111, \"#46039f\"], [0.2222222222222222, \"#7201a8\"], [0.3333333333333333, \"#9c179e\"], [0.4444444444444444, \"#bd3786\"], [0.5555555555555556, \"#d8576b\"], [0.6666666666666666, \"#ed7953\"], [0.7777777777777778, \"#fb9f3a\"], [0.8888888888888888, \"#fdca26\"], [1.0, \"#f0f921\"]], \"type\": \"histogram2dcontour\"}], \"mesh3d\": [{\"colorbar\": {\"outlinewidth\": 0, \"ticks\": \"\"}, \"type\": \"mesh3d\"}], \"parcoords\": [{\"line\": {\"colorbar\": {\"outlinewidth\": 0, \"ticks\": \"\"}}, \"type\": \"parcoords\"}], \"pie\": [{\"automargin\": true, \"type\": \"pie\"}], \"scatter\": [{\"marker\": {\"colorbar\": {\"outlinewidth\": 0, \"ticks\": \"\"}}, \"type\": \"scatter\"}], \"scatter3d\": [{\"line\": {\"colorbar\": {\"outlinewidth\": 0, \"ticks\": \"\"}}, \"marker\": {\"colorbar\": {\"outlinewidth\": 0, \"ticks\": \"\"}}, \"type\": \"scatter3d\"}], \"scattercarpet\": [{\"marker\": {\"colorbar\": {\"outlinewidth\": 0, \"ticks\": \"\"}}, \"type\": \"scattercarpet\"}], \"scattergeo\": [{\"marker\": {\"colorbar\": {\"outlinewidth\": 0, \"ticks\": \"\"}}, \"type\": \"scattergeo\"}], \"scattergl\": [{\"marker\": {\"colorbar\": {\"outlinewidth\": 0, \"ticks\": \"\"}}, \"type\": \"scattergl\"}], \"scattermapbox\": [{\"marker\": {\"colorbar\": {\"outlinewidth\": 0, \"ticks\": \"\"}}, \"type\": \"scattermapbox\"}], \"scatterpolar\": [{\"marker\": {\"colorbar\": {\"outlinewidth\": 0, \"ticks\": \"\"}}, \"type\": \"scatterpolar\"}], \"scatterpolargl\": [{\"marker\": {\"colorbar\": {\"outlinewidth\": 0, \"ticks\": \"\"}}, \"type\": \"scatterpolargl\"}], \"scatterternary\": [{\"marker\": {\"colorbar\": {\"outlinewidth\": 0, \"ticks\": \"\"}}, \"type\": \"scatterternary\"}], \"surface\": [{\"colorbar\": {\"outlinewidth\": 0, \"ticks\": \"\"}, \"colorscale\": [[0.0, \"#0d0887\"], [0.1111111111111111, \"#46039f\"], [0.2222222222222222, \"#7201a8\"], [0.3333333333333333, \"#9c179e\"], [0.4444444444444444, \"#bd3786\"], [0.5555555555555556, \"#d8576b\"], [0.6666666666666666, \"#ed7953\"], [0.7777777777777778, \"#fb9f3a\"], [0.8888888888888888, \"#fdca26\"], [1.0, \"#f0f921\"]], \"type\": \"surface\"}], \"table\": [{\"cells\": {\"fill\": {\"color\": \"#EBF0F8\"}, \"line\": {\"color\": \"white\"}}, \"header\": {\"fill\": {\"color\": \"#C8D4E3\"}, \"line\": {\"color\": \"white\"}}, \"type\": \"table\"}]}, \"layout\": {\"annotationdefaults\": {\"arrowcolor\": \"#2a3f5f\", \"arrowhead\": 0, \"arrowwidth\": 1}, \"coloraxis\": {\"colorbar\": {\"outlinewidth\": 0, \"ticks\": \"\"}}, \"colorscale\": {\"diverging\": [[0, \"#8e0152\"], [0.1, \"#c51b7d\"], [0.2, \"#de77ae\"], [0.3, \"#f1b6da\"], [0.4, \"#fde0ef\"], [0.5, \"#f7f7f7\"], [0.6, \"#e6f5d0\"], [0.7, \"#b8e186\"], [0.8, \"#7fbc41\"], [0.9, \"#4d9221\"], [1, \"#276419\"]], \"sequential\": [[0.0, \"#0d0887\"], [0.1111111111111111, \"#46039f\"], [0.2222222222222222, \"#7201a8\"], [0.3333333333333333, \"#9c179e\"], [0.4444444444444444, \"#bd3786\"], [0.5555555555555556, \"#d8576b\"], [0.6666666666666666, \"#ed7953\"], [0.7777777777777778, \"#fb9f3a\"], [0.8888888888888888, \"#fdca26\"], [1.0, \"#f0f921\"]], \"sequentialminus\": [[0.0, \"#0d0887\"], [0.1111111111111111, \"#46039f\"], [0.2222222222222222, \"#7201a8\"], [0.3333333333333333, \"#9c179e\"], [0.4444444444444444, \"#bd3786\"], [0.5555555555555556, \"#d8576b\"], [0.6666666666666666, \"#ed7953\"], [0.7777777777777778, \"#fb9f3a\"], [0.8888888888888888, \"#fdca26\"], [1.0, \"#f0f921\"]]}, \"colorway\": [\"#636efa\", \"#EF553B\", \"#00cc96\", \"#ab63fa\", \"#FFA15A\", \"#19d3f3\", \"#FF6692\", \"#B6E880\", \"#FF97FF\", \"#FECB52\"], \"font\": {\"color\": \"#2a3f5f\"}, \"geo\": {\"bgcolor\": \"white\", \"lakecolor\": \"white\", \"landcolor\": \"#E5ECF6\", \"showlakes\": true, \"showland\": true, \"subunitcolor\": \"white\"}, \"hoverlabel\": {\"align\": \"left\"}, \"hovermode\": \"closest\", \"mapbox\": {\"style\": \"light\"}, \"paper_bgcolor\": \"white\", \"plot_bgcolor\": \"#E5ECF6\", \"polar\": {\"angularaxis\": {\"gridcolor\": \"white\", \"linecolor\": \"white\", \"ticks\": \"\"}, \"bgcolor\": \"#E5ECF6\", \"radialaxis\": {\"gridcolor\": \"white\", \"linecolor\": \"white\", \"ticks\": \"\"}}, \"scene\": {\"xaxis\": {\"backgroundcolor\": \"#E5ECF6\", \"gridcolor\": \"white\", \"gridwidth\": 2, \"linecolor\": \"white\", \"showbackground\": true, \"ticks\": \"\", \"zerolinecolor\": \"white\"}, \"yaxis\": {\"backgroundcolor\": \"#E5ECF6\", \"gridcolor\": \"white\", \"gridwidth\": 2, \"linecolor\": \"white\", \"showbackground\": true, \"ticks\": \"\", \"zerolinecolor\": \"white\"}, \"zaxis\": {\"backgroundcolor\": \"#E5ECF6\", \"gridcolor\": \"white\", \"gridwidth\": 2, \"linecolor\": \"white\", \"showbackground\": true, \"ticks\": \"\", \"zerolinecolor\": \"white\"}}, \"shapedefaults\": {\"line\": {\"color\": \"#2a3f5f\"}}, \"ternary\": {\"aaxis\": {\"gridcolor\": \"white\", \"linecolor\": \"white\", \"ticks\": \"\"}, \"baxis\": {\"gridcolor\": \"white\", \"linecolor\": \"white\", \"ticks\": \"\"}, \"bgcolor\": \"#E5ECF6\", \"caxis\": {\"gridcolor\": \"white\", \"linecolor\": \"white\", \"ticks\": \"\"}}, \"title\": {\"x\": 0.05}, \"xaxis\": {\"automargin\": true, \"gridcolor\": \"white\", \"linecolor\": \"white\", \"ticks\": \"\", \"title\": {\"standoff\": 15}, \"zerolinecolor\": \"white\", \"zerolinewidth\": 2}, \"yaxis\": {\"automargin\": true, \"gridcolor\": \"white\", \"linecolor\": \"white\", \"ticks\": \"\", \"title\": {\"standoff\": 15}, \"zerolinecolor\": \"white\", \"zerolinewidth\": 2}}}, \"xaxis\": {\"anchor\": \"y\", \"domain\": [0.0, 1.0], \"title\": {\"text\": \"x\"}}, \"yaxis\": {\"anchor\": \"x\", \"domain\": [0.0, 1.0], \"title\": {\"text\": \"count\"}}},\n",
       "                        {\"responsive\": true}\n",
       "                    ).then(function(){\n",
       "                            \n",
       "var gd = document.getElementById('e855fc9e-adc9-4177-bc74-e7c6beb1b956');\n",
       "var x = new MutationObserver(function (mutations, observer) {{\n",
       "        var display = window.getComputedStyle(gd).display;\n",
       "        if (!display || display === 'none') {{\n",
       "            console.log([gd, 'removed!']);\n",
       "            Plotly.purge(gd);\n",
       "            observer.disconnect();\n",
       "        }}\n",
       "}});\n",
       "\n",
       "// Listen for the removal of the full notebook cells\n",
       "var notebookContainer = gd.closest('#notebook-container');\n",
       "if (notebookContainer) {{\n",
       "    x.observe(notebookContainer, {childList: true});\n",
       "}}\n",
       "\n",
       "// Listen for the clearing of the current output cell\n",
       "var outputEl = gd.closest('.output');\n",
       "if (outputEl) {{\n",
       "    x.observe(outputEl, {childList: true});\n",
       "}}\n",
       "\n",
       "                        })\n",
       "                };\n",
       "                });\n",
       "            </script>\n",
       "        </div>"
      ]
     },
     "metadata": {},
     "output_type": "display_data"
    }
   ],
   "source": [
    "fig = px.histogram(x=deathrate)\n",
    "fig.show()"
   ]
  },
  {
   "cell_type": "code",
   "execution_count": 46,
   "metadata": {
    "scrolled": false
   },
   "outputs": [
    {
     "data": {
      "application/vnd.plotly.v1+json": {
       "config": {
        "plotlyServerURL": "https://plotly.com"
       },
       "data": [
        {
         "alignmentgroup": "True",
         "bingroup": "x",
         "hovertemplate": "Value=%{x}<br>count=%{y}<extra></extra>",
         "legendgroup": "",
         "marker": {
          "color": "#636efa"
         },
         "name": "",
         "offsetgroup": "",
         "orientation": "v",
         "showlegend": false,
         "type": "histogram",
         "x": [
          15.663,
          18.759,
          18.835,
          17.157,
          19.414,
          19.461,
          21.613000000000003,
          19.837,
          21.465999999999998,
          21.894000000000002,
          19.143,
          14.136,
          13.864,
          22.675,
          28.136999999999997,
          14.294,
          14.354000000000001,
          7.246,
          19.015,
          15.288,
          17.087,
          17.23,
          21.671999999999997,
          15.782,
          19.29,
          19.861,
          18.371,
          8.649,
          18.312,
          16.026,
          9.222000000000001,
          11.547,
          8.06,
          19.676,
          11.654000000000002,
          14.745999999999999,
          19.67,
          20.180999999999997,
          11.198,
          21.174,
          11.194,
          8.18,
          20.36,
          16.023,
          6.176,
          5.812,
          19.706,
          18.785,
          18.355999999999998,
          3.22,
          13.716,
          5.587000000000001
         ],
         "xaxis": "x",
         "yaxis": "y"
        }
       ],
       "layout": {
        "barmode": "relative",
        "legend": {
         "tracegroupgap": 0
        },
        "margin": {
         "t": 60
        },
        "template": {
         "data": {
          "bar": [
           {
            "error_x": {
             "color": "#2a3f5f"
            },
            "error_y": {
             "color": "#2a3f5f"
            },
            "marker": {
             "line": {
              "color": "#E5ECF6",
              "width": 0.5
             }
            },
            "type": "bar"
           }
          ],
          "barpolar": [
           {
            "marker": {
             "line": {
              "color": "#E5ECF6",
              "width": 0.5
             }
            },
            "type": "barpolar"
           }
          ],
          "carpet": [
           {
            "aaxis": {
             "endlinecolor": "#2a3f5f",
             "gridcolor": "white",
             "linecolor": "white",
             "minorgridcolor": "white",
             "startlinecolor": "#2a3f5f"
            },
            "baxis": {
             "endlinecolor": "#2a3f5f",
             "gridcolor": "white",
             "linecolor": "white",
             "minorgridcolor": "white",
             "startlinecolor": "#2a3f5f"
            },
            "type": "carpet"
           }
          ],
          "choropleth": [
           {
            "colorbar": {
             "outlinewidth": 0,
             "ticks": ""
            },
            "type": "choropleth"
           }
          ],
          "contour": [
           {
            "colorbar": {
             "outlinewidth": 0,
             "ticks": ""
            },
            "colorscale": [
             [
              0,
              "#0d0887"
             ],
             [
              0.1111111111111111,
              "#46039f"
             ],
             [
              0.2222222222222222,
              "#7201a8"
             ],
             [
              0.3333333333333333,
              "#9c179e"
             ],
             [
              0.4444444444444444,
              "#bd3786"
             ],
             [
              0.5555555555555556,
              "#d8576b"
             ],
             [
              0.6666666666666666,
              "#ed7953"
             ],
             [
              0.7777777777777778,
              "#fb9f3a"
             ],
             [
              0.8888888888888888,
              "#fdca26"
             ],
             [
              1,
              "#f0f921"
             ]
            ],
            "type": "contour"
           }
          ],
          "contourcarpet": [
           {
            "colorbar": {
             "outlinewidth": 0,
             "ticks": ""
            },
            "type": "contourcarpet"
           }
          ],
          "heatmap": [
           {
            "colorbar": {
             "outlinewidth": 0,
             "ticks": ""
            },
            "colorscale": [
             [
              0,
              "#0d0887"
             ],
             [
              0.1111111111111111,
              "#46039f"
             ],
             [
              0.2222222222222222,
              "#7201a8"
             ],
             [
              0.3333333333333333,
              "#9c179e"
             ],
             [
              0.4444444444444444,
              "#bd3786"
             ],
             [
              0.5555555555555556,
              "#d8576b"
             ],
             [
              0.6666666666666666,
              "#ed7953"
             ],
             [
              0.7777777777777778,
              "#fb9f3a"
             ],
             [
              0.8888888888888888,
              "#fdca26"
             ],
             [
              1,
              "#f0f921"
             ]
            ],
            "type": "heatmap"
           }
          ],
          "heatmapgl": [
           {
            "colorbar": {
             "outlinewidth": 0,
             "ticks": ""
            },
            "colorscale": [
             [
              0,
              "#0d0887"
             ],
             [
              0.1111111111111111,
              "#46039f"
             ],
             [
              0.2222222222222222,
              "#7201a8"
             ],
             [
              0.3333333333333333,
              "#9c179e"
             ],
             [
              0.4444444444444444,
              "#bd3786"
             ],
             [
              0.5555555555555556,
              "#d8576b"
             ],
             [
              0.6666666666666666,
              "#ed7953"
             ],
             [
              0.7777777777777778,
              "#fb9f3a"
             ],
             [
              0.8888888888888888,
              "#fdca26"
             ],
             [
              1,
              "#f0f921"
             ]
            ],
            "type": "heatmapgl"
           }
          ],
          "histogram": [
           {
            "marker": {
             "colorbar": {
              "outlinewidth": 0,
              "ticks": ""
             }
            },
            "type": "histogram"
           }
          ],
          "histogram2d": [
           {
            "colorbar": {
             "outlinewidth": 0,
             "ticks": ""
            },
            "colorscale": [
             [
              0,
              "#0d0887"
             ],
             [
              0.1111111111111111,
              "#46039f"
             ],
             [
              0.2222222222222222,
              "#7201a8"
             ],
             [
              0.3333333333333333,
              "#9c179e"
             ],
             [
              0.4444444444444444,
              "#bd3786"
             ],
             [
              0.5555555555555556,
              "#d8576b"
             ],
             [
              0.6666666666666666,
              "#ed7953"
             ],
             [
              0.7777777777777778,
              "#fb9f3a"
             ],
             [
              0.8888888888888888,
              "#fdca26"
             ],
             [
              1,
              "#f0f921"
             ]
            ],
            "type": "histogram2d"
           }
          ],
          "histogram2dcontour": [
           {
            "colorbar": {
             "outlinewidth": 0,
             "ticks": ""
            },
            "colorscale": [
             [
              0,
              "#0d0887"
             ],
             [
              0.1111111111111111,
              "#46039f"
             ],
             [
              0.2222222222222222,
              "#7201a8"
             ],
             [
              0.3333333333333333,
              "#9c179e"
             ],
             [
              0.4444444444444444,
              "#bd3786"
             ],
             [
              0.5555555555555556,
              "#d8576b"
             ],
             [
              0.6666666666666666,
              "#ed7953"
             ],
             [
              0.7777777777777778,
              "#fb9f3a"
             ],
             [
              0.8888888888888888,
              "#fdca26"
             ],
             [
              1,
              "#f0f921"
             ]
            ],
            "type": "histogram2dcontour"
           }
          ],
          "mesh3d": [
           {
            "colorbar": {
             "outlinewidth": 0,
             "ticks": ""
            },
            "type": "mesh3d"
           }
          ],
          "parcoords": [
           {
            "line": {
             "colorbar": {
              "outlinewidth": 0,
              "ticks": ""
             }
            },
            "type": "parcoords"
           }
          ],
          "pie": [
           {
            "automargin": true,
            "type": "pie"
           }
          ],
          "scatter": [
           {
            "marker": {
             "colorbar": {
              "outlinewidth": 0,
              "ticks": ""
             }
            },
            "type": "scatter"
           }
          ],
          "scatter3d": [
           {
            "line": {
             "colorbar": {
              "outlinewidth": 0,
              "ticks": ""
             }
            },
            "marker": {
             "colorbar": {
              "outlinewidth": 0,
              "ticks": ""
             }
            },
            "type": "scatter3d"
           }
          ],
          "scattercarpet": [
           {
            "marker": {
             "colorbar": {
              "outlinewidth": 0,
              "ticks": ""
             }
            },
            "type": "scattercarpet"
           }
          ],
          "scattergeo": [
           {
            "marker": {
             "colorbar": {
              "outlinewidth": 0,
              "ticks": ""
             }
            },
            "type": "scattergeo"
           }
          ],
          "scattergl": [
           {
            "marker": {
             "colorbar": {
              "outlinewidth": 0,
              "ticks": ""
             }
            },
            "type": "scattergl"
           }
          ],
          "scattermapbox": [
           {
            "marker": {
             "colorbar": {
              "outlinewidth": 0,
              "ticks": ""
             }
            },
            "type": "scattermapbox"
           }
          ],
          "scatterpolar": [
           {
            "marker": {
             "colorbar": {
              "outlinewidth": 0,
              "ticks": ""
             }
            },
            "type": "scatterpolar"
           }
          ],
          "scatterpolargl": [
           {
            "marker": {
             "colorbar": {
              "outlinewidth": 0,
              "ticks": ""
             }
            },
            "type": "scatterpolargl"
           }
          ],
          "scatterternary": [
           {
            "marker": {
             "colorbar": {
              "outlinewidth": 0,
              "ticks": ""
             }
            },
            "type": "scatterternary"
           }
          ],
          "surface": [
           {
            "colorbar": {
             "outlinewidth": 0,
             "ticks": ""
            },
            "colorscale": [
             [
              0,
              "#0d0887"
             ],
             [
              0.1111111111111111,
              "#46039f"
             ],
             [
              0.2222222222222222,
              "#7201a8"
             ],
             [
              0.3333333333333333,
              "#9c179e"
             ],
             [
              0.4444444444444444,
              "#bd3786"
             ],
             [
              0.5555555555555556,
              "#d8576b"
             ],
             [
              0.6666666666666666,
              "#ed7953"
             ],
             [
              0.7777777777777778,
              "#fb9f3a"
             ],
             [
              0.8888888888888888,
              "#fdca26"
             ],
             [
              1,
              "#f0f921"
             ]
            ],
            "type": "surface"
           }
          ],
          "table": [
           {
            "cells": {
             "fill": {
              "color": "#EBF0F8"
             },
             "line": {
              "color": "white"
             }
            },
            "header": {
             "fill": {
              "color": "#C8D4E3"
             },
             "line": {
              "color": "white"
             }
            },
            "type": "table"
           }
          ]
         },
         "layout": {
          "annotationdefaults": {
           "arrowcolor": "#2a3f5f",
           "arrowhead": 0,
           "arrowwidth": 1
          },
          "coloraxis": {
           "colorbar": {
            "outlinewidth": 0,
            "ticks": ""
           }
          },
          "colorscale": {
           "diverging": [
            [
             0,
             "#8e0152"
            ],
            [
             0.1,
             "#c51b7d"
            ],
            [
             0.2,
             "#de77ae"
            ],
            [
             0.3,
             "#f1b6da"
            ],
            [
             0.4,
             "#fde0ef"
            ],
            [
             0.5,
             "#f7f7f7"
            ],
            [
             0.6,
             "#e6f5d0"
            ],
            [
             0.7,
             "#b8e186"
            ],
            [
             0.8,
             "#7fbc41"
            ],
            [
             0.9,
             "#4d9221"
            ],
            [
             1,
             "#276419"
            ]
           ],
           "sequential": [
            [
             0,
             "#0d0887"
            ],
            [
             0.1111111111111111,
             "#46039f"
            ],
            [
             0.2222222222222222,
             "#7201a8"
            ],
            [
             0.3333333333333333,
             "#9c179e"
            ],
            [
             0.4444444444444444,
             "#bd3786"
            ],
            [
             0.5555555555555556,
             "#d8576b"
            ],
            [
             0.6666666666666666,
             "#ed7953"
            ],
            [
             0.7777777777777778,
             "#fb9f3a"
            ],
            [
             0.8888888888888888,
             "#fdca26"
            ],
            [
             1,
             "#f0f921"
            ]
           ],
           "sequentialminus": [
            [
             0,
             "#0d0887"
            ],
            [
             0.1111111111111111,
             "#46039f"
            ],
            [
             0.2222222222222222,
             "#7201a8"
            ],
            [
             0.3333333333333333,
             "#9c179e"
            ],
            [
             0.4444444444444444,
             "#bd3786"
            ],
            [
             0.5555555555555556,
             "#d8576b"
            ],
            [
             0.6666666666666666,
             "#ed7953"
            ],
            [
             0.7777777777777778,
             "#fb9f3a"
            ],
            [
             0.8888888888888888,
             "#fdca26"
            ],
            [
             1,
             "#f0f921"
            ]
           ]
          },
          "colorway": [
           "#636efa",
           "#EF553B",
           "#00cc96",
           "#ab63fa",
           "#FFA15A",
           "#19d3f3",
           "#FF6692",
           "#B6E880",
           "#FF97FF",
           "#FECB52"
          ],
          "font": {
           "color": "#2a3f5f"
          },
          "geo": {
           "bgcolor": "white",
           "lakecolor": "white",
           "landcolor": "#E5ECF6",
           "showlakes": true,
           "showland": true,
           "subunitcolor": "white"
          },
          "hoverlabel": {
           "align": "left"
          },
          "hovermode": "closest",
          "mapbox": {
           "style": "light"
          },
          "paper_bgcolor": "white",
          "plot_bgcolor": "#E5ECF6",
          "polar": {
           "angularaxis": {
            "gridcolor": "white",
            "linecolor": "white",
            "ticks": ""
           },
           "bgcolor": "#E5ECF6",
           "radialaxis": {
            "gridcolor": "white",
            "linecolor": "white",
            "ticks": ""
           }
          },
          "scene": {
           "xaxis": {
            "backgroundcolor": "#E5ECF6",
            "gridcolor": "white",
            "gridwidth": 2,
            "linecolor": "white",
            "showbackground": true,
            "ticks": "",
            "zerolinecolor": "white"
           },
           "yaxis": {
            "backgroundcolor": "#E5ECF6",
            "gridcolor": "white",
            "gridwidth": 2,
            "linecolor": "white",
            "showbackground": true,
            "ticks": "",
            "zerolinecolor": "white"
           },
           "zaxis": {
            "backgroundcolor": "#E5ECF6",
            "gridcolor": "white",
            "gridwidth": 2,
            "linecolor": "white",
            "showbackground": true,
            "ticks": "",
            "zerolinecolor": "white"
           }
          },
          "shapedefaults": {
           "line": {
            "color": "#2a3f5f"
           }
          },
          "ternary": {
           "aaxis": {
            "gridcolor": "white",
            "linecolor": "white",
            "ticks": ""
           },
           "baxis": {
            "gridcolor": "white",
            "linecolor": "white",
            "ticks": ""
           },
           "bgcolor": "#E5ECF6",
           "caxis": {
            "gridcolor": "white",
            "linecolor": "white",
            "ticks": ""
           }
          },
          "title": {
           "x": 0.05
          },
          "xaxis": {
           "automargin": true,
           "gridcolor": "white",
           "linecolor": "white",
           "ticks": "",
           "title": {
            "standoff": 15
           },
           "zerolinecolor": "white",
           "zerolinewidth": 2
          },
          "yaxis": {
           "automargin": true,
           "gridcolor": "white",
           "linecolor": "white",
           "ticks": "",
           "title": {
            "standoff": 15
           },
           "zerolinecolor": "white",
           "zerolinewidth": 2
          }
         }
        },
        "xaxis": {
         "anchor": "y",
         "domain": [
          0,
          1
         ],
         "title": {
          "text": "Value"
         }
        },
        "yaxis": {
         "anchor": "x",
         "domain": [
          0,
          1
         ],
         "title": {
          "text": "count"
         }
        }
       }
      },
      "text/html": [
       "<div>\n",
       "        \n",
       "        \n",
       "            <div id=\"cd4d0e5a-040b-45a5-8784-5d64d00672b7\" class=\"plotly-graph-div\" style=\"height:525px; width:100%;\"></div>\n",
       "            <script type=\"text/javascript\">\n",
       "                require([\"plotly\"], function(Plotly) {\n",
       "                    window.PLOTLYENV=window.PLOTLYENV || {};\n",
       "                    \n",
       "                if (document.getElementById(\"cd4d0e5a-040b-45a5-8784-5d64d00672b7\")) {\n",
       "                    Plotly.newPlot(\n",
       "                        'cd4d0e5a-040b-45a5-8784-5d64d00672b7',\n",
       "                        [{\"alignmentgroup\": \"True\", \"bingroup\": \"x\", \"hovertemplate\": \"Value=%{x}<br>count=%{y}<extra></extra>\", \"legendgroup\": \"\", \"marker\": {\"color\": \"#636efa\"}, \"name\": \"\", \"offsetgroup\": \"\", \"orientation\": \"v\", \"showlegend\": false, \"type\": \"histogram\", \"x\": [15.663, 18.759, 18.835, 17.157, 19.414, 19.461, 21.613000000000003, 19.837, 21.465999999999998, 21.894000000000002, 19.143, 14.136, 13.864, 22.675, 28.136999999999997, 14.294, 14.354000000000001, 7.246, 19.015, 15.288, 17.087, 17.23, 21.671999999999997, 15.782, 19.29, 19.861, 18.371, 8.649, 18.312, 16.026, 9.222000000000001, 11.547, 8.06, 19.676, 11.654000000000002, 14.745999999999999, 19.67, 20.180999999999997, 11.198, 21.174, 11.194, 8.18, 20.36, 16.023, 6.176, 5.812, 19.706, 18.785, 18.355999999999998, 3.22, 13.716, 5.587000000000001], \"xaxis\": \"x\", \"yaxis\": \"y\"}],\n",
       "                        {\"barmode\": \"relative\", \"legend\": {\"tracegroupgap\": 0}, \"margin\": {\"t\": 60}, \"template\": {\"data\": {\"bar\": [{\"error_x\": {\"color\": \"#2a3f5f\"}, \"error_y\": {\"color\": \"#2a3f5f\"}, \"marker\": {\"line\": {\"color\": \"#E5ECF6\", \"width\": 0.5}}, \"type\": \"bar\"}], \"barpolar\": [{\"marker\": {\"line\": {\"color\": \"#E5ECF6\", \"width\": 0.5}}, \"type\": \"barpolar\"}], \"carpet\": [{\"aaxis\": {\"endlinecolor\": \"#2a3f5f\", \"gridcolor\": \"white\", \"linecolor\": \"white\", \"minorgridcolor\": \"white\", \"startlinecolor\": \"#2a3f5f\"}, \"baxis\": {\"endlinecolor\": \"#2a3f5f\", \"gridcolor\": \"white\", \"linecolor\": \"white\", \"minorgridcolor\": \"white\", \"startlinecolor\": \"#2a3f5f\"}, \"type\": \"carpet\"}], \"choropleth\": [{\"colorbar\": {\"outlinewidth\": 0, \"ticks\": \"\"}, \"type\": \"choropleth\"}], \"contour\": [{\"colorbar\": {\"outlinewidth\": 0, \"ticks\": \"\"}, \"colorscale\": [[0.0, \"#0d0887\"], [0.1111111111111111, \"#46039f\"], [0.2222222222222222, \"#7201a8\"], [0.3333333333333333, \"#9c179e\"], [0.4444444444444444, \"#bd3786\"], [0.5555555555555556, \"#d8576b\"], [0.6666666666666666, \"#ed7953\"], [0.7777777777777778, \"#fb9f3a\"], [0.8888888888888888, \"#fdca26\"], [1.0, \"#f0f921\"]], \"type\": \"contour\"}], \"contourcarpet\": [{\"colorbar\": {\"outlinewidth\": 0, \"ticks\": \"\"}, \"type\": \"contourcarpet\"}], \"heatmap\": [{\"colorbar\": {\"outlinewidth\": 0, \"ticks\": \"\"}, \"colorscale\": [[0.0, \"#0d0887\"], [0.1111111111111111, \"#46039f\"], [0.2222222222222222, \"#7201a8\"], [0.3333333333333333, \"#9c179e\"], [0.4444444444444444, \"#bd3786\"], [0.5555555555555556, \"#d8576b\"], [0.6666666666666666, \"#ed7953\"], [0.7777777777777778, \"#fb9f3a\"], [0.8888888888888888, \"#fdca26\"], [1.0, \"#f0f921\"]], \"type\": \"heatmap\"}], \"heatmapgl\": [{\"colorbar\": {\"outlinewidth\": 0, \"ticks\": \"\"}, \"colorscale\": [[0.0, \"#0d0887\"], [0.1111111111111111, \"#46039f\"], [0.2222222222222222, \"#7201a8\"], [0.3333333333333333, \"#9c179e\"], [0.4444444444444444, \"#bd3786\"], [0.5555555555555556, \"#d8576b\"], [0.6666666666666666, \"#ed7953\"], [0.7777777777777778, \"#fb9f3a\"], [0.8888888888888888, \"#fdca26\"], [1.0, \"#f0f921\"]], \"type\": \"heatmapgl\"}], \"histogram\": [{\"marker\": {\"colorbar\": {\"outlinewidth\": 0, \"ticks\": \"\"}}, \"type\": \"histogram\"}], \"histogram2d\": [{\"colorbar\": {\"outlinewidth\": 0, \"ticks\": \"\"}, \"colorscale\": [[0.0, \"#0d0887\"], [0.1111111111111111, \"#46039f\"], [0.2222222222222222, \"#7201a8\"], [0.3333333333333333, \"#9c179e\"], [0.4444444444444444, \"#bd3786\"], [0.5555555555555556, \"#d8576b\"], [0.6666666666666666, \"#ed7953\"], [0.7777777777777778, \"#fb9f3a\"], [0.8888888888888888, \"#fdca26\"], [1.0, \"#f0f921\"]], \"type\": \"histogram2d\"}], \"histogram2dcontour\": [{\"colorbar\": {\"outlinewidth\": 0, \"ticks\": \"\"}, \"colorscale\": [[0.0, \"#0d0887\"], [0.1111111111111111, \"#46039f\"], [0.2222222222222222, \"#7201a8\"], [0.3333333333333333, \"#9c179e\"], [0.4444444444444444, \"#bd3786\"], [0.5555555555555556, \"#d8576b\"], [0.6666666666666666, \"#ed7953\"], [0.7777777777777778, \"#fb9f3a\"], [0.8888888888888888, \"#fdca26\"], [1.0, \"#f0f921\"]], \"type\": \"histogram2dcontour\"}], \"mesh3d\": [{\"colorbar\": {\"outlinewidth\": 0, \"ticks\": \"\"}, \"type\": \"mesh3d\"}], \"parcoords\": [{\"line\": {\"colorbar\": {\"outlinewidth\": 0, \"ticks\": \"\"}}, \"type\": \"parcoords\"}], \"pie\": [{\"automargin\": true, \"type\": \"pie\"}], \"scatter\": [{\"marker\": {\"colorbar\": {\"outlinewidth\": 0, \"ticks\": \"\"}}, \"type\": \"scatter\"}], \"scatter3d\": [{\"line\": {\"colorbar\": {\"outlinewidth\": 0, \"ticks\": \"\"}}, \"marker\": {\"colorbar\": {\"outlinewidth\": 0, \"ticks\": \"\"}}, \"type\": \"scatter3d\"}], \"scattercarpet\": [{\"marker\": {\"colorbar\": {\"outlinewidth\": 0, \"ticks\": \"\"}}, \"type\": \"scattercarpet\"}], \"scattergeo\": [{\"marker\": {\"colorbar\": {\"outlinewidth\": 0, \"ticks\": \"\"}}, \"type\": \"scattergeo\"}], \"scattergl\": [{\"marker\": {\"colorbar\": {\"outlinewidth\": 0, \"ticks\": \"\"}}, \"type\": \"scattergl\"}], \"scattermapbox\": [{\"marker\": {\"colorbar\": {\"outlinewidth\": 0, \"ticks\": \"\"}}, \"type\": \"scattermapbox\"}], \"scatterpolar\": [{\"marker\": {\"colorbar\": {\"outlinewidth\": 0, \"ticks\": \"\"}}, \"type\": \"scatterpolar\"}], \"scatterpolargl\": [{\"marker\": {\"colorbar\": {\"outlinewidth\": 0, \"ticks\": \"\"}}, \"type\": \"scatterpolargl\"}], \"scatterternary\": [{\"marker\": {\"colorbar\": {\"outlinewidth\": 0, \"ticks\": \"\"}}, \"type\": \"scatterternary\"}], \"surface\": [{\"colorbar\": {\"outlinewidth\": 0, \"ticks\": \"\"}, \"colorscale\": [[0.0, \"#0d0887\"], [0.1111111111111111, \"#46039f\"], [0.2222222222222222, \"#7201a8\"], [0.3333333333333333, \"#9c179e\"], [0.4444444444444444, \"#bd3786\"], [0.5555555555555556, \"#d8576b\"], [0.6666666666666666, \"#ed7953\"], [0.7777777777777778, \"#fb9f3a\"], [0.8888888888888888, \"#fdca26\"], [1.0, \"#f0f921\"]], \"type\": \"surface\"}], \"table\": [{\"cells\": {\"fill\": {\"color\": \"#EBF0F8\"}, \"line\": {\"color\": \"white\"}}, \"header\": {\"fill\": {\"color\": \"#C8D4E3\"}, \"line\": {\"color\": \"white\"}}, \"type\": \"table\"}]}, \"layout\": {\"annotationdefaults\": {\"arrowcolor\": \"#2a3f5f\", \"arrowhead\": 0, \"arrowwidth\": 1}, \"coloraxis\": {\"colorbar\": {\"outlinewidth\": 0, \"ticks\": \"\"}}, \"colorscale\": {\"diverging\": [[0, \"#8e0152\"], [0.1, \"#c51b7d\"], [0.2, \"#de77ae\"], [0.3, \"#f1b6da\"], [0.4, \"#fde0ef\"], [0.5, \"#f7f7f7\"], [0.6, \"#e6f5d0\"], [0.7, \"#b8e186\"], [0.8, \"#7fbc41\"], [0.9, \"#4d9221\"], [1, \"#276419\"]], \"sequential\": [[0.0, \"#0d0887\"], [0.1111111111111111, \"#46039f\"], [0.2222222222222222, \"#7201a8\"], [0.3333333333333333, \"#9c179e\"], [0.4444444444444444, \"#bd3786\"], [0.5555555555555556, \"#d8576b\"], [0.6666666666666666, \"#ed7953\"], [0.7777777777777778, \"#fb9f3a\"], [0.8888888888888888, \"#fdca26\"], [1.0, \"#f0f921\"]], \"sequentialminus\": [[0.0, \"#0d0887\"], [0.1111111111111111, \"#46039f\"], [0.2222222222222222, \"#7201a8\"], [0.3333333333333333, \"#9c179e\"], [0.4444444444444444, \"#bd3786\"], [0.5555555555555556, \"#d8576b\"], [0.6666666666666666, \"#ed7953\"], [0.7777777777777778, \"#fb9f3a\"], [0.8888888888888888, \"#fdca26\"], [1.0, \"#f0f921\"]]}, \"colorway\": [\"#636efa\", \"#EF553B\", \"#00cc96\", \"#ab63fa\", \"#FFA15A\", \"#19d3f3\", \"#FF6692\", \"#B6E880\", \"#FF97FF\", \"#FECB52\"], \"font\": {\"color\": \"#2a3f5f\"}, \"geo\": {\"bgcolor\": \"white\", \"lakecolor\": \"white\", \"landcolor\": \"#E5ECF6\", \"showlakes\": true, \"showland\": true, \"subunitcolor\": \"white\"}, \"hoverlabel\": {\"align\": \"left\"}, \"hovermode\": \"closest\", \"mapbox\": {\"style\": \"light\"}, \"paper_bgcolor\": \"white\", \"plot_bgcolor\": \"#E5ECF6\", \"polar\": {\"angularaxis\": {\"gridcolor\": \"white\", \"linecolor\": \"white\", \"ticks\": \"\"}, \"bgcolor\": \"#E5ECF6\", \"radialaxis\": {\"gridcolor\": \"white\", \"linecolor\": \"white\", \"ticks\": \"\"}}, \"scene\": {\"xaxis\": {\"backgroundcolor\": \"#E5ECF6\", \"gridcolor\": \"white\", \"gridwidth\": 2, \"linecolor\": \"white\", \"showbackground\": true, \"ticks\": \"\", \"zerolinecolor\": \"white\"}, \"yaxis\": {\"backgroundcolor\": \"#E5ECF6\", \"gridcolor\": \"white\", \"gridwidth\": 2, \"linecolor\": \"white\", \"showbackground\": true, \"ticks\": \"\", \"zerolinecolor\": \"white\"}, \"zaxis\": {\"backgroundcolor\": \"#E5ECF6\", \"gridcolor\": \"white\", \"gridwidth\": 2, \"linecolor\": \"white\", \"showbackground\": true, \"ticks\": \"\", \"zerolinecolor\": \"white\"}}, \"shapedefaults\": {\"line\": {\"color\": \"#2a3f5f\"}}, \"ternary\": {\"aaxis\": {\"gridcolor\": \"white\", \"linecolor\": \"white\", \"ticks\": \"\"}, \"baxis\": {\"gridcolor\": \"white\", \"linecolor\": \"white\", \"ticks\": \"\"}, \"bgcolor\": \"#E5ECF6\", \"caxis\": {\"gridcolor\": \"white\", \"linecolor\": \"white\", \"ticks\": \"\"}}, \"title\": {\"x\": 0.05}, \"xaxis\": {\"automargin\": true, \"gridcolor\": \"white\", \"linecolor\": \"white\", \"ticks\": \"\", \"title\": {\"standoff\": 15}, \"zerolinecolor\": \"white\", \"zerolinewidth\": 2}, \"yaxis\": {\"automargin\": true, \"gridcolor\": \"white\", \"linecolor\": \"white\", \"ticks\": \"\", \"title\": {\"standoff\": 15}, \"zerolinecolor\": \"white\", \"zerolinewidth\": 2}}}, \"xaxis\": {\"anchor\": \"y\", \"domain\": [0.0, 1.0], \"title\": {\"text\": \"Value\"}}, \"yaxis\": {\"anchor\": \"x\", \"domain\": [0.0, 1.0], \"title\": {\"text\": \"count\"}}},\n",
       "                        {\"responsive\": true}\n",
       "                    ).then(function(){\n",
       "                            \n",
       "var gd = document.getElementById('cd4d0e5a-040b-45a5-8784-5d64d00672b7');\n",
       "var x = new MutationObserver(function (mutations, observer) {{\n",
       "        var display = window.getComputedStyle(gd).display;\n",
       "        if (!display || display === 'none') {{\n",
       "            console.log([gd, 'removed!']);\n",
       "            Plotly.purge(gd);\n",
       "            observer.disconnect();\n",
       "        }}\n",
       "}});\n",
       "\n",
       "// Listen for the removal of the full notebook cells\n",
       "var notebookContainer = gd.closest('#notebook-container');\n",
       "if (notebookContainer) {{\n",
       "    x.observe(notebookContainer, {childList: true});\n",
       "}}\n",
       "\n",
       "// Listen for the clearing of the current output cell\n",
       "var outputEl = gd.closest('.output');\n",
       "if (outputEl) {{\n",
       "    x.observe(outputEl, {childList: true});\n",
       "}}\n",
       "\n",
       "                        })\n",
       "                };\n",
       "                });\n",
       "            </script>\n",
       "        </div>"
      ]
     },
     "metadata": {},
     "output_type": "display_data"
    }
   ],
   "source": [
    "fig = px.histogram(df_recentyear_age, x=\"Value\")\n",
    "fig.show()"
   ]
  },
  {
   "cell_type": "code",
   "execution_count": 49,
   "metadata": {
    "scrolled": true
   },
   "outputs": [
    {
     "name": "stderr",
     "output_type": "stream",
     "text": [
      "/opt/anaconda3/lib/python3.7/site-packages/ipykernel_launcher.py:3: SettingWithCopyWarning:\n",
      "\n",
      "\n",
      "A value is trying to be set on a copy of a slice from a DataFrame.\n",
      "Try using .loc[row_indexer,col_indexer] = value instead\n",
      "\n",
      "See the caveats in the documentation: https://pandas.pydata.org/pandas-docs/stable/user_guide/indexing.html#returning-a-view-versus-a-copy\n",
      "\n",
      "/opt/anaconda3/lib/python3.7/site-packages/ipykernel_launcher.py:6: SettingWithCopyWarning:\n",
      "\n",
      "\n",
      "A value is trying to be set on a copy of a slice from a DataFrame.\n",
      "Try using .loc[row_indexer,col_indexer] = value instead\n",
      "\n",
      "See the caveats in the documentation: https://pandas.pydata.org/pandas-docs/stable/user_guide/indexing.html#returning-a-view-versus-a-copy\n",
      "\n"
     ]
    }
   ],
   "source": [
    "#append deathrate to our df from part 1 (containing information about the hospitalbeds\n",
    "#using list, so that's iterable\n",
    "df_recentyear_age['death rate'] = list(deathrate)\n",
    "#plus making sure that the correct countries are appended on the correct row\n",
    "#and it's more convenient to read than the country 3 letter code\n",
    "df_recentyear_age['Country'] = country_longnames_recent_age\n",
    "\n"
   ]
  },
  {
   "cell_type": "code",
   "execution_count": 50,
   "metadata": {
    "scrolled": true
   },
   "outputs": [
    {
     "data": {
      "text/html": [
       "<div>\n",
       "<style scoped>\n",
       "    .dataframe tbody tr th:only-of-type {\n",
       "        vertical-align: middle;\n",
       "    }\n",
       "\n",
       "    .dataframe tbody tr th {\n",
       "        vertical-align: top;\n",
       "    }\n",
       "\n",
       "    .dataframe thead th {\n",
       "        text-align: right;\n",
       "    }\n",
       "</style>\n",
       "<table border=\"1\" class=\"dataframe\">\n",
       "  <thead>\n",
       "    <tr style=\"text-align: right;\">\n",
       "      <th></th>\n",
       "      <th>LOCATION</th>\n",
       "      <th>SUBJECT</th>\n",
       "      <th>Value</th>\n",
       "      <th>Flag Codes</th>\n",
       "      <th>Deathrate</th>\n",
       "      <th>Country</th>\n",
       "      <th>log10Deathrate</th>\n",
       "    </tr>\n",
       "    <tr>\n",
       "      <th>TIME</th>\n",
       "      <th></th>\n",
       "      <th></th>\n",
       "      <th></th>\n",
       "      <th></th>\n",
       "      <th></th>\n",
       "      <th></th>\n",
       "      <th></th>\n",
       "    </tr>\n",
       "  </thead>\n",
       "  <tbody>\n",
       "    <tr>\n",
       "      <th>2018</th>\n",
       "      <td>AUS</td>\n",
       "      <td>TOT</td>\n",
       "      <td>15.663</td>\n",
       "      <td>NaN</td>\n",
       "      <td>0.013917</td>\n",
       "      <td>Australia</td>\n",
       "      <td>-1.856461</td>\n",
       "    </tr>\n",
       "    <tr>\n",
       "      <th>2018</th>\n",
       "      <td>AUT</td>\n",
       "      <td>TOT</td>\n",
       "      <td>18.759</td>\n",
       "      <td>NaN</td>\n",
       "      <td>0.039038</td>\n",
       "      <td>Austria</td>\n",
       "      <td>-1.408514</td>\n",
       "    </tr>\n",
       "    <tr>\n",
       "      <th>2018</th>\n",
       "      <td>BEL</td>\n",
       "      <td>TOT</td>\n",
       "      <td>18.835</td>\n",
       "      <td>NaN</td>\n",
       "      <td>0.162903</td>\n",
       "      <td>Belgium</td>\n",
       "      <td>-0.788071</td>\n",
       "    </tr>\n",
       "    <tr>\n",
       "      <th>2018</th>\n",
       "      <td>CAN</td>\n",
       "      <td>TOT</td>\n",
       "      <td>17.157</td>\n",
       "      <td>NaN</td>\n",
       "      <td>0.071775</td>\n",
       "      <td>Canada</td>\n",
       "      <td>-1.144025</td>\n",
       "    </tr>\n",
       "    <tr>\n",
       "      <th>2018</th>\n",
       "      <td>CZE</td>\n",
       "      <td>TOT</td>\n",
       "      <td>19.414</td>\n",
       "      <td>NaN</td>\n",
       "      <td>0.034491</td>\n",
       "      <td>Czechia</td>\n",
       "      <td>-1.462292</td>\n",
       "    </tr>\n",
       "    <tr>\n",
       "      <th>2018</th>\n",
       "      <td>DNK</td>\n",
       "      <td>TOT</td>\n",
       "      <td>19.461</td>\n",
       "      <td>NaN</td>\n",
       "      <td>0.049762</td>\n",
       "      <td>Denmark</td>\n",
       "      <td>-1.303103</td>\n",
       "    </tr>\n",
       "    <tr>\n",
       "      <th>2018</th>\n",
       "      <td>FIN</td>\n",
       "      <td>TOT</td>\n",
       "      <td>21.613</td>\n",
       "      <td>NaN</td>\n",
       "      <td>0.045287</td>\n",
       "      <td>Finland</td>\n",
       "      <td>-1.344022</td>\n",
       "    </tr>\n",
       "    <tr>\n",
       "      <th>2018</th>\n",
       "      <td>FRA</td>\n",
       "      <td>TOT</td>\n",
       "      <td>19.837</td>\n",
       "      <td>NaN</td>\n",
       "      <td>0.150079</td>\n",
       "      <td>France</td>\n",
       "      <td>-0.823681</td>\n",
       "    </tr>\n",
       "    <tr>\n",
       "      <th>2018</th>\n",
       "      <td>DEU</td>\n",
       "      <td>TOT</td>\n",
       "      <td>21.466</td>\n",
       "      <td>NaN</td>\n",
       "      <td>0.044392</td>\n",
       "      <td>Germany</td>\n",
       "      <td>-1.352695</td>\n",
       "    </tr>\n",
       "    <tr>\n",
       "      <th>2018</th>\n",
       "      <td>GRC</td>\n",
       "      <td>TOT</td>\n",
       "      <td>21.894</td>\n",
       "      <td>NaN</td>\n",
       "      <td>0.055393</td>\n",
       "      <td>Greece</td>\n",
       "      <td>-1.256549</td>\n",
       "    </tr>\n",
       "    <tr>\n",
       "      <th>2018</th>\n",
       "      <td>HUN</td>\n",
       "      <td>TOT</td>\n",
       "      <td>19.143</td>\n",
       "      <td>NaN</td>\n",
       "      <td>0.128197</td>\n",
       "      <td>Hungary</td>\n",
       "      <td>-0.892121</td>\n",
       "    </tr>\n",
       "    <tr>\n",
       "      <th>2018</th>\n",
       "      <td>ISL</td>\n",
       "      <td>TOT</td>\n",
       "      <td>14.136</td>\n",
       "      <td>NaN</td>\n",
       "      <td>0.005552</td>\n",
       "      <td>Iceland</td>\n",
       "      <td>-2.255514</td>\n",
       "    </tr>\n",
       "    <tr>\n",
       "      <th>2018</th>\n",
       "      <td>IRL</td>\n",
       "      <td>TOT</td>\n",
       "      <td>13.864</td>\n",
       "      <td>NaN</td>\n",
       "      <td>0.063410</td>\n",
       "      <td>Ireland</td>\n",
       "      <td>-1.197839</td>\n",
       "    </tr>\n",
       "    <tr>\n",
       "      <th>2018</th>\n",
       "      <td>ITA</td>\n",
       "      <td>TOT</td>\n",
       "      <td>22.675</td>\n",
       "      <td>NaN</td>\n",
       "      <td>0.139841</td>\n",
       "      <td>Italy</td>\n",
       "      <td>-0.854366</td>\n",
       "    </tr>\n",
       "    <tr>\n",
       "      <th>2018</th>\n",
       "      <td>JPN</td>\n",
       "      <td>TOT</td>\n",
       "      <td>28.137</td>\n",
       "      <td>NaN</td>\n",
       "      <td>0.039944</td>\n",
       "      <td>Japan</td>\n",
       "      <td>-1.398543</td>\n",
       "    </tr>\n",
       "    <tr>\n",
       "      <th>2018</th>\n",
       "      <td>KOR</td>\n",
       "      <td>TOT</td>\n",
       "      <td>14.294</td>\n",
       "      <td>NaN</td>\n",
       "      <td>0.023592</td>\n",
       "      <td>Korea, South</td>\n",
       "      <td>-1.627239</td>\n",
       "    </tr>\n",
       "    <tr>\n",
       "      <th>2018</th>\n",
       "      <td>LUX</td>\n",
       "      <td>TOT</td>\n",
       "      <td>14.354</td>\n",
       "      <td>NaN</td>\n",
       "      <td>0.025977</td>\n",
       "      <td>Luxembourg</td>\n",
       "      <td>-1.585405</td>\n",
       "    </tr>\n",
       "    <tr>\n",
       "      <th>2018</th>\n",
       "      <td>MEX</td>\n",
       "      <td>TOT</td>\n",
       "      <td>7.246</td>\n",
       "      <td>NaN</td>\n",
       "      <td>0.098357</td>\n",
       "      <td>Mexico</td>\n",
       "      <td>-1.007197</td>\n",
       "    </tr>\n",
       "    <tr>\n",
       "      <th>2018</th>\n",
       "      <td>NLD</td>\n",
       "      <td>TOT</td>\n",
       "      <td>19.015</td>\n",
       "      <td>NaN</td>\n",
       "      <td>0.127364</td>\n",
       "      <td>Netherlands</td>\n",
       "      <td>-0.894953</td>\n",
       "    </tr>\n",
       "    <tr>\n",
       "      <th>2018</th>\n",
       "      <td>NZL</td>\n",
       "      <td>TOT</td>\n",
       "      <td>15.288</td>\n",
       "      <td>NaN</td>\n",
       "      <td>0.014028</td>\n",
       "      <td>New Zealand</td>\n",
       "      <td>-1.853003</td>\n",
       "    </tr>\n",
       "    <tr>\n",
       "      <th>2018</th>\n",
       "      <td>NOR</td>\n",
       "      <td>TOT</td>\n",
       "      <td>17.087</td>\n",
       "      <td>NaN</td>\n",
       "      <td>0.027545</td>\n",
       "      <td>Norway</td>\n",
       "      <td>-1.559949</td>\n",
       "    </tr>\n",
       "    <tr>\n",
       "      <th>2018</th>\n",
       "      <td>POL</td>\n",
       "      <td>TOT</td>\n",
       "      <td>17.230</td>\n",
       "      <td>NaN</td>\n",
       "      <td>0.049675</td>\n",
       "      <td>Poland</td>\n",
       "      <td>-1.303859</td>\n",
       "    </tr>\n",
       "    <tr>\n",
       "      <th>2018</th>\n",
       "      <td>PRT</td>\n",
       "      <td>TOT</td>\n",
       "      <td>21.672</td>\n",
       "      <td>NaN</td>\n",
       "      <td>0.041331</td>\n",
       "      <td>Portugal</td>\n",
       "      <td>-1.383724</td>\n",
       "    </tr>\n",
       "    <tr>\n",
       "      <th>2018</th>\n",
       "      <td>SVK</td>\n",
       "      <td>TOT</td>\n",
       "      <td>15.782</td>\n",
       "      <td>NaN</td>\n",
       "      <td>0.017845</td>\n",
       "      <td>Slovakia</td>\n",
       "      <td>-1.748486</td>\n",
       "    </tr>\n",
       "    <tr>\n",
       "      <th>2018</th>\n",
       "      <td>ESP</td>\n",
       "      <td>TOT</td>\n",
       "      <td>19.290</td>\n",
       "      <td>NaN</td>\n",
       "      <td>0.117589</td>\n",
       "      <td>Spain</td>\n",
       "      <td>-0.929633</td>\n",
       "    </tr>\n",
       "    <tr>\n",
       "      <th>2018</th>\n",
       "      <td>SWE</td>\n",
       "      <td>TOT</td>\n",
       "      <td>19.861</td>\n",
       "      <td>NaN</td>\n",
       "      <td>0.122085</td>\n",
       "      <td>Sweden</td>\n",
       "      <td>-0.913339</td>\n",
       "    </tr>\n",
       "    <tr>\n",
       "      <th>2018</th>\n",
       "      <td>CHE</td>\n",
       "      <td>TOT</td>\n",
       "      <td>18.371</td>\n",
       "      <td>NaN</td>\n",
       "      <td>0.060803</td>\n",
       "      <td>Switzerland</td>\n",
       "      <td>-1.216076</td>\n",
       "    </tr>\n",
       "    <tr>\n",
       "      <th>2018</th>\n",
       "      <td>TUR</td>\n",
       "      <td>TOT</td>\n",
       "      <td>8.649</td>\n",
       "      <td>NaN</td>\n",
       "      <td>0.027481</td>\n",
       "      <td>Turkey</td>\n",
       "      <td>-1.560973</td>\n",
       "    </tr>\n",
       "    <tr>\n",
       "      <th>2018</th>\n",
       "      <td>GBR</td>\n",
       "      <td>TOT</td>\n",
       "      <td>18.312</td>\n",
       "      <td>NaN</td>\n",
       "      <td>0.143274</td>\n",
       "      <td>United Kingdom</td>\n",
       "      <td>-0.843832</td>\n",
       "    </tr>\n",
       "    <tr>\n",
       "      <th>2018</th>\n",
       "      <td>USA</td>\n",
       "      <td>TOT</td>\n",
       "      <td>16.026</td>\n",
       "      <td>NaN</td>\n",
       "      <td>0.059858</td>\n",
       "      <td>United States</td>\n",
       "      <td>-1.222875</td>\n",
       "    </tr>\n",
       "    <tr>\n",
       "      <th>2018</th>\n",
       "      <td>BRA</td>\n",
       "      <td>TOT</td>\n",
       "      <td>9.222</td>\n",
       "      <td>NaN</td>\n",
       "      <td>0.068711</td>\n",
       "      <td>Brazil</td>\n",
       "      <td>-1.162973</td>\n",
       "    </tr>\n",
       "    <tr>\n",
       "      <th>2018</th>\n",
       "      <td>CHL</td>\n",
       "      <td>TOT</td>\n",
       "      <td>11.547</td>\n",
       "      <td>NaN</td>\n",
       "      <td>0.010744</td>\n",
       "      <td>Chile</td>\n",
       "      <td>-1.968830</td>\n",
       "    </tr>\n",
       "    <tr>\n",
       "      <th>2018</th>\n",
       "      <td>COL</td>\n",
       "      <td>TOT</td>\n",
       "      <td>8.060</td>\n",
       "      <td>NaN</td>\n",
       "      <td>0.041247</td>\n",
       "      <td>Colombia</td>\n",
       "      <td>-1.384609</td>\n",
       "    </tr>\n",
       "    <tr>\n",
       "      <th>2018</th>\n",
       "      <td>EST</td>\n",
       "      <td>TOT</td>\n",
       "      <td>19.676</td>\n",
       "      <td>NaN</td>\n",
       "      <td>0.035037</td>\n",
       "      <td>Estonia</td>\n",
       "      <td>-1.455469</td>\n",
       "    </tr>\n",
       "    <tr>\n",
       "      <th>2018</th>\n",
       "      <td>ISR</td>\n",
       "      <td>TOT</td>\n",
       "      <td>11.654</td>\n",
       "      <td>NaN</td>\n",
       "      <td>0.015631</td>\n",
       "      <td>Israel</td>\n",
       "      <td>-1.806022</td>\n",
       "    </tr>\n",
       "    <tr>\n",
       "      <th>2018</th>\n",
       "      <td>RUS</td>\n",
       "      <td>TOT</td>\n",
       "      <td>14.746</td>\n",
       "      <td>NaN</td>\n",
       "      <td>0.009076</td>\n",
       "      <td>Russia</td>\n",
       "      <td>-2.042088</td>\n",
       "    </tr>\n",
       "    <tr>\n",
       "      <th>2018</th>\n",
       "      <td>SVN</td>\n",
       "      <td>TOT</td>\n",
       "      <td>19.670</td>\n",
       "      <td>NaN</td>\n",
       "      <td>0.069863</td>\n",
       "      <td>Slovenia</td>\n",
       "      <td>-1.155753</td>\n",
       "    </tr>\n",
       "    <tr>\n",
       "      <th>2018</th>\n",
       "      <td>LVA</td>\n",
       "      <td>TOT</td>\n",
       "      <td>20.181</td>\n",
       "      <td>NaN</td>\n",
       "      <td>0.019027</td>\n",
       "      <td>Latvia</td>\n",
       "      <td>-1.720619</td>\n",
       "    </tr>\n",
       "    <tr>\n",
       "      <th>2018</th>\n",
       "      <td>ARG</td>\n",
       "      <td>TOT</td>\n",
       "      <td>11.198</td>\n",
       "      <td>NaN</td>\n",
       "      <td>0.050016</td>\n",
       "      <td>Argentina</td>\n",
       "      <td>-1.300892</td>\n",
       "    </tr>\n",
       "    <tr>\n",
       "      <th>2018</th>\n",
       "      <td>BGR</td>\n",
       "      <td>TOT</td>\n",
       "      <td>21.174</td>\n",
       "      <td>NaN</td>\n",
       "      <td>0.046734</td>\n",
       "      <td>Bulgaria</td>\n",
       "      <td>-1.330370</td>\n",
       "    </tr>\n",
       "    <tr>\n",
       "      <th>2018</th>\n",
       "      <td>CHN</td>\n",
       "      <td>TOT</td>\n",
       "      <td>11.194</td>\n",
       "      <td>NaN</td>\n",
       "      <td>0.055195</td>\n",
       "      <td>China</td>\n",
       "      <td>-1.258099</td>\n",
       "    </tr>\n",
       "    <tr>\n",
       "      <th>2018</th>\n",
       "      <td>CRI</td>\n",
       "      <td>TOT</td>\n",
       "      <td>8.180</td>\n",
       "      <td>NaN</td>\n",
       "      <td>0.008739</td>\n",
       "      <td>Costa Rica</td>\n",
       "      <td>-2.058534</td>\n",
       "    </tr>\n",
       "    <tr>\n",
       "      <th>2018</th>\n",
       "      <td>HRV</td>\n",
       "      <td>TOT</td>\n",
       "      <td>20.360</td>\n",
       "      <td>NaN</td>\n",
       "      <td>0.041439</td>\n",
       "      <td>Croatia</td>\n",
       "      <td>-1.382591</td>\n",
       "    </tr>\n",
       "    <tr>\n",
       "      <th>2018</th>\n",
       "      <td>CYP</td>\n",
       "      <td>TOT</td>\n",
       "      <td>16.023</td>\n",
       "      <td>NaN</td>\n",
       "      <td>0.017758</td>\n",
       "      <td>Cyprus</td>\n",
       "      <td>-1.750605</td>\n",
       "    </tr>\n",
       "    <tr>\n",
       "      <th>2018</th>\n",
       "      <td>IND</td>\n",
       "      <td>TOT</td>\n",
       "      <td>6.176</td>\n",
       "      <td>NaN</td>\n",
       "      <td>0.032416</td>\n",
       "      <td>India</td>\n",
       "      <td>-1.489244</td>\n",
       "    </tr>\n",
       "    <tr>\n",
       "      <th>2018</th>\n",
       "      <td>IDN</td>\n",
       "      <td>TOT</td>\n",
       "      <td>5.812</td>\n",
       "      <td>NaN</td>\n",
       "      <td>0.069471</td>\n",
       "      <td>Indonesia</td>\n",
       "      <td>-1.158198</td>\n",
       "    </tr>\n",
       "    <tr>\n",
       "      <th>2018</th>\n",
       "      <td>LTU</td>\n",
       "      <td>TOT</td>\n",
       "      <td>19.706</td>\n",
       "      <td>NaN</td>\n",
       "      <td>0.033670</td>\n",
       "      <td>Lithuania</td>\n",
       "      <td>-1.472756</td>\n",
       "    </tr>\n",
       "    <tr>\n",
       "      <th>2018</th>\n",
       "      <td>MLT</td>\n",
       "      <td>TOT</td>\n",
       "      <td>18.785</td>\n",
       "      <td>NaN</td>\n",
       "      <td>0.009940</td>\n",
       "      <td>Malta</td>\n",
       "      <td>-2.002598</td>\n",
       "    </tr>\n",
       "    <tr>\n",
       "      <th>2018</th>\n",
       "      <td>ROU</td>\n",
       "      <td>TOT</td>\n",
       "      <td>18.356</td>\n",
       "      <td>NaN</td>\n",
       "      <td>0.062997</td>\n",
       "      <td>Romania</td>\n",
       "      <td>-1.200679</td>\n",
       "    </tr>\n",
       "    <tr>\n",
       "      <th>2018</th>\n",
       "      <td>SAU</td>\n",
       "      <td>TOT</td>\n",
       "      <td>3.220</td>\n",
       "      <td>NaN</td>\n",
       "      <td>0.006217</td>\n",
       "      <td>Saudi Arabia</td>\n",
       "      <td>-2.206392</td>\n",
       "    </tr>\n",
       "    <tr>\n",
       "      <th>2018</th>\n",
       "      <td>SGP</td>\n",
       "      <td>TOT</td>\n",
       "      <td>13.716</td>\n",
       "      <td>NaN</td>\n",
       "      <td>0.000882</td>\n",
       "      <td>Singapore</td>\n",
       "      <td>-3.054759</td>\n",
       "    </tr>\n",
       "    <tr>\n",
       "      <th>2018</th>\n",
       "      <td>ZAF</td>\n",
       "      <td>TOT</td>\n",
       "      <td>5.587</td>\n",
       "      <td>NaN</td>\n",
       "      <td>0.019339</td>\n",
       "      <td>South Africa</td>\n",
       "      <td>-1.713564</td>\n",
       "    </tr>\n",
       "  </tbody>\n",
       "</table>\n",
       "</div>"
      ],
      "text/plain": [
       "     LOCATION SUBJECT   Value  Flag Codes  Deathrate         Country  \\\n",
       "TIME                                                                   \n",
       "2018      AUS     TOT  15.663         NaN   0.013917       Australia   \n",
       "2018      AUT     TOT  18.759         NaN   0.039038         Austria   \n",
       "2018      BEL     TOT  18.835         NaN   0.162903         Belgium   \n",
       "2018      CAN     TOT  17.157         NaN   0.071775          Canada   \n",
       "2018      CZE     TOT  19.414         NaN   0.034491         Czechia   \n",
       "2018      DNK     TOT  19.461         NaN   0.049762         Denmark   \n",
       "2018      FIN     TOT  21.613         NaN   0.045287         Finland   \n",
       "2018      FRA     TOT  19.837         NaN   0.150079          France   \n",
       "2018      DEU     TOT  21.466         NaN   0.044392         Germany   \n",
       "2018      GRC     TOT  21.894         NaN   0.055393          Greece   \n",
       "2018      HUN     TOT  19.143         NaN   0.128197         Hungary   \n",
       "2018      ISL     TOT  14.136         NaN   0.005552         Iceland   \n",
       "2018      IRL     TOT  13.864         NaN   0.063410         Ireland   \n",
       "2018      ITA     TOT  22.675         NaN   0.139841           Italy   \n",
       "2018      JPN     TOT  28.137         NaN   0.039944           Japan   \n",
       "2018      KOR     TOT  14.294         NaN   0.023592    Korea, South   \n",
       "2018      LUX     TOT  14.354         NaN   0.025977      Luxembourg   \n",
       "2018      MEX     TOT   7.246         NaN   0.098357          Mexico   \n",
       "2018      NLD     TOT  19.015         NaN   0.127364     Netherlands   \n",
       "2018      NZL     TOT  15.288         NaN   0.014028     New Zealand   \n",
       "2018      NOR     TOT  17.087         NaN   0.027545          Norway   \n",
       "2018      POL     TOT  17.230         NaN   0.049675          Poland   \n",
       "2018      PRT     TOT  21.672         NaN   0.041331        Portugal   \n",
       "2018      SVK     TOT  15.782         NaN   0.017845        Slovakia   \n",
       "2018      ESP     TOT  19.290         NaN   0.117589           Spain   \n",
       "2018      SWE     TOT  19.861         NaN   0.122085          Sweden   \n",
       "2018      CHE     TOT  18.371         NaN   0.060803     Switzerland   \n",
       "2018      TUR     TOT   8.649         NaN   0.027481          Turkey   \n",
       "2018      GBR     TOT  18.312         NaN   0.143274  United Kingdom   \n",
       "2018      USA     TOT  16.026         NaN   0.059858   United States   \n",
       "2018      BRA     TOT   9.222         NaN   0.068711          Brazil   \n",
       "2018      CHL     TOT  11.547         NaN   0.010744           Chile   \n",
       "2018      COL     TOT   8.060         NaN   0.041247        Colombia   \n",
       "2018      EST     TOT  19.676         NaN   0.035037         Estonia   \n",
       "2018      ISR     TOT  11.654         NaN   0.015631          Israel   \n",
       "2018      RUS     TOT  14.746         NaN   0.009076          Russia   \n",
       "2018      SVN     TOT  19.670         NaN   0.069863        Slovenia   \n",
       "2018      LVA     TOT  20.181         NaN   0.019027          Latvia   \n",
       "2018      ARG     TOT  11.198         NaN   0.050016       Argentina   \n",
       "2018      BGR     TOT  21.174         NaN   0.046734        Bulgaria   \n",
       "2018      CHN     TOT  11.194         NaN   0.055195           China   \n",
       "2018      CRI     TOT   8.180         NaN   0.008739      Costa Rica   \n",
       "2018      HRV     TOT  20.360         NaN   0.041439         Croatia   \n",
       "2018      CYP     TOT  16.023         NaN   0.017758          Cyprus   \n",
       "2018      IND     TOT   6.176         NaN   0.032416           India   \n",
       "2018      IDN     TOT   5.812         NaN   0.069471       Indonesia   \n",
       "2018      LTU     TOT  19.706         NaN   0.033670       Lithuania   \n",
       "2018      MLT     TOT  18.785         NaN   0.009940           Malta   \n",
       "2018      ROU     TOT  18.356         NaN   0.062997         Romania   \n",
       "2018      SAU     TOT   3.220         NaN   0.006217    Saudi Arabia   \n",
       "2018      SGP     TOT  13.716         NaN   0.000882       Singapore   \n",
       "2018      ZAF     TOT   5.587         NaN   0.019339    South Africa   \n",
       "\n",
       "      log10Deathrate  \n",
       "TIME                  \n",
       "2018       -1.856461  \n",
       "2018       -1.408514  \n",
       "2018       -0.788071  \n",
       "2018       -1.144025  \n",
       "2018       -1.462292  \n",
       "2018       -1.303103  \n",
       "2018       -1.344022  \n",
       "2018       -0.823681  \n",
       "2018       -1.352695  \n",
       "2018       -1.256549  \n",
       "2018       -0.892121  \n",
       "2018       -2.255514  \n",
       "2018       -1.197839  \n",
       "2018       -0.854366  \n",
       "2018       -1.398543  \n",
       "2018       -1.627239  \n",
       "2018       -1.585405  \n",
       "2018       -1.007197  \n",
       "2018       -0.894953  \n",
       "2018       -1.853003  \n",
       "2018       -1.559949  \n",
       "2018       -1.303859  \n",
       "2018       -1.383724  \n",
       "2018       -1.748486  \n",
       "2018       -0.929633  \n",
       "2018       -0.913339  \n",
       "2018       -1.216076  \n",
       "2018       -1.560973  \n",
       "2018       -0.843832  \n",
       "2018       -1.222875  \n",
       "2018       -1.162973  \n",
       "2018       -1.968830  \n",
       "2018       -1.384609  \n",
       "2018       -1.455469  \n",
       "2018       -1.806022  \n",
       "2018       -2.042088  \n",
       "2018       -1.155753  \n",
       "2018       -1.720619  \n",
       "2018       -1.300892  \n",
       "2018       -1.330370  \n",
       "2018       -1.258099  \n",
       "2018       -2.058534  \n",
       "2018       -1.382591  \n",
       "2018       -1.750605  \n",
       "2018       -1.489244  \n",
       "2018       -1.158198  \n",
       "2018       -1.472756  \n",
       "2018       -2.002598  \n",
       "2018       -1.200679  \n",
       "2018       -2.206392  \n",
       "2018       -3.054759  \n",
       "2018       -1.713564  "
      ]
     },
     "execution_count": 50,
     "metadata": {},
     "output_type": "execute_result"
    }
   ],
   "source": [
    "df_recentyear_age"
   ]
  },
  {
   "cell_type": "code",
   "execution_count": 52,
   "metadata": {},
   "outputs": [],
   "source": [
    "countries = np.asarray(list(df_recentyear_age['Country']))\n",
    "# Continent_code to Continent_names as a dictionary\n",
    "continents = {\n",
    "    'NA': 'North America',\n",
    "    'SA': 'South America', \n",
    "    'AS': 'Asia',\n",
    "    'OC': 'Australia',\n",
    "    'AF': 'Africa',\n",
    "    'EU' : 'Europe',\n",
    "    'na' : 'Others'\n",
    "}\n",
    "\n",
    "# Defining Function for getting continent code for country by using the pc library\n",
    "def country_to_continent_code(country):\n",
    "    try:\n",
    "        return pc.country_alpha2_to_continent_code(pc.country_name_to_country_alpha2(country))\n",
    "    except :\n",
    "        return 'na'\n",
    "\n",
    "#Collecting continent Information, insert at position 1, with column name 'continent'\n",
    "df_recentyear_age.insert(1,\"continent\", [continents[country_to_continent_code(country)] for country in countries[:]])"
   ]
  },
  {
   "cell_type": "code",
   "execution_count": 53,
   "metadata": {
    "scrolled": true
   },
   "outputs": [
    {
     "data": {
      "text/html": [
       "<div>\n",
       "<style scoped>\n",
       "    .dataframe tbody tr th:only-of-type {\n",
       "        vertical-align: middle;\n",
       "    }\n",
       "\n",
       "    .dataframe tbody tr th {\n",
       "        vertical-align: top;\n",
       "    }\n",
       "\n",
       "    .dataframe thead th {\n",
       "        text-align: right;\n",
       "    }\n",
       "</style>\n",
       "<table border=\"1\" class=\"dataframe\">\n",
       "  <thead>\n",
       "    <tr style=\"text-align: right;\">\n",
       "      <th></th>\n",
       "      <th>LOCATION</th>\n",
       "      <th>continent</th>\n",
       "      <th>SUBJECT</th>\n",
       "      <th>Value</th>\n",
       "      <th>Flag Codes</th>\n",
       "      <th>Deathrate</th>\n",
       "      <th>Country</th>\n",
       "      <th>log10Deathrate</th>\n",
       "    </tr>\n",
       "    <tr>\n",
       "      <th>TIME</th>\n",
       "      <th></th>\n",
       "      <th></th>\n",
       "      <th></th>\n",
       "      <th></th>\n",
       "      <th></th>\n",
       "      <th></th>\n",
       "      <th></th>\n",
       "      <th></th>\n",
       "    </tr>\n",
       "  </thead>\n",
       "  <tbody>\n",
       "    <tr>\n",
       "      <th>2018</th>\n",
       "      <td>AUS</td>\n",
       "      <td>Australia</td>\n",
       "      <td>TOT</td>\n",
       "      <td>15.663</td>\n",
       "      <td>NaN</td>\n",
       "      <td>0.013917</td>\n",
       "      <td>Australia</td>\n",
       "      <td>-1.856461</td>\n",
       "    </tr>\n",
       "    <tr>\n",
       "      <th>2018</th>\n",
       "      <td>AUT</td>\n",
       "      <td>Europe</td>\n",
       "      <td>TOT</td>\n",
       "      <td>18.759</td>\n",
       "      <td>NaN</td>\n",
       "      <td>0.039038</td>\n",
       "      <td>Austria</td>\n",
       "      <td>-1.408514</td>\n",
       "    </tr>\n",
       "    <tr>\n",
       "      <th>2018</th>\n",
       "      <td>BEL</td>\n",
       "      <td>Europe</td>\n",
       "      <td>TOT</td>\n",
       "      <td>18.835</td>\n",
       "      <td>NaN</td>\n",
       "      <td>0.162903</td>\n",
       "      <td>Belgium</td>\n",
       "      <td>-0.788071</td>\n",
       "    </tr>\n",
       "    <tr>\n",
       "      <th>2018</th>\n",
       "      <td>CAN</td>\n",
       "      <td>North America</td>\n",
       "      <td>TOT</td>\n",
       "      <td>17.157</td>\n",
       "      <td>NaN</td>\n",
       "      <td>0.071775</td>\n",
       "      <td>Canada</td>\n",
       "      <td>-1.144025</td>\n",
       "    </tr>\n",
       "    <tr>\n",
       "      <th>2018</th>\n",
       "      <td>CZE</td>\n",
       "      <td>Europe</td>\n",
       "      <td>TOT</td>\n",
       "      <td>19.414</td>\n",
       "      <td>NaN</td>\n",
       "      <td>0.034491</td>\n",
       "      <td>Czechia</td>\n",
       "      <td>-1.462292</td>\n",
       "    </tr>\n",
       "    <tr>\n",
       "      <th>2018</th>\n",
       "      <td>DNK</td>\n",
       "      <td>Europe</td>\n",
       "      <td>TOT</td>\n",
       "      <td>19.461</td>\n",
       "      <td>NaN</td>\n",
       "      <td>0.049762</td>\n",
       "      <td>Denmark</td>\n",
       "      <td>-1.303103</td>\n",
       "    </tr>\n",
       "    <tr>\n",
       "      <th>2018</th>\n",
       "      <td>FIN</td>\n",
       "      <td>Europe</td>\n",
       "      <td>TOT</td>\n",
       "      <td>21.613</td>\n",
       "      <td>NaN</td>\n",
       "      <td>0.045287</td>\n",
       "      <td>Finland</td>\n",
       "      <td>-1.344022</td>\n",
       "    </tr>\n",
       "    <tr>\n",
       "      <th>2018</th>\n",
       "      <td>FRA</td>\n",
       "      <td>Europe</td>\n",
       "      <td>TOT</td>\n",
       "      <td>19.837</td>\n",
       "      <td>NaN</td>\n",
       "      <td>0.150079</td>\n",
       "      <td>France</td>\n",
       "      <td>-0.823681</td>\n",
       "    </tr>\n",
       "    <tr>\n",
       "      <th>2018</th>\n",
       "      <td>DEU</td>\n",
       "      <td>Europe</td>\n",
       "      <td>TOT</td>\n",
       "      <td>21.466</td>\n",
       "      <td>NaN</td>\n",
       "      <td>0.044392</td>\n",
       "      <td>Germany</td>\n",
       "      <td>-1.352695</td>\n",
       "    </tr>\n",
       "    <tr>\n",
       "      <th>2018</th>\n",
       "      <td>GRC</td>\n",
       "      <td>Europe</td>\n",
       "      <td>TOT</td>\n",
       "      <td>21.894</td>\n",
       "      <td>NaN</td>\n",
       "      <td>0.055393</td>\n",
       "      <td>Greece</td>\n",
       "      <td>-1.256549</td>\n",
       "    </tr>\n",
       "    <tr>\n",
       "      <th>2018</th>\n",
       "      <td>HUN</td>\n",
       "      <td>Europe</td>\n",
       "      <td>TOT</td>\n",
       "      <td>19.143</td>\n",
       "      <td>NaN</td>\n",
       "      <td>0.128197</td>\n",
       "      <td>Hungary</td>\n",
       "      <td>-0.892121</td>\n",
       "    </tr>\n",
       "    <tr>\n",
       "      <th>2018</th>\n",
       "      <td>ISL</td>\n",
       "      <td>Europe</td>\n",
       "      <td>TOT</td>\n",
       "      <td>14.136</td>\n",
       "      <td>NaN</td>\n",
       "      <td>0.005552</td>\n",
       "      <td>Iceland</td>\n",
       "      <td>-2.255514</td>\n",
       "    </tr>\n",
       "    <tr>\n",
       "      <th>2018</th>\n",
       "      <td>IRL</td>\n",
       "      <td>Europe</td>\n",
       "      <td>TOT</td>\n",
       "      <td>13.864</td>\n",
       "      <td>NaN</td>\n",
       "      <td>0.063410</td>\n",
       "      <td>Ireland</td>\n",
       "      <td>-1.197839</td>\n",
       "    </tr>\n",
       "    <tr>\n",
       "      <th>2018</th>\n",
       "      <td>ITA</td>\n",
       "      <td>Europe</td>\n",
       "      <td>TOT</td>\n",
       "      <td>22.675</td>\n",
       "      <td>NaN</td>\n",
       "      <td>0.139841</td>\n",
       "      <td>Italy</td>\n",
       "      <td>-0.854366</td>\n",
       "    </tr>\n",
       "    <tr>\n",
       "      <th>2018</th>\n",
       "      <td>JPN</td>\n",
       "      <td>Asia</td>\n",
       "      <td>TOT</td>\n",
       "      <td>28.137</td>\n",
       "      <td>NaN</td>\n",
       "      <td>0.039944</td>\n",
       "      <td>Japan</td>\n",
       "      <td>-1.398543</td>\n",
       "    </tr>\n",
       "    <tr>\n",
       "      <th>2018</th>\n",
       "      <td>KOR</td>\n",
       "      <td>Others</td>\n",
       "      <td>TOT</td>\n",
       "      <td>14.294</td>\n",
       "      <td>NaN</td>\n",
       "      <td>0.023592</td>\n",
       "      <td>Korea, South</td>\n",
       "      <td>-1.627239</td>\n",
       "    </tr>\n",
       "    <tr>\n",
       "      <th>2018</th>\n",
       "      <td>LUX</td>\n",
       "      <td>Europe</td>\n",
       "      <td>TOT</td>\n",
       "      <td>14.354</td>\n",
       "      <td>NaN</td>\n",
       "      <td>0.025977</td>\n",
       "      <td>Luxembourg</td>\n",
       "      <td>-1.585405</td>\n",
       "    </tr>\n",
       "    <tr>\n",
       "      <th>2018</th>\n",
       "      <td>MEX</td>\n",
       "      <td>North America</td>\n",
       "      <td>TOT</td>\n",
       "      <td>7.246</td>\n",
       "      <td>NaN</td>\n",
       "      <td>0.098357</td>\n",
       "      <td>Mexico</td>\n",
       "      <td>-1.007197</td>\n",
       "    </tr>\n",
       "    <tr>\n",
       "      <th>2018</th>\n",
       "      <td>NLD</td>\n",
       "      <td>Europe</td>\n",
       "      <td>TOT</td>\n",
       "      <td>19.015</td>\n",
       "      <td>NaN</td>\n",
       "      <td>0.127364</td>\n",
       "      <td>Netherlands</td>\n",
       "      <td>-0.894953</td>\n",
       "    </tr>\n",
       "    <tr>\n",
       "      <th>2018</th>\n",
       "      <td>NZL</td>\n",
       "      <td>Australia</td>\n",
       "      <td>TOT</td>\n",
       "      <td>15.288</td>\n",
       "      <td>NaN</td>\n",
       "      <td>0.014028</td>\n",
       "      <td>New Zealand</td>\n",
       "      <td>-1.853003</td>\n",
       "    </tr>\n",
       "    <tr>\n",
       "      <th>2018</th>\n",
       "      <td>NOR</td>\n",
       "      <td>Europe</td>\n",
       "      <td>TOT</td>\n",
       "      <td>17.087</td>\n",
       "      <td>NaN</td>\n",
       "      <td>0.027545</td>\n",
       "      <td>Norway</td>\n",
       "      <td>-1.559949</td>\n",
       "    </tr>\n",
       "    <tr>\n",
       "      <th>2018</th>\n",
       "      <td>POL</td>\n",
       "      <td>Europe</td>\n",
       "      <td>TOT</td>\n",
       "      <td>17.230</td>\n",
       "      <td>NaN</td>\n",
       "      <td>0.049675</td>\n",
       "      <td>Poland</td>\n",
       "      <td>-1.303859</td>\n",
       "    </tr>\n",
       "    <tr>\n",
       "      <th>2018</th>\n",
       "      <td>PRT</td>\n",
       "      <td>Europe</td>\n",
       "      <td>TOT</td>\n",
       "      <td>21.672</td>\n",
       "      <td>NaN</td>\n",
       "      <td>0.041331</td>\n",
       "      <td>Portugal</td>\n",
       "      <td>-1.383724</td>\n",
       "    </tr>\n",
       "    <tr>\n",
       "      <th>2018</th>\n",
       "      <td>SVK</td>\n",
       "      <td>Europe</td>\n",
       "      <td>TOT</td>\n",
       "      <td>15.782</td>\n",
       "      <td>NaN</td>\n",
       "      <td>0.017845</td>\n",
       "      <td>Slovakia</td>\n",
       "      <td>-1.748486</td>\n",
       "    </tr>\n",
       "    <tr>\n",
       "      <th>2018</th>\n",
       "      <td>ESP</td>\n",
       "      <td>Europe</td>\n",
       "      <td>TOT</td>\n",
       "      <td>19.290</td>\n",
       "      <td>NaN</td>\n",
       "      <td>0.117589</td>\n",
       "      <td>Spain</td>\n",
       "      <td>-0.929633</td>\n",
       "    </tr>\n",
       "    <tr>\n",
       "      <th>2018</th>\n",
       "      <td>SWE</td>\n",
       "      <td>Europe</td>\n",
       "      <td>TOT</td>\n",
       "      <td>19.861</td>\n",
       "      <td>NaN</td>\n",
       "      <td>0.122085</td>\n",
       "      <td>Sweden</td>\n",
       "      <td>-0.913339</td>\n",
       "    </tr>\n",
       "    <tr>\n",
       "      <th>2018</th>\n",
       "      <td>CHE</td>\n",
       "      <td>Europe</td>\n",
       "      <td>TOT</td>\n",
       "      <td>18.371</td>\n",
       "      <td>NaN</td>\n",
       "      <td>0.060803</td>\n",
       "      <td>Switzerland</td>\n",
       "      <td>-1.216076</td>\n",
       "    </tr>\n",
       "    <tr>\n",
       "      <th>2018</th>\n",
       "      <td>TUR</td>\n",
       "      <td>Asia</td>\n",
       "      <td>TOT</td>\n",
       "      <td>8.649</td>\n",
       "      <td>NaN</td>\n",
       "      <td>0.027481</td>\n",
       "      <td>Turkey</td>\n",
       "      <td>-1.560973</td>\n",
       "    </tr>\n",
       "    <tr>\n",
       "      <th>2018</th>\n",
       "      <td>GBR</td>\n",
       "      <td>Europe</td>\n",
       "      <td>TOT</td>\n",
       "      <td>18.312</td>\n",
       "      <td>NaN</td>\n",
       "      <td>0.143274</td>\n",
       "      <td>United Kingdom</td>\n",
       "      <td>-0.843832</td>\n",
       "    </tr>\n",
       "    <tr>\n",
       "      <th>2018</th>\n",
       "      <td>USA</td>\n",
       "      <td>North America</td>\n",
       "      <td>TOT</td>\n",
       "      <td>16.026</td>\n",
       "      <td>NaN</td>\n",
       "      <td>0.059858</td>\n",
       "      <td>United States</td>\n",
       "      <td>-1.222875</td>\n",
       "    </tr>\n",
       "    <tr>\n",
       "      <th>2018</th>\n",
       "      <td>BRA</td>\n",
       "      <td>South America</td>\n",
       "      <td>TOT</td>\n",
       "      <td>9.222</td>\n",
       "      <td>NaN</td>\n",
       "      <td>0.068711</td>\n",
       "      <td>Brazil</td>\n",
       "      <td>-1.162973</td>\n",
       "    </tr>\n",
       "    <tr>\n",
       "      <th>2018</th>\n",
       "      <td>CHL</td>\n",
       "      <td>South America</td>\n",
       "      <td>TOT</td>\n",
       "      <td>11.547</td>\n",
       "      <td>NaN</td>\n",
       "      <td>0.010744</td>\n",
       "      <td>Chile</td>\n",
       "      <td>-1.968830</td>\n",
       "    </tr>\n",
       "    <tr>\n",
       "      <th>2018</th>\n",
       "      <td>COL</td>\n",
       "      <td>South America</td>\n",
       "      <td>TOT</td>\n",
       "      <td>8.060</td>\n",
       "      <td>NaN</td>\n",
       "      <td>0.041247</td>\n",
       "      <td>Colombia</td>\n",
       "      <td>-1.384609</td>\n",
       "    </tr>\n",
       "    <tr>\n",
       "      <th>2018</th>\n",
       "      <td>EST</td>\n",
       "      <td>Europe</td>\n",
       "      <td>TOT</td>\n",
       "      <td>19.676</td>\n",
       "      <td>NaN</td>\n",
       "      <td>0.035037</td>\n",
       "      <td>Estonia</td>\n",
       "      <td>-1.455469</td>\n",
       "    </tr>\n",
       "    <tr>\n",
       "      <th>2018</th>\n",
       "      <td>ISR</td>\n",
       "      <td>Asia</td>\n",
       "      <td>TOT</td>\n",
       "      <td>11.654</td>\n",
       "      <td>NaN</td>\n",
       "      <td>0.015631</td>\n",
       "      <td>Israel</td>\n",
       "      <td>-1.806022</td>\n",
       "    </tr>\n",
       "    <tr>\n",
       "      <th>2018</th>\n",
       "      <td>RUS</td>\n",
       "      <td>Europe</td>\n",
       "      <td>TOT</td>\n",
       "      <td>14.746</td>\n",
       "      <td>NaN</td>\n",
       "      <td>0.009076</td>\n",
       "      <td>Russia</td>\n",
       "      <td>-2.042088</td>\n",
       "    </tr>\n",
       "    <tr>\n",
       "      <th>2018</th>\n",
       "      <td>SVN</td>\n",
       "      <td>Europe</td>\n",
       "      <td>TOT</td>\n",
       "      <td>19.670</td>\n",
       "      <td>NaN</td>\n",
       "      <td>0.069863</td>\n",
       "      <td>Slovenia</td>\n",
       "      <td>-1.155753</td>\n",
       "    </tr>\n",
       "    <tr>\n",
       "      <th>2018</th>\n",
       "      <td>LVA</td>\n",
       "      <td>Europe</td>\n",
       "      <td>TOT</td>\n",
       "      <td>20.181</td>\n",
       "      <td>NaN</td>\n",
       "      <td>0.019027</td>\n",
       "      <td>Latvia</td>\n",
       "      <td>-1.720619</td>\n",
       "    </tr>\n",
       "    <tr>\n",
       "      <th>2018</th>\n",
       "      <td>ARG</td>\n",
       "      <td>South America</td>\n",
       "      <td>TOT</td>\n",
       "      <td>11.198</td>\n",
       "      <td>NaN</td>\n",
       "      <td>0.050016</td>\n",
       "      <td>Argentina</td>\n",
       "      <td>-1.300892</td>\n",
       "    </tr>\n",
       "    <tr>\n",
       "      <th>2018</th>\n",
       "      <td>BGR</td>\n",
       "      <td>Europe</td>\n",
       "      <td>TOT</td>\n",
       "      <td>21.174</td>\n",
       "      <td>NaN</td>\n",
       "      <td>0.046734</td>\n",
       "      <td>Bulgaria</td>\n",
       "      <td>-1.330370</td>\n",
       "    </tr>\n",
       "    <tr>\n",
       "      <th>2018</th>\n",
       "      <td>CHN</td>\n",
       "      <td>Asia</td>\n",
       "      <td>TOT</td>\n",
       "      <td>11.194</td>\n",
       "      <td>NaN</td>\n",
       "      <td>0.055195</td>\n",
       "      <td>China</td>\n",
       "      <td>-1.258099</td>\n",
       "    </tr>\n",
       "    <tr>\n",
       "      <th>2018</th>\n",
       "      <td>CRI</td>\n",
       "      <td>North America</td>\n",
       "      <td>TOT</td>\n",
       "      <td>8.180</td>\n",
       "      <td>NaN</td>\n",
       "      <td>0.008739</td>\n",
       "      <td>Costa Rica</td>\n",
       "      <td>-2.058534</td>\n",
       "    </tr>\n",
       "    <tr>\n",
       "      <th>2018</th>\n",
       "      <td>HRV</td>\n",
       "      <td>Europe</td>\n",
       "      <td>TOT</td>\n",
       "      <td>20.360</td>\n",
       "      <td>NaN</td>\n",
       "      <td>0.041439</td>\n",
       "      <td>Croatia</td>\n",
       "      <td>-1.382591</td>\n",
       "    </tr>\n",
       "    <tr>\n",
       "      <th>2018</th>\n",
       "      <td>CYP</td>\n",
       "      <td>Asia</td>\n",
       "      <td>TOT</td>\n",
       "      <td>16.023</td>\n",
       "      <td>NaN</td>\n",
       "      <td>0.017758</td>\n",
       "      <td>Cyprus</td>\n",
       "      <td>-1.750605</td>\n",
       "    </tr>\n",
       "    <tr>\n",
       "      <th>2018</th>\n",
       "      <td>IND</td>\n",
       "      <td>Asia</td>\n",
       "      <td>TOT</td>\n",
       "      <td>6.176</td>\n",
       "      <td>NaN</td>\n",
       "      <td>0.032416</td>\n",
       "      <td>India</td>\n",
       "      <td>-1.489244</td>\n",
       "    </tr>\n",
       "    <tr>\n",
       "      <th>2018</th>\n",
       "      <td>IDN</td>\n",
       "      <td>Asia</td>\n",
       "      <td>TOT</td>\n",
       "      <td>5.812</td>\n",
       "      <td>NaN</td>\n",
       "      <td>0.069471</td>\n",
       "      <td>Indonesia</td>\n",
       "      <td>-1.158198</td>\n",
       "    </tr>\n",
       "    <tr>\n",
       "      <th>2018</th>\n",
       "      <td>LTU</td>\n",
       "      <td>Europe</td>\n",
       "      <td>TOT</td>\n",
       "      <td>19.706</td>\n",
       "      <td>NaN</td>\n",
       "      <td>0.033670</td>\n",
       "      <td>Lithuania</td>\n",
       "      <td>-1.472756</td>\n",
       "    </tr>\n",
       "    <tr>\n",
       "      <th>2018</th>\n",
       "      <td>MLT</td>\n",
       "      <td>Europe</td>\n",
       "      <td>TOT</td>\n",
       "      <td>18.785</td>\n",
       "      <td>NaN</td>\n",
       "      <td>0.009940</td>\n",
       "      <td>Malta</td>\n",
       "      <td>-2.002598</td>\n",
       "    </tr>\n",
       "    <tr>\n",
       "      <th>2018</th>\n",
       "      <td>ROU</td>\n",
       "      <td>Europe</td>\n",
       "      <td>TOT</td>\n",
       "      <td>18.356</td>\n",
       "      <td>NaN</td>\n",
       "      <td>0.062997</td>\n",
       "      <td>Romania</td>\n",
       "      <td>-1.200679</td>\n",
       "    </tr>\n",
       "    <tr>\n",
       "      <th>2018</th>\n",
       "      <td>SAU</td>\n",
       "      <td>Asia</td>\n",
       "      <td>TOT</td>\n",
       "      <td>3.220</td>\n",
       "      <td>NaN</td>\n",
       "      <td>0.006217</td>\n",
       "      <td>Saudi Arabia</td>\n",
       "      <td>-2.206392</td>\n",
       "    </tr>\n",
       "    <tr>\n",
       "      <th>2018</th>\n",
       "      <td>SGP</td>\n",
       "      <td>Asia</td>\n",
       "      <td>TOT</td>\n",
       "      <td>13.716</td>\n",
       "      <td>NaN</td>\n",
       "      <td>0.000882</td>\n",
       "      <td>Singapore</td>\n",
       "      <td>-3.054759</td>\n",
       "    </tr>\n",
       "    <tr>\n",
       "      <th>2018</th>\n",
       "      <td>ZAF</td>\n",
       "      <td>Africa</td>\n",
       "      <td>TOT</td>\n",
       "      <td>5.587</td>\n",
       "      <td>NaN</td>\n",
       "      <td>0.019339</td>\n",
       "      <td>South Africa</td>\n",
       "      <td>-1.713564</td>\n",
       "    </tr>\n",
       "  </tbody>\n",
       "</table>\n",
       "</div>"
      ],
      "text/plain": [
       "     LOCATION      continent SUBJECT   Value  Flag Codes  Deathrate  \\\n",
       "TIME                                                                  \n",
       "2018      AUS      Australia     TOT  15.663         NaN   0.013917   \n",
       "2018      AUT         Europe     TOT  18.759         NaN   0.039038   \n",
       "2018      BEL         Europe     TOT  18.835         NaN   0.162903   \n",
       "2018      CAN  North America     TOT  17.157         NaN   0.071775   \n",
       "2018      CZE         Europe     TOT  19.414         NaN   0.034491   \n",
       "2018      DNK         Europe     TOT  19.461         NaN   0.049762   \n",
       "2018      FIN         Europe     TOT  21.613         NaN   0.045287   \n",
       "2018      FRA         Europe     TOT  19.837         NaN   0.150079   \n",
       "2018      DEU         Europe     TOT  21.466         NaN   0.044392   \n",
       "2018      GRC         Europe     TOT  21.894         NaN   0.055393   \n",
       "2018      HUN         Europe     TOT  19.143         NaN   0.128197   \n",
       "2018      ISL         Europe     TOT  14.136         NaN   0.005552   \n",
       "2018      IRL         Europe     TOT  13.864         NaN   0.063410   \n",
       "2018      ITA         Europe     TOT  22.675         NaN   0.139841   \n",
       "2018      JPN           Asia     TOT  28.137         NaN   0.039944   \n",
       "2018      KOR         Others     TOT  14.294         NaN   0.023592   \n",
       "2018      LUX         Europe     TOT  14.354         NaN   0.025977   \n",
       "2018      MEX  North America     TOT   7.246         NaN   0.098357   \n",
       "2018      NLD         Europe     TOT  19.015         NaN   0.127364   \n",
       "2018      NZL      Australia     TOT  15.288         NaN   0.014028   \n",
       "2018      NOR         Europe     TOT  17.087         NaN   0.027545   \n",
       "2018      POL         Europe     TOT  17.230         NaN   0.049675   \n",
       "2018      PRT         Europe     TOT  21.672         NaN   0.041331   \n",
       "2018      SVK         Europe     TOT  15.782         NaN   0.017845   \n",
       "2018      ESP         Europe     TOT  19.290         NaN   0.117589   \n",
       "2018      SWE         Europe     TOT  19.861         NaN   0.122085   \n",
       "2018      CHE         Europe     TOT  18.371         NaN   0.060803   \n",
       "2018      TUR           Asia     TOT   8.649         NaN   0.027481   \n",
       "2018      GBR         Europe     TOT  18.312         NaN   0.143274   \n",
       "2018      USA  North America     TOT  16.026         NaN   0.059858   \n",
       "2018      BRA  South America     TOT   9.222         NaN   0.068711   \n",
       "2018      CHL  South America     TOT  11.547         NaN   0.010744   \n",
       "2018      COL  South America     TOT   8.060         NaN   0.041247   \n",
       "2018      EST         Europe     TOT  19.676         NaN   0.035037   \n",
       "2018      ISR           Asia     TOT  11.654         NaN   0.015631   \n",
       "2018      RUS         Europe     TOT  14.746         NaN   0.009076   \n",
       "2018      SVN         Europe     TOT  19.670         NaN   0.069863   \n",
       "2018      LVA         Europe     TOT  20.181         NaN   0.019027   \n",
       "2018      ARG  South America     TOT  11.198         NaN   0.050016   \n",
       "2018      BGR         Europe     TOT  21.174         NaN   0.046734   \n",
       "2018      CHN           Asia     TOT  11.194         NaN   0.055195   \n",
       "2018      CRI  North America     TOT   8.180         NaN   0.008739   \n",
       "2018      HRV         Europe     TOT  20.360         NaN   0.041439   \n",
       "2018      CYP           Asia     TOT  16.023         NaN   0.017758   \n",
       "2018      IND           Asia     TOT   6.176         NaN   0.032416   \n",
       "2018      IDN           Asia     TOT   5.812         NaN   0.069471   \n",
       "2018      LTU         Europe     TOT  19.706         NaN   0.033670   \n",
       "2018      MLT         Europe     TOT  18.785         NaN   0.009940   \n",
       "2018      ROU         Europe     TOT  18.356         NaN   0.062997   \n",
       "2018      SAU           Asia     TOT   3.220         NaN   0.006217   \n",
       "2018      SGP           Asia     TOT  13.716         NaN   0.000882   \n",
       "2018      ZAF         Africa     TOT   5.587         NaN   0.019339   \n",
       "\n",
       "             Country  log10Deathrate  \n",
       "TIME                                  \n",
       "2018       Australia       -1.856461  \n",
       "2018         Austria       -1.408514  \n",
       "2018         Belgium       -0.788071  \n",
       "2018          Canada       -1.144025  \n",
       "2018         Czechia       -1.462292  \n",
       "2018         Denmark       -1.303103  \n",
       "2018         Finland       -1.344022  \n",
       "2018          France       -0.823681  \n",
       "2018         Germany       -1.352695  \n",
       "2018          Greece       -1.256549  \n",
       "2018         Hungary       -0.892121  \n",
       "2018         Iceland       -2.255514  \n",
       "2018         Ireland       -1.197839  \n",
       "2018           Italy       -0.854366  \n",
       "2018           Japan       -1.398543  \n",
       "2018    Korea, South       -1.627239  \n",
       "2018      Luxembourg       -1.585405  \n",
       "2018          Mexico       -1.007197  \n",
       "2018     Netherlands       -0.894953  \n",
       "2018     New Zealand       -1.853003  \n",
       "2018          Norway       -1.559949  \n",
       "2018          Poland       -1.303859  \n",
       "2018        Portugal       -1.383724  \n",
       "2018        Slovakia       -1.748486  \n",
       "2018           Spain       -0.929633  \n",
       "2018          Sweden       -0.913339  \n",
       "2018     Switzerland       -1.216076  \n",
       "2018          Turkey       -1.560973  \n",
       "2018  United Kingdom       -0.843832  \n",
       "2018   United States       -1.222875  \n",
       "2018          Brazil       -1.162973  \n",
       "2018           Chile       -1.968830  \n",
       "2018        Colombia       -1.384609  \n",
       "2018         Estonia       -1.455469  \n",
       "2018          Israel       -1.806022  \n",
       "2018          Russia       -2.042088  \n",
       "2018        Slovenia       -1.155753  \n",
       "2018          Latvia       -1.720619  \n",
       "2018       Argentina       -1.300892  \n",
       "2018        Bulgaria       -1.330370  \n",
       "2018           China       -1.258099  \n",
       "2018      Costa Rica       -2.058534  \n",
       "2018         Croatia       -1.382591  \n",
       "2018          Cyprus       -1.750605  \n",
       "2018           India       -1.489244  \n",
       "2018       Indonesia       -1.158198  \n",
       "2018       Lithuania       -1.472756  \n",
       "2018           Malta       -2.002598  \n",
       "2018         Romania       -1.200679  \n",
       "2018    Saudi Arabia       -2.206392  \n",
       "2018       Singapore       -3.054759  \n",
       "2018    South Africa       -1.713564  "
      ]
     },
     "execution_count": 53,
     "metadata": {},
     "output_type": "execute_result"
    }
   ],
   "source": [
    "df_recentyear_age"
   ]
  },
  {
   "cell_type": "code",
   "execution_count": 54,
   "metadata": {},
   "outputs": [
    {
     "data": {
      "text/html": [
       "<div>\n",
       "<style scoped>\n",
       "    .dataframe tbody tr th:only-of-type {\n",
       "        vertical-align: middle;\n",
       "    }\n",
       "\n",
       "    .dataframe tbody tr th {\n",
       "        vertical-align: top;\n",
       "    }\n",
       "\n",
       "    .dataframe thead th {\n",
       "        text-align: right;\n",
       "    }\n",
       "</style>\n",
       "<table border=\"1\" class=\"dataframe\">\n",
       "  <thead>\n",
       "    <tr style=\"text-align: right;\">\n",
       "      <th></th>\n",
       "      <th>LOCATION</th>\n",
       "      <th>continent</th>\n",
       "      <th>SUBJECT</th>\n",
       "      <th>Value</th>\n",
       "      <th>Flag Codes</th>\n",
       "      <th>Deathrate</th>\n",
       "      <th>Country</th>\n",
       "      <th>log10Deathrate</th>\n",
       "    </tr>\n",
       "    <tr>\n",
       "      <th>TIME</th>\n",
       "      <th></th>\n",
       "      <th></th>\n",
       "      <th></th>\n",
       "      <th></th>\n",
       "      <th></th>\n",
       "      <th></th>\n",
       "      <th></th>\n",
       "      <th></th>\n",
       "    </tr>\n",
       "  </thead>\n",
       "  <tbody>\n",
       "    <tr>\n",
       "      <th>2018</th>\n",
       "      <td>KOR</td>\n",
       "      <td>Others</td>\n",
       "      <td>TOT</td>\n",
       "      <td>14.294</td>\n",
       "      <td>NaN</td>\n",
       "      <td>0.023592</td>\n",
       "      <td>Korea, South</td>\n",
       "      <td>-1.627239</td>\n",
       "    </tr>\n",
       "  </tbody>\n",
       "</table>\n",
       "</div>"
      ],
      "text/plain": [
       "     LOCATION continent SUBJECT   Value  Flag Codes  Deathrate       Country  \\\n",
       "TIME                                                                           \n",
       "2018      KOR    Others     TOT  14.294         NaN   0.023592  Korea, South   \n",
       "\n",
       "      log10Deathrate  \n",
       "TIME                  \n",
       "2018       -1.627239  "
      ]
     },
     "execution_count": 54,
     "metadata": {},
     "output_type": "execute_result"
    }
   ],
   "source": [
    "df_recentyear_age.loc[df_recentyear_age['continent']=='Others']"
   ]
  },
  {
   "cell_type": "code",
   "execution_count": 55,
   "metadata": {},
   "outputs": [
    {
     "name": "stderr",
     "output_type": "stream",
     "text": [
      "/opt/anaconda3/lib/python3.7/site-packages/pandas/core/indexing.py:965: SettingWithCopyWarning:\n",
      "\n",
      "\n",
      "A value is trying to be set on a copy of a slice from a DataFrame.\n",
      "Try using .loc[row_indexer,col_indexer] = value instead\n",
      "\n",
      "See the caveats in the documentation: https://pandas.pydata.org/pandas-docs/stable/user_guide/indexing.html#returning-a-view-versus-a-copy\n",
      "\n"
     ]
    }
   ],
   "source": [
    "df_recentyear_age.loc[df_recentyear_age['Country']=='Korea, South', 'continent'] = 'Asia'"
   ]
  },
  {
   "cell_type": "code",
   "execution_count": 57,
   "metadata": {},
   "outputs": [],
   "source": [
    "df_recentyear_age=df_recentyear_age.rename(columns = {'Value':'% of People older than 65'})"
   ]
  },
  {
   "cell_type": "code",
   "execution_count": 58,
   "metadata": {},
   "outputs": [
    {
     "data": {
      "application/vnd.plotly.v1+json": {
       "config": {
        "plotlyServerURL": "https://plotly.com"
       },
       "data": [
        {
         "hovertemplate": "<b>%{hovertext}</b><br><br>continent=Australia<br>% of People older than 65=%{x}<br>Deathrate=%{y}<extra></extra>",
         "hovertext": [
          "Australia",
          "New Zealand"
         ],
         "legendgroup": "Australia",
         "marker": {
          "color": "#636efa",
          "symbol": "circle"
         },
         "mode": "markers",
         "name": "Australia",
         "showlegend": true,
         "type": "scatter",
         "x": [
          15.663,
          15.288
         ],
         "xaxis": "x",
         "y": [
          0.013916786226685796,
          0.014028056112224449
         ],
         "yaxis": "y"
        },
        {
         "hovertemplate": "<b>%{hovertext}</b><br><br>continent=Europe<br>% of People older than 65=%{x}<br>Deathrate=%{y}<extra></extra>",
         "hovertext": [
          "Austria",
          "Belgium",
          "Czechia",
          "Denmark",
          "Finland",
          "France",
          "Germany",
          "Greece",
          "Hungary",
          "Iceland",
          "Ireland",
          "Italy",
          "Luxembourg",
          "Netherlands",
          "Norway",
          "Poland",
          "Portugal",
          "Slovakia",
          "Spain",
          "Sweden",
          "Switzerland",
          "United Kingdom",
          "Estonia",
          "Russia",
          "Slovenia",
          "Latvia",
          "Bulgaria",
          "Croatia",
          "Lithuania",
          "Malta",
          "Romania"
         ],
         "legendgroup": "Europe",
         "marker": {
          "color": "#EF553B",
          "symbol": "circle"
         },
         "mode": "markers",
         "name": "Europe",
         "showlegend": true,
         "type": "scatter",
         "x": [
          18.759,
          18.835,
          19.414,
          19.461,
          21.613000000000003,
          19.837,
          21.465999999999998,
          21.894000000000002,
          19.143,
          14.136,
          13.864,
          22.675,
          14.354000000000001,
          19.015,
          17.087,
          17.23,
          21.671999999999997,
          15.782,
          19.29,
          19.861,
          18.371,
          18.312,
          19.676,
          14.745999999999999,
          19.67,
          20.180999999999997,
          21.174,
          20.36,
          19.706,
          18.785,
          18.355999999999998
         ],
         "xaxis": "x",
         "y": [
          0.03903790454602695,
          0.16290295421803963,
          0.03449119373776908,
          0.04976192699094389,
          0.045287433155080214,
          0.1500785707446479,
          0.04439203597255702,
          0.0553925165077036,
          0.1281973203410475,
          0.00555247084952804,
          0.06341041711692241,
          0.1398409564449944,
          0.025977366255144033,
          0.12736408681694467,
          0.027545499262174127,
          0.0496753644493446,
          0.041330972939773836,
          0.017844886753603295,
          0.11758912397333755,
          0.12208473940757406,
          0.0608027946216715,
          0.14327425423033718,
          0.0350373348650201,
          0.009076369813502964,
          0.06986301369863014,
          0.019027484143763214,
          0.04673366834170854,
          0.04143897996357013,
          0.03367003367003367,
          0.009940357852882704,
          0.06299717731588401
         ],
         "yaxis": "y"
        },
        {
         "hovertemplate": "<b>%{hovertext}</b><br><br>continent=North America<br>% of People older than 65=%{x}<br>Deathrate=%{y}<extra></extra>",
         "hovertext": [
          "Canada",
          "Mexico",
          "United States",
          "Costa Rica"
         ],
         "legendgroup": "North America",
         "marker": {
          "color": "#00cc96",
          "symbol": "circle"
         },
         "mode": "markers",
         "name": "North America",
         "showlegend": true,
         "type": "scatter",
         "x": [
          17.157,
          7.246,
          16.026,
          8.18
         ],
         "xaxis": "x",
         "y": [
          0.07177537045352492,
          0.09835659426872574,
          0.05985839996260797,
          0.008739076154806492
         ],
         "yaxis": "y"
        },
        {
         "hovertemplate": "<b>%{hovertext}</b><br><br>continent=Asia<br>% of People older than 65=%{x}<br>Deathrate=%{y}<extra></extra>",
         "hovertext": [
          "Japan",
          "Korea, South",
          "Turkey",
          "Israel",
          "China",
          "Cyprus",
          "India",
          "Indonesia",
          "Saudi Arabia",
          "Singapore"
         ],
         "legendgroup": "Asia",
         "marker": {
          "color": "#ab63fa",
          "symbol": "circle"
         },
         "mode": "markers",
         "name": "Asia",
         "showlegend": true,
         "type": "scatter",
         "x": [
          28.136999999999997,
          14.294,
          8.649,
          11.654000000000002,
          11.194,
          16.023,
          6.176,
          5.812,
          3.22,
          13.716
         ],
         "xaxis": "x",
         "y": [
          0.03994446898466587,
          0.023591806876371618,
          0.02748066480171137,
          0.015630679752817157,
          0.05519515301567652,
          0.017758046614872364,
          0.0324157811440199,
          0.06947073256221521,
          0.006217389184181011,
          0.0008815380740491983
         ],
         "yaxis": "y"
        },
        {
         "hovertemplate": "<b>%{hovertext}</b><br><br>continent=South America<br>% of People older than 65=%{x}<br>Deathrate=%{y}<extra></extra>",
         "hovertext": [
          "Brazil",
          "Chile",
          "Colombia",
          "Argentina"
         ],
         "legendgroup": "South America",
         "marker": {
          "color": "#FFA15A",
          "symbol": "circle"
         },
         "mode": "markers",
         "name": "South America",
         "showlegend": true,
         "type": "scatter",
         "x": [
          9.222000000000001,
          11.547,
          8.06,
          11.198
         ],
         "xaxis": "x",
         "y": [
          0.06871115723433611,
          0.01074410404816552,
          0.04124687849823474,
          0.05001592863969417
         ],
         "yaxis": "y"
        },
        {
         "hovertemplate": "<b>%{hovertext}</b><br><br>continent=Africa<br>% of People older than 65=%{x}<br>Deathrate=%{y}<extra></extra>",
         "hovertext": [
          "South Africa"
         ],
         "legendgroup": "Africa",
         "marker": {
          "color": "#19d3f3",
          "symbol": "circle"
         },
         "mode": "markers",
         "name": "Africa",
         "showlegend": true,
         "type": "scatter",
         "x": [
          5.587000000000001
         ],
         "xaxis": "x",
         "y": [
          0.019339091250469394
         ],
         "yaxis": "y"
        }
       ],
       "layout": {
        "legend": {
         "title": {
          "text": "continent"
         },
         "tracegroupgap": 0
        },
        "template": {
         "data": {
          "bar": [
           {
            "error_x": {
             "color": "#2a3f5f"
            },
            "error_y": {
             "color": "#2a3f5f"
            },
            "marker": {
             "line": {
              "color": "#E5ECF6",
              "width": 0.5
             }
            },
            "type": "bar"
           }
          ],
          "barpolar": [
           {
            "marker": {
             "line": {
              "color": "#E5ECF6",
              "width": 0.5
             }
            },
            "type": "barpolar"
           }
          ],
          "carpet": [
           {
            "aaxis": {
             "endlinecolor": "#2a3f5f",
             "gridcolor": "white",
             "linecolor": "white",
             "minorgridcolor": "white",
             "startlinecolor": "#2a3f5f"
            },
            "baxis": {
             "endlinecolor": "#2a3f5f",
             "gridcolor": "white",
             "linecolor": "white",
             "minorgridcolor": "white",
             "startlinecolor": "#2a3f5f"
            },
            "type": "carpet"
           }
          ],
          "choropleth": [
           {
            "colorbar": {
             "outlinewidth": 0,
             "ticks": ""
            },
            "type": "choropleth"
           }
          ],
          "contour": [
           {
            "colorbar": {
             "outlinewidth": 0,
             "ticks": ""
            },
            "colorscale": [
             [
              0,
              "#0d0887"
             ],
             [
              0.1111111111111111,
              "#46039f"
             ],
             [
              0.2222222222222222,
              "#7201a8"
             ],
             [
              0.3333333333333333,
              "#9c179e"
             ],
             [
              0.4444444444444444,
              "#bd3786"
             ],
             [
              0.5555555555555556,
              "#d8576b"
             ],
             [
              0.6666666666666666,
              "#ed7953"
             ],
             [
              0.7777777777777778,
              "#fb9f3a"
             ],
             [
              0.8888888888888888,
              "#fdca26"
             ],
             [
              1,
              "#f0f921"
             ]
            ],
            "type": "contour"
           }
          ],
          "contourcarpet": [
           {
            "colorbar": {
             "outlinewidth": 0,
             "ticks": ""
            },
            "type": "contourcarpet"
           }
          ],
          "heatmap": [
           {
            "colorbar": {
             "outlinewidth": 0,
             "ticks": ""
            },
            "colorscale": [
             [
              0,
              "#0d0887"
             ],
             [
              0.1111111111111111,
              "#46039f"
             ],
             [
              0.2222222222222222,
              "#7201a8"
             ],
             [
              0.3333333333333333,
              "#9c179e"
             ],
             [
              0.4444444444444444,
              "#bd3786"
             ],
             [
              0.5555555555555556,
              "#d8576b"
             ],
             [
              0.6666666666666666,
              "#ed7953"
             ],
             [
              0.7777777777777778,
              "#fb9f3a"
             ],
             [
              0.8888888888888888,
              "#fdca26"
             ],
             [
              1,
              "#f0f921"
             ]
            ],
            "type": "heatmap"
           }
          ],
          "heatmapgl": [
           {
            "colorbar": {
             "outlinewidth": 0,
             "ticks": ""
            },
            "colorscale": [
             [
              0,
              "#0d0887"
             ],
             [
              0.1111111111111111,
              "#46039f"
             ],
             [
              0.2222222222222222,
              "#7201a8"
             ],
             [
              0.3333333333333333,
              "#9c179e"
             ],
             [
              0.4444444444444444,
              "#bd3786"
             ],
             [
              0.5555555555555556,
              "#d8576b"
             ],
             [
              0.6666666666666666,
              "#ed7953"
             ],
             [
              0.7777777777777778,
              "#fb9f3a"
             ],
             [
              0.8888888888888888,
              "#fdca26"
             ],
             [
              1,
              "#f0f921"
             ]
            ],
            "type": "heatmapgl"
           }
          ],
          "histogram": [
           {
            "marker": {
             "colorbar": {
              "outlinewidth": 0,
              "ticks": ""
             }
            },
            "type": "histogram"
           }
          ],
          "histogram2d": [
           {
            "colorbar": {
             "outlinewidth": 0,
             "ticks": ""
            },
            "colorscale": [
             [
              0,
              "#0d0887"
             ],
             [
              0.1111111111111111,
              "#46039f"
             ],
             [
              0.2222222222222222,
              "#7201a8"
             ],
             [
              0.3333333333333333,
              "#9c179e"
             ],
             [
              0.4444444444444444,
              "#bd3786"
             ],
             [
              0.5555555555555556,
              "#d8576b"
             ],
             [
              0.6666666666666666,
              "#ed7953"
             ],
             [
              0.7777777777777778,
              "#fb9f3a"
             ],
             [
              0.8888888888888888,
              "#fdca26"
             ],
             [
              1,
              "#f0f921"
             ]
            ],
            "type": "histogram2d"
           }
          ],
          "histogram2dcontour": [
           {
            "colorbar": {
             "outlinewidth": 0,
             "ticks": ""
            },
            "colorscale": [
             [
              0,
              "#0d0887"
             ],
             [
              0.1111111111111111,
              "#46039f"
             ],
             [
              0.2222222222222222,
              "#7201a8"
             ],
             [
              0.3333333333333333,
              "#9c179e"
             ],
             [
              0.4444444444444444,
              "#bd3786"
             ],
             [
              0.5555555555555556,
              "#d8576b"
             ],
             [
              0.6666666666666666,
              "#ed7953"
             ],
             [
              0.7777777777777778,
              "#fb9f3a"
             ],
             [
              0.8888888888888888,
              "#fdca26"
             ],
             [
              1,
              "#f0f921"
             ]
            ],
            "type": "histogram2dcontour"
           }
          ],
          "mesh3d": [
           {
            "colorbar": {
             "outlinewidth": 0,
             "ticks": ""
            },
            "type": "mesh3d"
           }
          ],
          "parcoords": [
           {
            "line": {
             "colorbar": {
              "outlinewidth": 0,
              "ticks": ""
             }
            },
            "type": "parcoords"
           }
          ],
          "pie": [
           {
            "automargin": true,
            "type": "pie"
           }
          ],
          "scatter": [
           {
            "marker": {
             "colorbar": {
              "outlinewidth": 0,
              "ticks": ""
             }
            },
            "type": "scatter"
           }
          ],
          "scatter3d": [
           {
            "line": {
             "colorbar": {
              "outlinewidth": 0,
              "ticks": ""
             }
            },
            "marker": {
             "colorbar": {
              "outlinewidth": 0,
              "ticks": ""
             }
            },
            "type": "scatter3d"
           }
          ],
          "scattercarpet": [
           {
            "marker": {
             "colorbar": {
              "outlinewidth": 0,
              "ticks": ""
             }
            },
            "type": "scattercarpet"
           }
          ],
          "scattergeo": [
           {
            "marker": {
             "colorbar": {
              "outlinewidth": 0,
              "ticks": ""
             }
            },
            "type": "scattergeo"
           }
          ],
          "scattergl": [
           {
            "marker": {
             "colorbar": {
              "outlinewidth": 0,
              "ticks": ""
             }
            },
            "type": "scattergl"
           }
          ],
          "scattermapbox": [
           {
            "marker": {
             "colorbar": {
              "outlinewidth": 0,
              "ticks": ""
             }
            },
            "type": "scattermapbox"
           }
          ],
          "scatterpolar": [
           {
            "marker": {
             "colorbar": {
              "outlinewidth": 0,
              "ticks": ""
             }
            },
            "type": "scatterpolar"
           }
          ],
          "scatterpolargl": [
           {
            "marker": {
             "colorbar": {
              "outlinewidth": 0,
              "ticks": ""
             }
            },
            "type": "scatterpolargl"
           }
          ],
          "scatterternary": [
           {
            "marker": {
             "colorbar": {
              "outlinewidth": 0,
              "ticks": ""
             }
            },
            "type": "scatterternary"
           }
          ],
          "surface": [
           {
            "colorbar": {
             "outlinewidth": 0,
             "ticks": ""
            },
            "colorscale": [
             [
              0,
              "#0d0887"
             ],
             [
              0.1111111111111111,
              "#46039f"
             ],
             [
              0.2222222222222222,
              "#7201a8"
             ],
             [
              0.3333333333333333,
              "#9c179e"
             ],
             [
              0.4444444444444444,
              "#bd3786"
             ],
             [
              0.5555555555555556,
              "#d8576b"
             ],
             [
              0.6666666666666666,
              "#ed7953"
             ],
             [
              0.7777777777777778,
              "#fb9f3a"
             ],
             [
              0.8888888888888888,
              "#fdca26"
             ],
             [
              1,
              "#f0f921"
             ]
            ],
            "type": "surface"
           }
          ],
          "table": [
           {
            "cells": {
             "fill": {
              "color": "#EBF0F8"
             },
             "line": {
              "color": "white"
             }
            },
            "header": {
             "fill": {
              "color": "#C8D4E3"
             },
             "line": {
              "color": "white"
             }
            },
            "type": "table"
           }
          ]
         },
         "layout": {
          "annotationdefaults": {
           "arrowcolor": "#2a3f5f",
           "arrowhead": 0,
           "arrowwidth": 1
          },
          "coloraxis": {
           "colorbar": {
            "outlinewidth": 0,
            "ticks": ""
           }
          },
          "colorscale": {
           "diverging": [
            [
             0,
             "#8e0152"
            ],
            [
             0.1,
             "#c51b7d"
            ],
            [
             0.2,
             "#de77ae"
            ],
            [
             0.3,
             "#f1b6da"
            ],
            [
             0.4,
             "#fde0ef"
            ],
            [
             0.5,
             "#f7f7f7"
            ],
            [
             0.6,
             "#e6f5d0"
            ],
            [
             0.7,
             "#b8e186"
            ],
            [
             0.8,
             "#7fbc41"
            ],
            [
             0.9,
             "#4d9221"
            ],
            [
             1,
             "#276419"
            ]
           ],
           "sequential": [
            [
             0,
             "#0d0887"
            ],
            [
             0.1111111111111111,
             "#46039f"
            ],
            [
             0.2222222222222222,
             "#7201a8"
            ],
            [
             0.3333333333333333,
             "#9c179e"
            ],
            [
             0.4444444444444444,
             "#bd3786"
            ],
            [
             0.5555555555555556,
             "#d8576b"
            ],
            [
             0.6666666666666666,
             "#ed7953"
            ],
            [
             0.7777777777777778,
             "#fb9f3a"
            ],
            [
             0.8888888888888888,
             "#fdca26"
            ],
            [
             1,
             "#f0f921"
            ]
           ],
           "sequentialminus": [
            [
             0,
             "#0d0887"
            ],
            [
             0.1111111111111111,
             "#46039f"
            ],
            [
             0.2222222222222222,
             "#7201a8"
            ],
            [
             0.3333333333333333,
             "#9c179e"
            ],
            [
             0.4444444444444444,
             "#bd3786"
            ],
            [
             0.5555555555555556,
             "#d8576b"
            ],
            [
             0.6666666666666666,
             "#ed7953"
            ],
            [
             0.7777777777777778,
             "#fb9f3a"
            ],
            [
             0.8888888888888888,
             "#fdca26"
            ],
            [
             1,
             "#f0f921"
            ]
           ]
          },
          "colorway": [
           "#636efa",
           "#EF553B",
           "#00cc96",
           "#ab63fa",
           "#FFA15A",
           "#19d3f3",
           "#FF6692",
           "#B6E880",
           "#FF97FF",
           "#FECB52"
          ],
          "font": {
           "color": "#2a3f5f"
          },
          "geo": {
           "bgcolor": "white",
           "lakecolor": "white",
           "landcolor": "#E5ECF6",
           "showlakes": true,
           "showland": true,
           "subunitcolor": "white"
          },
          "hoverlabel": {
           "align": "left"
          },
          "hovermode": "closest",
          "mapbox": {
           "style": "light"
          },
          "paper_bgcolor": "white",
          "plot_bgcolor": "#E5ECF6",
          "polar": {
           "angularaxis": {
            "gridcolor": "white",
            "linecolor": "white",
            "ticks": ""
           },
           "bgcolor": "#E5ECF6",
           "radialaxis": {
            "gridcolor": "white",
            "linecolor": "white",
            "ticks": ""
           }
          },
          "scene": {
           "xaxis": {
            "backgroundcolor": "#E5ECF6",
            "gridcolor": "white",
            "gridwidth": 2,
            "linecolor": "white",
            "showbackground": true,
            "ticks": "",
            "zerolinecolor": "white"
           },
           "yaxis": {
            "backgroundcolor": "#E5ECF6",
            "gridcolor": "white",
            "gridwidth": 2,
            "linecolor": "white",
            "showbackground": true,
            "ticks": "",
            "zerolinecolor": "white"
           },
           "zaxis": {
            "backgroundcolor": "#E5ECF6",
            "gridcolor": "white",
            "gridwidth": 2,
            "linecolor": "white",
            "showbackground": true,
            "ticks": "",
            "zerolinecolor": "white"
           }
          },
          "shapedefaults": {
           "line": {
            "color": "#2a3f5f"
           }
          },
          "ternary": {
           "aaxis": {
            "gridcolor": "white",
            "linecolor": "white",
            "ticks": ""
           },
           "baxis": {
            "gridcolor": "white",
            "linecolor": "white",
            "ticks": ""
           },
           "bgcolor": "#E5ECF6",
           "caxis": {
            "gridcolor": "white",
            "linecolor": "white",
            "ticks": ""
           }
          },
          "title": {
           "x": 0.05
          },
          "xaxis": {
           "automargin": true,
           "gridcolor": "white",
           "linecolor": "white",
           "ticks": "",
           "title": {
            "standoff": 15
           },
           "zerolinecolor": "white",
           "zerolinewidth": 2
          },
          "yaxis": {
           "automargin": true,
           "gridcolor": "white",
           "linecolor": "white",
           "ticks": "",
           "title": {
            "standoff": 15
           },
           "zerolinecolor": "white",
           "zerolinewidth": 2
          }
         }
        },
        "title": {
         "text": "Life expectancy (for 65 year old people) vs. death rate"
        },
        "xaxis": {
         "anchor": "y",
         "domain": [
          0,
          1
         ],
         "title": {
          "text": "% of People older than 65"
         }
        },
        "yaxis": {
         "anchor": "x",
         "domain": [
          0,
          1
         ],
         "title": {
          "text": "Deathrate"
         }
        }
       }
      },
      "text/html": [
       "<div>\n",
       "        \n",
       "        \n",
       "            <div id=\"273a8572-24f0-45f1-ac8e-e3bbcbaf8a52\" class=\"plotly-graph-div\" style=\"height:525px; width:100%;\"></div>\n",
       "            <script type=\"text/javascript\">\n",
       "                require([\"plotly\"], function(Plotly) {\n",
       "                    window.PLOTLYENV=window.PLOTLYENV || {};\n",
       "                    \n",
       "                if (document.getElementById(\"273a8572-24f0-45f1-ac8e-e3bbcbaf8a52\")) {\n",
       "                    Plotly.newPlot(\n",
       "                        '273a8572-24f0-45f1-ac8e-e3bbcbaf8a52',\n",
       "                        [{\"hovertemplate\": \"<b>%{hovertext}</b><br><br>continent=Australia<br>% of People older than 65=%{x}<br>Deathrate=%{y}<extra></extra>\", \"hovertext\": [\"Australia\", \"New Zealand\"], \"legendgroup\": \"Australia\", \"marker\": {\"color\": \"#636efa\", \"symbol\": \"circle\"}, \"mode\": \"markers\", \"name\": \"Australia\", \"showlegend\": true, \"type\": \"scatter\", \"x\": [15.663, 15.288], \"xaxis\": \"x\", \"y\": [0.013916786226685796, 0.014028056112224449], \"yaxis\": \"y\"}, {\"hovertemplate\": \"<b>%{hovertext}</b><br><br>continent=Europe<br>% of People older than 65=%{x}<br>Deathrate=%{y}<extra></extra>\", \"hovertext\": [\"Austria\", \"Belgium\", \"Czechia\", \"Denmark\", \"Finland\", \"France\", \"Germany\", \"Greece\", \"Hungary\", \"Iceland\", \"Ireland\", \"Italy\", \"Luxembourg\", \"Netherlands\", \"Norway\", \"Poland\", \"Portugal\", \"Slovakia\", \"Spain\", \"Sweden\", \"Switzerland\", \"United Kingdom\", \"Estonia\", \"Russia\", \"Slovenia\", \"Latvia\", \"Bulgaria\", \"Croatia\", \"Lithuania\", \"Malta\", \"Romania\"], \"legendgroup\": \"Europe\", \"marker\": {\"color\": \"#EF553B\", \"symbol\": \"circle\"}, \"mode\": \"markers\", \"name\": \"Europe\", \"showlegend\": true, \"type\": \"scatter\", \"x\": [18.759, 18.835, 19.414, 19.461, 21.613000000000003, 19.837, 21.465999999999998, 21.894000000000002, 19.143, 14.136, 13.864, 22.675, 14.354000000000001, 19.015, 17.087, 17.23, 21.671999999999997, 15.782, 19.29, 19.861, 18.371, 18.312, 19.676, 14.745999999999999, 19.67, 20.180999999999997, 21.174, 20.36, 19.706, 18.785, 18.355999999999998], \"xaxis\": \"x\", \"y\": [0.03903790454602695, 0.16290295421803963, 0.03449119373776908, 0.04976192699094389, 0.045287433155080214, 0.1500785707446479, 0.04439203597255702, 0.0553925165077036, 0.1281973203410475, 0.00555247084952804, 0.06341041711692241, 0.1398409564449944, 0.025977366255144033, 0.12736408681694467, 0.027545499262174127, 0.0496753644493446, 0.041330972939773836, 0.017844886753603295, 0.11758912397333755, 0.12208473940757406, 0.0608027946216715, 0.14327425423033718, 0.0350373348650201, 0.009076369813502964, 0.06986301369863014, 0.019027484143763214, 0.04673366834170854, 0.04143897996357013, 0.03367003367003367, 0.009940357852882704, 0.06299717731588401], \"yaxis\": \"y\"}, {\"hovertemplate\": \"<b>%{hovertext}</b><br><br>continent=North America<br>% of People older than 65=%{x}<br>Deathrate=%{y}<extra></extra>\", \"hovertext\": [\"Canada\", \"Mexico\", \"United States\", \"Costa Rica\"], \"legendgroup\": \"North America\", \"marker\": {\"color\": \"#00cc96\", \"symbol\": \"circle\"}, \"mode\": \"markers\", \"name\": \"North America\", \"showlegend\": true, \"type\": \"scatter\", \"x\": [17.157, 7.246, 16.026, 8.18], \"xaxis\": \"x\", \"y\": [0.07177537045352492, 0.09835659426872574, 0.05985839996260797, 0.008739076154806492], \"yaxis\": \"y\"}, {\"hovertemplate\": \"<b>%{hovertext}</b><br><br>continent=Asia<br>% of People older than 65=%{x}<br>Deathrate=%{y}<extra></extra>\", \"hovertext\": [\"Japan\", \"Korea, South\", \"Turkey\", \"Israel\", \"China\", \"Cyprus\", \"India\", \"Indonesia\", \"Saudi Arabia\", \"Singapore\"], \"legendgroup\": \"Asia\", \"marker\": {\"color\": \"#ab63fa\", \"symbol\": \"circle\"}, \"mode\": \"markers\", \"name\": \"Asia\", \"showlegend\": true, \"type\": \"scatter\", \"x\": [28.136999999999997, 14.294, 8.649, 11.654000000000002, 11.194, 16.023, 6.176, 5.812, 3.22, 13.716], \"xaxis\": \"x\", \"y\": [0.03994446898466587, 0.023591806876371618, 0.02748066480171137, 0.015630679752817157, 0.05519515301567652, 0.017758046614872364, 0.0324157811440199, 0.06947073256221521, 0.006217389184181011, 0.0008815380740491983], \"yaxis\": \"y\"}, {\"hovertemplate\": \"<b>%{hovertext}</b><br><br>continent=South America<br>% of People older than 65=%{x}<br>Deathrate=%{y}<extra></extra>\", \"hovertext\": [\"Brazil\", \"Chile\", \"Colombia\", \"Argentina\"], \"legendgroup\": \"South America\", \"marker\": {\"color\": \"#FFA15A\", \"symbol\": \"circle\"}, \"mode\": \"markers\", \"name\": \"South America\", \"showlegend\": true, \"type\": \"scatter\", \"x\": [9.222000000000001, 11.547, 8.06, 11.198], \"xaxis\": \"x\", \"y\": [0.06871115723433611, 0.01074410404816552, 0.04124687849823474, 0.05001592863969417], \"yaxis\": \"y\"}, {\"hovertemplate\": \"<b>%{hovertext}</b><br><br>continent=Africa<br>% of People older than 65=%{x}<br>Deathrate=%{y}<extra></extra>\", \"hovertext\": [\"South Africa\"], \"legendgroup\": \"Africa\", \"marker\": {\"color\": \"#19d3f3\", \"symbol\": \"circle\"}, \"mode\": \"markers\", \"name\": \"Africa\", \"showlegend\": true, \"type\": \"scatter\", \"x\": [5.587000000000001], \"xaxis\": \"x\", \"y\": [0.019339091250469394], \"yaxis\": \"y\"}],\n",
       "                        {\"legend\": {\"title\": {\"text\": \"continent\"}, \"tracegroupgap\": 0}, \"template\": {\"data\": {\"bar\": [{\"error_x\": {\"color\": \"#2a3f5f\"}, \"error_y\": {\"color\": \"#2a3f5f\"}, \"marker\": {\"line\": {\"color\": \"#E5ECF6\", \"width\": 0.5}}, \"type\": \"bar\"}], \"barpolar\": [{\"marker\": {\"line\": {\"color\": \"#E5ECF6\", \"width\": 0.5}}, \"type\": \"barpolar\"}], \"carpet\": [{\"aaxis\": {\"endlinecolor\": \"#2a3f5f\", \"gridcolor\": \"white\", \"linecolor\": \"white\", \"minorgridcolor\": \"white\", \"startlinecolor\": \"#2a3f5f\"}, \"baxis\": {\"endlinecolor\": \"#2a3f5f\", \"gridcolor\": \"white\", \"linecolor\": \"white\", \"minorgridcolor\": \"white\", \"startlinecolor\": \"#2a3f5f\"}, \"type\": \"carpet\"}], \"choropleth\": [{\"colorbar\": {\"outlinewidth\": 0, \"ticks\": \"\"}, \"type\": \"choropleth\"}], \"contour\": [{\"colorbar\": {\"outlinewidth\": 0, \"ticks\": \"\"}, \"colorscale\": [[0.0, \"#0d0887\"], [0.1111111111111111, \"#46039f\"], [0.2222222222222222, \"#7201a8\"], [0.3333333333333333, \"#9c179e\"], [0.4444444444444444, \"#bd3786\"], [0.5555555555555556, \"#d8576b\"], [0.6666666666666666, \"#ed7953\"], [0.7777777777777778, \"#fb9f3a\"], [0.8888888888888888, \"#fdca26\"], [1.0, \"#f0f921\"]], \"type\": \"contour\"}], \"contourcarpet\": [{\"colorbar\": {\"outlinewidth\": 0, \"ticks\": \"\"}, \"type\": \"contourcarpet\"}], \"heatmap\": [{\"colorbar\": {\"outlinewidth\": 0, \"ticks\": \"\"}, \"colorscale\": [[0.0, \"#0d0887\"], [0.1111111111111111, \"#46039f\"], [0.2222222222222222, \"#7201a8\"], [0.3333333333333333, \"#9c179e\"], [0.4444444444444444, \"#bd3786\"], [0.5555555555555556, \"#d8576b\"], [0.6666666666666666, \"#ed7953\"], [0.7777777777777778, \"#fb9f3a\"], [0.8888888888888888, \"#fdca26\"], [1.0, \"#f0f921\"]], \"type\": \"heatmap\"}], \"heatmapgl\": [{\"colorbar\": {\"outlinewidth\": 0, \"ticks\": \"\"}, \"colorscale\": [[0.0, \"#0d0887\"], [0.1111111111111111, \"#46039f\"], [0.2222222222222222, \"#7201a8\"], [0.3333333333333333, \"#9c179e\"], [0.4444444444444444, \"#bd3786\"], [0.5555555555555556, \"#d8576b\"], [0.6666666666666666, \"#ed7953\"], [0.7777777777777778, \"#fb9f3a\"], [0.8888888888888888, \"#fdca26\"], [1.0, \"#f0f921\"]], \"type\": \"heatmapgl\"}], \"histogram\": [{\"marker\": {\"colorbar\": {\"outlinewidth\": 0, \"ticks\": \"\"}}, \"type\": \"histogram\"}], \"histogram2d\": [{\"colorbar\": {\"outlinewidth\": 0, \"ticks\": \"\"}, \"colorscale\": [[0.0, \"#0d0887\"], [0.1111111111111111, \"#46039f\"], [0.2222222222222222, \"#7201a8\"], [0.3333333333333333, \"#9c179e\"], [0.4444444444444444, \"#bd3786\"], [0.5555555555555556, \"#d8576b\"], [0.6666666666666666, \"#ed7953\"], [0.7777777777777778, \"#fb9f3a\"], [0.8888888888888888, \"#fdca26\"], [1.0, \"#f0f921\"]], \"type\": \"histogram2d\"}], \"histogram2dcontour\": [{\"colorbar\": {\"outlinewidth\": 0, \"ticks\": \"\"}, \"colorscale\": [[0.0, \"#0d0887\"], [0.1111111111111111, \"#46039f\"], [0.2222222222222222, \"#7201a8\"], [0.3333333333333333, \"#9c179e\"], [0.4444444444444444, \"#bd3786\"], [0.5555555555555556, \"#d8576b\"], [0.6666666666666666, \"#ed7953\"], [0.7777777777777778, \"#fb9f3a\"], [0.8888888888888888, \"#fdca26\"], [1.0, \"#f0f921\"]], \"type\": \"histogram2dcontour\"}], \"mesh3d\": [{\"colorbar\": {\"outlinewidth\": 0, \"ticks\": \"\"}, \"type\": \"mesh3d\"}], \"parcoords\": [{\"line\": {\"colorbar\": {\"outlinewidth\": 0, \"ticks\": \"\"}}, \"type\": \"parcoords\"}], \"pie\": [{\"automargin\": true, \"type\": \"pie\"}], \"scatter\": [{\"marker\": {\"colorbar\": {\"outlinewidth\": 0, \"ticks\": \"\"}}, \"type\": \"scatter\"}], \"scatter3d\": [{\"line\": {\"colorbar\": {\"outlinewidth\": 0, \"ticks\": \"\"}}, \"marker\": {\"colorbar\": {\"outlinewidth\": 0, \"ticks\": \"\"}}, \"type\": \"scatter3d\"}], \"scattercarpet\": [{\"marker\": {\"colorbar\": {\"outlinewidth\": 0, \"ticks\": \"\"}}, \"type\": \"scattercarpet\"}], \"scattergeo\": [{\"marker\": {\"colorbar\": {\"outlinewidth\": 0, \"ticks\": \"\"}}, \"type\": \"scattergeo\"}], \"scattergl\": [{\"marker\": {\"colorbar\": {\"outlinewidth\": 0, \"ticks\": \"\"}}, \"type\": \"scattergl\"}], \"scattermapbox\": [{\"marker\": {\"colorbar\": {\"outlinewidth\": 0, \"ticks\": \"\"}}, \"type\": \"scattermapbox\"}], \"scatterpolar\": [{\"marker\": {\"colorbar\": {\"outlinewidth\": 0, \"ticks\": \"\"}}, \"type\": \"scatterpolar\"}], \"scatterpolargl\": [{\"marker\": {\"colorbar\": {\"outlinewidth\": 0, \"ticks\": \"\"}}, \"type\": \"scatterpolargl\"}], \"scatterternary\": [{\"marker\": {\"colorbar\": {\"outlinewidth\": 0, \"ticks\": \"\"}}, \"type\": \"scatterternary\"}], \"surface\": [{\"colorbar\": {\"outlinewidth\": 0, \"ticks\": \"\"}, \"colorscale\": [[0.0, \"#0d0887\"], [0.1111111111111111, \"#46039f\"], [0.2222222222222222, \"#7201a8\"], [0.3333333333333333, \"#9c179e\"], [0.4444444444444444, \"#bd3786\"], [0.5555555555555556, \"#d8576b\"], [0.6666666666666666, \"#ed7953\"], [0.7777777777777778, \"#fb9f3a\"], [0.8888888888888888, \"#fdca26\"], [1.0, \"#f0f921\"]], \"type\": \"surface\"}], \"table\": [{\"cells\": {\"fill\": {\"color\": \"#EBF0F8\"}, \"line\": {\"color\": \"white\"}}, \"header\": {\"fill\": {\"color\": \"#C8D4E3\"}, \"line\": {\"color\": \"white\"}}, \"type\": \"table\"}]}, \"layout\": {\"annotationdefaults\": {\"arrowcolor\": \"#2a3f5f\", \"arrowhead\": 0, \"arrowwidth\": 1}, \"coloraxis\": {\"colorbar\": {\"outlinewidth\": 0, \"ticks\": \"\"}}, \"colorscale\": {\"diverging\": [[0, \"#8e0152\"], [0.1, \"#c51b7d\"], [0.2, \"#de77ae\"], [0.3, \"#f1b6da\"], [0.4, \"#fde0ef\"], [0.5, \"#f7f7f7\"], [0.6, \"#e6f5d0\"], [0.7, \"#b8e186\"], [0.8, \"#7fbc41\"], [0.9, \"#4d9221\"], [1, \"#276419\"]], \"sequential\": [[0.0, \"#0d0887\"], [0.1111111111111111, \"#46039f\"], [0.2222222222222222, \"#7201a8\"], [0.3333333333333333, \"#9c179e\"], [0.4444444444444444, \"#bd3786\"], [0.5555555555555556, \"#d8576b\"], [0.6666666666666666, \"#ed7953\"], [0.7777777777777778, \"#fb9f3a\"], [0.8888888888888888, \"#fdca26\"], [1.0, \"#f0f921\"]], \"sequentialminus\": [[0.0, \"#0d0887\"], [0.1111111111111111, \"#46039f\"], [0.2222222222222222, \"#7201a8\"], [0.3333333333333333, \"#9c179e\"], [0.4444444444444444, \"#bd3786\"], [0.5555555555555556, \"#d8576b\"], [0.6666666666666666, \"#ed7953\"], [0.7777777777777778, \"#fb9f3a\"], [0.8888888888888888, \"#fdca26\"], [1.0, \"#f0f921\"]]}, \"colorway\": [\"#636efa\", \"#EF553B\", \"#00cc96\", \"#ab63fa\", \"#FFA15A\", \"#19d3f3\", \"#FF6692\", \"#B6E880\", \"#FF97FF\", \"#FECB52\"], \"font\": {\"color\": \"#2a3f5f\"}, \"geo\": {\"bgcolor\": \"white\", \"lakecolor\": \"white\", \"landcolor\": \"#E5ECF6\", \"showlakes\": true, \"showland\": true, \"subunitcolor\": \"white\"}, \"hoverlabel\": {\"align\": \"left\"}, \"hovermode\": \"closest\", \"mapbox\": {\"style\": \"light\"}, \"paper_bgcolor\": \"white\", \"plot_bgcolor\": \"#E5ECF6\", \"polar\": {\"angularaxis\": {\"gridcolor\": \"white\", \"linecolor\": \"white\", \"ticks\": \"\"}, \"bgcolor\": \"#E5ECF6\", \"radialaxis\": {\"gridcolor\": \"white\", \"linecolor\": \"white\", \"ticks\": \"\"}}, \"scene\": {\"xaxis\": {\"backgroundcolor\": \"#E5ECF6\", \"gridcolor\": \"white\", \"gridwidth\": 2, \"linecolor\": \"white\", \"showbackground\": true, \"ticks\": \"\", \"zerolinecolor\": \"white\"}, \"yaxis\": {\"backgroundcolor\": \"#E5ECF6\", \"gridcolor\": \"white\", \"gridwidth\": 2, \"linecolor\": \"white\", \"showbackground\": true, \"ticks\": \"\", \"zerolinecolor\": \"white\"}, \"zaxis\": {\"backgroundcolor\": \"#E5ECF6\", \"gridcolor\": \"white\", \"gridwidth\": 2, \"linecolor\": \"white\", \"showbackground\": true, \"ticks\": \"\", \"zerolinecolor\": \"white\"}}, \"shapedefaults\": {\"line\": {\"color\": \"#2a3f5f\"}}, \"ternary\": {\"aaxis\": {\"gridcolor\": \"white\", \"linecolor\": \"white\", \"ticks\": \"\"}, \"baxis\": {\"gridcolor\": \"white\", \"linecolor\": \"white\", \"ticks\": \"\"}, \"bgcolor\": \"#E5ECF6\", \"caxis\": {\"gridcolor\": \"white\", \"linecolor\": \"white\", \"ticks\": \"\"}}, \"title\": {\"x\": 0.05}, \"xaxis\": {\"automargin\": true, \"gridcolor\": \"white\", \"linecolor\": \"white\", \"ticks\": \"\", \"title\": {\"standoff\": 15}, \"zerolinecolor\": \"white\", \"zerolinewidth\": 2}, \"yaxis\": {\"automargin\": true, \"gridcolor\": \"white\", \"linecolor\": \"white\", \"ticks\": \"\", \"title\": {\"standoff\": 15}, \"zerolinecolor\": \"white\", \"zerolinewidth\": 2}}}, \"title\": {\"text\": \"Life expectancy (for 65 year old people) vs. death rate\"}, \"xaxis\": {\"anchor\": \"y\", \"domain\": [0.0, 1.0], \"title\": {\"text\": \"% of People older than 65\"}}, \"yaxis\": {\"anchor\": \"x\", \"domain\": [0.0, 1.0], \"title\": {\"text\": \"Deathrate\"}}},\n",
       "                        {\"responsive\": true}\n",
       "                    ).then(function(){\n",
       "                            \n",
       "var gd = document.getElementById('273a8572-24f0-45f1-ac8e-e3bbcbaf8a52');\n",
       "var x = new MutationObserver(function (mutations, observer) {{\n",
       "        var display = window.getComputedStyle(gd).display;\n",
       "        if (!display || display === 'none') {{\n",
       "            console.log([gd, 'removed!']);\n",
       "            Plotly.purge(gd);\n",
       "            observer.disconnect();\n",
       "        }}\n",
       "}});\n",
       "\n",
       "// Listen for the removal of the full notebook cells\n",
       "var notebookContainer = gd.closest('#notebook-container');\n",
       "if (notebookContainer) {{\n",
       "    x.observe(notebookContainer, {childList: true});\n",
       "}}\n",
       "\n",
       "// Listen for the clearing of the current output cell\n",
       "var outputEl = gd.closest('.output');\n",
       "if (outputEl) {{\n",
       "    x.observe(outputEl, {childList: true});\n",
       "}}\n",
       "\n",
       "                        })\n",
       "                };\n",
       "                });\n",
       "            </script>\n",
       "        </div>"
      ]
     },
     "metadata": {},
     "output_type": "display_data"
    }
   ],
   "source": [
    "fig = px.scatter(df_recentyear_age,\n",
    "    x = '% of People older than 65',\n",
    "    y = 'death rate',\n",
    "    hover_name=countries,\n",
    "    color='continent',\n",
    "    title='Population Ageing vs death rate')\n",
    "fig.show()\n",
    "#add to plotly account\n",
    "#py.iplot(fig, filename='Respiratory_diseases_Linear_Regression', auto_open=True) "
   ]
  },
  {
   "cell_type": "code",
   "execution_count": null,
   "metadata": {},
   "outputs": [],
   "source": []
  }
 ],
 "metadata": {
  "kernelspec": {
   "display_name": "Python 3",
   "language": "python",
   "name": "python3"
  },
  "language_info": {
   "codemirror_mode": {
    "name": "ipython",
    "version": 3
   },
   "file_extension": ".py",
   "mimetype": "text/x-python",
   "name": "python",
   "nbconvert_exporter": "python",
   "pygments_lexer": "ipython3",
   "version": "3.7.6"
  }
 },
 "nbformat": 4,
 "nbformat_minor": 4
}
