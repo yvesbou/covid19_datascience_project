{
 "cells": [
  {
   "cell_type": "markdown",
   "metadata": {},
   "source": [
    "## Testing population life expectandcy as explanatory variable"
   ]
  },
  {
   "cell_type": "markdown",
   "metadata": {},
   "source": [
    "## Code book\n",
    "\n",
    "### For Covid-19 data\n",
    "\n",
    "#### Variables and their units\n",
    "\n",
    "- We have the dataframe df_infected which contains the number of people tested positive on covid-19\n",
    "- dates (columns): days of the year 2020 from end of January to today with the respective number of infected/deaths \n",
    "- deaths (entries of df_deaths): # of people died of covid-19\n",
    "- Infected (entries of df_infected): # of people tested positive on covid-19\n",
    "- Countries (index): Names of all Countries that maintain a record of their covid-19 cases\n",
    "- Continents (column): Names of all Continents excluding Antarctica\n",
    "\n",
    "#### Summary choices made\n",
    "\n",
    "- Created seperate df (df_infected) where only the latest date is displayed with additional information of the respective infected once\n",
    "- Created df for continents by introducing a column and groupby function \n",
    "\n",
    "### For Life expectancy data\n",
    "\n",
    "#### Variables and their units\n",
    "\n",
    "- From our Dataframe called democracy we'll discard all except following columns\n",
    "    - Location : Name of Country (index)\n",
    "    - AgeGrp : Age group we are looking at (exp. 60-64)\n",
    "    - Continent : Continent of the respective country\n",
    "    - Sex : Male, Female or Total\n",
    "    - Time : period of the data\n",
    "    - Variant : Median PI\n",
    "    - Life expectancy : How long the respected Age group is expected to live\n",
    "    - death rate : number of infected divided by number of deaths\n",
    "    \n",
    "#### Summary choices made\n",
    "\n",
    "\n",
    "- We matched the death rate entries in democracy with the one from Covid-19\n",
    "- Region will be changed to the respective continent of the country\n",
    "\n"
   ]
  },
  {
   "cell_type": "code",
   "execution_count": 1,
   "metadata": {},
   "outputs": [],
   "source": [
    "import pandas as pd\n",
    "import numpy as np\n",
    "import matplotlib.pyplot as plt"
   ]
  },
  {
   "cell_type": "code",
   "execution_count": null,
   "metadata": {},
   "outputs": [],
   "source": []
  },
  {
   "cell_type": "markdown",
   "metadata": {},
   "source": [
    "Data from: https://github.com/CSSEGISandData/COVID-19"
   ]
  },
  {
   "cell_type": "code",
   "execution_count": 3,
   "metadata": {},
   "outputs": [],
   "source": [
    "#import data\n",
    "deaths = pd.read_csv('./COVID-19-master/csse_covid_19_data/csse_covid_19_time_series/time_series_covid19_deaths_global.csv')\n",
    "infected = pd.read_csv('./COVID-19-master/csse_covid_19_data/csse_covid_19_time_series/time_series_covid19_confirmed_global.csv')\n",
    "deaths_US = pd.read_csv('./COVID-19-master/csse_covid_19_data/csse_covid_19_time_series/time_series_covid19_deaths_US.csv')\n",
    "infected_US = pd.read_csv('./COVID-19-master/csse_covid_19_data/csse_covid_19_time_series/time_series_covid19_confirmed_US.csv')\n",
    "#add a column called United States to the US datasets so that they are compatible\n",
    "deaths_US['Country/Region'] = 'United States'\n",
    "infected_US['Country/Region'] = 'United States'"
   ]
  },
  {
   "cell_type": "code",
   "execution_count": 4,
   "metadata": {},
   "outputs": [],
   "source": [
    "#statistics for countries (group all regions together)\n",
    "deaths = deaths.groupby('Country/Region').sum() \n",
    "infected = infected.groupby('Country/Region').sum() \n",
    "#sum over all states in the US\n",
    "deaths_US = deaths_US.groupby('Country/Region').sum()\n",
    "infected_US = infected_US.groupby('Country/Region').sum()"
   ]
  },
  {
   "cell_type": "code",
   "execution_count": 5,
   "metadata": {},
   "outputs": [],
   "source": [
    "#take just the most recent day (i.e. data) for analysis\n",
    "deaths = deaths[deaths.columns[-1]]\n",
    "infected = infected[infected.columns[-1]]\n",
    "deaths_US = deaths_US[deaths_US.columns[-1]]\n",
    "infected_US = infected_US[infected_US.columns[-1]]\n",
    "deaths = deaths.append(deaths_US)\n",
    "infected = infected.append(infected_US)"
   ]
  },
  {
   "cell_type": "code",
   "execution_count": 6,
   "metadata": {},
   "outputs": [],
   "source": [
    "#create a pd.series with contains deathrates for all countries within the datasets\n",
    "deathrate = deaths/infected\n",
    "countries_deathrate = deathrate.index"
   ]
  },
  {
   "cell_type": "markdown",
   "metadata": {},
   "source": [
    "data from: https://population.un.org/wpp/Download/Standard/CSV/"
   ]
  },
  {
   "cell_type": "code",
   "execution_count": 10,
   "metadata": {},
   "outputs": [],
   "source": [
    "lifeexp = pd.read_csv('./Life_table.csv')"
   ]
  },
  {
   "cell_type": "code",
   "execution_count": 11,
   "metadata": {},
   "outputs": [
    {
     "data": {
      "text/html": [
       "<div>\n",
       "<style scoped>\n",
       "    .dataframe tbody tr th:only-of-type {\n",
       "        vertical-align: middle;\n",
       "    }\n",
       "\n",
       "    .dataframe tbody tr th {\n",
       "        vertical-align: top;\n",
       "    }\n",
       "\n",
       "    .dataframe thead th {\n",
       "        text-align: right;\n",
       "    }\n",
       "</style>\n",
       "<table border=\"1\" class=\"dataframe\">\n",
       "  <thead>\n",
       "    <tr style=\"text-align: right;\">\n",
       "      <th></th>\n",
       "      <th>LocID</th>\n",
       "      <th>Location</th>\n",
       "      <th>VarID</th>\n",
       "      <th>Variant</th>\n",
       "      <th>Time</th>\n",
       "      <th>MidPeriod</th>\n",
       "      <th>SexID</th>\n",
       "      <th>Sex</th>\n",
       "      <th>AgeGrp</th>\n",
       "      <th>AgeGrpStart</th>\n",
       "      <th>...</th>\n",
       "      <th>mx</th>\n",
       "      <th>qx</th>\n",
       "      <th>px</th>\n",
       "      <th>lx</th>\n",
       "      <th>dx</th>\n",
       "      <th>Lx</th>\n",
       "      <th>Sx</th>\n",
       "      <th>Tx</th>\n",
       "      <th>ex</th>\n",
       "      <th>ax</th>\n",
       "    </tr>\n",
       "  </thead>\n",
       "  <tbody>\n",
       "    <tr>\n",
       "      <th>0</th>\n",
       "      <td>4</td>\n",
       "      <td>Afghanistan</td>\n",
       "      <td>202</td>\n",
       "      <td>Median PI</td>\n",
       "      <td>2020-2025</td>\n",
       "      <td>2023</td>\n",
       "      <td>1</td>\n",
       "      <td>Male</td>\n",
       "      <td>0</td>\n",
       "      <td>0</td>\n",
       "      <td>...</td>\n",
       "      <td>0.050534</td>\n",
       "      <td>0.048525</td>\n",
       "      <td>0.951475</td>\n",
       "      <td>100000.000</td>\n",
       "      <td>4852.455</td>\n",
       "      <td>96024.057</td>\n",
       "      <td>0.947137</td>\n",
       "      <td>6447199.061</td>\n",
       "      <td>64.4720</td>\n",
       "      <td>0.1806</td>\n",
       "    </tr>\n",
       "    <tr>\n",
       "      <th>1</th>\n",
       "      <td>4</td>\n",
       "      <td>Afghanistan</td>\n",
       "      <td>202</td>\n",
       "      <td>Median PI</td>\n",
       "      <td>2020-2025</td>\n",
       "      <td>2023</td>\n",
       "      <td>2</td>\n",
       "      <td>Female</td>\n",
       "      <td>0</td>\n",
       "      <td>0</td>\n",
       "      <td>...</td>\n",
       "      <td>0.041926</td>\n",
       "      <td>0.040517</td>\n",
       "      <td>0.959483</td>\n",
       "      <td>100000.000</td>\n",
       "      <td>4051.671</td>\n",
       "      <td>96638.704</td>\n",
       "      <td>0.954613</td>\n",
       "      <td>6758732.268</td>\n",
       "      <td>67.5873</td>\n",
       "      <td>0.1704</td>\n",
       "    </tr>\n",
       "    <tr>\n",
       "      <th>2</th>\n",
       "      <td>4</td>\n",
       "      <td>Afghanistan</td>\n",
       "      <td>202</td>\n",
       "      <td>Median PI</td>\n",
       "      <td>2020-2025</td>\n",
       "      <td>2023</td>\n",
       "      <td>3</td>\n",
       "      <td>Total</td>\n",
       "      <td>0</td>\n",
       "      <td>0</td>\n",
       "      <td>...</td>\n",
       "      <td>0.046335</td>\n",
       "      <td>0.044631</td>\n",
       "      <td>0.955369</td>\n",
       "      <td>100000.000</td>\n",
       "      <td>4463.063</td>\n",
       "      <td>96322.656</td>\n",
       "      <td>0.950776</td>\n",
       "      <td>6597615.551</td>\n",
       "      <td>65.9762</td>\n",
       "      <td>0.1760</td>\n",
       "    </tr>\n",
       "    <tr>\n",
       "      <th>3</th>\n",
       "      <td>4</td>\n",
       "      <td>Afghanistan</td>\n",
       "      <td>202</td>\n",
       "      <td>Median PI</td>\n",
       "      <td>2020-2025</td>\n",
       "      <td>2023</td>\n",
       "      <td>1</td>\n",
       "      <td>Male</td>\n",
       "      <td>1-4</td>\n",
       "      <td>1</td>\n",
       "      <td>...</td>\n",
       "      <td>0.003238</td>\n",
       "      <td>0.012850</td>\n",
       "      <td>0.987150</td>\n",
       "      <td>95147.545</td>\n",
       "      <td>1222.626</td>\n",
       "      <td>377544.250</td>\n",
       "      <td>0.988763</td>\n",
       "      <td>6351175.005</td>\n",
       "      <td>66.7508</td>\n",
       "      <td>1.5087</td>\n",
       "    </tr>\n",
       "    <tr>\n",
       "      <th>4</th>\n",
       "      <td>4</td>\n",
       "      <td>Afghanistan</td>\n",
       "      <td>202</td>\n",
       "      <td>Median PI</td>\n",
       "      <td>2020-2025</td>\n",
       "      <td>2023</td>\n",
       "      <td>2</td>\n",
       "      <td>Female</td>\n",
       "      <td>1-4</td>\n",
       "      <td>1</td>\n",
       "      <td>...</td>\n",
       "      <td>0.003230</td>\n",
       "      <td>0.012817</td>\n",
       "      <td>0.987183</td>\n",
       "      <td>95948.329</td>\n",
       "      <td>1229.730</td>\n",
       "      <td>380667.780</td>\n",
       "      <td>0.989776</td>\n",
       "      <td>6662093.564</td>\n",
       "      <td>69.4342</td>\n",
       "      <td>1.4584</td>\n",
       "    </tr>\n",
       "    <tr>\n",
       "      <th>...</th>\n",
       "      <td>...</td>\n",
       "      <td>...</td>\n",
       "      <td>...</td>\n",
       "      <td>...</td>\n",
       "      <td>...</td>\n",
       "      <td>...</td>\n",
       "      <td>...</td>\n",
       "      <td>...</td>\n",
       "      <td>...</td>\n",
       "      <td>...</td>\n",
       "      <td>...</td>\n",
       "      <td>...</td>\n",
       "      <td>...</td>\n",
       "      <td>...</td>\n",
       "      <td>...</td>\n",
       "      <td>...</td>\n",
       "      <td>...</td>\n",
       "      <td>...</td>\n",
       "      <td>...</td>\n",
       "      <td>...</td>\n",
       "      <td>...</td>\n",
       "    </tr>\n",
       "    <tr>\n",
       "      <th>1325275</th>\n",
       "      <td>716</td>\n",
       "      <td>Zimbabwe</td>\n",
       "      <td>207</td>\n",
       "      <td>Lower 95 PI</td>\n",
       "      <td>2095-2100</td>\n",
       "      <td>2098</td>\n",
       "      <td>2</td>\n",
       "      <td>Female</td>\n",
       "      <td>95-99</td>\n",
       "      <td>95</td>\n",
       "      <td>...</td>\n",
       "      <td>0.220887</td>\n",
       "      <td>0.687103</td>\n",
       "      <td>0.312897</td>\n",
       "      <td>23653.386</td>\n",
       "      <td>16252.311</td>\n",
       "      <td>73577.557</td>\n",
       "      <td>0.210944</td>\n",
       "      <td>93247.605</td>\n",
       "      <td>3.9423</td>\n",
       "      <td>2.2503</td>\n",
       "    </tr>\n",
       "    <tr>\n",
       "      <th>1325276</th>\n",
       "      <td>716</td>\n",
       "      <td>Zimbabwe</td>\n",
       "      <td>207</td>\n",
       "      <td>Lower 95 PI</td>\n",
       "      <td>2095-2100</td>\n",
       "      <td>2098</td>\n",
       "      <td>3</td>\n",
       "      <td>Total</td>\n",
       "      <td>95-99</td>\n",
       "      <td>95</td>\n",
       "      <td>...</td>\n",
       "      <td>0.232677</td>\n",
       "      <td>0.706471</td>\n",
       "      <td>0.293529</td>\n",
       "      <td>20453.661</td>\n",
       "      <td>14449.914</td>\n",
       "      <td>62102.960</td>\n",
       "      <td>0.198959</td>\n",
       "      <td>77527.796</td>\n",
       "      <td>3.7904</td>\n",
       "      <td>2.2204</td>\n",
       "    </tr>\n",
       "    <tr>\n",
       "      <th>1325277</th>\n",
       "      <td>716</td>\n",
       "      <td>Zimbabwe</td>\n",
       "      <td>207</td>\n",
       "      <td>Lower 95 PI</td>\n",
       "      <td>2095-2100</td>\n",
       "      <td>2098</td>\n",
       "      <td>1</td>\n",
       "      <td>Male</td>\n",
       "      <td>100+</td>\n",
       "      <td>100</td>\n",
       "      <td>...</td>\n",
       "      <td>0.417903</td>\n",
       "      <td>NaN</td>\n",
       "      <td>NaN</td>\n",
       "      <td>4600.726</td>\n",
       "      <td>4600.726</td>\n",
       "      <td>11008.902</td>\n",
       "      <td>NaN</td>\n",
       "      <td>11008.902</td>\n",
       "      <td>2.3929</td>\n",
       "      <td>2.3929</td>\n",
       "    </tr>\n",
       "    <tr>\n",
       "      <th>1325278</th>\n",
       "      <td>716</td>\n",
       "      <td>Zimbabwe</td>\n",
       "      <td>207</td>\n",
       "      <td>Lower 95 PI</td>\n",
       "      <td>2095-2100</td>\n",
       "      <td>2098</td>\n",
       "      <td>2</td>\n",
       "      <td>Female</td>\n",
       "      <td>100+</td>\n",
       "      <td>100</td>\n",
       "      <td>...</td>\n",
       "      <td>0.376265</td>\n",
       "      <td>NaN</td>\n",
       "      <td>NaN</td>\n",
       "      <td>7401.074</td>\n",
       "      <td>7401.074</td>\n",
       "      <td>19670.048</td>\n",
       "      <td>NaN</td>\n",
       "      <td>19670.048</td>\n",
       "      <td>2.6577</td>\n",
       "      <td>2.6577</td>\n",
       "    </tr>\n",
       "    <tr>\n",
       "      <th>1325279</th>\n",
       "      <td>716</td>\n",
       "      <td>Zimbabwe</td>\n",
       "      <td>207</td>\n",
       "      <td>Lower 95 PI</td>\n",
       "      <td>2095-2100</td>\n",
       "      <td>2098</td>\n",
       "      <td>3</td>\n",
       "      <td>Total</td>\n",
       "      <td>100+</td>\n",
       "      <td>100</td>\n",
       "      <td>...</td>\n",
       "      <td>0.389226</td>\n",
       "      <td>NaN</td>\n",
       "      <td>NaN</td>\n",
       "      <td>6003.747</td>\n",
       "      <td>6003.747</td>\n",
       "      <td>15424.836</td>\n",
       "      <td>NaN</td>\n",
       "      <td>15424.836</td>\n",
       "      <td>2.5692</td>\n",
       "      <td>2.5692</td>\n",
       "    </tr>\n",
       "  </tbody>\n",
       "</table>\n",
       "<p>1325280 rows × 21 columns</p>\n",
       "</div>"
      ],
      "text/plain": [
       "         LocID     Location  VarID      Variant       Time  MidPeriod  SexID  \\\n",
       "0            4  Afghanistan    202    Median PI  2020-2025       2023      1   \n",
       "1            4  Afghanistan    202    Median PI  2020-2025       2023      2   \n",
       "2            4  Afghanistan    202    Median PI  2020-2025       2023      3   \n",
       "3            4  Afghanistan    202    Median PI  2020-2025       2023      1   \n",
       "4            4  Afghanistan    202    Median PI  2020-2025       2023      2   \n",
       "...        ...          ...    ...          ...        ...        ...    ...   \n",
       "1325275    716     Zimbabwe    207  Lower 95 PI  2095-2100       2098      2   \n",
       "1325276    716     Zimbabwe    207  Lower 95 PI  2095-2100       2098      3   \n",
       "1325277    716     Zimbabwe    207  Lower 95 PI  2095-2100       2098      1   \n",
       "1325278    716     Zimbabwe    207  Lower 95 PI  2095-2100       2098      2   \n",
       "1325279    716     Zimbabwe    207  Lower 95 PI  2095-2100       2098      3   \n",
       "\n",
       "            Sex AgeGrp  AgeGrpStart  ...        mx        qx        px  \\\n",
       "0          Male      0            0  ...  0.050534  0.048525  0.951475   \n",
       "1        Female      0            0  ...  0.041926  0.040517  0.959483   \n",
       "2         Total      0            0  ...  0.046335  0.044631  0.955369   \n",
       "3          Male    1-4            1  ...  0.003238  0.012850  0.987150   \n",
       "4        Female    1-4            1  ...  0.003230  0.012817  0.987183   \n",
       "...         ...    ...          ...  ...       ...       ...       ...   \n",
       "1325275  Female  95-99           95  ...  0.220887  0.687103  0.312897   \n",
       "1325276   Total  95-99           95  ...  0.232677  0.706471  0.293529   \n",
       "1325277    Male   100+          100  ...  0.417903       NaN       NaN   \n",
       "1325278  Female   100+          100  ...  0.376265       NaN       NaN   \n",
       "1325279   Total   100+          100  ...  0.389226       NaN       NaN   \n",
       "\n",
       "                 lx         dx          Lx        Sx           Tx       ex  \\\n",
       "0        100000.000   4852.455   96024.057  0.947137  6447199.061  64.4720   \n",
       "1        100000.000   4051.671   96638.704  0.954613  6758732.268  67.5873   \n",
       "2        100000.000   4463.063   96322.656  0.950776  6597615.551  65.9762   \n",
       "3         95147.545   1222.626  377544.250  0.988763  6351175.005  66.7508   \n",
       "4         95948.329   1229.730  380667.780  0.989776  6662093.564  69.4342   \n",
       "...             ...        ...         ...       ...          ...      ...   \n",
       "1325275   23653.386  16252.311   73577.557  0.210944    93247.605   3.9423   \n",
       "1325276   20453.661  14449.914   62102.960  0.198959    77527.796   3.7904   \n",
       "1325277    4600.726   4600.726   11008.902       NaN    11008.902   2.3929   \n",
       "1325278    7401.074   7401.074   19670.048       NaN    19670.048   2.6577   \n",
       "1325279    6003.747   6003.747   15424.836       NaN    15424.836   2.5692   \n",
       "\n",
       "             ax  \n",
       "0        0.1806  \n",
       "1        0.1704  \n",
       "2        0.1760  \n",
       "3        1.5087  \n",
       "4        1.4584  \n",
       "...         ...  \n",
       "1325275  2.2503  \n",
       "1325276  2.2204  \n",
       "1325277  2.3929  \n",
       "1325278  2.6577  \n",
       "1325279  2.5692  \n",
       "\n",
       "[1325280 rows x 21 columns]"
      ]
     },
     "execution_count": 11,
     "metadata": {},
     "output_type": "execute_result"
    }
   ],
   "source": [
    "lifeexp"
   ]
  },
  {
   "cell_type": "code",
   "execution_count": 12,
   "metadata": {},
   "outputs": [
    {
     "data": {
      "text/plain": [
       "Index(['LocID', 'Location', 'VarID', 'Variant', 'Time', 'MidPeriod', 'SexID',\n",
       "       'Sex', 'AgeGrp', 'AgeGrpStart', 'AgeGrpSpan', 'mx', 'qx', 'px', 'lx',\n",
       "       'dx', 'Lx', 'Sx', 'Tx', 'ex', 'ax'],\n",
       "      dtype='object')"
      ]
     },
     "execution_count": 12,
     "metadata": {},
     "output_type": "execute_result"
    }
   ],
   "source": [
    "lifeexp.columns"
   ]
  },
  {
   "cell_type": "code",
   "execution_count": 13,
   "metadata": {},
   "outputs": [
    {
     "data": {
      "text/plain": [
       "['2020-2025',\n",
       " '2025-2030',\n",
       " '2030-2035',\n",
       " '2035-2040',\n",
       " '2040-2045',\n",
       " '2045-2050',\n",
       " '2050-2055',\n",
       " '2055-2060',\n",
       " '2060-2065',\n",
       " '2065-2070',\n",
       " '2070-2075',\n",
       " '2075-2080',\n",
       " '2080-2085',\n",
       " '2085-2090',\n",
       " '2090-2095',\n",
       " '2095-2100']"
      ]
     },
     "execution_count": 13,
     "metadata": {},
     "output_type": "execute_result"
    }
   ],
   "source": [
    "np.ndarray.tolist(lifeexp['Time'].unique())"
   ]
  },
  {
   "cell_type": "code",
   "execution_count": 14,
   "metadata": {},
   "outputs": [
    {
     "data": {
      "text/plain": [
       "['Median PI', 'Upper 80 PI', 'Lower 80 PI', 'Upper 95 PI', 'Lower 95 PI']"
      ]
     },
     "execution_count": 14,
     "metadata": {},
     "output_type": "execute_result"
    }
   ],
   "source": [
    "np.ndarray.tolist(lifeexp['Variant'].unique())"
   ]
  },
  {
   "cell_type": "code",
   "execution_count": 15,
   "metadata": {},
   "outputs": [
    {
     "data": {
      "text/plain": [
       "['0',\n",
       " '1-4',\n",
       " '5-9',\n",
       " '10-14',\n",
       " '15-19',\n",
       " '20-24',\n",
       " '25-29',\n",
       " '30-34',\n",
       " '35-39',\n",
       " '40-44',\n",
       " '45-49',\n",
       " '50-54',\n",
       " '55-59',\n",
       " '60-64',\n",
       " '65-69',\n",
       " '70-74',\n",
       " '75-79',\n",
       " '80-84',\n",
       " '85-89',\n",
       " '90-94',\n",
       " '95-99',\n",
       " '100+']"
      ]
     },
     "execution_count": 15,
     "metadata": {},
     "output_type": "execute_result"
    }
   ],
   "source": [
    "np.ndarray.tolist(lifeexp['AgeGrp'].unique())"
   ]
  },
  {
   "cell_type": "code",
   "execution_count": 16,
   "metadata": {},
   "outputs": [],
   "source": [
    "lifeexp = lifeexp.loc[(lifeexp['Variant'] == 'Median PI') & (lifeexp['Time'] == '2020-2025') & (lifeexp['Sex']=='Total') & (lifeexp['AgeGrp'] == '60-64')]"
   ]
  },
  {
   "cell_type": "code",
   "execution_count": 17,
   "metadata": {},
   "outputs": [
    {
     "name": "stderr",
     "output_type": "stream",
     "text": [
      "/opt/anaconda3/lib/python3.7/site-packages/pandas/core/frame.py:3997: SettingWithCopyWarning: \n",
      "A value is trying to be set on a copy of a slice from a DataFrame\n",
      "\n",
      "See the caveats in the documentation: https://pandas.pydata.org/pandas-docs/stable/user_guide/indexing.html#returning-a-view-versus-a-copy\n",
      "  errors=errors,\n"
     ]
    }
   ],
   "source": [
    "lifeexp.drop(['LocID', 'VarID', 'MidPeriod', 'SexID', 'AgeGrpStart', 'AgeGrpSpan', 'mx', 'qx', 'px', 'lx',\n",
    "       'dx', 'Lx', 'Sx', 'Tx', 'ax'], axis=1, inplace=True)"
   ]
  },
  {
   "cell_type": "code",
   "execution_count": 18,
   "metadata": {},
   "outputs": [
    {
     "data": {
      "text/html": [
       "<div>\n",
       "<style scoped>\n",
       "    .dataframe tbody tr th:only-of-type {\n",
       "        vertical-align: middle;\n",
       "    }\n",
       "\n",
       "    .dataframe tbody tr th {\n",
       "        vertical-align: top;\n",
       "    }\n",
       "\n",
       "    .dataframe thead th {\n",
       "        text-align: right;\n",
       "    }\n",
       "</style>\n",
       "<table border=\"1\" class=\"dataframe\">\n",
       "  <thead>\n",
       "    <tr style=\"text-align: right;\">\n",
       "      <th></th>\n",
       "      <th>Location</th>\n",
       "      <th>Variant</th>\n",
       "      <th>Time</th>\n",
       "      <th>Sex</th>\n",
       "      <th>AgeGrp</th>\n",
       "      <th>ex</th>\n",
       "    </tr>\n",
       "  </thead>\n",
       "  <tbody>\n",
       "    <tr>\n",
       "      <th>41</th>\n",
       "      <td>Afghanistan</td>\n",
       "      <td>Median PI</td>\n",
       "      <td>2020-2025</td>\n",
       "      <td>Total</td>\n",
       "      <td>60-64</td>\n",
       "      <td>16.6754</td>\n",
       "    </tr>\n",
       "    <tr>\n",
       "      <th>5321</th>\n",
       "      <td>Africa</td>\n",
       "      <td>Median PI</td>\n",
       "      <td>2020-2025</td>\n",
       "      <td>Total</td>\n",
       "      <td>60-64</td>\n",
       "      <td>17.2289</td>\n",
       "    </tr>\n",
       "    <tr>\n",
       "      <th>10601</th>\n",
       "      <td>Albania</td>\n",
       "      <td>Median PI</td>\n",
       "      <td>2020-2025</td>\n",
       "      <td>Total</td>\n",
       "      <td>60-64</td>\n",
       "      <td>22.2639</td>\n",
       "    </tr>\n",
       "    <tr>\n",
       "      <th>15881</th>\n",
       "      <td>Algeria</td>\n",
       "      <td>Median PI</td>\n",
       "      <td>2020-2025</td>\n",
       "      <td>Total</td>\n",
       "      <td>60-64</td>\n",
       "      <td>22.5585</td>\n",
       "    </tr>\n",
       "    <tr>\n",
       "      <th>21161</th>\n",
       "      <td>Angola</td>\n",
       "      <td>Median PI</td>\n",
       "      <td>2020-2025</td>\n",
       "      <td>Total</td>\n",
       "      <td>60-64</td>\n",
       "      <td>15.6323</td>\n",
       "    </tr>\n",
       "    <tr>\n",
       "      <th>...</th>\n",
       "      <td>...</td>\n",
       "      <td>...</td>\n",
       "      <td>...</td>\n",
       "      <td>...</td>\n",
       "      <td>...</td>\n",
       "      <td>...</td>\n",
       "    </tr>\n",
       "    <tr>\n",
       "      <th>1298921</th>\n",
       "      <td>Western Sahara</td>\n",
       "      <td>Median PI</td>\n",
       "      <td>2020-2025</td>\n",
       "      <td>Total</td>\n",
       "      <td>60-64</td>\n",
       "      <td>17.7965</td>\n",
       "    </tr>\n",
       "    <tr>\n",
       "      <th>1304201</th>\n",
       "      <td>World</td>\n",
       "      <td>Median PI</td>\n",
       "      <td>2020-2025</td>\n",
       "      <td>Total</td>\n",
       "      <td>60-64</td>\n",
       "      <td>21.1022</td>\n",
       "    </tr>\n",
       "    <tr>\n",
       "      <th>1309481</th>\n",
       "      <td>Yemen</td>\n",
       "      <td>Median PI</td>\n",
       "      <td>2020-2025</td>\n",
       "      <td>Total</td>\n",
       "      <td>60-64</td>\n",
       "      <td>16.5993</td>\n",
       "    </tr>\n",
       "    <tr>\n",
       "      <th>1314761</th>\n",
       "      <td>Zambia</td>\n",
       "      <td>Median PI</td>\n",
       "      <td>2020-2025</td>\n",
       "      <td>Total</td>\n",
       "      <td>60-64</td>\n",
       "      <td>16.9101</td>\n",
       "    </tr>\n",
       "    <tr>\n",
       "      <th>1320041</th>\n",
       "      <td>Zimbabwe</td>\n",
       "      <td>Median PI</td>\n",
       "      <td>2020-2025</td>\n",
       "      <td>Total</td>\n",
       "      <td>60-64</td>\n",
       "      <td>16.2614</td>\n",
       "    </tr>\n",
       "  </tbody>\n",
       "</table>\n",
       "<p>251 rows × 6 columns</p>\n",
       "</div>"
      ],
      "text/plain": [
       "               Location    Variant       Time    Sex AgeGrp       ex\n",
       "41          Afghanistan  Median PI  2020-2025  Total  60-64  16.6754\n",
       "5321             Africa  Median PI  2020-2025  Total  60-64  17.2289\n",
       "10601           Albania  Median PI  2020-2025  Total  60-64  22.2639\n",
       "15881           Algeria  Median PI  2020-2025  Total  60-64  22.5585\n",
       "21161            Angola  Median PI  2020-2025  Total  60-64  15.6323\n",
       "...                 ...        ...        ...    ...    ...      ...\n",
       "1298921  Western Sahara  Median PI  2020-2025  Total  60-64  17.7965\n",
       "1304201           World  Median PI  2020-2025  Total  60-64  21.1022\n",
       "1309481           Yemen  Median PI  2020-2025  Total  60-64  16.5993\n",
       "1314761          Zambia  Median PI  2020-2025  Total  60-64  16.9101\n",
       "1320041        Zimbabwe  Median PI  2020-2025  Total  60-64  16.2614\n",
       "\n",
       "[251 rows x 6 columns]"
      ]
     },
     "execution_count": 18,
     "metadata": {},
     "output_type": "execute_result"
    }
   ],
   "source": [
    "lifeexp"
   ]
  },
  {
   "cell_type": "code",
   "execution_count": 19,
   "metadata": {},
   "outputs": [],
   "source": [
    "country_names_lifeexp = np.ndarray.tolist(lifeexp['Location'].unique())"
   ]
  },
  {
   "cell_type": "code",
   "execution_count": 20,
   "metadata": {},
   "outputs": [],
   "source": [
    "#loop through lifeexp and create new df that contains only these elementes\n",
    "#that are part of deathrate.index \n",
    "\n",
    "final_lifeexp = pd.DataFrame()\n",
    "for index, row in lifeexp.iterrows():\n",
    "    if row['Location'] in countries_deathrate:\n",
    "          final_lifeexp = final_lifeexp.append(row)\n",
    "            \n",
    "\n"
   ]
  },
  {
   "cell_type": "code",
   "execution_count": 21,
   "metadata": {},
   "outputs": [
    {
     "data": {
      "text/html": [
       "<div>\n",
       "<style scoped>\n",
       "    .dataframe tbody tr th:only-of-type {\n",
       "        vertical-align: middle;\n",
       "    }\n",
       "\n",
       "    .dataframe tbody tr th {\n",
       "        vertical-align: top;\n",
       "    }\n",
       "\n",
       "    .dataframe thead th {\n",
       "        text-align: right;\n",
       "    }\n",
       "</style>\n",
       "<table border=\"1\" class=\"dataframe\">\n",
       "  <thead>\n",
       "    <tr style=\"text-align: right;\">\n",
       "      <th></th>\n",
       "      <th>AgeGrp</th>\n",
       "      <th>Location</th>\n",
       "      <th>Sex</th>\n",
       "      <th>Time</th>\n",
       "      <th>Variant</th>\n",
       "      <th>ex</th>\n",
       "    </tr>\n",
       "  </thead>\n",
       "  <tbody>\n",
       "    <tr>\n",
       "      <th>41</th>\n",
       "      <td>60-64</td>\n",
       "      <td>Afghanistan</td>\n",
       "      <td>Total</td>\n",
       "      <td>2020-2025</td>\n",
       "      <td>Median PI</td>\n",
       "      <td>16.6754</td>\n",
       "    </tr>\n",
       "    <tr>\n",
       "      <th>10601</th>\n",
       "      <td>60-64</td>\n",
       "      <td>Albania</td>\n",
       "      <td>Total</td>\n",
       "      <td>2020-2025</td>\n",
       "      <td>Median PI</td>\n",
       "      <td>22.2639</td>\n",
       "    </tr>\n",
       "    <tr>\n",
       "      <th>15881</th>\n",
       "      <td>60-64</td>\n",
       "      <td>Algeria</td>\n",
       "      <td>Total</td>\n",
       "      <td>2020-2025</td>\n",
       "      <td>Median PI</td>\n",
       "      <td>22.5585</td>\n",
       "    </tr>\n",
       "    <tr>\n",
       "      <th>21161</th>\n",
       "      <td>60-64</td>\n",
       "      <td>Angola</td>\n",
       "      <td>Total</td>\n",
       "      <td>2020-2025</td>\n",
       "      <td>Median PI</td>\n",
       "      <td>15.6323</td>\n",
       "    </tr>\n",
       "    <tr>\n",
       "      <th>26441</th>\n",
       "      <td>60-64</td>\n",
       "      <td>Antigua and Barbuda</td>\n",
       "      <td>Total</td>\n",
       "      <td>2020-2025</td>\n",
       "      <td>Median PI</td>\n",
       "      <td>21.3997</td>\n",
       "    </tr>\n",
       "    <tr>\n",
       "      <th>...</th>\n",
       "      <td>...</td>\n",
       "      <td>...</td>\n",
       "      <td>...</td>\n",
       "      <td>...</td>\n",
       "      <td>...</td>\n",
       "      <td>...</td>\n",
       "    </tr>\n",
       "    <tr>\n",
       "      <th>1261961</th>\n",
       "      <td>60-64</td>\n",
       "      <td>Uzbekistan</td>\n",
       "      <td>Total</td>\n",
       "      <td>2020-2025</td>\n",
       "      <td>Median PI</td>\n",
       "      <td>17.7341</td>\n",
       "    </tr>\n",
       "    <tr>\n",
       "      <th>1298921</th>\n",
       "      <td>60-64</td>\n",
       "      <td>Western Sahara</td>\n",
       "      <td>Total</td>\n",
       "      <td>2020-2025</td>\n",
       "      <td>Median PI</td>\n",
       "      <td>17.7965</td>\n",
       "    </tr>\n",
       "    <tr>\n",
       "      <th>1309481</th>\n",
       "      <td>60-64</td>\n",
       "      <td>Yemen</td>\n",
       "      <td>Total</td>\n",
       "      <td>2020-2025</td>\n",
       "      <td>Median PI</td>\n",
       "      <td>16.5993</td>\n",
       "    </tr>\n",
       "    <tr>\n",
       "      <th>1314761</th>\n",
       "      <td>60-64</td>\n",
       "      <td>Zambia</td>\n",
       "      <td>Total</td>\n",
       "      <td>2020-2025</td>\n",
       "      <td>Median PI</td>\n",
       "      <td>16.9101</td>\n",
       "    </tr>\n",
       "    <tr>\n",
       "      <th>1320041</th>\n",
       "      <td>60-64</td>\n",
       "      <td>Zimbabwe</td>\n",
       "      <td>Total</td>\n",
       "      <td>2020-2025</td>\n",
       "      <td>Median PI</td>\n",
       "      <td>16.2614</td>\n",
       "    </tr>\n",
       "  </tbody>\n",
       "</table>\n",
       "<p>160 rows × 6 columns</p>\n",
       "</div>"
      ],
      "text/plain": [
       "        AgeGrp             Location    Sex       Time    Variant       ex\n",
       "41       60-64          Afghanistan  Total  2020-2025  Median PI  16.6754\n",
       "10601    60-64              Albania  Total  2020-2025  Median PI  22.2639\n",
       "15881    60-64              Algeria  Total  2020-2025  Median PI  22.5585\n",
       "21161    60-64               Angola  Total  2020-2025  Median PI  15.6323\n",
       "26441    60-64  Antigua and Barbuda  Total  2020-2025  Median PI  21.3997\n",
       "...        ...                  ...    ...        ...        ...      ...\n",
       "1261961  60-64           Uzbekistan  Total  2020-2025  Median PI  17.7341\n",
       "1298921  60-64       Western Sahara  Total  2020-2025  Median PI  17.7965\n",
       "1309481  60-64                Yemen  Total  2020-2025  Median PI  16.5993\n",
       "1314761  60-64               Zambia  Total  2020-2025  Median PI  16.9101\n",
       "1320041  60-64             Zimbabwe  Total  2020-2025  Median PI  16.2614\n",
       "\n",
       "[160 rows x 6 columns]"
      ]
     },
     "execution_count": 21,
     "metadata": {},
     "output_type": "execute_result"
    }
   ],
   "source": [
    "final_lifeexp"
   ]
  },
  {
   "cell_type": "code",
   "execution_count": 22,
   "metadata": {},
   "outputs": [
    {
     "data": {
      "text/plain": [
       "189"
      ]
     },
     "execution_count": 22,
     "metadata": {},
     "output_type": "execute_result"
    }
   ],
   "source": [
    "len(countries_deathrate)\n",
    "#now we have to diminish the list of deathrate so that we can append deathrate later to the final_lifeexp"
   ]
  },
  {
   "cell_type": "code",
   "execution_count": 23,
   "metadata": {},
   "outputs": [],
   "source": [
    "#make the Location to the index, so that we can easily sort the dataframe and get the deathrate we want \n",
    "final_lifeexp.set_index('Location', inplace=True)"
   ]
  },
  {
   "cell_type": "code",
   "execution_count": 24,
   "metadata": {},
   "outputs": [],
   "source": [
    "deathrate = deathrate.get(list(final_lifeexp.index))\n",
    "#get only the countries where we have lifeexpectancy data\n",
    "\n",
    "\n",
    "#sort dataframe and series so that we can easily append each to another\n",
    "final_lifeexp = final_lifeexp.sort_index()\n",
    "deathrate = deathrate.sort_index()"
   ]
  },
  {
   "cell_type": "code",
   "execution_count": 25,
   "metadata": {},
   "outputs": [],
   "source": [
    "final_lifeexp['deathrate'] = deathrate"
   ]
  },
  {
   "cell_type": "code",
   "execution_count": 26,
   "metadata": {},
   "outputs": [],
   "source": [
    "final_lifeexp=final_lifeexp.rename(columns = {'ex':'Life expectancy'})"
   ]
  },
  {
   "cell_type": "code",
   "execution_count": 27,
   "metadata": {},
   "outputs": [
    {
     "data": {
      "text/html": [
       "<div>\n",
       "<style scoped>\n",
       "    .dataframe tbody tr th:only-of-type {\n",
       "        vertical-align: middle;\n",
       "    }\n",
       "\n",
       "    .dataframe tbody tr th {\n",
       "        vertical-align: top;\n",
       "    }\n",
       "\n",
       "    .dataframe thead th {\n",
       "        text-align: right;\n",
       "    }\n",
       "</style>\n",
       "<table border=\"1\" class=\"dataframe\">\n",
       "  <thead>\n",
       "    <tr style=\"text-align: right;\">\n",
       "      <th></th>\n",
       "      <th>AgeGrp</th>\n",
       "      <th>Sex</th>\n",
       "      <th>Time</th>\n",
       "      <th>Variant</th>\n",
       "      <th>Life expectancy</th>\n",
       "      <th>deathrate</th>\n",
       "    </tr>\n",
       "    <tr>\n",
       "      <th>Location</th>\n",
       "      <th></th>\n",
       "      <th></th>\n",
       "      <th></th>\n",
       "      <th></th>\n",
       "      <th></th>\n",
       "      <th></th>\n",
       "    </tr>\n",
       "  </thead>\n",
       "  <tbody>\n",
       "    <tr>\n",
       "      <th>Afghanistan</th>\n",
       "      <td>60-64</td>\n",
       "      <td>Total</td>\n",
       "      <td>2020-2025</td>\n",
       "      <td>Median PI</td>\n",
       "      <td>16.6754</td>\n",
       "      <td>0.023259</td>\n",
       "    </tr>\n",
       "    <tr>\n",
       "      <th>Albania</th>\n",
       "      <td>60-64</td>\n",
       "      <td>Total</td>\n",
       "      <td>2020-2025</td>\n",
       "      <td>Median PI</td>\n",
       "      <td>22.2639</td>\n",
       "      <td>0.032666</td>\n",
       "    </tr>\n",
       "    <tr>\n",
       "      <th>Algeria</th>\n",
       "      <td>60-64</td>\n",
       "      <td>Total</td>\n",
       "      <td>2020-2025</td>\n",
       "      <td>Median PI</td>\n",
       "      <td>22.5585</td>\n",
       "      <td>0.076047</td>\n",
       "    </tr>\n",
       "    <tr>\n",
       "      <th>Angola</th>\n",
       "      <td>60-64</td>\n",
       "      <td>Total</td>\n",
       "      <td>2020-2025</td>\n",
       "      <td>Median PI</td>\n",
       "      <td>15.6323</td>\n",
       "      <td>0.057692</td>\n",
       "    </tr>\n",
       "    <tr>\n",
       "      <th>Antigua and Barbuda</th>\n",
       "      <td>60-64</td>\n",
       "      <td>Total</td>\n",
       "      <td>2020-2025</td>\n",
       "      <td>Median PI</td>\n",
       "      <td>21.3997</td>\n",
       "      <td>0.120000</td>\n",
       "    </tr>\n",
       "    <tr>\n",
       "      <th>...</th>\n",
       "      <td>...</td>\n",
       "      <td>...</td>\n",
       "      <td>...</td>\n",
       "      <td>...</td>\n",
       "      <td>...</td>\n",
       "      <td>...</td>\n",
       "    </tr>\n",
       "    <tr>\n",
       "      <th>Uzbekistan</th>\n",
       "      <td>60-64</td>\n",
       "      <td>Total</td>\n",
       "      <td>2020-2025</td>\n",
       "      <td>Median PI</td>\n",
       "      <td>17.7341</td>\n",
       "      <td>0.004553</td>\n",
       "    </tr>\n",
       "    <tr>\n",
       "      <th>Western Sahara</th>\n",
       "      <td>60-64</td>\n",
       "      <td>Total</td>\n",
       "      <td>2020-2025</td>\n",
       "      <td>Median PI</td>\n",
       "      <td>17.7965</td>\n",
       "      <td>0.000000</td>\n",
       "    </tr>\n",
       "    <tr>\n",
       "      <th>Yemen</th>\n",
       "      <td>60-64</td>\n",
       "      <td>Total</td>\n",
       "      <td>2020-2025</td>\n",
       "      <td>Median PI</td>\n",
       "      <td>16.5993</td>\n",
       "      <td>0.167665</td>\n",
       "    </tr>\n",
       "    <tr>\n",
       "      <th>Zambia</th>\n",
       "      <td>60-64</td>\n",
       "      <td>Total</td>\n",
       "      <td>2020-2025</td>\n",
       "      <td>Median PI</td>\n",
       "      <td>16.9101</td>\n",
       "      <td>0.009067</td>\n",
       "    </tr>\n",
       "    <tr>\n",
       "      <th>Zimbabwe</th>\n",
       "      <td>60-64</td>\n",
       "      <td>Total</td>\n",
       "      <td>2020-2025</td>\n",
       "      <td>Median PI</td>\n",
       "      <td>16.2614</td>\n",
       "      <td>0.086957</td>\n",
       "    </tr>\n",
       "  </tbody>\n",
       "</table>\n",
       "<p>160 rows × 6 columns</p>\n",
       "</div>"
      ],
      "text/plain": [
       "                    AgeGrp    Sex       Time    Variant  Life expectancy  \\\n",
       "Location                                                                   \n",
       "Afghanistan          60-64  Total  2020-2025  Median PI          16.6754   \n",
       "Albania              60-64  Total  2020-2025  Median PI          22.2639   \n",
       "Algeria              60-64  Total  2020-2025  Median PI          22.5585   \n",
       "Angola               60-64  Total  2020-2025  Median PI          15.6323   \n",
       "Antigua and Barbuda  60-64  Total  2020-2025  Median PI          21.3997   \n",
       "...                    ...    ...        ...        ...              ...   \n",
       "Uzbekistan           60-64  Total  2020-2025  Median PI          17.7341   \n",
       "Western Sahara       60-64  Total  2020-2025  Median PI          17.7965   \n",
       "Yemen                60-64  Total  2020-2025  Median PI          16.5993   \n",
       "Zambia               60-64  Total  2020-2025  Median PI          16.9101   \n",
       "Zimbabwe             60-64  Total  2020-2025  Median PI          16.2614   \n",
       "\n",
       "                     deathrate  \n",
       "Location                        \n",
       "Afghanistan           0.023259  \n",
       "Albania               0.032666  \n",
       "Algeria               0.076047  \n",
       "Angola                0.057692  \n",
       "Antigua and Barbuda   0.120000  \n",
       "...                        ...  \n",
       "Uzbekistan            0.004553  \n",
       "Western Sahara        0.000000  \n",
       "Yemen                 0.167665  \n",
       "Zambia                0.009067  \n",
       "Zimbabwe              0.086957  \n",
       "\n",
       "[160 rows x 6 columns]"
      ]
     },
     "execution_count": 27,
     "metadata": {},
     "output_type": "execute_result"
    }
   ],
   "source": [
    "final_lifeexp"
   ]
  },
  {
   "cell_type": "markdown",
   "metadata": {},
   "source": [
    "## Plot with plotly"
   ]
  },
  {
   "cell_type": "code",
   "execution_count": 28,
   "metadata": {},
   "outputs": [],
   "source": [
    "import plotly\n",
    "from plotly.offline import download_plotlyjs, init_notebook_mode, plot, iplot\n",
    "import chart_studio\n",
    "import chart_studio.plotly as py\n",
    "import plotly.graph_objects as go\n",
    "import plotly.express as px\n",
    "import pycountry_convert as pc"
   ]
  },
  {
   "cell_type": "code",
   "execution_count": 38,
   "metadata": {},
   "outputs": [
    {
     "data": {
      "text/html": [
       "        <script type=\"text/javascript\">\n",
       "        window.PlotlyConfig = {MathJaxConfig: 'local'};\n",
       "        if (window.MathJax) {MathJax.Hub.Config({SVG: {font: \"STIX-Web\"}});}\n",
       "        if (typeof require !== 'undefined') {\n",
       "        require.undef(\"plotly\");\n",
       "        requirejs.config({\n",
       "            paths: {\n",
       "                'plotly': ['https://cdn.plot.ly/plotly-latest.min']\n",
       "            }\n",
       "        });\n",
       "        require(['plotly'], function(Plotly) {\n",
       "            window._Plotly = Plotly;\n",
       "        });\n",
       "        }\n",
       "        </script>\n",
       "        "
      ]
     },
     "metadata": {},
     "output_type": "display_data"
    }
   ],
   "source": [
    "chart_studio.tools.set_credentials_file(username='asrira', api_key='u1AQVbhfs7neeJ0TPl1f')\n",
    "#Jupyter setup (to display in notebook)\n",
    "init_notebook_mode(connected=True)"
   ]
  },
  {
   "cell_type": "code",
   "execution_count": 29,
   "metadata": {},
   "outputs": [],
   "source": [
    "#das musch drin lah, dass wenn finalisiert haesch, dass mini plots mit\n",
    "#py.iplot(fig, filename='Cardiovascular diseases', auto_open=True) command es i mini cloud vo plotly chasch lade\n",
    "chart_studio.tools.set_credentials_file(username='sagaciousplots', api_key='97jNm6mo2vxdYga1mtYv')"
   ]
  },
  {
   "cell_type": "code",
   "execution_count": 30,
   "metadata": {},
   "outputs": [
    {
     "data": {
      "text/html": [
       "        <script type=\"text/javascript\">\n",
       "        window.PlotlyConfig = {MathJaxConfig: 'local'};\n",
       "        if (window.MathJax) {MathJax.Hub.Config({SVG: {font: \"STIX-Web\"}});}\n",
       "        if (typeof require !== 'undefined') {\n",
       "        require.undef(\"plotly\");\n",
       "        requirejs.config({\n",
       "            paths: {\n",
       "                'plotly': ['https://cdn.plot.ly/plotly-latest.min']\n",
       "            }\n",
       "        });\n",
       "        require(['plotly'], function(Plotly) {\n",
       "            window._Plotly = Plotly;\n",
       "        });\n",
       "        }\n",
       "        </script>\n",
       "        "
      ]
     },
     "metadata": {},
     "output_type": "display_data"
    }
   ],
   "source": [
    "#Jupyter setup (to display in notebook)\n",
    "init_notebook_mode(connected=True)"
   ]
  },
  {
   "cell_type": "code",
   "execution_count": 31,
   "metadata": {},
   "outputs": [],
   "source": [
    "countries = np.asarray(list(final_lifeexp.index))\n",
    "# Continent_code to Continent_names as a dictionary\n",
    "continents = {\n",
    "    'NA': 'North America',\n",
    "    'SA': 'South America', \n",
    "    'AS': 'Asia',\n",
    "    'OC': 'Australia',\n",
    "    'AF': 'Africa',\n",
    "    'EU' : 'Europe',\n",
    "    'na' : 'Others'\n",
    "}\n",
    "\n",
    "# Defining Function for getting continent code for country by using the pc library\n",
    "def country_to_continent_code(country):\n",
    "    try:\n",
    "        return pc.country_alpha2_to_continent_code(pc.country_name_to_country_alpha2(country))\n",
    "    except :\n",
    "        return 'na'\n",
    "\n",
    "#Collecting continent Information, insert at position 1, with column name 'continent'\n",
    "final_lifeexp.insert(1,\"continent\", [continents[country_to_continent_code(country)] for country in countries[:]])"
   ]
  },
  {
   "cell_type": "code",
   "execution_count": 32,
   "metadata": {},
   "outputs": [
    {
     "data": {
      "text/html": [
       "<div>\n",
       "<style scoped>\n",
       "    .dataframe tbody tr th:only-of-type {\n",
       "        vertical-align: middle;\n",
       "    }\n",
       "\n",
       "    .dataframe tbody tr th {\n",
       "        vertical-align: top;\n",
       "    }\n",
       "\n",
       "    .dataframe thead th {\n",
       "        text-align: right;\n",
       "    }\n",
       "</style>\n",
       "<table border=\"1\" class=\"dataframe\">\n",
       "  <thead>\n",
       "    <tr style=\"text-align: right;\">\n",
       "      <th></th>\n",
       "      <th>AgeGrp</th>\n",
       "      <th>continent</th>\n",
       "      <th>Sex</th>\n",
       "      <th>Time</th>\n",
       "      <th>Variant</th>\n",
       "      <th>Life expectancy</th>\n",
       "      <th>deathrate</th>\n",
       "    </tr>\n",
       "    <tr>\n",
       "      <th>Location</th>\n",
       "      <th></th>\n",
       "      <th></th>\n",
       "      <th></th>\n",
       "      <th></th>\n",
       "      <th></th>\n",
       "      <th></th>\n",
       "      <th></th>\n",
       "    </tr>\n",
       "  </thead>\n",
       "  <tbody>\n",
       "    <tr>\n",
       "      <th>Afghanistan</th>\n",
       "      <td>60-64</td>\n",
       "      <td>Asia</td>\n",
       "      <td>Total</td>\n",
       "      <td>2020-2025</td>\n",
       "      <td>Median PI</td>\n",
       "      <td>16.6754</td>\n",
       "      <td>0.023259</td>\n",
       "    </tr>\n",
       "    <tr>\n",
       "      <th>Albania</th>\n",
       "      <td>60-64</td>\n",
       "      <td>Europe</td>\n",
       "      <td>Total</td>\n",
       "      <td>2020-2025</td>\n",
       "      <td>Median PI</td>\n",
       "      <td>22.2639</td>\n",
       "      <td>0.032666</td>\n",
       "    </tr>\n",
       "    <tr>\n",
       "      <th>Algeria</th>\n",
       "      <td>60-64</td>\n",
       "      <td>Africa</td>\n",
       "      <td>Total</td>\n",
       "      <td>2020-2025</td>\n",
       "      <td>Median PI</td>\n",
       "      <td>22.5585</td>\n",
       "      <td>0.076047</td>\n",
       "    </tr>\n",
       "    <tr>\n",
       "      <th>Angola</th>\n",
       "      <td>60-64</td>\n",
       "      <td>Africa</td>\n",
       "      <td>Total</td>\n",
       "      <td>2020-2025</td>\n",
       "      <td>Median PI</td>\n",
       "      <td>15.6323</td>\n",
       "      <td>0.057692</td>\n",
       "    </tr>\n",
       "    <tr>\n",
       "      <th>Antigua and Barbuda</th>\n",
       "      <td>60-64</td>\n",
       "      <td>North America</td>\n",
       "      <td>Total</td>\n",
       "      <td>2020-2025</td>\n",
       "      <td>Median PI</td>\n",
       "      <td>21.3997</td>\n",
       "      <td>0.120000</td>\n",
       "    </tr>\n",
       "  </tbody>\n",
       "</table>\n",
       "</div>"
      ],
      "text/plain": [
       "                    AgeGrp      continent    Sex       Time    Variant  \\\n",
       "Location                                                                 \n",
       "Afghanistan          60-64           Asia  Total  2020-2025  Median PI   \n",
       "Albania              60-64         Europe  Total  2020-2025  Median PI   \n",
       "Algeria              60-64         Africa  Total  2020-2025  Median PI   \n",
       "Angola               60-64         Africa  Total  2020-2025  Median PI   \n",
       "Antigua and Barbuda  60-64  North America  Total  2020-2025  Median PI   \n",
       "\n",
       "                     Life expectancy  deathrate  \n",
       "Location                                         \n",
       "Afghanistan                  16.6754   0.023259  \n",
       "Albania                      22.2639   0.032666  \n",
       "Algeria                      22.5585   0.076047  \n",
       "Angola                       15.6323   0.057692  \n",
       "Antigua and Barbuda          21.3997   0.120000  "
      ]
     },
     "execution_count": 32,
     "metadata": {},
     "output_type": "execute_result"
    }
   ],
   "source": [
    "final_lifeexp.head()"
   ]
  },
  {
   "cell_type": "code",
   "execution_count": 33,
   "metadata": {},
   "outputs": [
    {
     "data": {
      "text/html": [
       "<div>\n",
       "<style scoped>\n",
       "    .dataframe tbody tr th:only-of-type {\n",
       "        vertical-align: middle;\n",
       "    }\n",
       "\n",
       "    .dataframe tbody tr th {\n",
       "        vertical-align: top;\n",
       "    }\n",
       "\n",
       "    .dataframe thead th {\n",
       "        text-align: right;\n",
       "    }\n",
       "</style>\n",
       "<table border=\"1\" class=\"dataframe\">\n",
       "  <thead>\n",
       "    <tr style=\"text-align: right;\">\n",
       "      <th></th>\n",
       "      <th>AgeGrp</th>\n",
       "      <th>continent</th>\n",
       "      <th>Sex</th>\n",
       "      <th>Time</th>\n",
       "      <th>Variant</th>\n",
       "      <th>Life expectancy</th>\n",
       "      <th>deathrate</th>\n",
       "    </tr>\n",
       "    <tr>\n",
       "      <th>Location</th>\n",
       "      <th></th>\n",
       "      <th></th>\n",
       "      <th></th>\n",
       "      <th></th>\n",
       "      <th></th>\n",
       "      <th></th>\n",
       "      <th></th>\n",
       "    </tr>\n",
       "  </thead>\n",
       "  <tbody>\n",
       "    <tr>\n",
       "      <th>Timor-Leste</th>\n",
       "      <td>60-64</td>\n",
       "      <td>Others</td>\n",
       "      <td>Total</td>\n",
       "      <td>2020-2025</td>\n",
       "      <td>Median PI</td>\n",
       "      <td>17.4863</td>\n",
       "      <td>0.0</td>\n",
       "    </tr>\n",
       "    <tr>\n",
       "      <th>Western Sahara</th>\n",
       "      <td>60-64</td>\n",
       "      <td>Others</td>\n",
       "      <td>Total</td>\n",
       "      <td>2020-2025</td>\n",
       "      <td>Median PI</td>\n",
       "      <td>17.7965</td>\n",
       "      <td>0.0</td>\n",
       "    </tr>\n",
       "  </tbody>\n",
       "</table>\n",
       "</div>"
      ],
      "text/plain": [
       "               AgeGrp continent    Sex       Time    Variant  Life expectancy  \\\n",
       "Location                                                                        \n",
       "Timor-Leste     60-64    Others  Total  2020-2025  Median PI          17.4863   \n",
       "Western Sahara  60-64    Others  Total  2020-2025  Median PI          17.7965   \n",
       "\n",
       "                deathrate  \n",
       "Location                   \n",
       "Timor-Leste           0.0  \n",
       "Western Sahara        0.0  "
      ]
     },
     "execution_count": 33,
     "metadata": {},
     "output_type": "execute_result"
    }
   ],
   "source": [
    "final_lifeexp.loc[final_lifeexp['continent']=='Others']"
   ]
  },
  {
   "cell_type": "code",
   "execution_count": 34,
   "metadata": {},
   "outputs": [],
   "source": [
    "final_lifeexp.loc[final_lifeexp.index=='Timor-Leste', 'continent'] = 'Asia'"
   ]
  },
  {
   "cell_type": "code",
   "execution_count": 35,
   "metadata": {},
   "outputs": [],
   "source": [
    "final_lifeexp.loc[final_lifeexp.index=='Western Sahara', 'continent'] = 'Africa'"
   ]
  },
  {
   "cell_type": "code",
   "execution_count": 39,
   "metadata": {
    "scrolled": false
   },
   "outputs": [
    {
     "data": {
      "text/html": [
       "\n",
       "        <iframe\n",
       "            width=\"100%\"\n",
       "            height=\"525px\"\n",
       "            src=\"https://plotly.com/~asrira/23.embed\"\n",
       "            frameborder=\"0\"\n",
       "            allowfullscreen\n",
       "        ></iframe>\n",
       "        "
      ],
      "text/plain": [
       "<IPython.lib.display.IFrame at 0x121288d50>"
      ]
     },
     "execution_count": 39,
     "metadata": {},
     "output_type": "execute_result"
    }
   ],
   "source": [
    "fig = px.scatter(final_lifeexp,\n",
    "    x = 'Life expectancy',\n",
    "    y = 'deathrate',\n",
    "    hover_name=countries,\n",
    "    color='continent',\n",
    "    title='Life expectancy vs. death rate')\n",
    "fig.update_layout(\n",
    "    yaxis_title=\"death rate\"\n",
    "    )\n",
    "\n",
    "#fig.show()\n",
    "py.iplot(fig, filename='Life_expectancy', auto_open=True) "
   ]
  },
  {
   "cell_type": "code",
   "execution_count": 37,
   "metadata": {},
   "outputs": [
    {
     "data": {
      "application/vnd.plotly.v1+json": {
       "config": {
        "plotlyServerURL": "https://plotly.com"
       },
       "data": [
        {
         "hovertext": [
          "Afghanistan",
          "Albania",
          "Algeria",
          "Angola",
          "Antigua and Barbuda",
          "Argentina",
          "Armenia",
          "Australia",
          "Austria",
          "Azerbaijan",
          "Bahamas",
          "Bahrain",
          "Bangladesh",
          "Barbados",
          "Belarus",
          "Belgium",
          "Belize",
          "Benin",
          "Bhutan",
          "Bosnia and Herzegovina",
          "Botswana",
          "Brazil",
          "Bulgaria",
          "Burkina Faso",
          "Burundi",
          "Cabo Verde",
          "Cambodia",
          "Cameroon",
          "Canada",
          "Central African Republic",
          "Chad",
          "Chile",
          "China",
          "Colombia",
          "Comoros",
          "Costa Rica",
          "Croatia",
          "Cuba",
          "Cyprus",
          "Czechia",
          "Denmark",
          "Djibouti",
          "Dominican Republic",
          "Ecuador",
          "Egypt",
          "El Salvador",
          "Equatorial Guinea",
          "Eritrea",
          "Estonia",
          "Eswatini",
          "Ethiopia",
          "Fiji",
          "Finland",
          "France",
          "Gabon",
          "Gambia",
          "Georgia",
          "Germany",
          "Ghana",
          "Greece",
          "Grenada",
          "Guatemala",
          "Guinea",
          "Guinea-Bissau",
          "Guyana",
          "Haiti",
          "Honduras",
          "Hungary",
          "Iceland",
          "India",
          "Indonesia",
          "Iraq",
          "Ireland",
          "Israel",
          "Italy",
          "Jamaica",
          "Japan",
          "Jordan",
          "Kazakhstan",
          "Kenya",
          "Kuwait",
          "Kyrgyzstan",
          "Latvia",
          "Lebanon",
          "Lesotho",
          "Liberia",
          "Libya",
          "Lithuania",
          "Luxembourg",
          "Madagascar",
          "Malawi",
          "Malaysia",
          "Maldives",
          "Mali",
          "Malta",
          "Mauritania",
          "Mauritius",
          "Mexico",
          "Mongolia",
          "Montenegro",
          "Morocco",
          "Mozambique",
          "Namibia",
          "Nepal",
          "Netherlands",
          "New Zealand",
          "Nicaragua",
          "Niger",
          "Nigeria",
          "North Macedonia",
          "Norway",
          "Oman",
          "Pakistan",
          "Panama",
          "Papua New Guinea",
          "Paraguay",
          "Peru",
          "Philippines",
          "Poland",
          "Portugal",
          "Qatar",
          "Romania",
          "Rwanda",
          "Saint Lucia",
          "Saint Vincent and the Grenadines",
          "Sao Tome and Principe",
          "Saudi Arabia",
          "Senegal",
          "Serbia",
          "Seychelles",
          "Sierra Leone",
          "Singapore",
          "Slovakia",
          "Slovenia",
          "Somalia",
          "South Africa",
          "South Sudan",
          "Spain",
          "Sri Lanka",
          "Sudan",
          "Suriname",
          "Sweden",
          "Switzerland",
          "Tajikistan",
          "Thailand",
          "Timor-Leste",
          "Togo",
          "Trinidad and Tobago",
          "Tunisia",
          "Turkey",
          "Uganda",
          "Ukraine",
          "United Arab Emirates",
          "United Kingdom",
          "Uruguay",
          "Uzbekistan",
          "Western Sahara",
          "Yemen",
          "Zambia",
          "Zimbabwe"
         ],
         "mode": "markers",
         "type": "scatter",
         "x": [
          16.6754,
          22.2639,
          22.5585,
          15.6323,
          21.3997,
          21.8385,
          19.9928,
          26.2465,
          24.5316,
          18.7683,
          19.905,
          20.3567,
          19.9394,
          24.5211,
          19.9557,
          24.8059,
          22.2155,
          17.4115,
          21.4181,
          21.0107,
          19.0888,
          22.6995,
          20.0282,
          15.814,
          16.9085,
          19.0866,
          17.8618,
          15.467,
          25.5284,
          14.7657,
          16.1642,
          24.2818,
          20.7724,
          23.4597,
          16.5376,
          24.8049,
          21.9159,
          22.824,
          23.3664,
          22.5554,
          23.8736,
          18.2974,
          22.5008,
          23.7647,
          17.9237,
          22.0259,
          15.5968,
          16.8113,
          22.846999999999998,
          16.299,
          18.4625,
          16.1432,
          25.1264,
          26.0662,
          17.1617,
          15.6468,
          19.4104,
          24.404,
          15.9856,
          25.3822,
          18.6005,
          22.7633,
          15.6964,
          15.1038,
          21.0815,
          18.8695,
          23.0004,
          21.1472,
          25.2855,
          18.3423,
          18.648,
          17.9209,
          24.8317,
          25.5012,
          25.8986,
          20.5916,
          27.1892,
          19.4922,
          19.5016,
          17.6436,
          18.2511,
          17.5878,
          21.2317,
          22.2895,
          15.4778,
          17.0276,
          18.7788,
          21.9825,
          25.0096,
          17.4601,
          16.8,
          21.0827,
          22.3044,
          15.7128,
          25.2472,
          16.8722,
          21.0651,
          21.5095,
          17.7263,
          20.405,
          21.2618,
          16.2489,
          16.4226,
          18.0666,
          24.8257,
          25.3994,
          22.0517,
          16.4113,
          14.2529,
          19.7431,
          25.083000000000002,
          22.0572,
          17.8389,
          25.0945,
          14.9673,
          21.4601,
          22.8529,
          19.6941,
          22.9912,
          25.1746,
          22.6818,
          20.7619,
          18.2868,
          22.5484,
          19.5705,
          17.8776,
          19.0565,
          17.1911,
          19.9838,
          19.6924,
          14.8055,
          25.894000000000002,
          21.5909,
          24.1595,
          16.4825,
          16.6997,
          16.7343,
          26.1121,
          21.6306,
          18.0406,
          18.9884,
          25.3042,
          26.1936,
          17.3242,
          23.2493,
          17.4863,
          15.4737,
          20.6981,
          20.9373,
          22.8666,
          16.541,
          18.7906,
          20.8888,
          24.4729,
          22.9516,
          17.7341,
          17.7965,
          16.5993,
          16.9101,
          16.2614
         ],
         "y": [
          0.023258852737488567,
          0.032665964172813484,
          0.07604717364782432,
          0.057692307692307696,
          0.12,
          0.04461346350323533,
          0.012695893671890498,
          0.01414027149321267,
          0.038723117456038236,
          0.011654349061967027,
          0.11458333333333333,
          0.0015932023366967605,
          0.014728713028939931,
          0.07777777777777778,
          0.005554144979052939,
          0.16325213744152284,
          0.1111111111111111,
          0.015384615384615385,
          0,
          0.05773373545885394,
          0.04,
          0.06614193500928701,
          0.04957945993802568,
          0.06407035175879397,
          0.023809523809523808,
          0.008955223880597015,
          0,
          0.03967129498441485,
          0.07488849962108507,
          0,
          0.10275229357798166,
          0.010266443453881684,
          0.05517290603475965,
          0.03619722468260998,
          0.09090909090909091,
          0.011337868480725623,
          0.043010752688172046,
          0.041865394806571275,
          0.018518518518518517,
          0.03492540765583439,
          0.04901263120441202,
          0.004326328800988875,
          0.03335097935415564,
          0.0831308014406606,
          0.04887273805992287,
          0.020026702269692925,
          0.008484848484848486,
          0,
          0.03573422668900056,
          0.009615384615384616,
          0.0136986301369863,
          0,
          0.047038599781215815,
          0.15489158970447625,
          0.007989347536617843,
          0.041666666666666664,
          0.016973125884016973,
          0.04545556818053977,
          0.005085301837270341,
          0.058098591549295774,
          0,
          0.02015939990623535,
          0.0062871114215857496,
          0.005780346820809248,
          0.08,
          0.039399624765478425,
          0.049746192893401014,
          0.1313273340832396,
          0.005549389567147614,
          0.031011974641934725,
          0.06601427335640138,
          0.0362780393242869,
          0.0643684796503237,
          0.016687676331112313,
          0.14190181694670026,
          0.01730769230769231,
          0.046923687908596565,
          0.01386748844375963,
          0.005184417123389127,
          0.05192107995846314,
          0.007217847769028871,
          0.011263073209975865,
          0.020750988142292492,
          0.027253668763102725,
          0,
          0.09871244635193133,
          0.04411764705882353,
          0.03841229193341869,
          0.027539161192521474,
          0.006134969325153374,
          0.04285714285714286,
          0.01633705932932072,
          0.003499562554680665,
          0.058823529411764705,
          0.01054481546572935,
          0.030534351145038167,
          0.030120481927710843,
          0.104257903065543,
          0,
          0.027777777777777776,
          0.027481133418766908,
          0,
          0,
          0.004975124378109453,
          0.12900177731782492,
          0.013972055888223553,
          0.06692913385826772,
          0.060175054704595186,
          0.029995313232307454,
          0.057640021750951606,
          0.028184347405346557,
          0.004761065067889261,
          0.02135741254605832,
          0.028478767609202392,
          0,
          0.013268998793727383,
          0.029291436727883157,
          0.06467315716272601,
          0.04920074735312435,
          0.04236885023104105,
          0.00042127731281244734,
          0.0661392589145483,
          0,
          0,
          0,
          0.03187250996015936,
          0.005496708657733819,
          0.01146350783339702,
          0.02180191931426442,
          0,
          0.06179775280898876,
          0.0007640480655692158,
          0.018729096989966554,
          0.070892978868439,
          0.039280958721704395,
          0.01813953488372093,
          0.013793103448275862,
          0.11971366635493477,
          0.008763388510223954,
          0.0406891495601173,
          0.09090909090909091,
          0.121529919802591,
          0.06176105558821608,
          0.021177685950413222,
          0.018463567424991757,
          0,
          0.03550295857988166,
          0.06896551724137931,
          0.045019157088122604,
          0.027695148896876957,
          0,
          0.02903157448611994,
          0.009057175916689942,
          0.14160983137308206,
          0.02710027100271003,
          0.004553415061295972,
          0,
          0.16766467065868262,
          0.009067357512953367,
          0.08695652173913043
         ]
        }
       ],
       "layout": {
        "template": {
         "data": {
          "bar": [
           {
            "error_x": {
             "color": "#2a3f5f"
            },
            "error_y": {
             "color": "#2a3f5f"
            },
            "marker": {
             "line": {
              "color": "#E5ECF6",
              "width": 0.5
             }
            },
            "type": "bar"
           }
          ],
          "barpolar": [
           {
            "marker": {
             "line": {
              "color": "#E5ECF6",
              "width": 0.5
             }
            },
            "type": "barpolar"
           }
          ],
          "carpet": [
           {
            "aaxis": {
             "endlinecolor": "#2a3f5f",
             "gridcolor": "white",
             "linecolor": "white",
             "minorgridcolor": "white",
             "startlinecolor": "#2a3f5f"
            },
            "baxis": {
             "endlinecolor": "#2a3f5f",
             "gridcolor": "white",
             "linecolor": "white",
             "minorgridcolor": "white",
             "startlinecolor": "#2a3f5f"
            },
            "type": "carpet"
           }
          ],
          "choropleth": [
           {
            "colorbar": {
             "outlinewidth": 0,
             "ticks": ""
            },
            "type": "choropleth"
           }
          ],
          "contour": [
           {
            "colorbar": {
             "outlinewidth": 0,
             "ticks": ""
            },
            "colorscale": [
             [
              0,
              "#0d0887"
             ],
             [
              0.1111111111111111,
              "#46039f"
             ],
             [
              0.2222222222222222,
              "#7201a8"
             ],
             [
              0.3333333333333333,
              "#9c179e"
             ],
             [
              0.4444444444444444,
              "#bd3786"
             ],
             [
              0.5555555555555556,
              "#d8576b"
             ],
             [
              0.6666666666666666,
              "#ed7953"
             ],
             [
              0.7777777777777778,
              "#fb9f3a"
             ],
             [
              0.8888888888888888,
              "#fdca26"
             ],
             [
              1,
              "#f0f921"
             ]
            ],
            "type": "contour"
           }
          ],
          "contourcarpet": [
           {
            "colorbar": {
             "outlinewidth": 0,
             "ticks": ""
            },
            "type": "contourcarpet"
           }
          ],
          "heatmap": [
           {
            "colorbar": {
             "outlinewidth": 0,
             "ticks": ""
            },
            "colorscale": [
             [
              0,
              "#0d0887"
             ],
             [
              0.1111111111111111,
              "#46039f"
             ],
             [
              0.2222222222222222,
              "#7201a8"
             ],
             [
              0.3333333333333333,
              "#9c179e"
             ],
             [
              0.4444444444444444,
              "#bd3786"
             ],
             [
              0.5555555555555556,
              "#d8576b"
             ],
             [
              0.6666666666666666,
              "#ed7953"
             ],
             [
              0.7777777777777778,
              "#fb9f3a"
             ],
             [
              0.8888888888888888,
              "#fdca26"
             ],
             [
              1,
              "#f0f921"
             ]
            ],
            "type": "heatmap"
           }
          ],
          "heatmapgl": [
           {
            "colorbar": {
             "outlinewidth": 0,
             "ticks": ""
            },
            "colorscale": [
             [
              0,
              "#0d0887"
             ],
             [
              0.1111111111111111,
              "#46039f"
             ],
             [
              0.2222222222222222,
              "#7201a8"
             ],
             [
              0.3333333333333333,
              "#9c179e"
             ],
             [
              0.4444444444444444,
              "#bd3786"
             ],
             [
              0.5555555555555556,
              "#d8576b"
             ],
             [
              0.6666666666666666,
              "#ed7953"
             ],
             [
              0.7777777777777778,
              "#fb9f3a"
             ],
             [
              0.8888888888888888,
              "#fdca26"
             ],
             [
              1,
              "#f0f921"
             ]
            ],
            "type": "heatmapgl"
           }
          ],
          "histogram": [
           {
            "marker": {
             "colorbar": {
              "outlinewidth": 0,
              "ticks": ""
             }
            },
            "type": "histogram"
           }
          ],
          "histogram2d": [
           {
            "colorbar": {
             "outlinewidth": 0,
             "ticks": ""
            },
            "colorscale": [
             [
              0,
              "#0d0887"
             ],
             [
              0.1111111111111111,
              "#46039f"
             ],
             [
              0.2222222222222222,
              "#7201a8"
             ],
             [
              0.3333333333333333,
              "#9c179e"
             ],
             [
              0.4444444444444444,
              "#bd3786"
             ],
             [
              0.5555555555555556,
              "#d8576b"
             ],
             [
              0.6666666666666666,
              "#ed7953"
             ],
             [
              0.7777777777777778,
              "#fb9f3a"
             ],
             [
              0.8888888888888888,
              "#fdca26"
             ],
             [
              1,
              "#f0f921"
             ]
            ],
            "type": "histogram2d"
           }
          ],
          "histogram2dcontour": [
           {
            "colorbar": {
             "outlinewidth": 0,
             "ticks": ""
            },
            "colorscale": [
             [
              0,
              "#0d0887"
             ],
             [
              0.1111111111111111,
              "#46039f"
             ],
             [
              0.2222222222222222,
              "#7201a8"
             ],
             [
              0.3333333333333333,
              "#9c179e"
             ],
             [
              0.4444444444444444,
              "#bd3786"
             ],
             [
              0.5555555555555556,
              "#d8576b"
             ],
             [
              0.6666666666666666,
              "#ed7953"
             ],
             [
              0.7777777777777778,
              "#fb9f3a"
             ],
             [
              0.8888888888888888,
              "#fdca26"
             ],
             [
              1,
              "#f0f921"
             ]
            ],
            "type": "histogram2dcontour"
           }
          ],
          "mesh3d": [
           {
            "colorbar": {
             "outlinewidth": 0,
             "ticks": ""
            },
            "type": "mesh3d"
           }
          ],
          "parcoords": [
           {
            "line": {
             "colorbar": {
              "outlinewidth": 0,
              "ticks": ""
             }
            },
            "type": "parcoords"
           }
          ],
          "pie": [
           {
            "automargin": true,
            "type": "pie"
           }
          ],
          "scatter": [
           {
            "marker": {
             "colorbar": {
              "outlinewidth": 0,
              "ticks": ""
             }
            },
            "type": "scatter"
           }
          ],
          "scatter3d": [
           {
            "line": {
             "colorbar": {
              "outlinewidth": 0,
              "ticks": ""
             }
            },
            "marker": {
             "colorbar": {
              "outlinewidth": 0,
              "ticks": ""
             }
            },
            "type": "scatter3d"
           }
          ],
          "scattercarpet": [
           {
            "marker": {
             "colorbar": {
              "outlinewidth": 0,
              "ticks": ""
             }
            },
            "type": "scattercarpet"
           }
          ],
          "scattergeo": [
           {
            "marker": {
             "colorbar": {
              "outlinewidth": 0,
              "ticks": ""
             }
            },
            "type": "scattergeo"
           }
          ],
          "scattergl": [
           {
            "marker": {
             "colorbar": {
              "outlinewidth": 0,
              "ticks": ""
             }
            },
            "type": "scattergl"
           }
          ],
          "scattermapbox": [
           {
            "marker": {
             "colorbar": {
              "outlinewidth": 0,
              "ticks": ""
             }
            },
            "type": "scattermapbox"
           }
          ],
          "scatterpolar": [
           {
            "marker": {
             "colorbar": {
              "outlinewidth": 0,
              "ticks": ""
             }
            },
            "type": "scatterpolar"
           }
          ],
          "scatterpolargl": [
           {
            "marker": {
             "colorbar": {
              "outlinewidth": 0,
              "ticks": ""
             }
            },
            "type": "scatterpolargl"
           }
          ],
          "scatterternary": [
           {
            "marker": {
             "colorbar": {
              "outlinewidth": 0,
              "ticks": ""
             }
            },
            "type": "scatterternary"
           }
          ],
          "surface": [
           {
            "colorbar": {
             "outlinewidth": 0,
             "ticks": ""
            },
            "colorscale": [
             [
              0,
              "#0d0887"
             ],
             [
              0.1111111111111111,
              "#46039f"
             ],
             [
              0.2222222222222222,
              "#7201a8"
             ],
             [
              0.3333333333333333,
              "#9c179e"
             ],
             [
              0.4444444444444444,
              "#bd3786"
             ],
             [
              0.5555555555555556,
              "#d8576b"
             ],
             [
              0.6666666666666666,
              "#ed7953"
             ],
             [
              0.7777777777777778,
              "#fb9f3a"
             ],
             [
              0.8888888888888888,
              "#fdca26"
             ],
             [
              1,
              "#f0f921"
             ]
            ],
            "type": "surface"
           }
          ],
          "table": [
           {
            "cells": {
             "fill": {
              "color": "#EBF0F8"
             },
             "line": {
              "color": "white"
             }
            },
            "header": {
             "fill": {
              "color": "#C8D4E3"
             },
             "line": {
              "color": "white"
             }
            },
            "type": "table"
           }
          ]
         },
         "layout": {
          "annotationdefaults": {
           "arrowcolor": "#2a3f5f",
           "arrowhead": 0,
           "arrowwidth": 1
          },
          "coloraxis": {
           "colorbar": {
            "outlinewidth": 0,
            "ticks": ""
           }
          },
          "colorscale": {
           "diverging": [
            [
             0,
             "#8e0152"
            ],
            [
             0.1,
             "#c51b7d"
            ],
            [
             0.2,
             "#de77ae"
            ],
            [
             0.3,
             "#f1b6da"
            ],
            [
             0.4,
             "#fde0ef"
            ],
            [
             0.5,
             "#f7f7f7"
            ],
            [
             0.6,
             "#e6f5d0"
            ],
            [
             0.7,
             "#b8e186"
            ],
            [
             0.8,
             "#7fbc41"
            ],
            [
             0.9,
             "#4d9221"
            ],
            [
             1,
             "#276419"
            ]
           ],
           "sequential": [
            [
             0,
             "#0d0887"
            ],
            [
             0.1111111111111111,
             "#46039f"
            ],
            [
             0.2222222222222222,
             "#7201a8"
            ],
            [
             0.3333333333333333,
             "#9c179e"
            ],
            [
             0.4444444444444444,
             "#bd3786"
            ],
            [
             0.5555555555555556,
             "#d8576b"
            ],
            [
             0.6666666666666666,
             "#ed7953"
            ],
            [
             0.7777777777777778,
             "#fb9f3a"
            ],
            [
             0.8888888888888888,
             "#fdca26"
            ],
            [
             1,
             "#f0f921"
            ]
           ],
           "sequentialminus": [
            [
             0,
             "#0d0887"
            ],
            [
             0.1111111111111111,
             "#46039f"
            ],
            [
             0.2222222222222222,
             "#7201a8"
            ],
            [
             0.3333333333333333,
             "#9c179e"
            ],
            [
             0.4444444444444444,
             "#bd3786"
            ],
            [
             0.5555555555555556,
             "#d8576b"
            ],
            [
             0.6666666666666666,
             "#ed7953"
            ],
            [
             0.7777777777777778,
             "#fb9f3a"
            ],
            [
             0.8888888888888888,
             "#fdca26"
            ],
            [
             1,
             "#f0f921"
            ]
           ]
          },
          "colorway": [
           "#636efa",
           "#EF553B",
           "#00cc96",
           "#ab63fa",
           "#FFA15A",
           "#19d3f3",
           "#FF6692",
           "#B6E880",
           "#FF97FF",
           "#FECB52"
          ],
          "font": {
           "color": "#2a3f5f"
          },
          "geo": {
           "bgcolor": "white",
           "lakecolor": "white",
           "landcolor": "#E5ECF6",
           "showlakes": true,
           "showland": true,
           "subunitcolor": "white"
          },
          "hoverlabel": {
           "align": "left"
          },
          "hovermode": "closest",
          "mapbox": {
           "style": "light"
          },
          "paper_bgcolor": "white",
          "plot_bgcolor": "#E5ECF6",
          "polar": {
           "angularaxis": {
            "gridcolor": "white",
            "linecolor": "white",
            "ticks": ""
           },
           "bgcolor": "#E5ECF6",
           "radialaxis": {
            "gridcolor": "white",
            "linecolor": "white",
            "ticks": ""
           }
          },
          "scene": {
           "xaxis": {
            "backgroundcolor": "#E5ECF6",
            "gridcolor": "white",
            "gridwidth": 2,
            "linecolor": "white",
            "showbackground": true,
            "ticks": "",
            "zerolinecolor": "white"
           },
           "yaxis": {
            "backgroundcolor": "#E5ECF6",
            "gridcolor": "white",
            "gridwidth": 2,
            "linecolor": "white",
            "showbackground": true,
            "ticks": "",
            "zerolinecolor": "white"
           },
           "zaxis": {
            "backgroundcolor": "#E5ECF6",
            "gridcolor": "white",
            "gridwidth": 2,
            "linecolor": "white",
            "showbackground": true,
            "ticks": "",
            "zerolinecolor": "white"
           }
          },
          "shapedefaults": {
           "line": {
            "color": "#2a3f5f"
           }
          },
          "ternary": {
           "aaxis": {
            "gridcolor": "white",
            "linecolor": "white",
            "ticks": ""
           },
           "baxis": {
            "gridcolor": "white",
            "linecolor": "white",
            "ticks": ""
           },
           "bgcolor": "#E5ECF6",
           "caxis": {
            "gridcolor": "white",
            "linecolor": "white",
            "ticks": ""
           }
          },
          "title": {
           "x": 0.05
          },
          "xaxis": {
           "automargin": true,
           "gridcolor": "white",
           "linecolor": "white",
           "ticks": "",
           "title": {
            "standoff": 15
           },
           "zerolinecolor": "white",
           "zerolinewidth": 2
          },
          "yaxis": {
           "automargin": true,
           "gridcolor": "white",
           "linecolor": "white",
           "ticks": "",
           "title": {
            "standoff": 15
           },
           "zerolinecolor": "white",
           "zerolinewidth": 2
          }
         }
        },
        "title": {
         "text": "Life expectancy vs Death rate with Linear Regression"
        },
        "xaxis": {
         "title": {
          "text": "Life expectancy"
         }
        },
        "yaxis": {
         "title": {
          "text": "Death rate"
         }
        }
       }
      },
      "text/html": [
       "<div>\n",
       "        \n",
       "        \n",
       "            <div id=\"f309280d-e5e4-4906-8368-dc6047643fa2\" class=\"plotly-graph-div\" style=\"height:525px; width:100%;\"></div>\n",
       "            <script type=\"text/javascript\">\n",
       "                require([\"plotly\"], function(Plotly) {\n",
       "                    window.PLOTLYENV=window.PLOTLYENV || {};\n",
       "                    \n",
       "                if (document.getElementById(\"f309280d-e5e4-4906-8368-dc6047643fa2\")) {\n",
       "                    Plotly.newPlot(\n",
       "                        'f309280d-e5e4-4906-8368-dc6047643fa2',\n",
       "                        [{\"hovertext\": [\"Afghanistan\", \"Albania\", \"Algeria\", \"Angola\", \"Antigua and Barbuda\", \"Argentina\", \"Armenia\", \"Australia\", \"Austria\", \"Azerbaijan\", \"Bahamas\", \"Bahrain\", \"Bangladesh\", \"Barbados\", \"Belarus\", \"Belgium\", \"Belize\", \"Benin\", \"Bhutan\", \"Bosnia and Herzegovina\", \"Botswana\", \"Brazil\", \"Bulgaria\", \"Burkina Faso\", \"Burundi\", \"Cabo Verde\", \"Cambodia\", \"Cameroon\", \"Canada\", \"Central African Republic\", \"Chad\", \"Chile\", \"China\", \"Colombia\", \"Comoros\", \"Costa Rica\", \"Croatia\", \"Cuba\", \"Cyprus\", \"Czechia\", \"Denmark\", \"Djibouti\", \"Dominican Republic\", \"Ecuador\", \"Egypt\", \"El Salvador\", \"Equatorial Guinea\", \"Eritrea\", \"Estonia\", \"Eswatini\", \"Ethiopia\", \"Fiji\", \"Finland\", \"France\", \"Gabon\", \"Gambia\", \"Georgia\", \"Germany\", \"Ghana\", \"Greece\", \"Grenada\", \"Guatemala\", \"Guinea\", \"Guinea-Bissau\", \"Guyana\", \"Haiti\", \"Honduras\", \"Hungary\", \"Iceland\", \"India\", \"Indonesia\", \"Iraq\", \"Ireland\", \"Israel\", \"Italy\", \"Jamaica\", \"Japan\", \"Jordan\", \"Kazakhstan\", \"Kenya\", \"Kuwait\", \"Kyrgyzstan\", \"Latvia\", \"Lebanon\", \"Lesotho\", \"Liberia\", \"Libya\", \"Lithuania\", \"Luxembourg\", \"Madagascar\", \"Malawi\", \"Malaysia\", \"Maldives\", \"Mali\", \"Malta\", \"Mauritania\", \"Mauritius\", \"Mexico\", \"Mongolia\", \"Montenegro\", \"Morocco\", \"Mozambique\", \"Namibia\", \"Nepal\", \"Netherlands\", \"New Zealand\", \"Nicaragua\", \"Niger\", \"Nigeria\", \"North Macedonia\", \"Norway\", \"Oman\", \"Pakistan\", \"Panama\", \"Papua New Guinea\", \"Paraguay\", \"Peru\", \"Philippines\", \"Poland\", \"Portugal\", \"Qatar\", \"Romania\", \"Rwanda\", \"Saint Lucia\", \"Saint Vincent and the Grenadines\", \"Sao Tome and Principe\", \"Saudi Arabia\", \"Senegal\", \"Serbia\", \"Seychelles\", \"Sierra Leone\", \"Singapore\", \"Slovakia\", \"Slovenia\", \"Somalia\", \"South Africa\", \"South Sudan\", \"Spain\", \"Sri Lanka\", \"Sudan\", \"Suriname\", \"Sweden\", \"Switzerland\", \"Tajikistan\", \"Thailand\", \"Timor-Leste\", \"Togo\", \"Trinidad and Tobago\", \"Tunisia\", \"Turkey\", \"Uganda\", \"Ukraine\", \"United Arab Emirates\", \"United Kingdom\", \"Uruguay\", \"Uzbekistan\", \"Western Sahara\", \"Yemen\", \"Zambia\", \"Zimbabwe\"], \"mode\": \"markers\", \"type\": \"scatter\", \"x\": [16.6754, 22.2639, 22.5585, 15.6323, 21.3997, 21.8385, 19.9928, 26.2465, 24.5316, 18.7683, 19.905, 20.3567, 19.9394, 24.5211, 19.9557, 24.8059, 22.2155, 17.4115, 21.4181, 21.0107, 19.0888, 22.6995, 20.0282, 15.814, 16.9085, 19.0866, 17.8618, 15.467, 25.5284, 14.7657, 16.1642, 24.2818, 20.7724, 23.4597, 16.5376, 24.8049, 21.9159, 22.824, 23.3664, 22.5554, 23.8736, 18.2974, 22.5008, 23.7647, 17.9237, 22.0259, 15.5968, 16.8113, 22.846999999999998, 16.299, 18.4625, 16.1432, 25.1264, 26.0662, 17.1617, 15.6468, 19.4104, 24.404, 15.9856, 25.3822, 18.6005, 22.7633, 15.6964, 15.1038, 21.0815, 18.8695, 23.0004, 21.1472, 25.2855, 18.3423, 18.648, 17.9209, 24.8317, 25.5012, 25.8986, 20.5916, 27.1892, 19.4922, 19.5016, 17.6436, 18.2511, 17.5878, 21.2317, 22.2895, 15.4778, 17.0276, 18.7788, 21.9825, 25.0096, 17.4601, 16.8, 21.0827, 22.3044, 15.7128, 25.2472, 16.8722, 21.0651, 21.5095, 17.7263, 20.405, 21.2618, 16.2489, 16.4226, 18.0666, 24.8257, 25.3994, 22.0517, 16.4113, 14.2529, 19.7431, 25.083000000000002, 22.0572, 17.8389, 25.0945, 14.9673, 21.4601, 22.8529, 19.6941, 22.9912, 25.1746, 22.6818, 20.7619, 18.2868, 22.5484, 19.5705, 17.8776, 19.0565, 17.1911, 19.9838, 19.6924, 14.8055, 25.894000000000002, 21.5909, 24.1595, 16.4825, 16.6997, 16.7343, 26.1121, 21.6306, 18.0406, 18.9884, 25.3042, 26.1936, 17.3242, 23.2493, 17.4863, 15.4737, 20.6981, 20.9373, 22.8666, 16.541, 18.7906, 20.8888, 24.4729, 22.9516, 17.7341, 17.7965, 16.5993, 16.9101, 16.2614], \"y\": [0.023258852737488567, 0.032665964172813484, 0.07604717364782432, 0.057692307692307696, 0.12, 0.04461346350323533, 0.012695893671890498, 0.01414027149321267, 0.038723117456038236, 0.011654349061967027, 0.11458333333333333, 0.0015932023366967605, 0.014728713028939931, 0.07777777777777778, 0.005554144979052939, 0.16325213744152284, 0.1111111111111111, 0.015384615384615385, 0.0, 0.05773373545885394, 0.04, 0.06614193500928701, 0.04957945993802568, 0.06407035175879397, 0.023809523809523808, 0.008955223880597015, 0.0, 0.03967129498441485, 0.07488849962108507, 0.0, 0.10275229357798166, 0.010266443453881684, 0.05517290603475965, 0.03619722468260998, 0.09090909090909091, 0.011337868480725623, 0.043010752688172046, 0.041865394806571275, 0.018518518518518517, 0.03492540765583439, 0.04901263120441202, 0.004326328800988875, 0.03335097935415564, 0.0831308014406606, 0.04887273805992287, 0.020026702269692925, 0.008484848484848486, 0.0, 0.03573422668900056, 0.009615384615384616, 0.0136986301369863, 0.0, 0.047038599781215815, 0.15489158970447625, 0.007989347536617843, 0.041666666666666664, 0.016973125884016973, 0.04545556818053977, 0.005085301837270341, 0.058098591549295774, 0.0, 0.02015939990623535, 0.0062871114215857496, 0.005780346820809248, 0.08, 0.039399624765478425, 0.049746192893401014, 0.1313273340832396, 0.005549389567147614, 0.031011974641934725, 0.06601427335640138, 0.0362780393242869, 0.0643684796503237, 0.016687676331112313, 0.14190181694670026, 0.01730769230769231, 0.046923687908596565, 0.01386748844375963, 0.005184417123389127, 0.05192107995846314, 0.007217847769028871, 0.011263073209975865, 0.020750988142292492, 0.027253668763102725, 0.0, 0.09871244635193133, 0.04411764705882353, 0.03841229193341869, 0.027539161192521474, 0.006134969325153374, 0.04285714285714286, 0.01633705932932072, 0.003499562554680665, 0.058823529411764705, 0.01054481546572935, 0.030534351145038167, 0.030120481927710843, 0.104257903065543, 0.0, 0.027777777777777776, 0.027481133418766908, 0.0, 0.0, 0.004975124378109453, 0.12900177731782492, 0.013972055888223553, 0.06692913385826772, 0.060175054704595186, 0.029995313232307454, 0.057640021750951606, 0.028184347405346557, 0.004761065067889261, 0.02135741254605832, 0.028478767609202392, 0.0, 0.013268998793727383, 0.029291436727883157, 0.06467315716272601, 0.04920074735312435, 0.04236885023104105, 0.00042127731281244734, 0.0661392589145483, 0.0, 0.0, 0.0, 0.03187250996015936, 0.005496708657733819, 0.01146350783339702, 0.02180191931426442, 0.0, 0.06179775280898876, 0.0007640480655692158, 0.018729096989966554, 0.070892978868439, 0.039280958721704395, 0.01813953488372093, 0.013793103448275862, 0.11971366635493477, 0.008763388510223954, 0.0406891495601173, 0.09090909090909091, 0.121529919802591, 0.06176105558821608, 0.021177685950413222, 0.018463567424991757, 0.0, 0.03550295857988166, 0.06896551724137931, 0.045019157088122604, 0.027695148896876957, 0.0, 0.02903157448611994, 0.009057175916689942, 0.14160983137308206, 0.02710027100271003, 0.004553415061295972, 0.0, 0.16766467065868262, 0.009067357512953367, 0.08695652173913043]}],\n",
       "                        {\"template\": {\"data\": {\"bar\": [{\"error_x\": {\"color\": \"#2a3f5f\"}, \"error_y\": {\"color\": \"#2a3f5f\"}, \"marker\": {\"line\": {\"color\": \"#E5ECF6\", \"width\": 0.5}}, \"type\": \"bar\"}], \"barpolar\": [{\"marker\": {\"line\": {\"color\": \"#E5ECF6\", \"width\": 0.5}}, \"type\": \"barpolar\"}], \"carpet\": [{\"aaxis\": {\"endlinecolor\": \"#2a3f5f\", \"gridcolor\": \"white\", \"linecolor\": \"white\", \"minorgridcolor\": \"white\", \"startlinecolor\": \"#2a3f5f\"}, \"baxis\": {\"endlinecolor\": \"#2a3f5f\", \"gridcolor\": \"white\", \"linecolor\": \"white\", \"minorgridcolor\": \"white\", \"startlinecolor\": \"#2a3f5f\"}, \"type\": \"carpet\"}], \"choropleth\": [{\"colorbar\": {\"outlinewidth\": 0, \"ticks\": \"\"}, \"type\": \"choropleth\"}], \"contour\": [{\"colorbar\": {\"outlinewidth\": 0, \"ticks\": \"\"}, \"colorscale\": [[0.0, \"#0d0887\"], [0.1111111111111111, \"#46039f\"], [0.2222222222222222, \"#7201a8\"], [0.3333333333333333, \"#9c179e\"], [0.4444444444444444, \"#bd3786\"], [0.5555555555555556, \"#d8576b\"], [0.6666666666666666, \"#ed7953\"], [0.7777777777777778, \"#fb9f3a\"], [0.8888888888888888, \"#fdca26\"], [1.0, \"#f0f921\"]], \"type\": \"contour\"}], \"contourcarpet\": [{\"colorbar\": {\"outlinewidth\": 0, \"ticks\": \"\"}, \"type\": \"contourcarpet\"}], \"heatmap\": [{\"colorbar\": {\"outlinewidth\": 0, \"ticks\": \"\"}, \"colorscale\": [[0.0, \"#0d0887\"], [0.1111111111111111, \"#46039f\"], [0.2222222222222222, \"#7201a8\"], [0.3333333333333333, \"#9c179e\"], [0.4444444444444444, \"#bd3786\"], [0.5555555555555556, \"#d8576b\"], [0.6666666666666666, \"#ed7953\"], [0.7777777777777778, \"#fb9f3a\"], [0.8888888888888888, \"#fdca26\"], [1.0, \"#f0f921\"]], \"type\": \"heatmap\"}], \"heatmapgl\": [{\"colorbar\": {\"outlinewidth\": 0, \"ticks\": \"\"}, \"colorscale\": [[0.0, \"#0d0887\"], [0.1111111111111111, \"#46039f\"], [0.2222222222222222, \"#7201a8\"], [0.3333333333333333, \"#9c179e\"], [0.4444444444444444, \"#bd3786\"], [0.5555555555555556, \"#d8576b\"], [0.6666666666666666, \"#ed7953\"], [0.7777777777777778, \"#fb9f3a\"], [0.8888888888888888, \"#fdca26\"], [1.0, \"#f0f921\"]], \"type\": \"heatmapgl\"}], \"histogram\": [{\"marker\": {\"colorbar\": {\"outlinewidth\": 0, \"ticks\": \"\"}}, \"type\": \"histogram\"}], \"histogram2d\": [{\"colorbar\": {\"outlinewidth\": 0, \"ticks\": \"\"}, \"colorscale\": [[0.0, \"#0d0887\"], [0.1111111111111111, \"#46039f\"], [0.2222222222222222, \"#7201a8\"], [0.3333333333333333, \"#9c179e\"], [0.4444444444444444, \"#bd3786\"], [0.5555555555555556, \"#d8576b\"], [0.6666666666666666, \"#ed7953\"], [0.7777777777777778, \"#fb9f3a\"], [0.8888888888888888, \"#fdca26\"], [1.0, \"#f0f921\"]], \"type\": \"histogram2d\"}], \"histogram2dcontour\": [{\"colorbar\": {\"outlinewidth\": 0, \"ticks\": \"\"}, \"colorscale\": [[0.0, \"#0d0887\"], [0.1111111111111111, \"#46039f\"], [0.2222222222222222, \"#7201a8\"], [0.3333333333333333, \"#9c179e\"], [0.4444444444444444, \"#bd3786\"], [0.5555555555555556, \"#d8576b\"], [0.6666666666666666, \"#ed7953\"], [0.7777777777777778, \"#fb9f3a\"], [0.8888888888888888, \"#fdca26\"], [1.0, \"#f0f921\"]], \"type\": \"histogram2dcontour\"}], \"mesh3d\": [{\"colorbar\": {\"outlinewidth\": 0, \"ticks\": \"\"}, \"type\": \"mesh3d\"}], \"parcoords\": [{\"line\": {\"colorbar\": {\"outlinewidth\": 0, \"ticks\": \"\"}}, \"type\": \"parcoords\"}], \"pie\": [{\"automargin\": true, \"type\": \"pie\"}], \"scatter\": [{\"marker\": {\"colorbar\": {\"outlinewidth\": 0, \"ticks\": \"\"}}, \"type\": \"scatter\"}], \"scatter3d\": [{\"line\": {\"colorbar\": {\"outlinewidth\": 0, \"ticks\": \"\"}}, \"marker\": {\"colorbar\": {\"outlinewidth\": 0, \"ticks\": \"\"}}, \"type\": \"scatter3d\"}], \"scattercarpet\": [{\"marker\": {\"colorbar\": {\"outlinewidth\": 0, \"ticks\": \"\"}}, \"type\": \"scattercarpet\"}], \"scattergeo\": [{\"marker\": {\"colorbar\": {\"outlinewidth\": 0, \"ticks\": \"\"}}, \"type\": \"scattergeo\"}], \"scattergl\": [{\"marker\": {\"colorbar\": {\"outlinewidth\": 0, \"ticks\": \"\"}}, \"type\": \"scattergl\"}], \"scattermapbox\": [{\"marker\": {\"colorbar\": {\"outlinewidth\": 0, \"ticks\": \"\"}}, \"type\": \"scattermapbox\"}], \"scatterpolar\": [{\"marker\": {\"colorbar\": {\"outlinewidth\": 0, \"ticks\": \"\"}}, \"type\": \"scatterpolar\"}], \"scatterpolargl\": [{\"marker\": {\"colorbar\": {\"outlinewidth\": 0, \"ticks\": \"\"}}, \"type\": \"scatterpolargl\"}], \"scatterternary\": [{\"marker\": {\"colorbar\": {\"outlinewidth\": 0, \"ticks\": \"\"}}, \"type\": \"scatterternary\"}], \"surface\": [{\"colorbar\": {\"outlinewidth\": 0, \"ticks\": \"\"}, \"colorscale\": [[0.0, \"#0d0887\"], [0.1111111111111111, \"#46039f\"], [0.2222222222222222, \"#7201a8\"], [0.3333333333333333, \"#9c179e\"], [0.4444444444444444, \"#bd3786\"], [0.5555555555555556, \"#d8576b\"], [0.6666666666666666, \"#ed7953\"], [0.7777777777777778, \"#fb9f3a\"], [0.8888888888888888, \"#fdca26\"], [1.0, \"#f0f921\"]], \"type\": \"surface\"}], \"table\": [{\"cells\": {\"fill\": {\"color\": \"#EBF0F8\"}, \"line\": {\"color\": \"white\"}}, \"header\": {\"fill\": {\"color\": \"#C8D4E3\"}, \"line\": {\"color\": \"white\"}}, \"type\": \"table\"}]}, \"layout\": {\"annotationdefaults\": {\"arrowcolor\": \"#2a3f5f\", \"arrowhead\": 0, \"arrowwidth\": 1}, \"coloraxis\": {\"colorbar\": {\"outlinewidth\": 0, \"ticks\": \"\"}}, \"colorscale\": {\"diverging\": [[0, \"#8e0152\"], [0.1, \"#c51b7d\"], [0.2, \"#de77ae\"], [0.3, \"#f1b6da\"], [0.4, \"#fde0ef\"], [0.5, \"#f7f7f7\"], [0.6, \"#e6f5d0\"], [0.7, \"#b8e186\"], [0.8, \"#7fbc41\"], [0.9, \"#4d9221\"], [1, \"#276419\"]], \"sequential\": [[0.0, \"#0d0887\"], [0.1111111111111111, \"#46039f\"], [0.2222222222222222, \"#7201a8\"], [0.3333333333333333, \"#9c179e\"], [0.4444444444444444, \"#bd3786\"], [0.5555555555555556, \"#d8576b\"], [0.6666666666666666, \"#ed7953\"], [0.7777777777777778, \"#fb9f3a\"], [0.8888888888888888, \"#fdca26\"], [1.0, \"#f0f921\"]], \"sequentialminus\": [[0.0, \"#0d0887\"], [0.1111111111111111, \"#46039f\"], [0.2222222222222222, \"#7201a8\"], [0.3333333333333333, \"#9c179e\"], [0.4444444444444444, \"#bd3786\"], [0.5555555555555556, \"#d8576b\"], [0.6666666666666666, \"#ed7953\"], [0.7777777777777778, \"#fb9f3a\"], [0.8888888888888888, \"#fdca26\"], [1.0, \"#f0f921\"]]}, \"colorway\": [\"#636efa\", \"#EF553B\", \"#00cc96\", \"#ab63fa\", \"#FFA15A\", \"#19d3f3\", \"#FF6692\", \"#B6E880\", \"#FF97FF\", \"#FECB52\"], \"font\": {\"color\": \"#2a3f5f\"}, \"geo\": {\"bgcolor\": \"white\", \"lakecolor\": \"white\", \"landcolor\": \"#E5ECF6\", \"showlakes\": true, \"showland\": true, \"subunitcolor\": \"white\"}, \"hoverlabel\": {\"align\": \"left\"}, \"hovermode\": \"closest\", \"mapbox\": {\"style\": \"light\"}, \"paper_bgcolor\": \"white\", \"plot_bgcolor\": \"#E5ECF6\", \"polar\": {\"angularaxis\": {\"gridcolor\": \"white\", \"linecolor\": \"white\", \"ticks\": \"\"}, \"bgcolor\": \"#E5ECF6\", \"radialaxis\": {\"gridcolor\": \"white\", \"linecolor\": \"white\", \"ticks\": \"\"}}, \"scene\": {\"xaxis\": {\"backgroundcolor\": \"#E5ECF6\", \"gridcolor\": \"white\", \"gridwidth\": 2, \"linecolor\": \"white\", \"showbackground\": true, \"ticks\": \"\", \"zerolinecolor\": \"white\"}, \"yaxis\": {\"backgroundcolor\": \"#E5ECF6\", \"gridcolor\": \"white\", \"gridwidth\": 2, \"linecolor\": \"white\", \"showbackground\": true, \"ticks\": \"\", \"zerolinecolor\": \"white\"}, \"zaxis\": {\"backgroundcolor\": \"#E5ECF6\", \"gridcolor\": \"white\", \"gridwidth\": 2, \"linecolor\": \"white\", \"showbackground\": true, \"ticks\": \"\", \"zerolinecolor\": \"white\"}}, \"shapedefaults\": {\"line\": {\"color\": \"#2a3f5f\"}}, \"ternary\": {\"aaxis\": {\"gridcolor\": \"white\", \"linecolor\": \"white\", \"ticks\": \"\"}, \"baxis\": {\"gridcolor\": \"white\", \"linecolor\": \"white\", \"ticks\": \"\"}, \"bgcolor\": \"#E5ECF6\", \"caxis\": {\"gridcolor\": \"white\", \"linecolor\": \"white\", \"ticks\": \"\"}}, \"title\": {\"x\": 0.05}, \"xaxis\": {\"automargin\": true, \"gridcolor\": \"white\", \"linecolor\": \"white\", \"ticks\": \"\", \"title\": {\"standoff\": 15}, \"zerolinecolor\": \"white\", \"zerolinewidth\": 2}, \"yaxis\": {\"automargin\": true, \"gridcolor\": \"white\", \"linecolor\": \"white\", \"ticks\": \"\", \"title\": {\"standoff\": 15}, \"zerolinecolor\": \"white\", \"zerolinewidth\": 2}}}, \"title\": {\"text\": \"Life expectancy vs Death rate with Linear Regression\"}, \"xaxis\": {\"title\": {\"text\": \"Life expectancy\"}}, \"yaxis\": {\"title\": {\"text\": \"Death rate\"}}},\n",
       "                        {\"responsive\": true}\n",
       "                    ).then(function(){\n",
       "                            \n",
       "var gd = document.getElementById('f309280d-e5e4-4906-8368-dc6047643fa2');\n",
       "var x = new MutationObserver(function (mutations, observer) {{\n",
       "        var display = window.getComputedStyle(gd).display;\n",
       "        if (!display || display === 'none') {{\n",
       "            console.log([gd, 'removed!']);\n",
       "            Plotly.purge(gd);\n",
       "            observer.disconnect();\n",
       "        }}\n",
       "}});\n",
       "\n",
       "// Listen for the removal of the full notebook cells\n",
       "var notebookContainer = gd.closest('#notebook-container');\n",
       "if (notebookContainer) {{\n",
       "    x.observe(notebookContainer, {childList: true});\n",
       "}}\n",
       "\n",
       "// Listen for the clearing of the current output cell\n",
       "var outputEl = gd.closest('.output');\n",
       "if (outputEl) {{\n",
       "    x.observe(outputEl, {childList: true});\n",
       "}}\n",
       "\n",
       "                        })\n",
       "                };\n",
       "                });\n",
       "            </script>\n",
       "        </div>"
      ]
     },
     "metadata": {},
     "output_type": "display_data"
    }
   ],
   "source": [
    "# plotly figure setup\n",
    "\n",
    "trace = go.Scatter(x=final_lifeexp['Life expectancy'], y=final_lifeexp['deathrate'], hovertext=countries,mode='markers')\n",
    "data = [trace]\n",
    "\n",
    "# plotly figure layout\n",
    "layout = go.Layout(xaxis_title = 'Life expectancy', yaxis_title = 'Death rate', title='Life expectancy vs Death rate with Linear Regression')\n",
    "fig = go.Figure(data=data, layout=layout)\n",
    "fig.show()\n",
    "#add to plotly account\n",
    "#py.iplot(fig, filename='Respiratory_diseases_Linear_Regression', auto_open=True) "
   ]
  },
  {
   "cell_type": "markdown",
   "metadata": {},
   "source": [
    "### Further steps\n",
    "Since the spread has just started in the less developped countries and statistics are behind, we wait for statistical inference"
   ]
  },
  {
   "cell_type": "code",
   "execution_count": null,
   "metadata": {},
   "outputs": [],
   "source": []
  }
 ],
 "metadata": {
  "kernelspec": {
   "display_name": "Python 3",
   "language": "python",
   "name": "python3"
  },
  "language_info": {
   "codemirror_mode": {
    "name": "ipython",
    "version": 3
   },
   "file_extension": ".py",
   "mimetype": "text/x-python",
   "name": "python",
   "nbconvert_exporter": "python",
   "pygments_lexer": "ipython3",
   "version": "3.7.6"
  }
 },
 "nbformat": 4,
 "nbformat_minor": 4
}
